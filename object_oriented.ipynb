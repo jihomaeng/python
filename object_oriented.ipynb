{
 "cells": [
  {
   "cell_type": "markdown",
   "id": "cb97d6e5-5131-41b7-b0ab-d5f931b41995",
   "metadata": {},
   "source": [
    "# **객체지향 프로그래밍(Object Oriented)**\n",
    "- 객체지향 프로그래밍은 복잡한 문제를 잘게 나누어 객체로 만들고, 객체를 조합해서 문제를 해결  \n",
    "- 현실 세계의 복잡한 문제를 처리하는데 유용하며 기능을 개선하고 발전시킬 때도 해당 클래스만 수정하면 되므로 큰 프롲게트의 유지보수에도 매우 효율적   \n",
    "- 객체가 가진 데이터를 클래스의 속성이라고 부르고 객체가 갖는 기능을 메서드라고 부른다  "
   ]
  },
  {
   "cell_type": "markdown",
   "id": "7fb50dc9-27a4-4dab-8ad0-2a2df149eea2",
   "metadata": {},
   "source": [
    "## Class\n",
    "클래스는 사용자 정의 객체를 만들기 위한 주형이라고 생각하면 된다.   \n",
    "클래스 정의는 보통 클래스의 인스턴스를 대상으로 연산하는 메서드 정의를 포함하고 있다.  \n",
    "\n",
    "```python \n",
    "class ClassName: #클래스명은 주로 PascalCase(UpperCamelCase를 쓴다. \n",
    "    \"\"\"\n",
    "    Doc_String\n",
    "    \"\"\"\n",
    "    def method_name(self):\n",
    "        method_body\n",
    "        \n",
    "    class_body\n",
    "    ...\n",
    "    \n",
    "```"
   ]
  },
  {
   "cell_type": "markdown",
   "id": "3be1f16f-3a05-4d8b-8eb2-daa6297ca53b",
   "metadata": {},
   "source": [
    "지금까지 사용해온 int, list, dict 등도 클래스   \n",
    "우리는 클래스로부터 인스턴스를 만드로 메서드를 사용해 옴"
   ]
  },
  {
   "cell_type": "code",
   "execution_count": 1,
   "id": "79adb250-4605-4146-a284-f2ed9af66afa",
   "metadata": {},
   "outputs": [
    {
     "name": "stdout",
     "output_type": "stream",
     "text": [
      "<class 'int'>\n"
     ]
    }
   ],
   "source": [
    "number = int(10)\n",
    "print(type(number))"
   ]
  },
  {
   "cell_type": "markdown",
   "id": "1bf71098-4e1a-4341-9d55-84c7f7a394a7",
   "metadata": {},
   "source": [
    "### 객체? 인스턴스?\n",
    "객체를 언급할 떈 단어 하나만 활용하여 단지 객체라고 표현  \n",
    "그와 달리 인스턴스는 특정 클래스로부터 만들어진 실체로 언급을 많이 한다.    \n",
    "예를들어 인스턴스의 경우 리스트 클래스로 만들어진 인스턴스다 라고 말할 수 있다.   \n",
    "부르는 구체적인 것은 조금 달라도 결국 둘은 같은 말이다.   \n",
    "\n",
    "인스턴스의 생성은 아래의 예제처럼 클래스명 오른편에 소괄호를 붙여서 만든다. \n",
    "```python \n",
    "instance_variable = ClassName()\n",
    "```"
   ]
  },
  {
   "cell_type": "markdown",
   "id": "00d03cfd-d555-4914-aebf-3ee232f1298b",
   "metadata": {},
   "source": [
    "### 메서드 \n",
    "메서드는 클래스 바디 안에서 정의되는 함수   \n",
    "클래스의 인스턴스의 (attribute)로서 호출되면, 그 메서드는 첫 번째 인자로 인스턴스 객체(self)를 받는다.   \n",
    "첫 번째 인자를 설정 안하면 에러가 발생한다. 이 첫번째 인자를 'self'라고 쓴다.   \n",
    "```python \n",
    "class ClassName:\n",
    "    def method_name(self):\n",
    "        method_body\n",
    "    class_body\n",
    "    ...\n",
    "```\n"
   ]
  },
  {
   "cell_type": "code",
   "execution_count": 9,
   "id": "6ff90c10-ff63-4ae1-848f-ec7a6a631758",
   "metadata": {},
   "outputs": [],
   "source": [
    "class Person:\n",
    "    def __init__(self):\n",
    "        self.hello = \"안녕하세요.\""
   ]
  },
  {
   "cell_type": "code",
   "execution_count": 12,
   "id": "838a2c5a-33fb-4a9b-8b9b-ed3a6396b803",
   "metadata": {},
   "outputs": [
    {
     "name": "stdout",
     "output_type": "stream",
     "text": [
      "안녕하세요.\n"
     ]
    }
   ],
   "source": [
    "james = Person() #객체생성\n",
    "print(james.hello)"
   ]
  },
  {
   "cell_type": "code",
   "execution_count": 13,
   "id": "e6b96e8d-810a-4686-aa49-c4930d5264d7",
   "metadata": {},
   "outputs": [
    {
     "data": {
      "text/plain": [
       "'안녕하세요.'"
      ]
     },
     "execution_count": 13,
     "metadata": {},
     "output_type": "execute_result"
    }
   ],
   "source": [
    "bebe = Person()\n",
    "bebe.hello"
   ]
  },
  {
   "cell_type": "code",
   "execution_count": 8,
   "id": "5a546bcf-720d-4846-b2fb-afca129f8bd5",
   "metadata": {},
   "outputs": [],
   "source": [
    "class Student:\n",
    "    pass\n",
    " def greeting(self):\n",
    "        print(self.hello)\n",
    "        \n",
    "gh = Student() # 독립적인 값을 보장하는 instance로 생성된다. "
   ]
  },
  {
   "cell_type": "markdown",
   "id": "00df0bf5-db3f-4856-b14f-f1a2c272d506",
   "metadata": {},
   "source": [
    "### **클래스 속성(Attribute)**\n",
    "__init__ 메서드는 james = Person() 처럼 클래스에 소괄호(())를 붙여서 인스턴스를 만들 때 호출되는 특별한 메서드(special method, magic method)이다.  \n",
    "__init__ 인스턴스를 초기화 (메모리에 공간을 할당하고 값을 부여)  \n",
    "\n",
    "밑줄 두개가 양옆으로 붙어있는 메서드는 파이썬이 자동으로 호출하는 메서드이다.   \n",
    "던더 메서드로 불리기도 하다.   \n",
    "파이썬의 여러가지 기능을 사용할 때 이 던더 메서드를 구현하는 식으로 사용하게 된다.   \n",
    "```python \n",
    "class Person:\n",
    "    def __init__(self):\n",
    "        self.hello = \"안녕하세요.\"\n",
    "```"
   ]
  },
  {
   "cell_type": "markdown",
   "id": "8809e937-0571-43c3-a64b-7d1654229609",
   "metadata": {},
   "source": [
    "속성은 __init__ 메서드에서 만든다는 점과 self에 마침표(.)를 붙여 속성명을 붙이고 값을 할당하는 점을 기억  \n",
    "클래스 바디에서도 속성을 접근할 떄 self.속성과 같이 self에 마침표를 찍고 사용하면 된다. \n",
    "\n",
    "```python \n",
    "class Person:\n",
    "    def __init__(self):\n",
    "        self.hello = \"안녕하세요.\"\n",
    "    def greeting(self):\n",
    "        print(self.hello)\n",
    "        \n",
    "james = Person()\n",
    "jemes.greeting()\n",
    "```"
   ]
  },
  {
   "cell_type": "markdown",
   "id": "760457cb-c260-4e6d-9016-2f0b90a88cec",
   "metadata": {},
   "source": [
    "### **self란?**\n",
    "self는 인스턴스 자기자신이다.   \n",
    "위 예제에서 인스턴스가 생성될 때 self.hello = \"안녕하세요\" 처럼 자기 자신에 속성을 추가하여 사용했다.   \n",
    "__init__ 의 매개변수 self에 들어가는 값은 Person()인스턴스라고 할 수 있다.    \n",
    "self가 완성된 후엔 변수인 james에 할당되었다.   \n",
    "이후 메서드를 호출하면 현재 인스턴스가 자동으로 매개변수 self에 들어온다.   \n",
    "그래서 greeting 메서드에서 print(self.hello)처럼 속성을 출력할 수 있었다.   "
   ]
  }
 ],
 "metadata": {
  "kernelspec": {
   "display_name": "Python 3",
   "language": "python",
   "name": "python3"
  },
  "language_info": {
   "codemirror_mode": {
    "name": "ipython",
    "version": 3
   },
   "file_extension": ".py",
   "mimetype": "text/x-python",
   "name": "python",
   "nbconvert_exporter": "python",
   "pygments_lexer": "ipython3",
   "version": "3.8.8"
  }
 },
 "nbformat": 4,
 "nbformat_minor": 5
}
