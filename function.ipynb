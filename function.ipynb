{
 "cells": [
  {
   "cell_type": "markdown",
   "id": "de2dbc55-5a80-4c90-b764-18f91b8f77b1",
   "metadata": {},
   "source": [
    "# 2023.01.12\n",
    "## 함수 \n",
    "프로그래밍에서 함수는 독립적으로 설계된 프로그램 코드의 집합  \n",
    "함수를 사용하면 반복적인 코드의 양을 줄여 유지보수성을 높여준다.  \n",
    "```python \n",
    "x = 함수명(인수, 인수, ...)\n",
    "print(\"결과 값:\", x)\n",
    "\n",
    "def 함수명(인자, 인자, ...):\n",
    "    함수 코드...\n",
    "    return 반환 값\n"
   ]
  },
  {
   "cell_type": "markdown",
   "id": "ec510d3c-d43a-496b-804c-720302d8649e",
   "metadata": {},
   "source": [
    "함수가 호출되면 함수 정의부로 가서 함수 호출부의 인수 값을 함수 정의부 인자 값에 순서대로 대입 후 함수 정의부 내부 코드를 순차적으로 실행   \n",
    "해당 함수에 return 값이 있는 경우, 함수 호출부를 return값으로 치환  "
   ]
  },
  {
   "cell_type": "markdown",
   "id": "404d65b9-652c-434e-a6c6-5d1c4a6eacfd",
   "metadata": {},
   "source": [
    "파이썬은 오버로딩이 안 됨  \n",
    "오버로딩이란? 함수는 타입이나 개수에 따라 시그니처가 다르다  \n",
    "함수명이 똑같은데 인자명을 다르게 만들 수 없다. "
   ]
  },
  {
   "cell_type": "markdown",
   "id": "232ea145-4cbe-4994-98bd-504ae4cbc013",
   "metadata": {},
   "source": [
    "```python  \n",
    "function_name(arg1, arg2, ...) # 함수를 호출하는 곳    2.그다음 호출부가 실행이 된다\n",
    "function_name(param1, param2, ..): #함수를 정의하는 곳 1.정의 부분이 먼저 시행이 되어야 한다. \n",
    "    result =param1 + param2\n",
    "    return result # 함수를 빠져나가 원래 흐름으로 돌아간다 == 함수를 호출한 부분으로 돌아간다 \n",
    "```"
   ]
  },
  {
   "cell_type": "markdown",
   "id": "acfe3f4f-accf-4b47-8033-b0c7bd86958d",
   "metadata": {},
   "source": [
    "### 프로그래밍에서의 함수 결과 반환(return)\n",
    "함수를 호출한 곳에 return 값을 돌려준다."
   ]
  },
  {
   "cell_type": "markdown",
   "id": "f00e966a-ce78-4e6b-9cdc-0291c41683a6",
   "metadata": {},
   "source": [
    "### Function\n",
    "우리가 사용해온 print(), len(), list(), reversed()등 모든 것들이 다 함수이다.   \n",
    "한번 정의해두고 필요할 때마다 재사용할 수 있었다.   \n",
    "클래스 밖에 있냐 클래스 내에 있냐로 함수와 메서드 구분  \n",
    "\n",
    "**함수는 코드의 중복을 줄일 수 있어 유지보수에 좋다** \n",
    "- 코드를 목적에 맞게 사용할 수 있다. \n",
    "- 중복에서 오는 실수를 줄일 수 있다. \n",
    "- 재사용할 수 있다."
   ]
  },
  {
   "cell_type": "code",
   "execution_count": 7,
   "id": "048a4d63-2ad5-4d9f-8664-81d833875684",
   "metadata": {},
   "outputs": [
    {
     "name": "stdin",
     "output_type": "stream",
     "text": [
      "값을 입력해주세여 ㅣ\n"
     ]
    },
    {
     "name": "stdout",
     "output_type": "stream",
     "text": [
      "ㅣ\n"
     ]
    }
   ],
   "source": [
    "function_name(\"값을 입력해주세여\")\n",
    "def function_name(message):\n",
    "    x = input(message)\n",
    "    print(x)"
   ]
  },
  {
   "cell_type": "markdown",
   "id": "627bdb1b-29d1-430b-813a-8874ad359dec",
   "metadata": {},
   "source": [
    "### function vs method\n",
    "\n",
    "함수는 클래스에 포함되지 않은 채로 사용  \n",
    "- 함수명((인수1), (인수2), ...)  \n",
    "\n",
    "\n",
    "메서드는 클래스에 포함되어 객체를 통해 호출된다  \n",
    "- 객체.메서드명((인수1), (인수2), ...)  "
   ]
  },
  {
   "cell_type": "markdown",
   "id": "c5414191-0d0f-4a7f-9051-50bdbe06a15d",
   "metadata": {},
   "source": [
    "### 함수의 정의 \n",
    "함수는 미리 정의해둔 정의절을 실행해야 호출이 가능하다.\n",
    "``` python \n",
    "def 함수_이름(위치_인자, 위치_인자2, *가변_위치, 키워드_인자, 키워드_인자2, **가변_키워드):\n",
    "    \"\"\"\n",
    "    Doc String을 적는 곳\n",
    "    작성자: 맹지호\n",
    "    작성일자: 2020.02.03\n",
    "    \"\"\"\n",
    "    함수의 바디 \n",
    "    함수의 바디\n",
    "    \n",
    "    return 반환 값\n",
    "```\n",
    "\n",
    "return과, 인자들은 있을수도 없을수도 있다. "
   ]
  },
  {
   "cell_type": "code",
   "execution_count": 11,
   "id": "247eaf83-812f-49b7-87be-ceae10036926",
   "metadata": {},
   "outputs": [],
   "source": [
    "def function2():\n",
    "    \"\"\"\n",
    "    Doc String 부분입니다. \n",
    "    이곳에 함수의 설명에 대해 적어놓으면 좋습니다.\n",
    "    \"\"\"\n",
    "    pass"
   ]
  },
  {
   "cell_type": "code",
   "execution_count": 17,
   "id": "3a344926-53de-4337-bf0f-620de6a99362",
   "metadata": {},
   "outputs": [
    {
     "data": {
      "text/plain": [
       "'\\n    Doc String 부분입니다. \\n    이곳에 함수의 설명에 대해 적어놓으면 좋습니다.\\n    '"
      ]
     },
     "execution_count": 17,
     "metadata": {},
     "output_type": "execute_result"
    }
   ],
   "source": [
    "# doc string 확인하는 방법\n",
    "function2.__doc__"
   ]
  },
  {
   "cell_type": "code",
   "execution_count": 14,
   "id": "3b2607b2-895f-4744-9e65-b487c479c443",
   "metadata": {},
   "outputs": [
    {
     "name": "stdout",
     "output_type": "stream",
     "text": [
      "\n",
      "    Doc String 부분입니다. \n",
      "    이곳에 함수의 설명에 대해 적어놓으면 좋습니다.\n",
      "    \n"
     ]
    }
   ],
   "source": [
    "print(function2.__doc__)"
   ]
  },
  {
   "cell_type": "code",
   "execution_count": 16,
   "id": "6c7902dd-7a37-4462-a0d6-56875e4d0946",
   "metadata": {},
   "outputs": [
    {
     "name": "stdout",
     "output_type": "stream",
     "text": [
      "Built-in mutable sequence.\n",
      "\n",
      "If no argument is given, the constructor creates a new empty list.\n",
      "The argument must be an iterable if specified.\n"
     ]
    }
   ],
   "source": [
    "print(list.__doc__)"
   ]
  },
  {
   "cell_type": "markdown",
   "id": "7027181d-9ea7-445d-a1a8-05c4ee2f80eb",
   "metadata": {},
   "source": [
    "### 인자(Parameter)\n",
    "함수(또는 메서드)정의에서 함수가 받을 수 있는 변수 \n",
    "함수인자 혹은 매개변수라고 한다. \n",
    "인자는 함수 정의절에서 소괄호 안에 정의된다. \n",
    "\n",
    "**인수는 주는 것이고, 받는 것은 인자이다** \n",
    "\n",
    "**5가지 종류**\n",
    " 1. 위치 - 키워드: 위치로 혹은 키워드로 전달될 수 있는 인자를 말한다. 매개변수의 기본 형태 \n",
    " 2. 위치전용: / 문자를 기준으로 좌측에 위치한 인자를 말한다. \n",
    " 3. 키워드 전용: \\* 문자를 기준으로 우측에 위치한 인자\n",
    " 4. 가변 위치: 위치 매개변수 외에 추가적인 위치 매개변수를 개수에 상관없이 받을 수 있다. 변수명 앞에 \\*를 앞에 하나 붙여 표기\n",
    " 5. 가변 키워드: 키워드 매개변수 외에 추가적인 키워드 매개변수를 개수에 상관없이 받을 수 있다. \\** 를 두개 붙여 표기"
   ]
  },
  {
   "cell_type": "code",
   "execution_count": 18,
   "id": "eba0a40c-34da-42fa-9091-b3b56f0733ee",
   "metadata": {},
   "outputs": [
    {
     "name": "stdout",
     "output_type": "stream",
     "text": [
      "1 2 3\n"
     ]
    }
   ],
   "source": [
    "print(\"1\", \"2\", \"3\")"
   ]
  },
  {
   "cell_type": "code",
   "execution_count": 19,
   "id": "8fc3a147-cf0b-4854-a4e7-dcf0736d59bd",
   "metadata": {},
   "outputs": [],
   "source": [
    "# 함수 정의절 \n",
    "def function_name(positional, positional2, *args, keyword1 = 1, **kargs ):\n",
    "    pass #body"
   ]
  },
  {
   "cell_type": "code",
   "execution_count": 31,
   "id": "d0110642-4e02-4ab5-a08e-d8e82538d1c6",
   "metadata": {},
   "outputs": [],
   "source": [
    "def get_grade(score = 0): # 정의부에서 초기값을 주느냐 안 주느냐에 따라 기본값이 정의될 수도 안 될 수도 있다\n",
    "    \"\"\"\n",
    "    숫자로 된 점수를 넣으시면 학점의 결과를 반환합니다. \n",
    "    \"\"\"\n",
    "    if 85 <= score <= 100:\n",
    "        return \"A\"\n",
    "    elif 70 <= score <= 84:\n",
    "        return \"B\"\n",
    "    elif 55 <= score <= 69:\n",
    "        return \"C\"\n",
    "    elif 40 <= score <= 54:\n",
    "        return \"D\"\n",
    "    elif 0 <= score <= 39:\n",
    "        return \"F\"\n",
    "    "
   ]
  },
  {
   "cell_type": "code",
   "execution_count": 30,
   "id": "94d2c695-265c-4e86-b530-6e471c64227f",
   "metadata": {},
   "outputs": [
    {
     "data": {
      "text/plain": [
       "'F'"
      ]
     },
     "execution_count": 30,
     "metadata": {},
     "output_type": "execute_result"
    }
   ],
   "source": [
    "get_grade()"
   ]
  },
  {
   "cell_type": "code",
   "execution_count": 26,
   "id": "4addb01a-4968-4912-9462-f8f8564ba8c2",
   "metadata": {},
   "outputs": [
    {
     "name": "stdout",
     "output_type": "stream",
     "text": [
      "\n",
      "    숫자로된 점수를 넣으시면 학점의 결과를 반환합니다. \n",
      "    \n"
     ]
    }
   ],
   "source": [
    "print(get_grade.__doc__)"
   ]
  },
  {
   "cell_type": "code",
   "execution_count": 22,
   "id": "96ce7a93-dd08-4419-85b4-3e9c8e5b77c1",
   "metadata": {},
   "outputs": [
    {
     "name": "stdout",
     "output_type": "stream",
     "text": [
      "B\n"
     ]
    }
   ],
   "source": [
    "result = get_grade(80) #함수의 return값이 \"B\"\n",
    "print(result)"
   ]
  },
  {
   "cell_type": "code",
   "execution_count": 23,
   "id": "bbdaa139-e038-49a4-83eb-079cb1ca7e0b",
   "metadata": {},
   "outputs": [
    {
     "name": "stdout",
     "output_type": "stream",
     "text": [
      "[91, 90, 9, 56, 21, 9, 39, 69, 86, 90, 68, 21, 92, 39, 54, 21, 53, 68, 99, 87]\n"
     ]
    }
   ],
   "source": [
    "import random \n",
    "\n",
    "#20명의 점수를 시스템에 입력했다. \n",
    "scores = [random.randint(1,100) for i in range(20)]\n",
    "print(scores)"
   ]
  },
  {
   "cell_type": "code",
   "execution_count": 25,
   "id": "c41dcb87-ff0d-4810-9ffa-adbe6e8dc415",
   "metadata": {},
   "outputs": [
    {
     "name": "stdout",
     "output_type": "stream",
     "text": [
      "['A', 'A', 'F', 'C', 'F', 'F', 'F', 'C', 'A', 'A', 'C', 'F', 'A', 'F', 'D', 'F', 'D', 'C', 'A', 'A']\n"
     ]
    }
   ],
   "source": [
    "grades = list(map(get_grade, scores))\n",
    "print(grades)"
   ]
  },
  {
   "cell_type": "code",
   "execution_count": 38,
   "id": "e6a4c00a-a0a1-438f-b996-9f19bac3dc9e",
   "metadata": {},
   "outputs": [],
   "source": [
    "#함수 정의 \n",
    "#인자(= 매개변수, parameter)\n",
    "def get_grade(score,  student_number, name = \"홍길동\"): #기본값을 갖는 argument는 기본값이 없는 parameter 뒤에 위치해야한다\n",
    "    \"\"\"\n",
    "    숫자로 된 점수를 넣으시면 학점의 결과를 반환합니다. \n",
    "    \"\"\"\n",
    "    print(f'{student_number}, {name}의 성적을 확인합니다.')\n",
    "    if 85 <= score <= 100:\n",
    "        return \"A\"\n",
    "    elif 70 <= score <= 84:\n",
    "        return \"B\"\n",
    "    elif 55 <= score <= 69:\n",
    "        return \"C\"\n",
    "    elif 40 <= score <= 54:\n",
    "        return \"D\"\n",
    "    elif 0 <= score <= 39:\n",
    "        return \"F\"\n",
    "    "
   ]
  },
  {
   "cell_type": "code",
   "execution_count": 33,
   "id": "23ae8da6-322a-43fd-9186-98a828c2d02d",
   "metadata": {},
   "outputs": [
    {
     "name": "stdout",
     "output_type": "stream",
     "text": [
      "18101977, 맹지호의 성적을 확인합니다.\n"
     ]
    },
    {
     "data": {
      "text/plain": [
       "'A'"
      ]
     },
     "execution_count": 33,
     "metadata": {},
     "output_type": "execute_result"
    }
   ],
   "source": [
    "#함수 호출\n",
    "#인수(argument)\n",
    "get_grade(100, \"맹지호\", \"18101977\" )"
   ]
  },
  {
   "cell_type": "code",
   "execution_count": 35,
   "id": "0d805b28-0b72-481c-a1a2-de31a7557ca3",
   "metadata": {},
   "outputs": [
    {
     "name": "stdout",
     "output_type": "stream",
     "text": [
      "18101977, 100의 성적을 확인합니다.\n"
     ]
    },
    {
     "ename": "TypeError",
     "evalue": "'<=' not supported between instances of 'int' and 'str'",
     "output_type": "error",
     "traceback": [
      "\u001b[1;31m---------------------------------------------------------------------------\u001b[0m",
      "\u001b[1;31mTypeError\u001b[0m                                 Traceback (most recent call last)",
      "\u001b[1;32m<ipython-input-35-b54b8656ea79>\u001b[0m in \u001b[0;36m<module>\u001b[1;34m\u001b[0m\n\u001b[1;32m----> 1\u001b[1;33m \u001b[0mget_grade\u001b[0m\u001b[1;33m(\u001b[0m\u001b[1;34m\"맹지호\"\u001b[0m\u001b[1;33m,\u001b[0m \u001b[1;36m100\u001b[0m\u001b[1;33m,\u001b[0m \u001b[1;34m\"18101977\"\u001b[0m \u001b[1;33m)\u001b[0m\u001b[1;33m\u001b[0m\u001b[1;33m\u001b[0m\u001b[0m\n\u001b[0m",
      "\u001b[1;32m<ipython-input-32-969852e8d1a8>\u001b[0m in \u001b[0;36mget_grade\u001b[1;34m(score, name, student_number)\u001b[0m\n\u001b[0;32m      4\u001b[0m     \"\"\"\n\u001b[0;32m      5\u001b[0m     \u001b[0mprint\u001b[0m\u001b[1;33m(\u001b[0m\u001b[1;34mf'{student_number}, {name}의 성적을 확인합니다.'\u001b[0m\u001b[1;33m)\u001b[0m\u001b[1;33m\u001b[0m\u001b[1;33m\u001b[0m\u001b[0m\n\u001b[1;32m----> 6\u001b[1;33m     \u001b[1;32mif\u001b[0m \u001b[1;36m85\u001b[0m \u001b[1;33m<=\u001b[0m \u001b[0mscore\u001b[0m \u001b[1;33m<=\u001b[0m \u001b[1;36m100\u001b[0m\u001b[1;33m:\u001b[0m\u001b[1;33m\u001b[0m\u001b[1;33m\u001b[0m\u001b[0m\n\u001b[0m\u001b[0;32m      7\u001b[0m         \u001b[1;32mreturn\u001b[0m \u001b[1;34m\"A\"\u001b[0m\u001b[1;33m\u001b[0m\u001b[1;33m\u001b[0m\u001b[0m\n\u001b[0;32m      8\u001b[0m     \u001b[1;32melif\u001b[0m \u001b[1;36m70\u001b[0m \u001b[1;33m<=\u001b[0m \u001b[0mscore\u001b[0m \u001b[1;33m<=\u001b[0m \u001b[1;36m84\u001b[0m\u001b[1;33m:\u001b[0m\u001b[1;33m\u001b[0m\u001b[1;33m\u001b[0m\u001b[0m\n",
      "\u001b[1;31mTypeError\u001b[0m: '<=' not supported between instances of 'int' and 'str'"
     ]
    }
   ],
   "source": [
    "get_grade(\"맹지호\", 100, \"18101977\" )"
   ]
  },
  {
   "cell_type": "code",
   "execution_count": 48,
   "id": "03df89f1-ea02-4908-9b5d-4b71bf910887",
   "metadata": {},
   "outputs": [],
   "source": [
    "#함수 정의절\n",
    "#인자(= 매개변수, parameter) - non_default, default 종류\n",
    "#positional - only: / 문자를 기준으로 왼편에 온다\n",
    "def add_number(number2, number1 = 3, /):\n",
    "    \"\"\"\n",
    "    숫자 number1과 숫자 number2를 전달 받아 더한 결과를 반환\n",
    "    \"\"\"\n",
    "    return number1 + number2"
   ]
  },
  {
   "cell_type": "code",
   "execution_count": 41,
   "id": "84bb94c6-7863-40aa-8049-fa85d62befc5",
   "metadata": {},
   "outputs": [
    {
     "name": "stdout",
     "output_type": "stream",
     "text": [
      "\n",
      "    숫자 number1과 숫자 number2를 전달 받아 더한 결과를 반환\n",
      "    \n"
     ]
    }
   ],
   "source": [
    "print(add_number.__doc__)"
   ]
  },
  {
   "cell_type": "code",
   "execution_count": 50,
   "id": "61d9c7e5-8232-4b2c-afd5-d6c3e552d326",
   "metadata": {},
   "outputs": [
    {
     "name": "stdout",
     "output_type": "stream",
     "text": [
      "13\n"
     ]
    }
   ],
   "source": [
    "# 함수 호출\n",
    "# 인수(argument) - positional argument, keyword argument\n",
    "result = add_number(10) #소괄호 --> call\n",
    "print(result)"
   ]
  },
  {
   "cell_type": "code",
   "execution_count": 51,
   "id": "a3947128-6b22-4971-9c6e-3a0afae6844f",
   "metadata": {},
   "outputs": [],
   "source": [
    "#함수 정의절\n",
    "#인자(= 매개변수, parameter) - non_default, default 종류\n",
    "#keyword- only: * 문자를 기준으로 오른편에 온다\n",
    "def minus_number(*, number1, number2 = 3):\n",
    "    \"\"\"\n",
    "    숫자 number1과 숫자 number2를 전달 받아 뺀 결과를 반환\n",
    "    \"\"\"\n",
    "    return number1 - number2"
   ]
  },
  {
   "cell_type": "code",
   "execution_count": 52,
   "id": "ed03461d-3cd5-4d5a-80f3-9348e383fdf2",
   "metadata": {},
   "outputs": [
    {
     "data": {
      "text/plain": [
       "-3"
      ]
     },
     "execution_count": 52,
     "metadata": {},
     "output_type": "execute_result"
    }
   ],
   "source": [
    "# 함수 호출\n",
    "# 인수(argument) - positional argument, keyword argument\n",
    "minus_number(number1 = 2, number2 = 5)"
   ]
  },
  {
   "cell_type": "code",
   "execution_count": 53,
   "id": "3078a02a-7f04-4ee9-b405-795995c357ce",
   "metadata": {},
   "outputs": [
    {
     "ename": "TypeError",
     "evalue": "minus_number() takes 0 positional arguments but 1 positional argument (and 1 keyword-only argument) were given",
     "output_type": "error",
     "traceback": [
      "\u001b[1;31m---------------------------------------------------------------------------\u001b[0m",
      "\u001b[1;31mTypeError\u001b[0m                                 Traceback (most recent call last)",
      "\u001b[1;32m<ipython-input-53-e394904b3e3e>\u001b[0m in \u001b[0;36m<module>\u001b[1;34m\u001b[0m\n\u001b[1;32m----> 1\u001b[1;33m \u001b[0mminus_number\u001b[0m\u001b[1;33m(\u001b[0m\u001b[1;36m2\u001b[0m\u001b[1;33m,\u001b[0m \u001b[0mnumber2\u001b[0m \u001b[1;33m=\u001b[0m \u001b[1;36m5\u001b[0m\u001b[1;33m)\u001b[0m\u001b[1;33m\u001b[0m\u001b[1;33m\u001b[0m\u001b[0m\n\u001b[0m",
      "\u001b[1;31mTypeError\u001b[0m: minus_number() takes 0 positional arguments but 1 positional argument (and 1 keyword-only argument) were given"
     ]
    }
   ],
   "source": [
    "minus_number(2, number2 = 5)"
   ]
  },
  {
   "cell_type": "code",
   "execution_count": 59,
   "id": "d0d91221-960f-4f88-920b-e0c132c56080",
   "metadata": {},
   "outputs": [],
   "source": [
    "#positional - only: / 문자를 기준으로 왼편에 온다\n",
    "#keyword- only: * 문자를 기준으로 오른편에 온다\n",
    "def multi_number(number1, /, *, number2 = 3):\n",
    "    \"\"\"\n",
    "    숫자 number1과 숫자 number2를 전달 받아 뺀 결과를 반환\n",
    "    \"\"\"\n",
    "    return number1 * number2"
   ]
  },
  {
   "cell_type": "code",
   "execution_count": 60,
   "id": "3507e072-2de7-4a79-94d5-dcc1e94fd909",
   "metadata": {},
   "outputs": [
    {
     "data": {
      "text/plain": [
       "30"
      ]
     },
     "execution_count": 60,
     "metadata": {},
     "output_type": "execute_result"
    }
   ],
   "source": [
    "multi_number(3, number2 =10)"
   ]
  },
  {
   "cell_type": "code",
   "execution_count": 67,
   "id": "1f87367e-36bc-41b9-ba4b-577e4730b242",
   "metadata": {},
   "outputs": [],
   "source": [
    "# /와 * 사이에 있으면 keyword와 positioanl 모두 가능 \n",
    "def string_line(str_value, / , str_len = 70 , *, sep =\"#\"):\n",
    "    \"\"\"\n",
    "    str_value 는 가운데 오는 텍스트 입니다. \n",
    "    str_len은 텍스트의 설정할 길이입니다. \n",
    "    sep는 구분선을 그을 때 쓰는 문자 입니다 .\n",
    "    \"\"\"\n",
    "    \n",
    "    print(str_value.center(str_len, sep))\n"
   ]
  },
  {
   "cell_type": "code",
   "execution_count": 62,
   "id": "5018e170-fad4-413a-a1b6-c854dbfbb7ba",
   "metadata": {},
   "outputs": [
    {
     "name": "stdout",
     "output_type": "stream",
     "text": [
      "************************구분************************\n"
     ]
    }
   ],
   "source": [
    "string_line(\"구분\", 50, sep = \"*\")"
   ]
  },
  {
   "cell_type": "code",
   "execution_count": 64,
   "id": "5412c496-8f0b-490a-93af-7a2dd53e3e02",
   "metadata": {},
   "outputs": [
    {
     "data": {
      "text/plain": [
       "50"
      ]
     },
     "execution_count": 64,
     "metadata": {},
     "output_type": "execute_result"
    }
   ],
   "source": [
    "len(\"************************구분************************\")"
   ]
  },
  {
   "cell_type": "code",
   "execution_count": 66,
   "id": "763ba646-b24a-4da8-92ff-2ddf1609416e",
   "metadata": {},
   "outputs": [
    {
     "name": "stdout",
     "output_type": "stream",
     "text": [
      "------------------------------------------------절취선-------------------------------------------------\n"
     ]
    }
   ],
   "source": [
    "string_line(\"절취선\", str_len = 100, sep = \"-\")"
   ]
  },
  {
   "cell_type": "code",
   "execution_count": 69,
   "id": "54f9d280-fe28-413a-8278-0b01e7784d6e",
   "metadata": {},
   "outputs": [
    {
     "name": "stdout",
     "output_type": "stream",
     "text": [
      "1 1 1 1 1 1 1 1 1\n"
     ]
    }
   ],
   "source": [
    "print(\"1\", \"1\", \"1\", \"1\", \"1\", \"1\", \"1\", \"1\", \"1\")"
   ]
  },
  {
   "cell_type": "code",
   "execution_count": 76,
   "id": "f5a3fa8a-11e7-412f-8490-bd6508e96406",
   "metadata": {},
   "outputs": [],
   "source": [
    "# *args: var positional 가변위치 \n",
    "def test_func(a, b, c, *args):\n",
    "    print(f'a:{a} b:{b} c: {c}')\n",
    "    print(type(args))\n",
    "    print(args)"
   ]
  },
  {
   "cell_type": "code",
   "execution_count": 77,
   "id": "f36bbad1-9169-4c5d-a67f-c1221471445e",
   "metadata": {},
   "outputs": [
    {
     "name": "stdout",
     "output_type": "stream",
     "text": [
      "a:a 위치입니다.  b:b 위치 입니다. c: c 위치 입니다.\n",
      "<class 'tuple'>\n",
      "('여기는', '어디일까요?')\n"
     ]
    }
   ],
   "source": [
    "test_func(\"a 위치입니다. \", \"b 위치 입니다.\", \"c 위치 입니다.\" , \"여기는\", \"어디일까요?\")"
   ]
  },
  {
   "cell_type": "code",
   "execution_count": 86,
   "id": "c593cf95-6b9f-4833-8096-e0b6afc42fd5",
   "metadata": {},
   "outputs": [],
   "source": [
    "# *args: var positional 가변위치 \n",
    "def test_func(a, b, *args, c):\n",
    "    print(f'a:{a} b:{b} c: {c}')\n",
    "    print(type(args))\n",
    "    print(args)"
   ]
  },
  {
   "cell_type": "code",
   "execution_count": 87,
   "id": "e0e2b8e5-b739-4461-9d07-5e1374e63923",
   "metadata": {},
   "outputs": [
    {
     "ename": "TypeError",
     "evalue": "test_func() missing 1 required keyword-only argument: 'c'",
     "output_type": "error",
     "traceback": [
      "\u001b[1;31m---------------------------------------------------------------------------\u001b[0m",
      "\u001b[1;31mTypeError\u001b[0m                                 Traceback (most recent call last)",
      "\u001b[1;32m<ipython-input-87-4b4f574f7be1>\u001b[0m in \u001b[0;36m<module>\u001b[1;34m\u001b[0m\n\u001b[1;32m----> 1\u001b[1;33m \u001b[0mtest_func\u001b[0m\u001b[1;33m(\u001b[0m\u001b[1;34m\"a 위치입니다. \"\u001b[0m\u001b[1;33m,\u001b[0m \u001b[1;34m\"b 위치 입니다.\"\u001b[0m\u001b[1;33m,\u001b[0m \u001b[1;34m\"c 위치 입니다.\"\u001b[0m \u001b[1;33m,\u001b[0m \u001b[1;34m\"여기는\"\u001b[0m\u001b[1;33m,\u001b[0m \u001b[1;34m\"어디일까요?\"\u001b[0m\u001b[1;33m,\u001b[0m \u001b[1;34m\"몇개\"\u001b[0m\u001b[1;33m,\u001b[0m \u001b[1;34m\"더\"\u001b[0m\u001b[1;33m)\u001b[0m\u001b[1;33m\u001b[0m\u001b[1;33m\u001b[0m\u001b[0m\n\u001b[0m",
      "\u001b[1;31mTypeError\u001b[0m: test_func() missing 1 required keyword-only argument: 'c'"
     ]
    }
   ],
   "source": [
    "test_func(\"a 위치입니다. \", \"b 위치 입니다.\", \"c 위치 입니다.\" , \"여기는\", \"어디일까요?\", \"몇개\", \"더\")"
   ]
  },
  {
   "cell_type": "code",
   "execution_count": 82,
   "id": "7c20d669-3212-4b82-a4f5-e90070e62fe5",
   "metadata": {},
   "outputs": [],
   "source": [
    "# **kargs: var keyword 가변 키워드 \n",
    "def test_func2(a = \"a\", b =\"b\", **krgs):\n",
    "    print(a, b)\n",
    "    print(type(krgs))\n",
    "    print(krgs)"
   ]
  },
  {
   "cell_type": "code",
   "execution_count": 83,
   "id": "7bdc0475-b14e-44e5-b0c3-75c61adf3c27",
   "metadata": {},
   "outputs": [
    {
     "name": "stdout",
     "output_type": "stream",
     "text": [
      "ab bc\n",
      "<class 'dict'>\n",
      "{'key': 'value', 'key2': 'value2'}\n"
     ]
    }
   ],
   "source": [
    "test_func2(a = \"ab\", b= \"bc\", key = \"value\", key2 = \"value2\")"
   ]
  },
  {
   "cell_type": "markdown",
   "id": "13b35e3c-316b-4134-8da6-7e6d95a55fb0",
   "metadata": {},
   "source": [
    "### Arguments, Parameter \n",
    "- parameter는 함수 정의절에서 사용하는 이름 \n",
    "- arguments는 함수 호출할 때 함수에 전달하는 실제 값\n",
    "\n",
    "**따라서 parameters는 어떤 종류의 arguments를 받을지 정의**"
   ]
  },
  {
   "cell_type": "markdown",
   "id": "cdf006f8-89b3-439c-8bfe-2d23e84efcf7",
   "metadata": {},
   "source": [
    "### 위치 - 키워드 인자(positional - or - keyword parameters)\n",
    "위치 인수 또는 키워드 인수를 받을 수 있는 인자  \n",
    "\n",
    "\n",
    "- 함수 정의절에서 위치 키워드 인자가 기본값을 가지지 않은 채 인수 없이 함수를 호출하면 typeError가 발생  \n",
    "- 기본값이 없는 인수에 위치 인수를 순서와 관계없이 값을 전달하면 타입에 민감하게 동작하는 함수라면 값을 처리할 수 없어 Error 발생 \n",
    "- 키워드 인수만으로 호출 가능, 키워드 인수간에 순서는 상관없다\n",
    "- 기본값을 갖는 default parameter는 기본 기본값을 갖지 않는 non - default parameter 뒤에 위치 해야한다. "
   ]
  },
  {
   "cell_type": "markdown",
   "id": "e64d9dc2-4f7e-4b59-a963-f058b9ec071c",
   "metadata": {},
   "source": [
    "### 위치인수와 키워드 인수 \n",
    "함수를 호출 할 떄 소괄호 안에 위치 인수를 먼저 작성하고 키워드 인수를 나중에 작성  \n",
    "위치 인수는 순서에 영향을 받지만, 키워드 인수는 순서에 상관없이 작성 가능 "
   ]
  },
  {
   "cell_type": "code",
   "execution_count": 89,
   "id": "eddccba4-1669-437a-ac20-7bea1c0f1b64",
   "metadata": {},
   "outputs": [],
   "source": [
    "def greeting(name, age):\n",
    "    print(f\"{name} 씨 안녕하세요. 약 {age*365.35}일 되었습니다.\")\n",
    "    "
   ]
  },
  {
   "cell_type": "code",
   "execution_count": 90,
   "id": "5b256c88-849f-4c69-9ab1-7ec5ae7bb372",
   "metadata": {},
   "outputs": [
    {
     "name": "stdout",
     "output_type": "stream",
     "text": [
      "파이썬 씨 안녕하세요. 약 11691.2일 되었습니다.\n"
     ]
    }
   ],
   "source": [
    "greeting(\"파이썬\", 32)"
   ]
  },
  {
   "cell_type": "code",
   "execution_count": 91,
   "id": "e6b70328-94d2-4e50-b1b2-6ae5416c523d",
   "metadata": {},
   "outputs": [
    {
     "ename": "SyntaxError",
     "evalue": "positional argument follows keyword argument (<ipython-input-91-6f408138ef21>, line 1)",
     "output_type": "error",
     "traceback": [
      "\u001b[1;36m  File \u001b[1;32m\"<ipython-input-91-6f408138ef21>\"\u001b[1;36m, line \u001b[1;32m1\u001b[0m\n\u001b[1;33m    greeting(name = \"파이썬\", 32)\u001b[0m\n\u001b[1;37m                              \n^\u001b[0m\n\u001b[1;31mSyntaxError\u001b[0m\u001b[1;31m:\u001b[0m positional argument follows keyword argument\n"
     ]
    }
   ],
   "source": [
    "greeting(name = \"파이썬\", 32)"
   ]
  },
  {
   "cell_type": "markdown",
   "id": "374241b8-850a-4133-8fec-ece3e6ad26a9",
   "metadata": {},
   "source": [
    "### 위치 전용 인자\n",
    "- 위치 전용 인자는 오직 위치 인수만 값의 전달이 가능 \n",
    "- 위치 전용 인자를 선언 하는 방법: /를 인자 값으로 넣고 좌측 부분에 위치 전용 인자를 작성  \n",
    "- 위치 전용 인자에 키워드 인수를 전달하면 TypeError 오류 발생 \n",
    "\n",
    "### 키워드 전용 인자 \n",
    "- 키워드 전용 인자도 기본 값을 가질 수 있다. 이 때 기본값을 갖는 인자에 상응하는 인수는 생략 가능  \n",
    "- 키워드 전용인자는 오직 위치 인수만 값의 전달이 가능 하다.\n",
    "- 키워드 전용 인자 선언하는 방법: \\*를 인자 값으로 넣고 우측부분에 키워드 전용 인자 작성\n",
    "\n",
    "### 가변 위치 인자 \n",
    "- 명시된 인자 외에 추가적으로 위치 인수를 개수에 상관없이 유연하게 전달 받을 수 있다. \n",
    "- 가변 변수로 사용할 변수명 앞에 * 를 앞에 하나 붙여 표기 \n",
    "- 가변 위치 인자를 사용할 때 해당 변수에 값을 전달하는 인수가 아예 없어도 함수가 동작하는데 문제 없도록 함수 바디를 작성하는 것이 좋다 \n",
    "\n",
    "### 가변 키워드 인자 \n",
    "- 명시된 인자 외에 추가적으로 키워드 인수를 개수에 상관없이 유연하게 전달 받을 수 있다. \n",
    "- 가변 변수로 사용할 변수명 앞에 \\*를 앞에 두개 붙여 표기(**) \n",
    "- 가변 키워드 인자를 사용할 떄도 해당 변수에 값을 전달하는 인수가 아예 없어도 함수가 동작하는데 문제 없도록 함수 바디를 작성하는 것이 좋다 \n"
   ]
  },
  {
   "cell_type": "code",
   "execution_count": null,
   "id": "daa060b8-43dc-4559-bc47-af407e4692aa",
   "metadata": {},
   "outputs": [],
   "source": []
  }
 ],
 "metadata": {
  "kernelspec": {
   "display_name": "Python 3",
   "language": "python",
   "name": "python3"
  },
  "language_info": {
   "codemirror_mode": {
    "name": "ipython",
    "version": 3
   },
   "file_extension": ".py",
   "mimetype": "text/x-python",
   "name": "python",
   "nbconvert_exporter": "python",
   "pygments_lexer": "ipython3",
   "version": "3.8.8"
  }
 },
 "nbformat": 4,
 "nbformat_minor": 5
}
