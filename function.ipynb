{
 "cells": [
  {
   "cell_type": "markdown",
   "id": "de2dbc55-5a80-4c90-b764-18f91b8f77b1",
   "metadata": {},
   "source": [
    "# 2023.01.12\n",
    "## **함수** \n",
    "프로그래밍에서 함수는 독립적으로 설계된 프로그램 코드의 집합  \n",
    "함수를 사용하면 반복적인 코드의 양을 줄여 유지보수성을 높여준다.  \n",
    "```python \n",
    "x = 함수명(인수, 인수, ...)\n",
    "print(\"결과 값:\", x)\n",
    "\n",
    "def 함수명(인자, 인자, ...):\n",
    "    함수 코드...\n",
    "    return 반환 값\n"
   ]
  },
  {
   "cell_type": "markdown",
   "id": "404d65b9-652c-434e-a6c6-5d1c4a6eacfd",
   "metadata": {},
   "source": [
    "파이썬은 오버로딩이 안 됨  \n",
    "오버로딩이란? 함수는 타입이나 개수에 따라 시그니처가 다르다  \n",
    "함수명이 똑같은데 인자명을 다르게 만들 수 없다. "
   ]
  },
  {
   "cell_type": "markdown",
   "id": "232ea145-4cbe-4994-98bd-504ae4cbc013",
   "metadata": {},
   "source": [
    "```python  \n",
    "function_name(arg1, arg2, ...) # 함수를 호출하는 곳    2.그다음 호출부가 실행이 된다\n",
    "function_name(param1, param2, ..): #함수를 정의하는 곳 1.정의 부분이 먼저 시행이 되어야 한다. \n",
    "    result =param1 + param2\n",
    "    return result # 함수를 빠져나가 원래 흐름으로 돌아간다 == 함수를 호출한 부분으로 돌아간다 \n",
    "```"
   ]
  },
  {
   "cell_type": "markdown",
   "id": "acfe3f4f-accf-4b47-8033-b0c7bd86958d",
   "metadata": {},
   "source": [
    "### **프로그래밍에서의 함수 결과 반환(return)**\n",
    "함수를 호출한 곳에 return 값을 돌려준다."
   ]
  },
  {
   "cell_type": "markdown",
   "id": "f00e966a-ce78-4e6b-9cdc-0291c41683a6",
   "metadata": {},
   "source": [
    "### **Function**\n",
    "우리가 사용해온 print(), len(), list(), reversed()등 모든 것들이 다 함수이다.   \n",
    "한번 정의해두고 필요할 때마다 재사용할 수 있었다.   \n",
    "클래스 밖에 있냐 클래스 내에 있냐로 함수와 메서드 구분  \n",
    "\n",
    "**함수는 코드의 중복을 줄일 수 있어 유지보수에 좋다** \n",
    "- 코드를 목적에 맞게 사용할 수 있다. \n",
    "- 중복에서 오는 실수를 줄일 수 있다. \n",
    "- 재사용할 수 있다."
   ]
  },
  {
   "cell_type": "code",
   "execution_count": 5,
   "id": "048a4d63-2ad5-4d9f-8664-81d833875684",
   "metadata": {},
   "outputs": [
    {
     "name": "stdin",
     "output_type": "stream",
     "text": [
      "값을 입력해주세여 싫어여\n"
     ]
    },
    {
     "name": "stdout",
     "output_type": "stream",
     "text": [
      "싫어여\n"
     ]
    }
   ],
   "source": [
    "function_name(\"값을 입력해주세여\")\n",
    "def function_name(message):\n",
    "    x = input(message)\n",
    "    print(x)"
   ]
  },
  {
   "cell_type": "markdown",
   "id": "627bdb1b-29d1-430b-813a-8874ad359dec",
   "metadata": {},
   "source": [
    "### **function vs method**\n",
    "\n",
    "함수는 클래스에 포함되지 않은 채로 사용  \n",
    "- 함수명((인수1), (인수2), ...)  \n",
    "\n",
    "\n",
    "메서드는 클래스에 포함되어 객체를 통해 호출된다  \n",
    "- 객체.메서드명((인수1), (인수2), ...)  "
   ]
  },
  {
   "cell_type": "markdown",
   "id": "c5414191-0d0f-4a7f-9051-50bdbe06a15d",
   "metadata": {},
   "source": [
    "### **함수의 정의** \n",
    "함수는 미리 정의해둔 정의절을 실행해야 호출이 가능하다.\n",
    "``` python \n",
    "def 함수_이름(위치_인자, 위치_인자2, *가변_위치, 키워드_인자, 키워드_인자2, **가변_키워드):\n",
    "    \"\"\"\n",
    "    Doc String을 적는 곳\n",
    "    작성자: 맹지호\n",
    "    작성일자: 2020.02.03\n",
    "    \"\"\"\n",
    "    함수의 바디 \n",
    "    함수의 바디\n",
    "    \n",
    "    return 반환 값\n",
    "```\n",
    "\n",
    "return과, 인자들은 있을수도 없을수도 있다. "
   ]
  },
  {
   "cell_type": "code",
   "execution_count": 11,
   "id": "247eaf83-812f-49b7-87be-ceae10036926",
   "metadata": {},
   "outputs": [],
   "source": [
    "def function2():\n",
    "    \"\"\"\n",
    "    Doc String 부분입니다. \n",
    "    이곳에 함수의 설명에 대해 적어놓으면 좋습니다.\n",
    "    \"\"\"\n",
    "    pass"
   ]
  },
  {
   "cell_type": "code",
   "execution_count": 17,
   "id": "3a344926-53de-4337-bf0f-620de6a99362",
   "metadata": {},
   "outputs": [
    {
     "data": {
      "text/plain": [
       "'\\n    Doc String 부분입니다. \\n    이곳에 함수의 설명에 대해 적어놓으면 좋습니다.\\n    '"
      ]
     },
     "execution_count": 17,
     "metadata": {},
     "output_type": "execute_result"
    }
   ],
   "source": [
    "# doc string 확인하는 방법\n",
    "function2.__doc__"
   ]
  },
  {
   "cell_type": "code",
   "execution_count": 14,
   "id": "3b2607b2-895f-4744-9e65-b487c479c443",
   "metadata": {},
   "outputs": [
    {
     "name": "stdout",
     "output_type": "stream",
     "text": [
      "\n",
      "    Doc String 부분입니다. \n",
      "    이곳에 함수의 설명에 대해 적어놓으면 좋습니다.\n",
      "    \n"
     ]
    }
   ],
   "source": [
    "print(function2.__doc__)"
   ]
  },
  {
   "cell_type": "code",
   "execution_count": 16,
   "id": "6c7902dd-7a37-4462-a0d6-56875e4d0946",
   "metadata": {},
   "outputs": [
    {
     "name": "stdout",
     "output_type": "stream",
     "text": [
      "Built-in mutable sequence.\n",
      "\n",
      "If no argument is given, the constructor creates a new empty list.\n",
      "The argument must be an iterable if specified.\n"
     ]
    }
   ],
   "source": [
    "print(list.__doc__)"
   ]
  },
  {
   "cell_type": "markdown",
   "id": "7027181d-9ea7-445d-a1a8-05c4ee2f80eb",
   "metadata": {},
   "source": [
    "### **인자(Parameter)**\n",
    "함수(또는 메서드)정의에서 함수가 받을 수 있는 변수   \n",
    "**함수 인자** 혹은 **매개변수**라고 한다.   \n",
    "인자는 함수 정의절에서 소괄호 안에 정의된다. \n",
    "\n",
    "**인수는 주는 것이고, 받는 것은 인자이다** \n",
    "\n",
    "#### **5가지 종류**\n",
    " 1. **위치 - 키워드** :혹은 키워드로 전달될 수 있는 인자를 말한다. 매개변수의 기본 형태 \n",
    " 2. **위치 전용**: /문자를 기준으로 **좌측**에 위치한 인자를 말한다. \n",
    " 3. **키워드 전용**: \\* 문자를 기준으로 **우측**에 위치한 인자\n",
    " 4. **가변 위치**: 위치 매개변수 외에 추가적인 위치 매개변수를 개수에 상관없이 받을 수 있다. 변수명 앞에 \\*를 앞에 하나 붙여 표기\n",
    " 5. **가변 키워드**: 키워드 매개변수 외에 추가적인 키워드 매개변수를 개수에 상관없이 받을 수 있다. \\** 를 두개 붙여 표기"
   ]
  },
  {
   "cell_type": "code",
   "execution_count": 18,
   "id": "eba0a40c-34da-42fa-9091-b3b56f0733ee",
   "metadata": {},
   "outputs": [
    {
     "name": "stdout",
     "output_type": "stream",
     "text": [
      "1 2 3\n"
     ]
    }
   ],
   "source": [
    "print(\"1\", \"2\", \"3\")"
   ]
  },
  {
   "cell_type": "code",
   "execution_count": 19,
   "id": "8fc3a147-cf0b-4854-a4e7-dcf0736d59bd",
   "metadata": {},
   "outputs": [],
   "source": [
    "# 함수 정의절 \n",
    "def function_name(positional, positional2, *args, keyword1 = 1, **kargs ):\n",
    "    pass #body"
   ]
  },
  {
   "cell_type": "code",
   "execution_count": 6,
   "id": "d0110642-4e02-4ab5-a08e-d8e82538d1c6",
   "metadata": {},
   "outputs": [],
   "source": [
    "def get_grade(score = 0): # 정의부에서 초기값을 주느냐 안 주느냐에 따라 기본값이 정의될 수도 안 될 수도 있다\n",
    "    \"\"\"\n",
    "    숫자로 된 점수를 넣으시면 학점의 결과를 반환합니다. \n",
    "    \"\"\"\n",
    "    #pass 쓰면 오류가 나지 않고 다른 작업 가능 하다\n",
    "    if 85 <= score <= 100:\n",
    "        return \"A\"\n",
    "    elif 70 <= score <= 84:\n",
    "        return \"B\"\n",
    "    elif 55 <= score <= 69:\n",
    "        return \"C\"\n",
    "    elif 40 <= score <= 54:\n",
    "        return \"D\"\n",
    "    elif 0 <= score <= 39:\n",
    "        return \"F\"\n",
    "    "
   ]
  },
  {
   "cell_type": "code",
   "execution_count": 30,
   "id": "94d2c695-265c-4e86-b530-6e471c64227f",
   "metadata": {},
   "outputs": [
    {
     "data": {
      "text/plain": [
       "'F'"
      ]
     },
     "execution_count": 30,
     "metadata": {},
     "output_type": "execute_result"
    }
   ],
   "source": [
    "get_grade()"
   ]
  },
  {
   "cell_type": "code",
   "execution_count": 26,
   "id": "4addb01a-4968-4912-9462-f8f8564ba8c2",
   "metadata": {},
   "outputs": [
    {
     "name": "stdout",
     "output_type": "stream",
     "text": [
      "\n",
      "    숫자로된 점수를 넣으시면 학점의 결과를 반환합니다. \n",
      "    \n"
     ]
    }
   ],
   "source": [
    "print(get_grade.__doc__)"
   ]
  },
  {
   "cell_type": "code",
   "execution_count": 22,
   "id": "96ce7a93-dd08-4419-85b4-3e9c8e5b77c1",
   "metadata": {},
   "outputs": [
    {
     "name": "stdout",
     "output_type": "stream",
     "text": [
      "B\n"
     ]
    }
   ],
   "source": [
    "result = get_grade(80) #함수의 return값이 \"B\"\n",
    "print(result)"
   ]
  },
  {
   "cell_type": "code",
   "execution_count": 23,
   "id": "bbdaa139-e038-49a4-83eb-079cb1ca7e0b",
   "metadata": {},
   "outputs": [
    {
     "name": "stdout",
     "output_type": "stream",
     "text": [
      "[91, 90, 9, 56, 21, 9, 39, 69, 86, 90, 68, 21, 92, 39, 54, 21, 53, 68, 99, 87]\n"
     ]
    }
   ],
   "source": [
    "import random \n",
    "\n",
    "#20명의 점수를 시스템에 입력했다. \n",
    "scores = [random.randint(1,100) for i in range(20)]\n",
    "print(scores)"
   ]
  },
  {
   "cell_type": "code",
   "execution_count": 25,
   "id": "c41dcb87-ff0d-4810-9ffa-adbe6e8dc415",
   "metadata": {},
   "outputs": [
    {
     "name": "stdout",
     "output_type": "stream",
     "text": [
      "['A', 'A', 'F', 'C', 'F', 'F', 'F', 'C', 'A', 'A', 'C', 'F', 'A', 'F', 'D', 'F', 'D', 'C', 'A', 'A']\n"
     ]
    }
   ],
   "source": [
    "grades = list(map(get_grade, scores))\n",
    "print(grades)"
   ]
  },
  {
   "cell_type": "code",
   "execution_count": 38,
   "id": "e6a4c00a-a0a1-438f-b996-9f19bac3dc9e",
   "metadata": {},
   "outputs": [],
   "source": [
    "#함수 정의 \n",
    "#인자(= 매개변수, parameter)\n",
    "def get_grade(score,  student_number, name = \"홍길동\"): #기본값을 갖는 argument는 기본값이 없는 parameter 뒤에 위치해야한다\n",
    "    \"\"\"\n",
    "    숫자로 된 점수를 넣으시면 학점의 결과를 반환합니다. \n",
    "    \"\"\"\n",
    "    print(f'{student_number}, {name}의 성적을 확인합니다.')\n",
    "    if 85 <= score <= 100:\n",
    "        return \"A\"\n",
    "    elif 70 <= score <= 84:\n",
    "        return \"B\"\n",
    "    elif 55 <= score <= 69:\n",
    "        return \"C\"\n",
    "    elif 40 <= score <= 54:\n",
    "        return \"D\"\n",
    "    elif 0 <= score <= 39:\n",
    "        return \"F\"\n",
    "    "
   ]
  },
  {
   "cell_type": "code",
   "execution_count": 33,
   "id": "23ae8da6-322a-43fd-9186-98a828c2d02d",
   "metadata": {},
   "outputs": [
    {
     "name": "stdout",
     "output_type": "stream",
     "text": [
      "18101977, 맹지호의 성적을 확인합니다.\n"
     ]
    },
    {
     "data": {
      "text/plain": [
       "'A'"
      ]
     },
     "execution_count": 33,
     "metadata": {},
     "output_type": "execute_result"
    }
   ],
   "source": [
    "#함수 호출\n",
    "#인수(argument)\n",
    "get_grade(100, \"맹지호\", \"18101977\" )"
   ]
  },
  {
   "cell_type": "code",
   "execution_count": 35,
   "id": "0d805b28-0b72-481c-a1a2-de31a7557ca3",
   "metadata": {},
   "outputs": [
    {
     "name": "stdout",
     "output_type": "stream",
     "text": [
      "18101977, 100의 성적을 확인합니다.\n"
     ]
    },
    {
     "ename": "TypeError",
     "evalue": "'<=' not supported between instances of 'int' and 'str'",
     "output_type": "error",
     "traceback": [
      "\u001b[1;31m---------------------------------------------------------------------------\u001b[0m",
      "\u001b[1;31mTypeError\u001b[0m                                 Traceback (most recent call last)",
      "\u001b[1;32m<ipython-input-35-b54b8656ea79>\u001b[0m in \u001b[0;36m<module>\u001b[1;34m\u001b[0m\n\u001b[1;32m----> 1\u001b[1;33m \u001b[0mget_grade\u001b[0m\u001b[1;33m(\u001b[0m\u001b[1;34m\"맹지호\"\u001b[0m\u001b[1;33m,\u001b[0m \u001b[1;36m100\u001b[0m\u001b[1;33m,\u001b[0m \u001b[1;34m\"18101977\"\u001b[0m \u001b[1;33m)\u001b[0m\u001b[1;33m\u001b[0m\u001b[1;33m\u001b[0m\u001b[0m\n\u001b[0m",
      "\u001b[1;32m<ipython-input-32-969852e8d1a8>\u001b[0m in \u001b[0;36mget_grade\u001b[1;34m(score, name, student_number)\u001b[0m\n\u001b[0;32m      4\u001b[0m     \"\"\"\n\u001b[0;32m      5\u001b[0m     \u001b[0mprint\u001b[0m\u001b[1;33m(\u001b[0m\u001b[1;34mf'{student_number}, {name}의 성적을 확인합니다.'\u001b[0m\u001b[1;33m)\u001b[0m\u001b[1;33m\u001b[0m\u001b[1;33m\u001b[0m\u001b[0m\n\u001b[1;32m----> 6\u001b[1;33m     \u001b[1;32mif\u001b[0m \u001b[1;36m85\u001b[0m \u001b[1;33m<=\u001b[0m \u001b[0mscore\u001b[0m \u001b[1;33m<=\u001b[0m \u001b[1;36m100\u001b[0m\u001b[1;33m:\u001b[0m\u001b[1;33m\u001b[0m\u001b[1;33m\u001b[0m\u001b[0m\n\u001b[0m\u001b[0;32m      7\u001b[0m         \u001b[1;32mreturn\u001b[0m \u001b[1;34m\"A\"\u001b[0m\u001b[1;33m\u001b[0m\u001b[1;33m\u001b[0m\u001b[0m\n\u001b[0;32m      8\u001b[0m     \u001b[1;32melif\u001b[0m \u001b[1;36m70\u001b[0m \u001b[1;33m<=\u001b[0m \u001b[0mscore\u001b[0m \u001b[1;33m<=\u001b[0m \u001b[1;36m84\u001b[0m\u001b[1;33m:\u001b[0m\u001b[1;33m\u001b[0m\u001b[1;33m\u001b[0m\u001b[0m\n",
      "\u001b[1;31mTypeError\u001b[0m: '<=' not supported between instances of 'int' and 'str'"
     ]
    }
   ],
   "source": [
    "get_grade(\"맹지호\", 100, \"18101977\" )"
   ]
  },
  {
   "cell_type": "code",
   "execution_count": 48,
   "id": "03df89f1-ea02-4908-9b5d-4b71bf910887",
   "metadata": {},
   "outputs": [],
   "source": [
    "#함수 정의절\n",
    "#인자(= 매개변수, parameter) - non_default, default 종류\n",
    "#positional - only: / 문자를 기준으로 왼편에 온다\n",
    "def add_number(number2, number1 = 3, /):\n",
    "    \"\"\"\n",
    "    숫자 number1과 숫자 number2를 전달 받아 더한 결과를 반환\n",
    "    \"\"\"\n",
    "    return number1 + number2"
   ]
  },
  {
   "cell_type": "code",
   "execution_count": 41,
   "id": "84bb94c6-7863-40aa-8049-fa85d62befc5",
   "metadata": {},
   "outputs": [
    {
     "name": "stdout",
     "output_type": "stream",
     "text": [
      "\n",
      "    숫자 number1과 숫자 number2를 전달 받아 더한 결과를 반환\n",
      "    \n"
     ]
    }
   ],
   "source": [
    "print(add_number.__doc__)"
   ]
  },
  {
   "cell_type": "code",
   "execution_count": 50,
   "id": "61d9c7e5-8232-4b2c-afd5-d6c3e552d326",
   "metadata": {},
   "outputs": [
    {
     "name": "stdout",
     "output_type": "stream",
     "text": [
      "13\n"
     ]
    }
   ],
   "source": [
    "# 함수 호출\n",
    "# 인수(argument) - positional argument, keyword argument\n",
    "result = add_number(10) #소괄호 --> call\n",
    "print(result)"
   ]
  },
  {
   "cell_type": "code",
   "execution_count": 51,
   "id": "a3947128-6b22-4971-9c6e-3a0afae6844f",
   "metadata": {},
   "outputs": [],
   "source": [
    "#함수 정의절\n",
    "#인자(= 매개변수, parameter) - non_default, default 종류\n",
    "#keyword- only: * 문자를 기준으로 오른편에 온다\n",
    "def minus_number(*, number1, number2 = 3):\n",
    "    \"\"\"\n",
    "    숫자 number1과 숫자 number2를 전달 받아 뺀 결과를 반환\n",
    "    \"\"\"\n",
    "    return number1 - number2"
   ]
  },
  {
   "cell_type": "code",
   "execution_count": 52,
   "id": "ed03461d-3cd5-4d5a-80f3-9348e383fdf2",
   "metadata": {},
   "outputs": [
    {
     "data": {
      "text/plain": [
       "-3"
      ]
     },
     "execution_count": 52,
     "metadata": {},
     "output_type": "execute_result"
    }
   ],
   "source": [
    "# 함수 호출\n",
    "# 인수(argument) - positional argument, keyword argument\n",
    "minus_number(number1 = 2, number2 = 5)"
   ]
  },
  {
   "cell_type": "code",
   "execution_count": 53,
   "id": "3078a02a-7f04-4ee9-b405-795995c357ce",
   "metadata": {},
   "outputs": [
    {
     "ename": "TypeError",
     "evalue": "minus_number() takes 0 positional arguments but 1 positional argument (and 1 keyword-only argument) were given",
     "output_type": "error",
     "traceback": [
      "\u001b[1;31m---------------------------------------------------------------------------\u001b[0m",
      "\u001b[1;31mTypeError\u001b[0m                                 Traceback (most recent call last)",
      "\u001b[1;32m<ipython-input-53-e394904b3e3e>\u001b[0m in \u001b[0;36m<module>\u001b[1;34m\u001b[0m\n\u001b[1;32m----> 1\u001b[1;33m \u001b[0mminus_number\u001b[0m\u001b[1;33m(\u001b[0m\u001b[1;36m2\u001b[0m\u001b[1;33m,\u001b[0m \u001b[0mnumber2\u001b[0m \u001b[1;33m=\u001b[0m \u001b[1;36m5\u001b[0m\u001b[1;33m)\u001b[0m\u001b[1;33m\u001b[0m\u001b[1;33m\u001b[0m\u001b[0m\n\u001b[0m",
      "\u001b[1;31mTypeError\u001b[0m: minus_number() takes 0 positional arguments but 1 positional argument (and 1 keyword-only argument) were given"
     ]
    }
   ],
   "source": [
    "minus_number(2, number2 = 5)"
   ]
  },
  {
   "cell_type": "code",
   "execution_count": 59,
   "id": "d0d91221-960f-4f88-920b-e0c132c56080",
   "metadata": {},
   "outputs": [],
   "source": [
    "#positional - only: / 문자를 기준으로 왼편에 온다\n",
    "#keyword- only: * 문자를 기준으로 오른편에 온다\n",
    "def multi_number(number1, /, *, number2 = 3):\n",
    "    \"\"\"\n",
    "    숫자 number1과 숫자 number2를 전달 받아 뺀 결과를 반환\n",
    "    \"\"\"\n",
    "    return number1 * number2"
   ]
  },
  {
   "cell_type": "code",
   "execution_count": 60,
   "id": "3507e072-2de7-4a79-94d5-dcc1e94fd909",
   "metadata": {},
   "outputs": [
    {
     "data": {
      "text/plain": [
       "30"
      ]
     },
     "execution_count": 60,
     "metadata": {},
     "output_type": "execute_result"
    }
   ],
   "source": [
    "multi_number(3, number2 =10)"
   ]
  },
  {
   "cell_type": "code",
   "execution_count": 67,
   "id": "1f87367e-36bc-41b9-ba4b-577e4730b242",
   "metadata": {},
   "outputs": [],
   "source": [
    "# /와 * 사이에 있으면 keyword와 positioanl 모두 가능 \n",
    "def string_line(str_value, / , str_len = 70 , *, sep =\"#\"):\n",
    "    \"\"\"\n",
    "    str_value 는 가운데 오는 텍스트 입니다. \n",
    "    str_len은 텍스트의 설정할 길이입니다. \n",
    "    sep는 구분선을 그을 때 쓰는 문자 입니다 .\n",
    "    \"\"\"\n",
    "    \n",
    "    print(str_value.center(str_len, sep))\n"
   ]
  },
  {
   "cell_type": "code",
   "execution_count": 62,
   "id": "5018e170-fad4-413a-a1b6-c854dbfbb7ba",
   "metadata": {},
   "outputs": [
    {
     "name": "stdout",
     "output_type": "stream",
     "text": [
      "************************구분************************\n"
     ]
    }
   ],
   "source": [
    "string_line(\"구분\", 50, sep = \"*\")"
   ]
  },
  {
   "cell_type": "code",
   "execution_count": 64,
   "id": "5412c496-8f0b-490a-93af-7a2dd53e3e02",
   "metadata": {},
   "outputs": [
    {
     "data": {
      "text/plain": [
       "50"
      ]
     },
     "execution_count": 64,
     "metadata": {},
     "output_type": "execute_result"
    }
   ],
   "source": [
    "len(\"************************구분************************\")"
   ]
  },
  {
   "cell_type": "code",
   "execution_count": 66,
   "id": "763ba646-b24a-4da8-92ff-2ddf1609416e",
   "metadata": {},
   "outputs": [
    {
     "name": "stdout",
     "output_type": "stream",
     "text": [
      "------------------------------------------------절취선-------------------------------------------------\n"
     ]
    }
   ],
   "source": [
    "string_line(\"절취선\", str_len = 100, sep = \"-\")"
   ]
  },
  {
   "cell_type": "code",
   "execution_count": 69,
   "id": "54f9d280-fe28-413a-8278-0b01e7784d6e",
   "metadata": {},
   "outputs": [
    {
     "name": "stdout",
     "output_type": "stream",
     "text": [
      "1 1 1 1 1 1 1 1 1\n"
     ]
    }
   ],
   "source": [
    "print(\"1\", \"1\", \"1\", \"1\", \"1\", \"1\", \"1\", \"1\", \"1\")"
   ]
  },
  {
   "cell_type": "code",
   "execution_count": 76,
   "id": "f5a3fa8a-11e7-412f-8490-bd6508e96406",
   "metadata": {},
   "outputs": [],
   "source": [
    "# *args: var positional 가변위치 \n",
    "def test_func(a, b, c, *args):\n",
    "    print(f'a:{a} b:{b} c: {c}')\n",
    "    print(type(args))\n",
    "    print(args)"
   ]
  },
  {
   "cell_type": "code",
   "execution_count": 77,
   "id": "f36bbad1-9169-4c5d-a67f-c1221471445e",
   "metadata": {},
   "outputs": [
    {
     "name": "stdout",
     "output_type": "stream",
     "text": [
      "a:a 위치입니다.  b:b 위치 입니다. c: c 위치 입니다.\n",
      "<class 'tuple'>\n",
      "('여기는', '어디일까요?')\n"
     ]
    }
   ],
   "source": [
    "test_func(\"a 위치입니다. \", \"b 위치 입니다.\", \"c 위치 입니다.\" , \"여기는\", \"어디일까요?\")"
   ]
  },
  {
   "cell_type": "code",
   "execution_count": 86,
   "id": "c593cf95-6b9f-4833-8096-e0b6afc42fd5",
   "metadata": {},
   "outputs": [],
   "source": [
    "# *args: var positional 가변위치 \n",
    "def test_func(a, b, *args, c):\n",
    "    print(f'a:{a} b:{b} c: {c}')\n",
    "    print(type(args))\n",
    "    print(args)"
   ]
  },
  {
   "cell_type": "code",
   "execution_count": 87,
   "id": "e0e2b8e5-b739-4461-9d07-5e1374e63923",
   "metadata": {},
   "outputs": [
    {
     "ename": "TypeError",
     "evalue": "test_func() missing 1 required keyword-only argument: 'c'",
     "output_type": "error",
     "traceback": [
      "\u001b[1;31m---------------------------------------------------------------------------\u001b[0m",
      "\u001b[1;31mTypeError\u001b[0m                                 Traceback (most recent call last)",
      "\u001b[1;32m<ipython-input-87-4b4f574f7be1>\u001b[0m in \u001b[0;36m<module>\u001b[1;34m\u001b[0m\n\u001b[1;32m----> 1\u001b[1;33m \u001b[0mtest_func\u001b[0m\u001b[1;33m(\u001b[0m\u001b[1;34m\"a 위치입니다. \"\u001b[0m\u001b[1;33m,\u001b[0m \u001b[1;34m\"b 위치 입니다.\"\u001b[0m\u001b[1;33m,\u001b[0m \u001b[1;34m\"c 위치 입니다.\"\u001b[0m \u001b[1;33m,\u001b[0m \u001b[1;34m\"여기는\"\u001b[0m\u001b[1;33m,\u001b[0m \u001b[1;34m\"어디일까요?\"\u001b[0m\u001b[1;33m,\u001b[0m \u001b[1;34m\"몇개\"\u001b[0m\u001b[1;33m,\u001b[0m \u001b[1;34m\"더\"\u001b[0m\u001b[1;33m)\u001b[0m\u001b[1;33m\u001b[0m\u001b[1;33m\u001b[0m\u001b[0m\n\u001b[0m",
      "\u001b[1;31mTypeError\u001b[0m: test_func() missing 1 required keyword-only argument: 'c'"
     ]
    }
   ],
   "source": [
    "test_func(\"a 위치입니다. \", \"b 위치 입니다.\", \"c 위치 입니다.\" , \"여기는\", \"어디일까요?\", \"몇개\", \"더\")"
   ]
  },
  {
   "cell_type": "code",
   "execution_count": 82,
   "id": "7c20d669-3212-4b82-a4f5-e90070e62fe5",
   "metadata": {},
   "outputs": [],
   "source": [
    "# **kargs: var keyword 가변 키워드 \n",
    "def test_func2(a = \"a\", b =\"b\", **krgs):\n",
    "    print(a, b)\n",
    "    print(type(krgs))\n",
    "    print(krgs)"
   ]
  },
  {
   "cell_type": "code",
   "execution_count": 83,
   "id": "7bdc0475-b14e-44e5-b0c3-75c61adf3c27",
   "metadata": {},
   "outputs": [
    {
     "name": "stdout",
     "output_type": "stream",
     "text": [
      "ab bc\n",
      "<class 'dict'>\n",
      "{'key': 'value', 'key2': 'value2'}\n"
     ]
    }
   ],
   "source": [
    "test_func2(a = \"ab\", b= \"bc\", key = \"value\", key2 = \"value2\")"
   ]
  },
  {
   "cell_type": "markdown",
   "id": "13b35e3c-316b-4134-8da6-7e6d95a55fb0",
   "metadata": {},
   "source": [
    "### Arguments, Parameter \n",
    "- parameter는 함수 정의절에서 사용하는 이름 \n",
    "- arguments는 함수 호출할 때 함수에 전달하는 실제 값\n",
    "\n",
    "**따라서 parameters는 어떤 종류의 arguments를 받을지 정의**"
   ]
  },
  {
   "cell_type": "markdown",
   "id": "cdf006f8-89b3-439c-8bfe-2d23e84efcf7",
   "metadata": {},
   "source": [
    "### 위치 - 키워드 인자(positional - or - keyword parameters)\n",
    "위치 인수 또는 키워드 인수를 받을 수 있는 인자  \n",
    "\n",
    "\n",
    "- 함수 정의절에서 위치 키워드 인자가 기본값을 가지지 않은 채 인수 없이 함수를 호출하면 typeError가 발생  \n",
    "- 기본값이 없는 인수에 위치 인수를 순서와 관계없이 값을 전달하면 타입에 민감하게 동작하는 함수라면 값을 처리할 수 없어 Error 발생 \n",
    "- 키워드 인수만으로 호출 가능, 키워드 인수간에 순서는 상관없다\n",
    "- 기본값을 갖는 default parameter는 기본 기본값을 갖지 않는 non - default parameter 뒤에 위치 해야한다. "
   ]
  },
  {
   "cell_type": "markdown",
   "id": "e64d9dc2-4f7e-4b59-a963-f058b9ec071c",
   "metadata": {},
   "source": [
    "### 위치인수와 키워드 인수 \n",
    "함수를 호출 할 떄 소괄호 안에 위치 인수를 먼저 작성하고 키워드 인수를 나중에 작성  \n",
    "위치 인수는 순서에 영향을 받지만, 키워드 인수는 순서에 상관없이 작성 가능 "
   ]
  },
  {
   "cell_type": "code",
   "execution_count": 1,
   "id": "eddccba4-1669-437a-ac20-7bea1c0f1b64",
   "metadata": {},
   "outputs": [],
   "source": [
    "def greeting(name, age):\n",
    "    print(f\"{name} 씨 안녕하세요. 약 {age*365.35}일 되었습니다.\")\n",
    "    "
   ]
  },
  {
   "cell_type": "code",
   "execution_count": 2,
   "id": "5b256c88-849f-4c69-9ab1-7ec5ae7bb372",
   "metadata": {},
   "outputs": [
    {
     "name": "stdout",
     "output_type": "stream",
     "text": [
      "파이썬 씨 안녕하세요. 약 11691.2일 되었습니다.\n"
     ]
    }
   ],
   "source": [
    "greeting(\"파이썬\", 32) #위치 인수만으로 호출하고 있다. 위치 인수는 순서가 중요"
   ]
  },
  {
   "cell_type": "code",
   "execution_count": 3,
   "id": "e6b70328-94d2-4e50-b1b2-6ae5416c523d",
   "metadata": {},
   "outputs": [
    {
     "name": "stdout",
     "output_type": "stream",
     "text": [
      "파이썬 씨 안녕하세요. 약 11691.2일 되었습니다.\n"
     ]
    }
   ],
   "source": [
    "greeting(name = \"파이썬\", age = 32) # 키워드 인수만으로 호출하고 있다."
   ]
  },
  {
   "cell_type": "code",
   "execution_count": 7,
   "id": "15c0d5c8-f9d1-4dee-94c4-ea3c043f461d",
   "metadata": {},
   "outputs": [
    {
     "name": "stdout",
     "output_type": "stream",
     "text": [
      "파이썬 씨 안녕하세요. 약 11691.2일 되었습니다.\n"
     ]
    }
   ],
   "source": [
    "greeting(\"파이썬\", age = 32)  # 위치 인수와 키워드 인수로 호출하고 있다. \n",
    "                             # 위치 인수와 키워드 인수보다 먼저와야 한다."
   ]
  },
  {
   "cell_type": "code",
   "execution_count": 6,
   "id": "e6e2a935-0cc7-412c-859f-f9db5620fb77",
   "metadata": {},
   "outputs": [
    {
     "name": "stdout",
     "output_type": "stream",
     "text": [
      "파이썬 씨 안녕하세요. 약 11691.2일 되었습니다.\n"
     ]
    }
   ],
   "source": [
    "greeting( age = 32, name = \"파이썬\") # 키워드 인수만으로 호출 할 때 키워드 인수간에 순서는 상관 없다"
   ]
  },
  {
   "cell_type": "markdown",
   "id": "374241b8-850a-4133-8fec-ece3e6ad26a9",
   "metadata": {},
   "source": [
    "### 위치 전용 인자\n",
    "- 위치 전용 인자는 오직 위치 인수만 값의 전달이 가능 \n",
    "- 위치 전용 인자를 선언 하는 방법: /를 인자 값으로 넣고 좌측 부분에 위치 전용 인자를 작성  \n",
    "- 위치 전용 인자에 키워드 인수를 전달하면 TypeError 오류 발생 \n",
    "\n",
    "### 키워드 전용 인자 \n",
    "- 키워드 전용 인자도 기본 값을 가질 수 있다. 이 때 기본값을 갖는 인자에 상응하는 인수는 생략 가능  \n",
    "- 키워드 전용인자는 오직 위치 인수만 값의 전달이 가능 하다.\n",
    "- 키워드 전용 인자 선언하는 방법: \\*를 인자 값으로 넣고 우측부분에 키워드 전용 인자 작성\n",
    "\n",
    "### 가변 위치 인자 \n",
    "- 명시된 인자 외에 추가적으로 위치 인수를 개수에 상관없이 유연하게 전달 받을 수 있다. \n",
    "- 가변 변수로 사용할 변수명 앞에 * 를 앞에 하나 붙여 표기 \n",
    "- 가변 위치 인자를 사용할 때 해당 변수에 값을 전달하는 인수가 아예 없어도 함수가 동작하는데 문제 없도록 함수 바디를 작성하는 것이 좋다 \n",
    "\n",
    "### 가변 키워드 인자 \n",
    "- 명시된 인자 외에 추가적으로 키워드 인수를 개수에 상관없이 유연하게 전달 받을 수 있다. \n",
    "- 가변 변수로 사용할 변수명 앞에 \\*를 앞에 두개 붙여 표기(**) \n",
    "- 가변 키워드 인자를 사용할 떄도 해당 변수에 값을 전달하는 인수가 아예 없어도 함수가 동작하는데 문제 없도록 함수 바디를 작성하는 것이 좋다 \n",
    "\n",
    "**가변 인자들은 맨 오른쪽에 위치해야한다.**"
   ]
  },
  {
   "cell_type": "code",
   "execution_count": 8,
   "id": "0524866a-343b-4bdd-bab3-062341dcf97f",
   "metadata": {},
   "outputs": [],
   "source": [
    "# 함수 정의절 \n",
    "# 인자(매개변수, parameter)\n",
    "# non - default parameter -> \"값1\", \"값2\", \"값3\"\n",
    "# default parameter - > key = \"value\", key2 = \"value2\"\n",
    "def function_name(param1, param2, /, poskey1, poskey2, *, keyonly1, keyonly2):\n",
    "    \"\"\"\n",
    "    Docs\n",
    "    \"\"\"\n",
    "    pass"
   ]
  },
  {
   "cell_type": "code",
   "execution_count": 13,
   "id": "b0d55043-8060-489f-bc1c-6e1211129ed4",
   "metadata": {},
   "outputs": [],
   "source": [
    "# 인수 (argument)\n",
    "# positional_only -> \"값1\", \"값2\", \"값3\"\n",
    "# key = \"value\", key2 = \"value2\", ... \n",
    "function_name(\"posonly\",\"posonly2\", \"po\",\"po2\", keyonly1 = \"value\", keyonly2 = \"value2\")"
   ]
  },
  {
   "cell_type": "code",
   "execution_count": 14,
   "id": "409e6aba-a159-4059-a7f2-682f00d0dd69",
   "metadata": {},
   "outputs": [],
   "source": [
    "# 가변 위치 개수에 유연하게 값을 받을 수 있는 인자\n",
    "def function_name2(*args):\n",
    "    print(type(args))\n",
    "    for arg in args:\n",
    "        print(arg)"
   ]
  },
  {
   "cell_type": "code",
   "execution_count": 15,
   "id": "955b4a4d-92f3-4648-ab9b-c9dd4b9725d8",
   "metadata": {},
   "outputs": [
    {
     "name": "stdout",
     "output_type": "stream",
     "text": [
      "<class 'tuple'>\n",
      "args\n",
      "는\n",
      "가변 위치\n",
      "인수입니다.\n"
     ]
    }
   ],
   "source": [
    "function_name2(\"args\", \"는\", \"가변 위치\", \"인수입니다.\")"
   ]
  },
  {
   "cell_type": "code",
   "execution_count": 16,
   "id": "40c7b473-2536-483c-b7df-f13ed7367a95",
   "metadata": {},
   "outputs": [],
   "source": [
    "# unpacking \n",
    "# 시퀀스 자료형의 개수만큼 좌측에 변수에 맞춰줘서 한 번 할당\n",
    "a, b, c, d = [_ for _ in range(4)]\n",
    "\n",
    "#packing: 여러 개의 인수를 인자 하나로 받음 "
   ]
  },
  {
   "cell_type": "code",
   "execution_count": 21,
   "id": "28420c4f-0279-4c90-adf8-eba6f04fb9fe",
   "metadata": {},
   "outputs": [],
   "source": [
    "# 가변 키워드 인자 Keyword ARGumentS\n",
    "def function_name3(**kargs):\n",
    "    print(type(kargs))\n",
    "    print(kargs)\n",
    "    print(kargs[\"key\"])"
   ]
  },
  {
   "cell_type": "code",
   "execution_count": 22,
   "id": "77d2bbd9-a8c3-46d9-bde2-9d8579596326",
   "metadata": {},
   "outputs": [
    {
     "name": "stdout",
     "output_type": "stream",
     "text": [
      "<class 'dict'>\n",
      "{'key': 'value', 'key2': 'value2', 'key3': 'value3'}\n",
      "value\n"
     ]
    }
   ],
   "source": [
    "# 함수 호출\n",
    "function_name3(key = \"value\", key2 = \"value2\", key3 = \"value3\")"
   ]
  },
  {
   "cell_type": "markdown",
   "id": "590ceb75-9404-4733-b3ba-efe811ae3e83",
   "metadata": {},
   "source": [
    "### **변수의 범위** \n",
    "#### **전역변수 (global variable)**\n",
    "- 변수를 스크립트 전체에서 접근할 수 있었는데, 그 변수를 전역변수라고 부른다. \n",
    "\n",
    "우리가 함수를 배우기 전까진 제일 바깥 영역(들여쓰기 없이 쓴 영역)인 전역 범위에서 변수를 선언하고 활용했다.  "
   ]
  },
  {
   "cell_type": "code",
   "execution_count": 24,
   "id": "3aa40071-2b19-4ae5-a62d-1aea2f569173",
   "metadata": {},
   "outputs": [
    {
     "name": "stdout",
     "output_type": "stream",
     "text": [
      "global_variable in global scope =>This is global world\n",
      "0x200bca1e3f0\n",
      "global_variable in local_world => This is global world\n",
      "0x200bca1e3f0\n"
     ]
    }
   ],
   "source": [
    "global_variable = \"This is global world\"\n",
    "\n",
    "print(f\"global_variable in global scope =>{global_variable}\")\n",
    "\n",
    "print(hex(id(global_variable)))\n",
    "\n",
    "def local_world():\n",
    "    print(f\"global_variable in local_world => {global_variable}\")\n",
    "    print(hex(id(global_variable)))\n",
    "    \n",
    "    \n",
    "local_world()"
   ]
  },
  {
   "cell_type": "markdown",
   "id": "9661686b-0dc9-4890-ba16-3e63ff4a8e06",
   "metadata": {},
   "source": [
    "#### **지역변수(local variable)** \n",
    "그렇다면 함수 바디에서 선언된 변수는 바깥에서 접근이 가능할까?  \n",
    "NameError가 발생, 즉 지역변수는 변수를 만든 함수 안에서만 접근이 가능하다  "
   ]
  },
  {
   "cell_type": "code",
   "execution_count": 26,
   "id": "7e01565a-fcb5-469c-9988-8e35c3007461",
   "metadata": {},
   "outputs": [],
   "source": [
    "#지역변수 선언\n",
    "def my_little_world():\n",
    "    my_variable = \"This is my little world\""
   ]
  },
  {
   "cell_type": "code",
   "execution_count": 27,
   "id": "bea8b7d5-f0c8-4f85-bb52-d2cdd728d219",
   "metadata": {},
   "outputs": [
    {
     "ename": "NameError",
     "evalue": "name 'my_variable' is not defined",
     "output_type": "error",
     "traceback": [
      "\u001b[1;31m---------------------------------------------------------------------------\u001b[0m",
      "\u001b[1;31mNameError\u001b[0m                                 Traceback (most recent call last)",
      "\u001b[1;32m<ipython-input-27-f999b8cc1cdb>\u001b[0m in \u001b[0;36m<module>\u001b[1;34m\u001b[0m\n\u001b[1;32m----> 1\u001b[1;33m \u001b[0mprint\u001b[0m\u001b[1;33m(\u001b[0m\u001b[0mmy_variable\u001b[0m\u001b[1;33m)\u001b[0m\u001b[1;33m\u001b[0m\u001b[1;33m\u001b[0m\u001b[0m\n\u001b[0m",
      "\u001b[1;31mNameError\u001b[0m: name 'my_variable' is not defined"
     ]
    }
   ],
   "source": [
    "print(my_variable) #에러 발생 지점 "
   ]
  },
  {
   "cell_type": "markdown",
   "id": "feade6d7-5dae-4530-bbd4-c1cbc6fd2152",
   "metadata": {},
   "source": [
    "#### **지역범위에서 전역변수 할당하기** \n",
    "지역범위에서 전역 변수에 대한 접근이 가능하다   \n",
    "그렇다면 지역범위에서 전역 변수의 값을 변경하는 건 어떨까?  \n",
    "지역 범위에서 할당하고 있는 \"import_(생략)\\_heart\" 변수는 사실 전역 변수가 아니라 지역 변수라 그렇다"
   ]
  },
  {
   "cell_type": "code",
   "execution_count": 29,
   "id": "ccc6e25a-7e2c-4562-a2cc-6f974c0256a9",
   "metadata": {},
   "outputs": [
    {
     "name": "stdout",
     "output_type": "stream",
     "text": [
      "중요한 것은 꺾이지 않는 마음\n"
     ]
    }
   ],
   "source": [
    "important_is_an_unbroken_heart = \"중요한 것은 꺾이지 않는 마음\"\n",
    "def trials_and_tribulations(): # 함수 안 쪽은 local \n",
    "    important_is_an_unbroken_heart = \"흔들흔들\"\n",
    "    \n",
    "trials_and_tribulations()\n",
    "print(important_is_an_unbroken_heart)"
   ]
  },
  {
   "cell_type": "markdown",
   "id": "3c47dff3-1964-4250-b792-692d68e1a3fc",
   "metadata": {},
   "source": [
    "지역 범위에서 전역 변수의 값을 조회는 가능하나 변경은 실패   \n",
    "지역범위에서 변수를 변경하려면 global 키워드를 사용해야 한다 ."
   ]
  },
  {
   "cell_type": "code",
   "execution_count": null,
   "id": "2621d57c-f0ad-44b7-b18d-d3b62b404fce",
   "metadata": {},
   "outputs": [],
   "source": [
    "global_variable = \"변경이 됩니까?\"\n",
    "\n",
    "def heartbreaker():\n",
    "    global global_variable # global 키워드를 활용하여 지목하고 전역변수를 사용하겠다고 설정 \n",
    "    global_variable = \"global 키워드 활용해서 변경 완료\" # global 키워드 나눠서 써야 함 지목 따로, 사용 따로 \n",
    "    # return 값이 없다. \n",
    "    \n",
    "heartbreaker() #함수 실행\n",
    "print(global_variable) # 함수의 body 실행 "
   ]
  },
  {
   "cell_type": "markdown",
   "id": "eadf09c3-824b-4275-84e0-332fbfe59503",
   "metadata": {},
   "source": [
    "#### **함수 바디에 함수를 중첩해서 만들기**\n",
    "함수 바디 안에 def를 써서 다시 함수를 만들 수 있다.   \n",
    "level1 함수에서 바깥쪽 level1 함수의 지역 변수 message를 출력하고 있다.   \n",
    "level1에 선언된 지역 변수는 level1 함수 바디 범위 내에서 접근 가능함을 알 수 있다. "
   ]
  },
  {
   "cell_type": "code",
   "execution_count": 32,
   "id": "fe635b09-65f5-4a03-8995-ecb48ff788f5",
   "metadata": {},
   "outputs": [],
   "source": [
    "# message 변수에 접근할 수 있는 범위 \n",
    "def level1():\n",
    "    message = \"This is level1\"\n",
    "    def level2():\n",
    "        print(message)\n",
    "        \n",
    "    level2()"
   ]
  },
  {
   "cell_type": "code",
   "execution_count": 33,
   "id": "02ea7596-824e-4121-afd7-5cf2569e0152",
   "metadata": {},
   "outputs": [
    {
     "name": "stdout",
     "output_type": "stream",
     "text": [
      "This is level1\n"
     ]
    }
   ],
   "source": [
    "level1()"
   ]
  },
  {
   "cell_type": "markdown",
   "id": "e25485a1-8baa-4736-b1ba-f20d6dde16db",
   "metadata": {},
   "source": [
    "#### **안쪽 함수에서 바깥쪽 함수의 변수 변경해보기** \n",
    "안쪽 함수에서 바깥쪽 함수에 선언된 변수에 대한 출력이 가능할한 것을 확인  \n",
    "변경도 가능?"
   ]
  },
  {
   "cell_type": "code",
   "execution_count": 37,
   "id": "3501d782-7c6b-44f8-b02c-78bfb6170643",
   "metadata": {},
   "outputs": [],
   "source": [
    "def level1():\n",
    "    message = \"This is level1\"\n",
    "    def level2():\n",
    "        message = \"Levle2 is better than level1\"    \n",
    "    level2()\n",
    "    print(message)"
   ]
  },
  {
   "cell_type": "code",
   "execution_count": 38,
   "id": "98550566-ffaa-4f42-be57-b446d5951a83",
   "metadata": {},
   "outputs": [
    {
     "name": "stdout",
     "output_type": "stream",
     "text": [
      "This is level1\n"
     ]
    }
   ],
   "source": [
    "level1() # 바깥쪽 함수 영역의 변수 값 변경에 실패 "
   ]
  },
  {
   "cell_type": "markdown",
   "id": "d14cd4de-52c4-4980-ba8a-9a8d8a5c1d22",
   "metadata": {},
   "source": [
    "nonlocal은 함수 범위 밖에서 찾는다. "
   ]
  },
  {
   "cell_type": "code",
   "execution_count": 39,
   "id": "b3425eee-ed52-499d-8b47-7a829386f7cb",
   "metadata": {},
   "outputs": [],
   "source": [
    "def level1():\n",
    "    message = \"This is level1\"\n",
    "    def level2():\n",
    "        nonlocal message # nonlocal 키워드를 통해 바깥 영역의 변수를 사용하겠다고 설정 \n",
    "        message = \"Levle2 is better than level1\"    \n",
    "    level2()\n",
    "    print(message)"
   ]
  },
  {
   "cell_type": "code",
   "execution_count": 40,
   "id": "9af2a4f1-cfcc-4905-af54-8837958853d3",
   "metadata": {},
   "outputs": [
    {
     "name": "stdout",
     "output_type": "stream",
     "text": [
      "Levle2 is better than level1\n"
     ]
    }
   ],
   "source": [
    "level1()"
   ]
  },
  {
   "cell_type": "markdown",
   "id": "d980dd5a-b1f6-49b0-b5ce-ae7c2de4d783",
   "metadata": {},
   "source": [
    "#### **global, nonlocal 특징과 권고사항**\n",
    "\n",
    "- global 키워드는 함수의 중첩된 정도와 상관없이 전역 범위의 변수를 매칭   \n",
    "- 중첩된 함수마다 같은 이름의 변수가 있다면 nonlocal 키워드는 제일 가까운 바깥 변수를 매칭   \n",
    "- 가급적이면 함수마다 이름이 같은 변수를 사용하기 보단 다른 변수명을 사용하는게 좋다"
   ]
  },
  {
   "cell_type": "markdown",
   "id": "80501a29-3331-49e7-9c1a-7b5cac96800c",
   "metadata": {},
   "source": [
    "#### **변수 범위 정리**\n",
    "- 함수 안에서 선얺나 변수는 함수를 호출해 실행되는 동안만 사용 가능   \n",
    "- 범위마다 같은 이름의 변수를 사용해도 각각 독립적으로 동작   \n",
    "- 지역 변수(local variable)를 저장하는 이름 공간을 지역 영역(local scope)이라고 한다.   \n",
    "- 전역 변수(global variable)를 저장하는 이름 공간을 전역 영역(global scope)이라고 한다.   \n",
    "- 파이썬 자체에서 정의한 이름 공간을 내장 영역(Bulit - in scope)이라고 한다.   \n",
    "- 함수에서 변수를 호출하면 지역 영역 - > 전역 영역 -> 내장 영역 순으로 해당하는 변수를 확인 "
   ]
  },
  {
   "cell_type": "code",
   "execution_count": 41,
   "id": "c1adca07-7bc5-4de5-92f6-0de24c7e78b7",
   "metadata": {},
   "outputs": [
    {
     "name": "stdout",
     "output_type": "stream",
     "text": [
      "전역변수입니다.\n"
     ]
    }
   ],
   "source": [
    "# 지역 범위에서 전역 변수에 접근 출력\n",
    "global_v = \"전역변수입니다.\"\n",
    "\n",
    "def local_scope():\n",
    "    print(global_v)\n",
    "    \n",
    "local_scope()"
   ]
  },
  {
   "cell_type": "code",
   "execution_count": 42,
   "id": "32269f76-927c-4d07-a8d2-1bf1e3a3bc4d",
   "metadata": {},
   "outputs": [
    {
     "name": "stdout",
     "output_type": "stream",
     "text": [
      "전역변수입니다.\n"
     ]
    }
   ],
   "source": [
    "# 지역 범위에서 전역 변수에 접근 후 재할당\n",
    "global_v2 = \"전역변수입니다.\"\n",
    "\n",
    "def local_scope2():\n",
    "    global_v2 = \"지역 범위입니다.\"\n",
    "    \n",
    "    \n",
    "local_scope2()\n",
    "print(global_v2)\n",
    "# 사실은 전역 범위에서 global_v2를 만들어 할당한 것과 \n",
    "# 로컬 범위에서 global_v2를 만들어 할당한 것 \n",
    "# 두 가지 일을 각각 독립적으로 실행한 결과를 확인 "
   ]
  },
  {
   "cell_type": "code",
   "execution_count": 44,
   "id": "f742b009-3876-4bd4-b99a-f36c3e3bc86c",
   "metadata": {},
   "outputs": [
    {
     "name": "stdout",
     "output_type": "stream",
     "text": [
      "지역 범위에서 변경입니다.\n"
     ]
    }
   ],
   "source": [
    "# 지역 범위에서 전역 변수에 접근 후 재할당\n",
    "global_v3 = \"전역변수입니다.\"\n",
    "\n",
    "def local_scope3():\n",
    "    global global_v3 # 전역 범위에 있는 전역 변수인 global_v3를 사용하겠다.\n",
    "    global_v3 = \"지역 범위에서 변경입니다.\"\n",
    "    \n",
    "    \n",
    "local_scope3()\n",
    "print(global_v3)\n",
    "# global 키워드를 활용하면 지역 범위에 있어도 \n",
    "# 전역 변수에 대한 변경이 가능하도록 할 수 있었다."
   ]
  },
  {
   "cell_type": "code",
   "execution_count": 46,
   "id": "f69806bd-54c0-4d65-ac26-0a6ac3df20b8",
   "metadata": {},
   "outputs": [
    {
     "name": "stdout",
     "output_type": "stream",
     "text": [
      "바깥 지역 범위입니다.\n"
     ]
    },
    {
     "ename": "NameError",
     "evalue": "name 'global_v4' is not defined",
     "output_type": "error",
     "traceback": [
      "\u001b[1;31m---------------------------------------------------------------------------\u001b[0m",
      "\u001b[1;31mNameError\u001b[0m                                 Traceback (most recent call last)",
      "\u001b[1;32m<ipython-input-46-8252a5b640de>\u001b[0m in \u001b[0;36m<module>\u001b[1;34m\u001b[0m\n\u001b[0;32m      9\u001b[0m \u001b[1;33m\u001b[0m\u001b[0m\n\u001b[0;32m     10\u001b[0m \u001b[0mlocal_scope4\u001b[0m\u001b[1;33m(\u001b[0m\u001b[1;33m)\u001b[0m\u001b[1;33m\u001b[0m\u001b[1;33m\u001b[0m\u001b[0m\n\u001b[1;32m---> 11\u001b[1;33m \u001b[0mprint\u001b[0m\u001b[1;33m(\u001b[0m\u001b[0mglobal_v4\u001b[0m\u001b[1;33m)\u001b[0m\u001b[1;33m\u001b[0m\u001b[1;33m\u001b[0m\u001b[0m\n\u001b[0m",
      "\u001b[1;31mNameError\u001b[0m: name 'global_v4' is not defined"
     ]
    }
   ],
   "source": [
    "# 지역 범위안에 지역 범위가 중첩되어 있을 경우\n",
    "# 비교적 바깥에 있는 지역 범위의 지역 변수에 접근하여 출력\n",
    "def local_scope4():\n",
    "    global_v4 = \"바깥 지역 범위입니다.\"\n",
    "    def local_scope5():\n",
    "        print(global_v4) # 바깥 지역 범위의 접근하여 조회, 출력하는 것은 Ok\n",
    "    local_scope5()\n",
    "   \n",
    "    \n",
    "local_scope4()\n",
    "print(global_v4) # 함수안에 있는 것이라 함수 밖에 있으면 실행 범위를 벗어나기 때문에 찾을 수 없다고 나온다 \n",
    "# 지역 범위 안에 있는 지역 변수는 그 함수 실행과 반환 사이 동안만 살아있었다. \n",
    "# 접근 불가, 없음 "
   ]
  },
  {
   "cell_type": "code",
   "execution_count": 49,
   "id": "178fcce7-2789-4955-8185-2b90197def6a",
   "metadata": {},
   "outputs": [
    {
     "name": "stdout",
     "output_type": "stream",
     "text": [
      "바깥 지역 범위입니다.\n"
     ]
    }
   ],
   "source": [
    "# 지역 범위안에 지역 범위가 중첩되어 있을 경우\n",
    "# 비교적 바깥에 있는 지역 범위의 지역 변수에 접근하여 출력\n",
    "def local_scope6():\n",
    "    global_v5 = \"바깥 지역 범위입니다.\" # 더 널은 범위의 로컬 변수로 선언 \n",
    "    def local_scope7():\n",
    "         global_v5 = \"안쪽 지역 범위입니다.\" # 더 좁은 범위의 로컬 변수로 선언\n",
    "    local_scope7()\n",
    "    print(global_v5)\n",
    "   \n",
    "    \n",
    "local_scope6()\n",
    "# 그래서 local_scope6 범위의 global_v5는 \n",
    "# local_scope7 범위의 global_v5와 독립적으로 생성이 된 것을 봤다. "
   ]
  },
  {
   "cell_type": "code",
   "execution_count": 50,
   "id": "77d54d62-09f0-4b35-a95f-16328595aa47",
   "metadata": {},
   "outputs": [
    {
     "name": "stdout",
     "output_type": "stream",
     "text": [
      "안쪽 지역 범위입니다.\n"
     ]
    }
   ],
   "source": [
    "# 지역 범위안에 지역 범위가 중첩되어 있을 경우\n",
    "# 비교적 바깥에 있는 지역 범위의 지역 변수에 접근하여 출력\n",
    "def local_scope8():\n",
    "    global_v6 = \"바깥 지역 범위입니다.\" \n",
    "    def local_scope9():\n",
    "        nonlocal global_v6 # 현 영역(지금의 로컬 영역 바깥의 변수 global_v6를 찾아서 그 변수를 사용하겠다.)\n",
    "        global_v6 = \"안쪽 지역 범위입니다.\"\n",
    "    local_scope9()\n",
    "    print(global_v6)\n",
    "   \n",
    "    \n",
    "local_scope8()"
   ]
  },
  {
   "cell_type": "markdown",
   "id": "ec37b188-cbc4-4a65-a28d-8cbc09c253b6",
   "metadata": {},
   "source": [
    "### **람다(lambda)**\n",
    "호출될 때 값이 구해지는 하나의 표현식이다. 또 이름이 없는 인라인 함수이다\n",
    "\n",
    "```python \n",
    "lambda parameters: expression\n",
    "# parameters: 매개변수 지정 \n",
    "# expression: 반환 값으로 사용할 식\n",
    "\n",
    "def func_name(parameter):\n",
    "    return expression\n",
    "```"
   ]
  },
  {
   "cell_type": "code",
   "execution_count": 52,
   "id": "67b52864-3133-45b5-95aa-3f5afbd1efeb",
   "metadata": {},
   "outputs": [],
   "source": [
    "lambda x : x + 10\n",
    "\n",
    "def lambda_ex(x):\n",
    "    return x + 10"
   ]
  },
  {
   "cell_type": "markdown",
   "id": "9d9bfe76-9d16-44d9-b93f-4d5ea0990759",
   "metadata": {},
   "source": [
    "#### **람다 표현식 호출** \n",
    "람다 표현식 전체를 소괄호로 감싸고 뒤에 함수 호출하듯이 소괄호를 붙인다.   \n",
    "그리고 뒷쪽에 작성한 소괄호 안에 인수를 넣으면 람다 표현식이 바로 호출된다.  \n",
    "```python \n",
    "(lambda parameters: expression)(arguments)\n",
    "```"
   ]
  },
  {
   "cell_type": "code",
   "execution_count": 53,
   "id": "125c37b5-2bfe-4645-a34c-757523aec64d",
   "metadata": {},
   "outputs": [
    {
     "data": {
      "text/plain": [
       "20"
      ]
     },
     "execution_count": 53,
     "metadata": {},
     "output_type": "execute_result"
    }
   ],
   "source": [
    "(lambda x : x + 10)(10)"
   ]
  },
  {
   "cell_type": "markdown",
   "id": "1abdcd23-7252-4c67-abf4-c031cfcada25",
   "metadata": {},
   "source": [
    "람다는 기본적으로 이름 없는 함수이다. 람다로 만든 익명 함수를 호출하려면 변수에 할당해서 사용할 수 있다.   \n",
    "(파이썬에서는 함수는 일급 객체(first-class object))\n",
    "```python \n",
    "variable = lambda parameters: expression\n",
    "variable(argument)\n",
    "```"
   ]
  },
  {
   "cell_type": "code",
   "execution_count": 55,
   "id": "9d3c1dba-2489-4846-95fa-4e680f543b69",
   "metadata": {},
   "outputs": [
    {
     "name": "stdout",
     "output_type": "stream",
     "text": [
      "38\n"
     ]
    }
   ],
   "source": [
    "twice = lambda x : x*2\n",
    "print(twice(19))"
   ]
  },
  {
   "cell_type": "markdown",
   "id": "3a4f48a6-0da4-4e6a-84c1-8b584f287a09",
   "metadata": {},
   "source": [
    "람다의 expression 부분은 변수 없이 식 한 줄로 표현 가능(인라인)해야 한다.   \n",
    "따라서 람다 표현식 안에 새 변수를 만들 수 없다.   \n",
    "변수가 필요한 경우는 **def**를 써서 함수를 정의해서 사용하는 것이 좋다. "
   ]
  },
  {
   "cell_type": "code",
   "execution_count": 56,
   "id": "01fcaf7b-9b38-4146-a84c-06517c26c5dd",
   "metadata": {},
   "outputs": [
    {
     "ename": "SyntaxError",
     "evalue": "invalid syntax (<ipython-input-56-7ef8785b9630>, line 1)",
     "output_type": "error",
     "traceback": [
      "\u001b[1;36m  File \u001b[1;32m\"<ipython-input-56-7ef8785b9630>\"\u001b[1;36m, line \u001b[1;32m1\u001b[0m\n\u001b[1;33m    (lambda x: y = 10; x+y)(1)\u001b[0m\n\u001b[1;37m                 ^\u001b[0m\n\u001b[1;31mSyntaxError\u001b[0m\u001b[1;31m:\u001b[0m invalid syntax\n"
     ]
    }
   ],
   "source": [
    "(lambda x: y = 10; x+y)(1)"
   ]
  },
  {
   "cell_type": "markdown",
   "id": "9eb30197-09ea-4c34-8f12-e9ad742439b0",
   "metadata": {},
   "source": [
    "### **조건 표현식(condition Expression), inline if else**\n",
    "if else 를 한 줄로 작성할 수 있는 방법  \n",
    "lambda에 사용하면 활용도가 아주 좋다.   \n",
    "if만 사용할 수 없다. 반드시 else와 같이 써야 한다.   \n",
    "중첩해서 사용가능   \n",
    "다만 중첩이 너무 많아지면 파악이 어려우니 가독성 좋게 쓰는게 더 좋다.   \n",
    "```python \n",
    "True일 때 값 if 조건식 else False 일 때 값\n",
    "```"
   ]
  },
  {
   "cell_type": "code",
   "execution_count": 57,
   "id": "566065c4-fa06-4a5e-b24e-4e19d73580d4",
   "metadata": {},
   "outputs": [
    {
     "data": {
      "text/plain": [
       "'b'"
      ]
     },
     "execution_count": 57,
     "metadata": {},
     "output_type": "execute_result"
    }
   ],
   "source": [
    "score = 90\n",
    "\"a\" if 90 < score <= 100 else \"b\" if 80 < score else \"c\""
   ]
  },
  {
   "cell_type": "markdown",
   "id": "4dde9d3d-2aaf-42e0-b9f8-d0eaec3b0466",
   "metadata": {},
   "source": [
    "### **람다(lambda) feat. map()**\n",
    "람다와 map() 함수를 같이 쓸 떄 다음과 같이 사용하면 된다.   \n",
    "이때 필요에 따라 parameter와 iterable의 개수를 맞춰서 사용하면 된다.  \n",
    "어느 한 쪽 iterable의 길이가 짧아도 상관없이 동작하며, 길이가 작은 쪽에 맞춰 값을 반환  \n",
    "\n",
    "```python \n",
    "map(lambda parameter1, parameter2, ...: expression, iterable1, iterable2,...)\n",
    "```"
   ]
  },
  {
   "cell_type": "code",
   "execution_count": 59,
   "id": "68830b38-501b-4602-8bd4-654590a0557f",
   "metadata": {},
   "outputs": [
    {
     "name": "stdout",
     "output_type": "stream",
     "text": [
      "[2, 8, 18, 32, 50]\n"
     ]
    }
   ],
   "source": [
    "a = [_ for _ in range(1, 6)] # a -> 1, 2, 3, 4, 5\n",
    "b = [_ for _ in range(2, 11, 2)] # b-> 2, 4, 6, 8, 10\n",
    "\n",
    "print(list(map(lambda x, y: x*y, a, b))) # 1*2, 2*4, 3*6, 4*8, 5*10 "
   ]
  },
  {
   "cell_type": "code",
   "execution_count": 61,
   "id": "02af59e6-434d-463f-bef3-6f00c2cf4968",
   "metadata": {},
   "outputs": [
    {
     "name": "stdout",
     "output_type": "stream",
     "text": [
      "[0, 4, 12, 24, 40]\n"
     ]
    }
   ],
   "source": [
    "a = [_ for _ in range(5)] # a -> 0, 1, 2, 3, 4 \n",
    "b = [_ for _ in range(2, 11, 2)] # b-> 2, 4, 6, 8, 10\n",
    "\n",
    "c = list(map(lambda x, y : x * y , a, b))\n",
    "print(c)"
   ]
  },
  {
   "cell_type": "code",
   "execution_count": 63,
   "id": "62b9366e-390e-4215-a5ee-981080e68a91",
   "metadata": {},
   "outputs": [
    {
     "name": "stdout",
     "output_type": "stream",
     "text": [
      "100\n"
     ]
    }
   ],
   "source": [
    "print((lambda x : x ** 2)(10))"
   ]
  },
  {
   "cell_type": "markdown",
   "id": "4f8037bb-1b87-472b-9e15-03dd1de77f10",
   "metadata": {},
   "source": [
    "#### **람다 feat.filter()**\n",
    "\n",
    "람다와 filter()함수를 같이 쓸 떄 다음과 같이 사용  \n",
    "filter의 첫 인수로 들어가는 함수의 반환값이 True일 때만 해당 요소를 가져온다.   \n",
    "리스트 컴프리헨션으로도 표현가능   \n",
    "(속도와 가독성 모두 리스트 컴프리헨션이 낫다.)\n",
    "```python \n",
    "map(lambda parameter: expression, iterable)\n",
    "```"
   ]
  },
  {
   "cell_type": "code",
   "execution_count": 64,
   "id": "b2655189-fb94-4cd4-913f-37f8cfa466e4",
   "metadata": {},
   "outputs": [
    {
     "data": {
      "text/plain": [
       "[3, 9, 9]"
      ]
     },
     "execution_count": 64,
     "metadata": {},
     "output_type": "execute_result"
    }
   ],
   "source": [
    "a = [3, 2, 8, 22, 10, 7, 0, 11, 9, 9]\n",
    "list(filter(lambda x: x% 3 == 0 and 0 < x < 10 , a))"
   ]
  }
 ],
 "metadata": {
  "kernelspec": {
   "display_name": "Python 3",
   "language": "python",
   "name": "python3"
  },
  "language_info": {
   "codemirror_mode": {
    "name": "ipython",
    "version": 3
   },
   "file_extension": ".py",
   "mimetype": "text/x-python",
   "name": "python",
   "nbconvert_exporter": "python",
   "pygments_lexer": "ipython3",
   "version": "3.8.8"
  }
 },
 "nbformat": 4,
 "nbformat_minor": 5
}
