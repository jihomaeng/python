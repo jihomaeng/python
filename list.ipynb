{
 "cells": [
  {
   "cell_type": "markdown",
   "id": "58f2765b-87a3-4f8e-b949-1198676c0f44",
   "metadata": {},
   "source": [
    "# 2023.01.09\n",
    "## 리스트 \n",
    "### 리스트 생성 방법  \n",
    "#### 대괄호 사용\n",
    "- 리스트는 기본적으로 대괄호 활용 대괄호 안에는 리스틀를 구성할 요소를 ,,,\n"
   ]
  },
  {
   "cell_type": "markdown",
   "id": "43e54b9c-211a-49ae-a54a-6dbb744d4eef",
   "metadata": {},
   "source": [
    "#### 빈 리스트 \n",
    "비어있는 리스트 만들 때 대괄호만 쓰면 비어있는 리스트 만들 수 있다."
   ]
  },
  {
   "cell_type": "markdown",
   "id": "4e234a6f-4211-417e-8cfb-f177dc9dc25e",
   "metadata": {},
   "source": [
    "#### 문자열.split()  \n",
    "리스트는 반복적인 객체인 iterable을 인자로 하는 list()함수를 통해 생성 가능   \n",
    "아래 코드에서는 사용자로부터 입력받고(input()), 받은 문자열을 공백을 구분자(split())로 나눠 여러 문자열을 갖는 리스트 만듦"
   ]
  },
  {
   "cell_type": "markdown",
   "id": "7aaf9e7b-91b0-450b-98c1-e8242f6cfa74",
   "metadata": {},
   "source": [
    "#### list(iterable)\n"
   ]
  },
  {
   "cell_type": "code",
   "execution_count": 2,
   "id": "6d4750cf-573b-4435-92bc-51add2179a32",
   "metadata": {},
   "outputs": [
    {
     "name": "stdin",
     "output_type": "stream",
     "text": [
      "숫자를 띄어쓰기로 구분하여 여럿 입력 1 2 3\n"
     ]
    },
    {
     "name": "stdout",
     "output_type": "stream",
     "text": [
      "[1, 2, 3]\n"
     ]
    }
   ],
   "source": [
    "list_b = list(map(int, input(\"숫자를 띄어쓰기로 구분하여 여럿 입력\").split()))\n",
    "print(list_b)"
   ]
  },
  {
   "cell_type": "markdown",
   "id": "7f79d992-43a7-4b72-8782-0857433fe303",
   "metadata": {},
   "source": [
    "### 리스트 컴프리헨션(comprehension)\n",
    "- 대괄호 안에 표현식과 for문 작성하여 사용 가능 "
   ]
  },
  {
   "cell_type": "markdown",
   "id": "b6c54c09-a39b-47f8-995a-6b7b3b4ca316",
   "metadata": {},
   "source": [
    "``` python \n",
    "list_variable = [expression for 변수 in iterable]\n",
    "```"
   ]
  },
  {
   "cell_type": "markdown",
   "id": "02b42c4d-d59f-4599-9934-2391e4994753",
   "metadata": {},
   "source": [
    "#### **리스트 컴프리헨션의 동작 순서**\n",
    "1. 반복가능한 객체(iterable)로부터 값을 하나 꺼내와서 변수에 담기\n",
    "2. 요소를 담은 변수를 활욯해 표현식(comprehension) 실행  \n",
    "   (이때 변수는 활용할 수도 활용하지 않을 수도 있다.)\n",
    "3. 표현식 결과 값을 리스트 요소에 넣기\n",
    "4. 반복가능한 객체(iterable)로부터 값이 없을 때까지 1~3 과정을 반복"
   ]
  },
  {
   "cell_type": "code",
   "execution_count": 6,
   "id": "f8360b8f-96f2-4c32-a23a-445bc24c2a75",
   "metadata": {},
   "outputs": [
    {
     "name": "stdout",
     "output_type": "stream",
     "text": [
      "[1, 4, 9, 16, 25, 36, 49, 64, 81]\n"
     ]
    }
   ],
   "source": [
    "# range --> 0, 1, 2, ... 9\n",
    "# _ --> _ = 0, 1, 2, ... 9\n",
    "list_a = [_ ** 2 for _ in range(1, 10)]\n",
    "print(list_a)"
   ]
  },
  {
   "cell_type": "code",
   "execution_count": 11,
   "id": "b5769f9d-f49d-49f8-84e3-65498f406f42",
   "metadata": {},
   "outputs": [
    {
     "name": "stdout",
     "output_type": "stream",
     "text": [
      "Hello world\n",
      "Hello world\n",
      "Hello world\n",
      "Hello world\n",
      "Hello world\n",
      "Hello world\n",
      "Hello world\n",
      "Hello world\n",
      "Hello world\n",
      "Hello world\n"
     ]
    }
   ],
   "source": [
    "# 단순하게 반복시키는 일도 가능\n",
    "list_b = [print(\"Hello world\") for _ in range(10)]"
   ]
  },
  {
   "cell_type": "code",
   "execution_count": 14,
   "id": "4bea5d88-039a-454d-840d-9d86c12cc8f8",
   "metadata": {},
   "outputs": [
    {
     "data": {
      "text/plain": [
       "[None, None, None, None, None, None, None, None, None, None]"
      ]
     },
     "execution_count": 14,
     "metadata": {},
     "output_type": "execute_result"
    }
   ],
   "source": [
    "#print문은 반환 값이 없어 소용이 없다\n",
    "list_b"
   ]
  },
  {
   "cell_type": "markdown",
   "id": "83fa2b1c-b61e-4028-928b-9d43d31a925e",
   "metadata": {},
   "source": [
    "아래의 과정을 간편하게 만들기 위해서 만든 것이 list comprehension "
   ]
  },
  {
   "cell_type": "code",
   "execution_count": 18,
   "id": "68203809-4503-49ad-88c3-f1c090cc5a1b",
   "metadata": {},
   "outputs": [
    {
     "name": "stdout",
     "output_type": "stream",
     "text": [
      "[1, 4, 9, 16, 25, 36, 49, 64, 81]\n"
     ]
    }
   ],
   "source": [
    "list_c = []\n",
    "for _ in range(1, 10):\n",
    "    list_c.append(_ ** 2)\n",
    "print(list_c)"
   ]
  },
  {
   "cell_type": "code",
   "execution_count": 20,
   "id": "ed76fab1-85e6-40ed-a0af-4c4061cccb3a",
   "metadata": {},
   "outputs": [
    {
     "name": "stdout",
     "output_type": "stream",
     "text": [
      "[1, 2, 3, 4, 5, 6, 7, 8, 9]\n"
     ]
    }
   ],
   "source": [
    "# 아래 코드에서는 표현식에 별도의 연산이 이루어지고 있지 않다\n",
    "list_d = [_ for _ in range(1, 10)]\n",
    "print(list_d)"
   ]
  },
  {
   "cell_type": "code",
   "execution_count": 1,
   "id": "47dc19b2-2dde-404f-b092-4d6f0efef364",
   "metadata": {},
   "outputs": [],
   "source": [
    "prac_result2 = [_ for _ in range(1, 10, 2)]"
   ]
  },
  {
   "cell_type": "code",
   "execution_count": 4,
   "id": "75f063d4-eb8e-4f0b-b266-577020304fc2",
   "metadata": {},
   "outputs": [
    {
     "name": "stdout",
     "output_type": "stream",
     "text": [
      "[1, 3, 5, 7, 9]\n"
     ]
    }
   ],
   "source": [
    "print(prac_result2)"
   ]
  },
  {
   "cell_type": "code",
   "execution_count": 5,
   "id": "5cf79974-52ec-4986-89ef-ab71a968cb7a",
   "metadata": {},
   "outputs": [
    {
     "name": "stdout",
     "output_type": "stream",
     "text": [
      "[1, 3, 5, 7, 9]\n"
     ]
    }
   ],
   "source": [
    "prac_result3 = [i for i in range(1, 10) if i % 2 == 1]\n",
    "print(prac_result3)"
   ]
  },
  {
   "cell_type": "markdown",
   "id": "80eb9536-ef88-4bac-a3be-55c3cba1b020",
   "metadata": {},
   "source": [
    "### 객체를 담는 변수의 특징\n",
    "\n",
    "앞의 예제에서 prac_result4 변수를 반복해서 prac_result5 요소로 담아 리스트로 만들었다.   \n",
    "이때 prac_result5의 요소들은 어떤 특징을 가지고 있을까?  \n",
    "아래의 코드처럼 prac_result4의 0번째 요소인 '2'의 값을 바꾸고 "
   ]
  },
  {
   "cell_type": "code",
   "execution_count": 7,
   "id": "473441be-34d6-4722-90d3-30b690e1c844",
   "metadata": {},
   "outputs": [
    {
     "name": "stdout",
     "output_type": "stream",
     "text": [
      "['2', '3', '4', '5', '6', '7', '8', '9', '10', 'J', 'Q', 'K', 'A']\n",
      "[['2', '3', '4', '5', '6', '7', '8', '9', '10', 'J', 'Q', 'K', 'A'], ['2', '3', '4', '5', '6', '7', '8', '9', '10', 'J', 'Q', 'K', 'A'], ['2', '3', '4', '5', '6', '7', '8', '9', '10', 'J', 'Q', 'K', 'A'], ['2', '3', '4', '5', '6', '7', '8', '9', '10', 'J', 'Q', 'K', 'A']]\n"
     ]
    }
   ],
   "source": [
    "card = 'JQKA'\n",
    "#리스트 합치기 -> [] + []\n",
    "prac_result4 = [str(i) for i in range(2, 11)] + [_ for _ in card]\n",
    "print(prac_result4)\n",
    "prac_result5 = [prac_result4 for i in range(4)]\n",
    "print(prac_result5)"
   ]
  },
  {
   "cell_type": "code",
   "execution_count": 9,
   "id": "c70051a1-6025-4755-b4fc-3717e7e91848",
   "metadata": {},
   "outputs": [
    {
     "name": "stdout",
     "output_type": "stream",
     "text": [
      "['two', '3', '4', '5', '6', '7', '8', '9', '10', 'J', 'Q', 'K', 'A']\n"
     ]
    }
   ],
   "source": [
    "prac_result4[0] = \"two\"\n",
    "print(prac_result4)"
   ]
  },
  {
   "cell_type": "code",
   "execution_count": 13,
   "id": "4d264455-84fd-4c4d-b4dc-ca6664c579c9",
   "metadata": {},
   "outputs": [
    {
     "name": "stdout",
     "output_type": "stream",
     "text": [
      "[['two', '3', '4', '5', '6', '7', '8', '9', '10', 'J', 'Q', 'K', 'A'], ['two', '3', '4', '5', '6', '7', '8', '9', '10', 'J', 'Q', 'K', 'A'], ['two', '3', '4', '5', '6', '7', '8', '9', '10', 'J', 'Q', 'K', 'A'], ['two', '3', '4', '5', '6', '7', '8', '9', '10', 'J', 'Q', 'K', 'A']]\n"
     ]
    }
   ],
   "source": [
    "#메모리엔 고유한 주소가 있어서 주소값을 찾아갈 수 있기 때문에 주소를 찾아가면 동일한 객체를 바라보고 있어 같은 주소를 가지고 있는 값 전체가 바뀌는 것이다.\n",
    "print(prac_result5)"
   ]
  },
  {
   "cell_type": "markdown",
   "id": "26907661-0adc-40fa-bbf1-2ddba96aaf06",
   "metadata": {},
   "source": [
    "prac_result4 변수에 담긴 객체 위치를 prac_result5의 리스트 요소 값으로 복사한 것이라고 볼 수 있다.   \n",
    "즉, prac_result5의 모든 요소가 prac_result4 변수가 갖고 있던 메모리상 객체의 위치 복사했다고 볼 수 있다.   \n",
    "메모리는 고유한 주소를 가지고 있다. "
   ]
  },
  {
   "cell_type": "markdown",
   "id": "2bee5fd7-97fe-4d3d-8523-65942c4a0e86",
   "metadata": {},
   "source": [
    "#### **id() 내장 함수**\n",
    "- 객체마다 구분할 수 있는 고유한 정수값을 가짐.  \n",
    "- 그걸 조회하는게 id()내장함수  \n",
    "- id()로 가져온 정수값이 같다면 같은 객체라는 의미   \n",
    "- prac_result4와 prac_result5를 구성하는 모든 요소들의 id()반환값이 같다.   \n",
    "- 즉 변수와 모든 요소들이 같은 메모리상의 객체를 바라본다는 의미"
   ]
  },
  {
   "cell_type": "code",
   "execution_count": 14,
   "id": "63119222-c66e-41f5-b676-c73369e79fb9",
   "metadata": {},
   "outputs": [
    {
     "name": "stdout",
     "output_type": "stream",
     "text": [
      "prac_result4의 id 3018037881408\n",
      "prac_result5[0]:3018037881408\n",
      "prac_result5[1]:3018037881408\n",
      "prac_result5[2]:3018037881408\n",
      "prac_result5[3]:3018037881408\n"
     ]
    }
   ],
   "source": [
    "print(\"prac_result4의 id\", id(prac_result4))\n",
    "\n",
    "for i, v in enumerate(prac_result5):\n",
    "    print(\"prac_result5[\", i, \"]:\", id(v), sep = \"\")"
   ]
  },
  {
   "cell_type": "markdown",
   "id": "248f090f-2d5c-4a25-a560-dc2823bef9ea",
   "metadata": {},
   "source": [
    "#### **기존 리스트의 전체 범위의 슬라이싱 결과는 새로운 객체**\n",
    "리스트 변수명으로 전체를 동일하게 가져오는, 즉 슬라이싱으로 반환받는 리스트 객체는 관연 같은 객체일까?\n",
    "\n",
    "- 아래 코드를 보면 prac_result4[:] 를 prac_result6의 각 요소로 4개를 넣음  \n",
    "  이렇게 넣었을 때는 id()값이 각기 상이한 것을 확인할 수 있다. "
   ]
  },
  {
   "cell_type": "code",
   "execution_count": 15,
   "id": "4c76b568-6de6-4509-9b2d-a4b1ee9392f5",
   "metadata": {},
   "outputs": [
    {
     "name": "stdout",
     "output_type": "stream",
     "text": [
      "prac_result4의 id 3018037881408\n",
      "prac_result6[0]:3018038151104\n",
      "prac_result6[1]:3018038150528\n",
      "prac_result6[2]:3018038138624\n",
      "prac_result6[3]:3018038140352\n"
     ]
    }
   ],
   "source": [
    "prac_result6 = [prac_result4[:] for i in range(4)]\n",
    "\n",
    "print(\"prac_result4의 id\", id(prac_result4))\n",
    "\n",
    "for i, v in enumerate(prac_result6):\n",
    "    print(\"prac_result6[\", i, \"]:\", id(v), sep = \"\")"
   ]
  },
  {
   "cell_type": "markdown",
   "id": "e1db3dcc-6e85-470f-b8a5-847f64f04529",
   "metadata": {},
   "source": [
    "#### 리스트 전체 범위 slicing을 통한 리스트 복사 \n",
    "리스트 객체를 슬라이싱을 통해 리스트 전체 범위를 반환받았을 때 그 리스트는 원래의 리스트와 같은 객체일까?  \n",
    "아니다! 리스트의 슬라이싱의 결과는 새로운 객체를 복사한 결과를 반환\n",
    "```python \n",
    "리스트[:] -> \n",
    "```"
   ]
  },
  {
   "cell_type": "code",
   "execution_count": 17,
   "id": "876f221d-b84c-43f3-bf57-723d392971ba",
   "metadata": {},
   "outputs": [
    {
     "name": "stdout",
     "output_type": "stream",
     "text": [
      "[1, 2, 3, 4, 5, 6, 7, 8, 9, 10, 11, 12, 13, 14, 15, 16, 17, 18, 19, 20, 21, 22, 23, 24, 25, 26, 27, 28, 29, 30, 31, 32, 33, 34, 35, 36, 37, 38, 39, 40, 41, 42, 43, 44, 45]\n"
     ]
    }
   ],
   "source": [
    "list_sample = [_ for _ in range(1, 46)]\n",
    "print(list_sample)"
   ]
  },
  {
   "cell_type": "code",
   "execution_count": 18,
   "id": "38762575-ae67-42b1-99a8-617c684c9849",
   "metadata": {},
   "outputs": [
    {
     "name": "stdout",
     "output_type": "stream",
     "text": [
      "[1, 2, 3, 4, 5, 6, 7, 8, 9, 10, 11, 12, 13, 14, 15, 16, 17, 18, 19, 20, 21, 22, 23, 24, 25, 26, 27, 28, 29, 30, 31, 32, 33, 34, 35, 36, 37, 38, 39, 40, 41, 42, 43, 44, 45]\n"
     ]
    }
   ],
   "source": [
    "#range(시작, 끝, 증감)\n",
    "#시퀀스바료형변쉐[시작:끝:증감]\n",
    "#시작 생략 = 시작부터 끝 생략 = 마지막까지 증감 +=1\n",
    "print(list_sample[:])"
   ]
  },
  {
   "cell_type": "code",
   "execution_count": 19,
   "id": "5bc0f095-46bc-415d-9fb1-54515f5f2ad3",
   "metadata": {},
   "outputs": [
    {
     "name": "stdout",
     "output_type": "stream",
     "text": [
      "3018039074224\n",
      "3018039074224\n"
     ]
    }
   ],
   "source": [
    "#파이썬 내에서 슬라이싱으로 복사를 하여 주소값이 다른 것은 리스트 뿐이다\n",
    "#리스트 슬라이싱은 얕은 복사가 된다. \n",
    "str_sample = 'This is str'\n",
    "str2 = str_sample[:]\n",
    "print(id(str_sample))\n",
    "print(id(str2))"
   ]
  },
  {
   "cell_type": "markdown",
   "id": "eaecd6c1-2827-4d65-aef0-8aa4b0b19997",
   "metadata": {},
   "source": [
    "#### **is와 == 연산자 비교**\n",
    "is 통해 type 비교 가능   \n",
    "is 가 하는 일은 메모리상에서도 동일한 객체인지 비교하는 연산자.   \n",
    "== 가 하는 일은 객체 메모리상의 주소와 관계 없이 객체가 가지고 있는 고유 값이 같으면 True, 고유값이 다르면 False를 반환 \n"
   ]
  },
  {
   "cell_type": "markdown",
   "id": "49d386b6-8443-446c-a6f1-b0a51b1cb0a0",
   "metadata": {},
   "source": [
    "#### **(참고)** tuple과 str은 is연산자와 결과가 다를 수 있다. \n",
    "문자열 튜플의 경우에는 불변(immutable)의 특징을 가짐   \n",
    "따라서 요소가 동일하다면 재사용해도 문제될 것이 없다.   \n",
    "그래서 효율을 위해서 동일하게 복사하기도 한다. "
   ]
  },
  {
   "cell_type": "code",
   "execution_count": 20,
   "id": "daa4601b-6bdf-4834-909f-e08aa3a5d850",
   "metadata": {},
   "outputs": [
    {
     "name": "stdout",
     "output_type": "stream",
     "text": [
      "3018039088624\n",
      "3018039088624\n"
     ]
    }
   ],
   "source": [
    "str_a = 'hello'\n",
    "str_b = 'hello'\n",
    "\n",
    "print(id(str_a))\n",
    "print(id(str_b))"
   ]
  },
  {
   "cell_type": "markdown",
   "id": "afa53d53-a178-43a2-b9b9-4f2506f826a9",
   "metadata": {},
   "source": [
    "#### **(참고)** java에서는 반대 \n",
    "객체지향 언어인 java에서는 equals()라는 메서드가 대상 자체의 값을 비교   \n",
    "== 는 java에서도 같은 비교 연산자가 맞지만 **메모리주소를 비교** 한다.   \n",
    "즉, 파이썬의 결과와는 대조되는 결과가 나온다."
   ]
  },
  {
   "cell_type": "markdown",
   "id": "02d83f1e-de25-45be-b340-f909c48b8ca7",
   "metadata": {},
   "source": [
    "#### **리스트 컴프리헨션** \n",
    "- 리스트 컴프리헨션의 다른 방식  \n",
    "  대괄호 대신 list() 함수를 사용  \n",
    "  동작순서는 대괄호 방식과 동일 "
   ]
  },
  {
   "cell_type": "code",
   "execution_count": 21,
   "id": "338b0dd4-c61e-49db-b081-30a2bb903ad5",
   "metadata": {},
   "outputs": [
    {
     "name": "stdout",
     "output_type": "stream",
     "text": [
      "[0, 1, 8, 27, 64, 125, 216, 343, 512, 729]\n"
     ]
    }
   ],
   "source": [
    "list_d = (list(i**3 for i in range(10)))\n",
    "print(list_d)"
   ]
  },
  {
   "cell_type": "markdown",
   "id": "07d1bf58-10b5-4197-9e61-26a6c702b6b0",
   "metadata": {},
   "source": [
    "- 둘 중에 성능도 대괄호 방식이 더 좋다.  \n",
    "  list()방식은 c언어 스타일이기에 대괄호를 활용한 리스트 컴프리헨션이 여러모로 파이썬다운 코드이다.  "
   ]
  },
  {
   "cell_type": "code",
   "execution_count": 22,
   "id": "d4e78fe5-b6d7-4710-99eb-f9aca9e90dee",
   "metadata": {},
   "outputs": [
    {
     "name": "stdout",
     "output_type": "stream",
     "text": [
      "0.05881166458129883\n"
     ]
    }
   ],
   "source": [
    "import time\n",
    "curr = time.time()\n",
    "\n",
    "for _ in range(1000):\n",
    "    [i for i in range(1000)]\n",
    "    \n",
    "last = time.time()\n",
    "print(last - curr)\n"
   ]
  },
  {
   "cell_type": "code",
   "execution_count": 23,
   "id": "f7966863-66e4-4db0-bab2-3866a48445df",
   "metadata": {},
   "outputs": [
    {
     "name": "stdout",
     "output_type": "stream",
     "text": [
      "0.1246647834777832\n"
     ]
    }
   ],
   "source": [
    "import time\n",
    "curr = time.time()\n",
    "\n",
    "for _ in range(1000):\n",
    "    list((i for i in range(1000)))\n",
    "    \n",
    "last = time.time()\n",
    "print(last - curr)"
   ]
  },
  {
   "cell_type": "markdown",
   "id": "390471ec-1f1e-4e3c-9ef3-1e355e894bd1",
   "metadata": {},
   "source": [
    "#### **리스트 변수를 할당해서 복사하는 경우**\n",
    "리스트 객체를 담고 있는 변수는 메모리 주소 정보를 담고 있다.   \n",
    "그리고 그 변수를 다른 변수에 대입하면 메모리주소 정보를 복사   \n",
    "즉 그 두 변수는 동일한 객체를 바라보게 된다.   \n",
    "\n",
    "리스트 변수를 다른 변수에 할당해서 복사한 경우 객체가 아예 같다고 나오는 것을 확인할 수 있다. 아래 is 연산자의 결과가 True로 나온다.  \n",
    "따라서 list_e[0]의 값을 바꿔도 list_f[0]의 값도 변경되는 것을 확인할 수 있다. "
   ]
  },
  {
   "cell_type": "markdown",
   "id": "df21d0c3-bbf0-49f4-9742-7482bca16274",
   "metadata": {},
   "source": [
    "#### 리스트 복사 (copy() 메서드)\n",
    "리스트.copy() 메서드는 리스트 객체를 새롭게 복사\n",
    "이 반환 값은 새로운 객체가 된다  "
   ]
  },
  {
   "cell_type": "code",
   "execution_count": 6,
   "id": "7eabdfbb-64a7-4a0a-b530-0d3611be735d",
   "metadata": {},
   "outputs": [
    {
     "name": "stdout",
     "output_type": "stream",
     "text": [
      "1803093709632\n",
      "1803092585280\n",
      "False\n"
     ]
    }
   ],
   "source": [
    "list_g = list(range(10))\n",
    "list_h = list_g.copy()\n",
    "print(id(list_g))\n",
    "print(id(list_h))\n",
    "print(list_g is list_h)"
   ]
  },
  {
   "cell_type": "markdown",
   "id": "12b8cbee-c335-4737-aa41-54466125d075",
   "metadata": {},
   "source": [
    "list_g[0]의 요소 변경 \n",
    "list_h를 동시에 조회해봤을 때 영향이 없는 걸 아래 예제에서 확인가능  \n",
    "즉 copy()는 리스트를 슬라이싱 한 것과 같이 객체 자체를 새로운 메모리 공간에 복사"
   ]
  },
  {
   "cell_type": "markdown",
   "id": "24c2acef-eb81-4164-bb9d-222c2a3dd3c1",
   "metadata": {},
   "source": [
    "### 얕은 복사(Shallow copy)\n",
    "리스트 내에 있는 값을 그대로 복사\n",
    "리스트 요소 중 메모리 주소를 담고 있는 참조 변수가 있으면 객체 주소만 복사  \n",
    "리스트에 (\\*)를 사용하면 얕은 복사가 됩니다.  \n",
    "list_i[0]과 list_i[1]과 list_i[2] 모두 같은 객체를 바라보는 요소를 갖는다.  "
   ]
  },
  {
   "cell_type": "code",
   "execution_count": 1,
   "id": "5e9c8d91-d7db-4b10-964b-877f8617a946",
   "metadata": {},
   "outputs": [
    {
     "name": "stdout",
     "output_type": "stream",
     "text": [
      "[[0], [0], [0]]\n"
     ]
    }
   ],
   "source": [
    "list_i = [[0]] * 3 \n",
    "print(list_i)"
   ]
  },
  {
   "cell_type": "code",
   "execution_count": 3,
   "id": "3e9d792d-b762-4dc2-9859-dbd9db3168dd",
   "metadata": {},
   "outputs": [
    {
     "name": "stdout",
     "output_type": "stream",
     "text": [
      "[[999], [999], [999]]\n"
     ]
    }
   ],
   "source": [
    "list_i[0][0] = 999\n",
    "print(list_i) #같은 객체를 3개의 요소에 담고 있다. "
   ]
  },
  {
   "cell_type": "markdown",
   "id": "edc8dbed-cb09-4060-b44d-3422b834089f",
   "metadata": {},
   "source": [
    "그래서 단 하나의 요소만 바꿨을 뿐인데 모든 요소의 값이 변경된 것을 알 수 있다. 요소가 객체로 되어있으면 메모리 주소만 복사하는 것을 얕은 복사라고 한다. "
   ]
  },
  {
   "cell_type": "markdown",
   "id": "12636018-165e-47c6-9bd4-71f91d7d8b50",
   "metadata": {},
   "source": [
    "슬라이싱과 copy() 모두 얕은 복사에 해당한다 "
   ]
  },
  {
   "cell_type": "markdown",
   "id": "02aad5ff-76b0-4f7a-8d43-06e6157a0fa8",
   "metadata": {},
   "source": [
    "### 깊은복사(deep copy)\n",
    "리스트 내 요소가 메모리 주소를 담고 있는 객체더라도 객체를 완전하게 깊이에 상관없이 다 새롭게 복사해 만든다.   \n",
    "전혀 다른 메모리 공간을 차지하는 완전한 리스트로 복사   \n",
    "두 리스트간에 값은 같으나(==) 객체는 완전히 다르다.  "
   ]
  },
  {
   "cell_type": "code",
   "execution_count": 4,
   "id": "a0ebe76f-f79e-4e36-9906-3b9ac84cb740",
   "metadata": {},
   "outputs": [],
   "source": [
    "import copy \n",
    "list_n = [[9,10], [11, 12]]\n",
    "list_o = copy.deepcopy(list_n)"
   ]
  },
  {
   "cell_type": "markdown",
   "id": "4655cdff-43ce-47fa-a607-476364596bcb",
   "metadata": {},
   "source": [
    "### **리스트 컴프리헨션** \n",
    "for문과 if문이 동시에 있는 리스트 컴프리헨션 동작 순서\n",
    "1. 반복가능한 객체 (iterable)로부터 값을 하나 꺼내와서 조건식에 넣는다. \n",
    "2. 조건식이 True이면 변수를 활용해서 표현식(expression)을 실행 \n",
    "   (이때 변수는 활용할수도 활용하지 않을수도 있다.)\n",
    "3. 조건식이 False이면 1부터 다시 시작\n",
    "4. 표현식 결과 값을 리스트 요소에 넣는다 .\n",
    "5. 반복가능한 객체(iterable)로부터 값이 없을 때까지 1~3과정을 반복\n",
    "\n",
    "``` python \n",
    "list_variable = [expression for 변수 in iterable if 조건식]\n",
    "```\n"
   ]
  },
  {
   "cell_type": "markdown",
   "id": "081ec167-471f-41a8-a2d9-28e82ed4cf76",
   "metadata": {},
   "source": [
    "### **for문과 if문이 동시에 있는 경우** "
   ]
  },
  {
   "cell_type": "markdown",
   "id": "6aa63f8e-f640-4303-85b2-deab3a2eb044",
   "metadata": {},
   "source": [
    "```python \n",
    "[expression for 변수 in iterable\n",
    "            for 변수 in iterable\n",
    "            for 변수 in iterable]\n",
    "```\n",
    "    "
   ]
  },
  {
   "cell_type": "markdown",
   "id": "cbdf2b86-75c8-4f4b-acfa-b57e701957a6",
   "metadata": {},
   "source": [
    "튜플 메서드는 index와 count만 사용가능 "
   ]
  },
  {
   "cell_type": "markdown",
   "id": "8a472997-39ff-49c8-bbf4-7756ca3c02e2",
   "metadata": {},
   "source": [
    "## random 라이브러리 \n",
    "임의의 수를 생성할 때 사용하는 표준 라이브러리   \n",
    "표준 라이브러리는 파이썬에 기본으로 설치된 모듈과 패키지, 내장 함수를 묶어서 파있너 표준 라이브러리라고 한다.   \n",
    "random.randint(시작정수, 끝 정수) 함수를 활용하면 시장적수(포함)부터 끝정수(포함)까지의 난수를 생성가능   "
   ]
  },
  {
   "cell_type": "code",
   "execution_count": 4,
   "id": "b2ae4ae9-743e-4237-810e-ab3f93c1f574",
   "metadata": {},
   "outputs": [
    {
     "name": "stdout",
     "output_type": "stream",
     "text": [
      "[2, 2, 1, 2, 2, 1, 2, 1, 2, 2]\n"
     ]
    }
   ],
   "source": [
    "import random \n",
    "random_list = [random.randint(1, 2)  for _ in range(10)]\n",
    "print(random_list)"
   ]
  },
  {
   "cell_type": "markdown",
   "id": "8eb0fa5d-c50d-49ba-a227-d634fcde3d7d",
   "metadata": {},
   "source": [
    "제너레이터 컴프리헨션"
   ]
  }
 ],
 "metadata": {
  "kernelspec": {
   "display_name": "Python 3",
   "language": "python",
   "name": "python3"
  },
  "language_info": {
   "codemirror_mode": {
    "name": "ipython",
    "version": 3
   },
   "file_extension": ".py",
   "mimetype": "text/x-python",
   "name": "python",
   "nbconvert_exporter": "python",
   "pygments_lexer": "ipython3",
   "version": "3.8.8"
  }
 },
 "nbformat": 4,
 "nbformat_minor": 5
}
