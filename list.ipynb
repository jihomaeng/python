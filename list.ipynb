{
 "cells": [
  {
   "cell_type": "markdown",
   "id": "58f2765b-87a3-4f8e-b949-1198676c0f44",
   "metadata": {},
   "source": [
    "# 2023.01.09\n",
    "## 리스트 \n",
    "### 리스트 생성 방법  \n",
    "#### 대괄호 사용\n",
    "- 리스트는 기본적으로 대괄호 활용 대괄호 안에는 리스틀를 구성할 요소를 ,,,\n"
   ]
  },
  {
   "cell_type": "markdown",
   "id": "43e54b9c-211a-49ae-a54a-6dbb744d4eef",
   "metadata": {},
   "source": [
    "#### 빈 리스트 \n",
    "비어있는 리스트 만들 때 대괄호만 쓰면 비어있는 리스트 만들 수 있다."
   ]
  },
  {
   "cell_type": "markdown",
   "id": "4e234a6f-4211-417e-8cfb-f177dc9dc25e",
   "metadata": {},
   "source": [
    "#### 문자열.split()  \n",
    "리스트는 반복적인 객체인 iterable을 인자로 하는 list()함수를 통해 생성 가능   \n",
    "아래 코드에서는 사용자로부터 입력받고(input()), 받은 문자열을 공백을 구분자(split())로 나눠 여러 문자열을 갖는 리스트 만듦"
   ]
  },
  {
   "cell_type": "markdown",
   "id": "7aaf9e7b-91b0-450b-98c1-e8242f6cfa74",
   "metadata": {},
   "source": [
    "#### list(iterable)\n"
   ]
  },
  {
   "cell_type": "code",
   "execution_count": 2,
   "id": "6d4750cf-573b-4435-92bc-51add2179a32",
   "metadata": {},
   "outputs": [
    {
     "name": "stdin",
     "output_type": "stream",
     "text": [
      "숫자를 띄어쓰기로 구분하여 여럿 입력 1 2 3\n"
     ]
    },
    {
     "name": "stdout",
     "output_type": "stream",
     "text": [
      "[1, 2, 3]\n"
     ]
    }
   ],
   "source": [
    "list_b = list(map(int, input(\"숫자를 띄어쓰기로 구분하여 여럿 입력\").split()))\n",
    "print(list_b)"
   ]
  },
  {
   "cell_type": "markdown",
   "id": "7f79d992-43a7-4b72-8782-0857433fe303",
   "metadata": {},
   "source": [
    "### 리스트 컴프리헨션(comprehension)\n",
    "- 대괄호 안에 표현식과 for문 작성하여 사용 가능 "
   ]
  },
  {
   "cell_type": "markdown",
   "id": "b6c54c09-a39b-47f8-995a-6b7b3b4ca316",
   "metadata": {},
   "source": [
    "``` python \n",
    "list_variable = [expression for 변수 in iterable]\n",
    "```"
   ]
  },
  {
   "cell_type": "markdown",
   "id": "02b42c4d-d59f-4599-9934-2391e4994753",
   "metadata": {},
   "source": [
    "#### **리스트 컴프리헨션의 동작 순서**\n",
    "1. 반복가능한 객체(iterable)로부터 값을 하나 꺼내와서 변수에 담기\n",
    "2. 요소를 담은 변수를 활욯해 표현식(comprehension) 실행\n",
    "3. 표현식 결과 값을 리스트 요소에 넣기\n",
    "4. 반복가능한 객체(iterable)로부터 값이 없을 때까지 1~3 과정을 반복"
   ]
  },
  {
   "cell_type": "code",
   "execution_count": 6,
   "id": "f8360b8f-96f2-4c32-a23a-445bc24c2a75",
   "metadata": {},
   "outputs": [
    {
     "name": "stdout",
     "output_type": "stream",
     "text": [
      "[1, 4, 9, 16, 25, 36, 49, 64, 81]\n"
     ]
    }
   ],
   "source": [
    "# range --> 0, 1, 2, ... 9\n",
    "# _ --> _ = 0, 1, 2, ... 9\n",
    "list_a = [_ ** 2 for _ in range(1, 10)]\n",
    "print(list_a)"
   ]
  },
  {
   "cell_type": "code",
   "execution_count": 11,
   "id": "b5769f9d-f49d-49f8-84e3-65498f406f42",
   "metadata": {},
   "outputs": [
    {
     "name": "stdout",
     "output_type": "stream",
     "text": [
      "Hello world\n",
      "Hello world\n",
      "Hello world\n",
      "Hello world\n",
      "Hello world\n",
      "Hello world\n",
      "Hello world\n",
      "Hello world\n",
      "Hello world\n",
      "Hello world\n"
     ]
    }
   ],
   "source": [
    "# 단순하게 반복시키는 일도 가능\n",
    "list_b = [print(\"Hello world\") for _ in range(10)]"
   ]
  },
  {
   "cell_type": "code",
   "execution_count": 14,
   "id": "4bea5d88-039a-454d-840d-9d86c12cc8f8",
   "metadata": {},
   "outputs": [
    {
     "data": {
      "text/plain": [
       "[None, None, None, None, None, None, None, None, None, None]"
      ]
     },
     "execution_count": 14,
     "metadata": {},
     "output_type": "execute_result"
    }
   ],
   "source": [
    "#print문은 반환 값이 없어 소용이 없다\n",
    "list_b"
   ]
  },
  {
   "cell_type": "markdown",
   "id": "83fa2b1c-b61e-4028-928b-9d43d31a925e",
   "metadata": {},
   "source": [
    "아래의 과정을 간편하게 만들기 위해서 만든 것이 list comprehension "
   ]
  },
  {
   "cell_type": "code",
   "execution_count": 18,
   "id": "68203809-4503-49ad-88c3-f1c090cc5a1b",
   "metadata": {},
   "outputs": [
    {
     "name": "stdout",
     "output_type": "stream",
     "text": [
      "[1, 4, 9, 16, 25, 36, 49, 64, 81]\n"
     ]
    }
   ],
   "source": [
    "list_c = []\n",
    "for _ in range(1, 10):\n",
    "    list_c.append(_**2)\n",
    "print(list_c)"
   ]
  },
  {
   "cell_type": "code",
   "execution_count": 20,
   "id": "ed76fab1-85e6-40ed-a0af-4c4061cccb3a",
   "metadata": {},
   "outputs": [
    {
     "name": "stdout",
     "output_type": "stream",
     "text": [
      "[1, 2, 3, 4, 5, 6, 7, 8, 9]\n"
     ]
    }
   ],
   "source": [
    "# 아래 코드에서는 표현식에 별도의 연산이 이루어지고 있지 않다\n",
    "list_d = [_ for _ in range(1, 10)]\n",
    "print(list_d)"
   ]
  },
  {
   "cell_type": "code",
   "execution_count": null,
   "id": "47dc19b2-2dde-404f-b092-4d6f0efef364",
   "metadata": {},
   "outputs": [],
   "source": []
  }
 ],
 "metadata": {
  "kernelspec": {
   "display_name": "Python 3",
   "language": "python",
   "name": "python3"
  },
  "language_info": {
   "codemirror_mode": {
    "name": "ipython",
    "version": 3
   },
   "file_extension": ".py",
   "mimetype": "text/x-python",
   "name": "python",
   "nbconvert_exporter": "python",
   "pygments_lexer": "ipython3",
   "version": "3.8.8"
  }
 },
 "nbformat": 4,
 "nbformat_minor": 5
}
