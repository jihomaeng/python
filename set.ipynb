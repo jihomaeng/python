{
 "cells": [
  {
   "cell_type": "markdown",
   "id": "811964e6-c26e-458b-b876-1a6b74af4489",
   "metadata": {},
   "source": [
    "# 2023.01.12\n",
    "## set\n",
    "### **세트(set) 자료형**\n",
    "수학에 나오는 집합을 영어로 set이라 한다. 그 집합과 set 자료형은 맥락이 같다. \n",
    "합집합, 교집합, 차집합과 같은 처리가 가능하다  \n",
    "set은 딕셔너리처럼 중괄호({})를 사용해서 생성  \n",
    "세트 자료형은 인덱스를 갖지 않는다. 이 자료형에서 요소는 키와 값 역할 모두한다고 생각하면 된다.  \n",
    "앞서 딕셔너리 자료형에서 키는 중복이 되지 않는다.  \n",
    "왜냐면 키가 고유해야 특정 값에 접근할 수 있기 때문이다.   \n",
    "그래서 세트에서도 키는 같은 특징을 갖는다.  \n",
    "즉 요소 내에 중복되는 값을 갖지 않는다. "
   ]
  },
  {
   "cell_type": "markdown",
   "id": "8539e997-308c-4e62-a17d-130a82c61ad7",
   "metadata": {},
   "source": [
    "### **빈 set 생성하기** \n",
    "\n",
    "빈 set 생성할 때는 set()을 써야한다. "
   ]
  },
  {
   "cell_type": "markdown",
   "id": "f3876ca2-4b63-440d-a6cb-a11a5c87db07",
   "metadata": {},
   "source": [
    "### **set 자료형의 특징**\n",
    "이름이 고유해야 불러올 수 있는 키 \n",
    "set 자료형의 요소는 키와 같은 성격을 갖기에 중복된 요소를 갖지 않는다. \n",
    "\n",
    "### **set 컴프리헨션**\n",
    "리스트와 마찬가지로 사용 가능 \n",
    "``` python\n",
    " set_variable = {expression for 변수 in iterable if 조건식}\n",
    "```"
   ]
  },
  {
   "cell_type": "markdown",
   "id": "36a47386-278d-4603-a194-456a0c6499da",
   "metadata": {},
   "source": [
    "set에 값 넣는 방법\n",
    "세트 메서드로 add()가 있다. 이 메서드를 통해 세트 자료형에 값을 추가 가능   \n",
    "사용하는 방법은 set 자료형.add(요소) add(요소)는 한번에 하나의 값만 넣을 수 있다.   "
   ]
  },
  {
   "cell_type": "code",
   "execution_count": 1,
   "id": "c1806ef3-1b6f-4cb4-ae49-5d569a27a1bf",
   "metadata": {},
   "outputs": [
    {
     "name": "stdout",
     "output_type": "stream",
     "text": [
      "set() <class 'set'>\n",
      "{1}\n"
     ]
    }
   ],
   "source": [
    "set_variable = set()\n",
    "print(set_variable, type(set_variable))\n",
    "\n",
    "{set_variable.add(1) for i in range(5)} #add 순서 없이 들어감 \n",
    "print(set_variable)"
   ]
  },
  {
   "cell_type": "markdown",
   "id": "1b848c9a-5fd9-4d2d-ab4c-4f251111e1d5",
   "metadata": {},
   "source": [
    "### **요소 삭제하기** \n",
    "- 요소를 삭제하는 방법은 2가지 존재 \n",
    "\n",
    "#### remove() \n",
    "- set.remove(요소)\n",
    "\n",
    "#### discard() \n",
    "- 삭제하려는 요소가 세트 자료형 내에 존재하지 않아도 KeyError를 발생시키지 않는다. \n"
   ]
  },
  {
   "cell_type": "code",
   "execution_count": 10,
   "id": "3d2eb75d-1894-4e12-8731-026488d059ae",
   "metadata": {},
   "outputs": [
    {
     "name": "stdout",
     "output_type": "stream",
     "text": [
      "{1}\n"
     ]
    },
    {
     "ename": "KeyError",
     "evalue": "9",
     "output_type": "error",
     "traceback": [
      "\u001b[1;31m---------------------------------------------------------------------------\u001b[0m",
      "\u001b[1;31mKeyError\u001b[0m                                  Traceback (most recent call last)",
      "\u001b[1;32m<ipython-input-10-5e8658bbefdc>\u001b[0m in \u001b[0;36m<module>\u001b[1;34m\u001b[0m\n\u001b[0;32m      1\u001b[0m \u001b[0mprint\u001b[0m\u001b[1;33m(\u001b[0m\u001b[0mset_variable\u001b[0m\u001b[1;33m)\u001b[0m\u001b[1;33m\u001b[0m\u001b[1;33m\u001b[0m\u001b[0m\n\u001b[1;32m----> 2\u001b[1;33m \u001b[0mset_variable\u001b[0m\u001b[1;33m.\u001b[0m\u001b[0mremove\u001b[0m\u001b[1;33m(\u001b[0m\u001b[1;36m9\u001b[0m\u001b[1;33m)\u001b[0m\u001b[1;33m\u001b[0m\u001b[1;33m\u001b[0m\u001b[0m\n\u001b[0m\u001b[0;32m      3\u001b[0m \u001b[0mset_variable\u001b[0m\u001b[1;33m.\u001b[0m\u001b[0mdiscard\u001b[0m\u001b[1;33m(\u001b[0m\u001b[1;36m8\u001b[0m\u001b[1;33m)\u001b[0m\u001b[1;33m\u001b[0m\u001b[1;33m\u001b[0m\u001b[0m\n",
      "\u001b[1;31mKeyError\u001b[0m: 9"
     ]
    }
   ],
   "source": [
    "print(set_variable)\n",
    "set_variable.remove(9)\n",
    "set_variable.discard(8)"
   ]
  },
  {
   "cell_type": "markdown",
   "id": "26f70559-0d27-4d43-b8a2-b76bd368f7fb",
   "metadata": {},
   "source": [
    "### 요소 임의 삭제하기 \n",
    "#### pop()\n",
    "- 세트 자료형.pop()  \n",
    "\n",
    "요소를 랜덤하게 삭제하는 메서드는 pop()이다.   \n",
    "pop()메서드는 삭제하려는 요소를 임의로 선택하고 반한한 뒤 삭제     \n",
    "세트 자료형 내에서 더 이상 삭제할 요소가 없다면 KeyError 발생 \n",
    "- arbitary element --> 마치 insertion order로 삭제하는 것처럼 보이지만, 실제로는 순서를 보장해주지 않는다. "
   ]
  },
  {
   "cell_type": "markdown",
   "id": "9ec05e53-3f48-42d5-be6d-50a3cb3f040f",
   "metadata": {},
   "source": [
    "### **요소 전체 삭제하기 clear()**\n",
    "set 에서 요소 전체를 삭제하는 메서드는 clear() --> 리스트도 동일  \n",
    "사용법은 set 자료형.clear() "
   ]
  },
  {
   "cell_type": "code",
   "execution_count": 11,
   "id": "34d3ba99-4df2-4e3e-b06f-3e042b5a5309",
   "metadata": {},
   "outputs": [
    {
     "name": "stdout",
     "output_type": "stream",
     "text": [
      "{0, 3, 6, 9, 12, 15, 18}\n"
     ]
    }
   ],
   "source": [
    "set_variable = {_ for _ in range(20) if _ % 3 == 0}\n",
    "print(set_variable)"
   ]
  },
  {
   "cell_type": "markdown",
   "id": "f52f91f4-cc53-4c1b-a6c1-5fbe6385b0ae",
   "metadata": {},
   "source": [
    "### **요소의 개수(크기) 구하기 len()**\n",
    "세트 자료형에서도 len()내장함수를 활용하여 개수(크기) 구할 수 있다. "
   ]
  },
  {
   "cell_type": "code",
   "execution_count": 6,
   "id": "62a56b15-b1a9-4f6a-b315-0d28ba877537",
   "metadata": {},
   "outputs": [
    {
     "name": "stdout",
     "output_type": "stream",
     "text": [
      "{0, 3, 6, 9, 12, 15, 18} 개수는 7 입니다.\n"
     ]
    }
   ],
   "source": [
    "set_variable = {_ for _ in range(20) if _ % 3 == 0}\n",
    "print(set_variable, \"개수는\", len(set_variable), \"입니다.\")"
   ]
  },
  {
   "cell_type": "markdown",
   "id": "df90243e-1c88-48b1-a978-21e12bcdc0f0",
   "metadata": {},
   "source": [
    "### **합집합:union) 혹은 Vertical bar(|)**\n",
    "set.union(세트자료형1, 세트자료형2)의 형태로 사용    \n",
    "세트 자료형1과 세트 자료형2의 값을 합친것에서 중복을 제거   \n",
    "Vertical bar(|) 활용하여 세트자료형1 | 세트자료형2 사용 가능   "
   ]
  },
  {
   "cell_type": "code",
   "execution_count": 8,
   "id": "17134ff7-461d-4231-8aba-06cdc9bc4009",
   "metadata": {},
   "outputs": [
    {
     "name": "stdout",
     "output_type": "stream",
     "text": [
      "A: {1, 2, 3, 4} \n",
      "B: {2, 4, 5}\n",
      "{1, 2, 3, 4, 5}\n"
     ]
    }
   ],
   "source": [
    "A = {_ for _ in range(1, 5)}\n",
    "B = {_ for _ in range(2, 6) if _ != 3}\n",
    "print(\"A:\", A, \"\\nB:\", B)\n",
    "print(set.union(A,B))\n"
   ]
  },
  {
   "cell_type": "markdown",
   "id": "00028968-a206-4a92-a9aa-4462c3068a31",
   "metadata": {},
   "source": [
    "### **교집합:intersection() 혹은 &**\n",
    "set.intersection(세트 자료형1, 세트 자료형2)   \n",
    "Ampersand(&) 활용하여 세트자료형1 & 세트자료형2 사용 가능"
   ]
  },
  {
   "cell_type": "markdown",
   "id": "eb33f96f-0f3f-4ae2-a127-30a33fd3ad41",
   "metadata": {},
   "source": [
    "### **차집합: difference() 혹은 -**\n",
    "set.difference(세트 자료형1, 세트 자료형2)   \n",
    "Hypen(-, Dash) 활용하여 세트자료형1 - 세트자료형2  사용 가능 "
   ]
  },
  {
   "cell_type": "markdown",
   "id": "25ee37e9-66c1-4677-8c1c-e9d02476c3d3",
   "metadata": {},
   "source": [
    "### **대칭차집합: symmetric_difference() 혹은 ^** \n",
    "set.symmetric_difference(세트 자료형1, 세트 자료형2)  \n",
    "Circumflex(^)을 활용하여 세트자료형1 ^ 세트자료형2 사용가능"
   ]
  },
  {
   "cell_type": "markdown",
   "id": "98ca0f90-ce31-433b-ab6a-c0e2c4679dd2",
   "metadata": {},
   "source": [
    "### **업데이트 update() 혹은 |=** \n",
    "세트자료협1.update(세트자료형2)  \n",
    "세트자료형1 |= 세트자료형2\n",
    "\n",
    "### **intersection_update() 혹은 &=**\n",
    "세트자료형1.intersection_update(세트자료형2)  \n",
    "세트자료형1 &= 세트자료형2\n",
    "\n",
    "### **difference_update() 혹은 -=**\n",
    "세트자료형1.difference_update(세트자료형2)\n",
    "세트자료형1 -= 세트자료형2"
   ]
  },
  {
   "cell_type": "markdown",
   "id": "f30b3779-9354-4849-9a6b-07ecb6c0b2eb",
   "metadata": {},
   "source": [
    "### **부분집합 issubset**\n",
    "세트자료형1.issubset(세트자료형2)  \n",
    "세트자료형1이 세트자료형2의 부분집합이면 true, 아니면 false"
   ]
  },
  {
   "cell_type": "markdown",
   "id": "6258ebf7-37a9-40ae-8cd4-4b93de3600e9",
   "metadata": {},
   "source": [
    "\n",
    "### **진부분집합과 진상위집합 >, <**\n",
    "진부분(상위) 집합은 부분(상위)집합이면서 같지 않을 때 <, > 활용하여 표현가능   \n",
    "세트 자료형1이 세트 자료형2의 진부분집합인지 확인할 때 세트 자료형1 < 세트 자료형2  \n",
    "\n",
    "### **세트가 겹치지 않는지 확인 isdisjoint()**\n",
    "겹치는 부분이 있는지 확인 가능   \n",
    "겹치는 요소가 없다면 True, 겹친다면 False  "
   ]
  }
 ],
 "metadata": {
  "kernelspec": {
   "display_name": "Python 3",
   "language": "python",
   "name": "python3"
  },
  "language_info": {
   "codemirror_mode": {
    "name": "ipython",
    "version": 3
   },
   "file_extension": ".py",
   "mimetype": "text/x-python",
   "name": "python",
   "nbconvert_exporter": "python",
   "pygments_lexer": "ipython3",
   "version": "3.8.8"
  }
 },
 "nbformat": 4,
 "nbformat_minor": 5
}
