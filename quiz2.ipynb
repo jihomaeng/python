{
 "cells": [
  {
   "cell_type": "markdown",
   "id": "41d5bafe-3111-4e05-bd78-f88e335b6cc4",
   "metadata": {},
   "source": [
    "# 2023.01.09 "
   ]
  },
  {
   "cell_type": "markdown",
   "id": "63bdc40d-c870-4b8b-962a-7a666edf955c",
   "metadata": {},
   "source": [
    "## 문제 1\n",
    "list 메서드 중 resverse()와 Built-in function인 reversed() 함수의 차이점에 대한 설명을 서술하시오"
   ]
  },
  {
   "cell_type": "markdown",
   "id": "45d22552-6b57-4100-89b0-b9e83832bc81",
   "metadata": {},
   "source": [
    "> reverse(): 리스트.reverse() / 해당 시퀀스를 변경하여 리스트의 순서를 뒤집어 주며 반환 값이 없다(None)  \n",
    "> reversed(): 함수를 통해 역순으로 변경해주는 것으로 반환값을 주지만 해당 시퀀스를 변경하지 않음"
   ]
  },
  {
   "cell_type": "markdown",
   "id": "81d75b96-f2c0-4247-84e7-2f8f6723dab1",
   "metadata": {},
   "source": [
    "## 문제 2  \n",
    "사용자로부터 입력 받은 시간이 정각인지 판별할 수 있는 코드를 작성하세요. input(), split() 활용"
   ]
  },
  {
   "cell_type": "code",
   "execution_count": 1,
   "id": "e0eb90b4-28b1-4088-b7bb-3b7c170f9ef1",
   "metadata": {},
   "outputs": [
    {
     "name": "stdin",
     "output_type": "stream",
     "text": [
      "현재시간을 입력하세요 02:00\n"
     ]
    },
    {
     "name": "stdout",
     "output_type": "stream",
     "text": [
      "정각입니다.\n"
     ]
    }
   ],
   "source": [
    "hh, mm = (input(\"현재시간을 입력하세요\").split(\":\"))\n",
    "\n",
    "if mm =='00':\n",
    "    print(\"정각입니다.\")\n",
    "else:\n",
    "    print(\"정각이 아닙니다.\")"
   ]
  },
  {
   "cell_type": "markdown",
   "id": "15cef8dd-e9ed-4a1d-ac1c-4837ab680545",
   "metadata": {},
   "source": [
    "## 문제 3\n",
    "코드의 실행결과를 작성  \n",
    "코드:\n",
    "```python \n",
    "language = \"Python\"\n",
    "print(language[0], lanugage[2], sep = \"\")  \n",
    "\n",
    "```"
   ]
  },
  {
   "cell_type": "code",
   "execution_count": 2,
   "id": "e0118db4-f833-451a-a14f-9dfb1ca4cefe",
   "metadata": {},
   "outputs": [
    {
     "name": "stdout",
     "output_type": "stream",
     "text": [
      "Pt\n"
     ]
    }
   ],
   "source": [
    "language = \"Python\"\n",
    "print(language[0], language[2], sep = \"\")"
   ]
  },
  {
   "cell_type": "markdown",
   "id": "93000b84-b7c0-4d35-8dd1-f8b85336c63b",
   "metadata": {},
   "source": [
    "## 문제 4\n",
    "다음 중 '변수 a는 값이 100과 같다'라는 의미로 올바른 것을 고르시오"
   ]
  },
  {
   "cell_type": "markdown",
   "id": "77d3a625-f1d9-40e0-aef1-80d530213944",
   "metadata": {},
   "source": [
    "a == 100"
   ]
  },
  {
   "cell_type": "markdown",
   "id": "36087195-ad24-47a9-8b37-559f6bae8a65",
   "metadata": {},
   "source": [
    "## 문제 5\n",
    "list_a의 값을 슬라이싱을 통해 변경 및 출력하는 코드를 작성해보세요  \n",
    "```python \n",
    "list_a = [1, 2, 3, 4, 5, 6, 7, 8, 9, 10]\n",
    "\n",
    "실행결과:\n",
    "    [1, 2, '짝', 4, 5, '짝', 7, 8, '짝', 10]\n",
    "```\n",
    "    \n"
   ]
  },
  {
   "cell_type": "code",
   "execution_count": 5,
   "id": "0bd71240-46f1-48cd-a829-22b5c17a3697",
   "metadata": {},
   "outputs": [
    {
     "name": "stdout",
     "output_type": "stream",
     "text": [
      "[1, 2, '짝', 4, 5, '짝', 7, 8, '짝', 10]\n"
     ]
    }
   ],
   "source": [
    "list_a = [1, 2, 3, 4, 5, 6, 7, 8, 9, 10]\n",
    "for i in range(len(list_a)):\n",
    "    if list_a[i] % 3 == 0:\n",
    "        list_a[i] = \"짝\"\n",
    "print(list_a)`"
   ]
  },
  {
   "cell_type": "code",
   "execution_count": 52,
   "id": "492eb881-fce8-4940-b99d-0d2d09a81972",
   "metadata": {},
   "outputs": [
    {
     "name": "stdout",
     "output_type": "stream",
     "text": [
      "[1, 2, '짝', 4, 5, '짝', 7, 8, '짝', 10]\n"
     ]
    }
   ],
   "source": [
    "## 슬라이싱할 땐 개수가 맞아야한다. \n",
    "list_a = [1, 2, 3, 4, 5, 6, 7, 8, 9, 10]\n",
    "list_a[2:10:3]= [\"짝\"]*len(list_a[2:10:3])\n",
    "print(list_a)"
   ]
  },
  {
   "cell_type": "markdown",
   "id": "3653d752-6782-4617-afc7-7dfe8ac5a932",
   "metadata": {},
   "source": [
    "## 문제 6\n",
    "파이썬에서 변수를 선언하고 값을 할당하는 방법으로 올바른 것을 고르세요"
   ]
  },
  {
   "cell_type": "code",
   "execution_count": 27,
   "id": "669c2569-c222-4959-bd0d-fd821d89bbf1",
   "metadata": {},
   "outputs": [],
   "source": [
    "x = 10"
   ]
  },
  {
   "cell_type": "markdown",
   "id": "52d33145-61d4-438a-828c-1ce768573c0f",
   "metadata": {},
   "source": [
    "## 문제 7\n",
    "다음 중 문자열을 표현하는 방법으로 올바른 것을 모두 고르세요"
   ]
  },
  {
   "cell_type": "code",
   "execution_count": 31,
   "id": "682b6966-7f30-4090-a45c-621e5a7d55e8",
   "metadata": {},
   "outputs": [
    {
     "ename": "NameError",
     "evalue": "name 'a' is not defined",
     "output_type": "error",
     "traceback": [
      "\u001b[1;31m---------------------------------------------------------------------------\u001b[0m",
      "\u001b[1;31mNameError\u001b[0m                                 Traceback (most recent call last)",
      "\u001b[1;32m<ipython-input-31-bca0e2660b9f>\u001b[0m in \u001b[0;36m<module>\u001b[1;34m\u001b[0m\n\u001b[1;32m----> 1\u001b[1;33m \u001b[0mprint\u001b[0m\u001b[1;33m(\u001b[0m\u001b[0ma\u001b[0m\u001b[1;33m)\u001b[0m\u001b[1;33m\u001b[0m\u001b[1;33m\u001b[0m\u001b[0m\n\u001b[0m",
      "\u001b[1;31mNameError\u001b[0m: name 'a' is not defined"
     ]
    }
   ],
   "source": [
    "a = Hello world\n",
    "print(a)"
   ]
  },
  {
   "cell_type": "code",
   "execution_count": 41,
   "id": "2e562f94-0f5d-45de-987e-b369c0cc1806",
   "metadata": {},
   "outputs": [
    {
     "name": "stdout",
     "output_type": "stream",
     "text": [
      "Hello \n",
      "world\n"
     ]
    }
   ],
   "source": [
    "a1 = 'Hello \\nworld'\n",
    "print(a1)"
   ]
  },
  {
   "cell_type": "code",
   "execution_count": 40,
   "id": "86427614-b2ee-4b0c-87b7-b91e9a36e963",
   "metadata": {},
   "outputs": [
    {
     "ename": "SyntaxError",
     "evalue": "invalid syntax (<ipython-input-40-55592ef616e9>, line 1)",
     "output_type": "error",
     "traceback": [
      "\u001b[1;36m  File \u001b[1;32m\"<ipython-input-40-55592ef616e9>\"\u001b[1;36m, line \u001b[1;32m1\u001b[0m\n\u001b[1;33m    a2 = `Hello world`\u001b[0m\n\u001b[1;37m         ^\u001b[0m\n\u001b[1;31mSyntaxError\u001b[0m\u001b[1;31m:\u001b[0m invalid syntax\n"
     ]
    }
   ],
   "source": [
    "a2 = `Hello world`\n",
    "print(a2)"
   ]
  },
  {
   "cell_type": "code",
   "execution_count": 43,
   "id": "d1d6949a-6cb0-4a0e-a501-71d5f08ca49e",
   "metadata": {},
   "outputs": [
    {
     "name": "stdout",
     "output_type": "stream",
     "text": [
      "\\Hello\" world\n"
     ]
    }
   ],
   "source": [
    "a3 = \"\\Hello\\\" world\"\n",
    "print(a3)"
   ]
  },
  {
   "cell_type": "code",
   "execution_count": 36,
   "id": "68d92a93-f865-45a7-b0e4-6598673d2b6c",
   "metadata": {},
   "outputs": [
    {
     "name": "stdout",
     "output_type": "stream",
     "text": [
      "['Hello', 'world']\n"
     ]
    }
   ],
   "source": [
    "#리스트 \n",
    "a4 = [\"Hello\",\"world\"]\n",
    "print(a4)"
   ]
  },
  {
   "cell_type": "markdown",
   "id": "74dfbaf8-940b-45c1-83ea-f96ab1351d7c",
   "metadata": {},
   "source": [
    "## 문제 8\n",
    "다음 중 결과가 리스트 인 것을 모두 고르시오"
   ]
  },
  {
   "cell_type": "code",
   "execution_count": 46,
   "id": "ba228c13-d1b4-486c-a83d-647476982cef",
   "metadata": {},
   "outputs": [
    {
     "name": "stdout",
     "output_type": "stream",
     "text": [
      "<class 'list'>\n"
     ]
    }
   ],
   "source": [
    "print(type([0]*10))"
   ]
  },
  {
   "cell_type": "code",
   "execution_count": 44,
   "id": "9c4f5075-849e-4ed7-a3a9-591db72bdc58",
   "metadata": {},
   "outputs": [
    {
     "name": "stdout",
     "output_type": "stream",
     "text": [
      "<class 'list'>\n"
     ]
    }
   ],
   "source": [
    "print(type('10 9 8 7'.split()))"
   ]
  },
  {
   "cell_type": "code",
   "execution_count": 47,
   "id": "d2f8655d-3fe0-4182-b9d2-403980895fe4",
   "metadata": {},
   "outputs": [
    {
     "name": "stdout",
     "output_type": "stream",
     "text": [
      "<class 'list'>\n"
     ]
    }
   ],
   "source": [
    "print(type(list(range(10))))"
   ]
  },
  {
   "cell_type": "code",
   "execution_count": 51,
   "id": "da96aa0c-d796-48bf-acdb-30560ec9c345",
   "metadata": {},
   "outputs": [
    {
     "name": "stdout",
     "output_type": "stream",
     "text": [
      "<class 'tuple'>\n"
     ]
    }
   ],
   "source": [
    "#튜플은 괄호 생략가능\n",
    "print(type((10, 20, 30)))"
   ]
  },
  {
   "cell_type": "code",
   "execution_count": 49,
   "id": "641b95be-70c6-41a5-9b2f-953c1296d2d2",
   "metadata": {},
   "outputs": [
    {
     "name": "stdout",
     "output_type": "stream",
     "text": [
      "<class 'list'>\n"
     ]
    }
   ],
   "source": [
    "print(type([-1, '가', 100.2]))"
   ]
  },
  {
   "cell_type": "markdown",
   "id": "0affb627-3405-4b9b-9c89-4e6c620df805",
   "metadata": {},
   "source": [
    "## 문제 9\n",
    "1~ 10까지의 숫자 중 모든 홀수의 합을 출력하는 프로그램을 for문을 사용하여 작성"
   ]
  },
  {
   "cell_type": "code",
   "execution_count": 12,
   "id": "3c947231-9440-45cf-8da6-c289d1d8346a",
   "metadata": {},
   "outputs": [
    {
     "name": "stdout",
     "output_type": "stream",
     "text": [
      "1부터 10까지 홀수의 합은 25입니다.\n"
     ]
    }
   ],
   "source": [
    "sum = 0\n",
    "for i in range(1, 10, 2):\n",
    "    sum += i\n",
    "print(\"1부터 10까지 홀수의 합은 \", sum ,\"입니다.\", sep = \"\")"
   ]
  },
  {
   "cell_type": "markdown",
   "id": "8d9d4f98-681b-4e40-8e81-8b7bff84b959",
   "metadata": {},
   "source": [
    "## 문제 10\n",
    "다음 중 튜플 (-10, -7, -4, -1, 2, 5, 8)을 만드는 방법으로 올바른 것을 고르세요"
   ]
  },
  {
   "cell_type": "code",
   "execution_count": 13,
   "id": "38c77f6e-1ccb-49a6-971c-4938fe0adf98",
   "metadata": {},
   "outputs": [
    {
     "data": {
      "text/plain": [
       "(-10, -7, -4, -1, 2, 5, 8)"
      ]
     },
     "execution_count": 13,
     "metadata": {},
     "output_type": "execute_result"
    }
   ],
   "source": [
    "tuple(range(-10, 10, 3))"
   ]
  },
  {
   "cell_type": "markdown",
   "id": "8e4bcf6b-a2bf-44cc-9503-cb755051b993",
   "metadata": {},
   "source": [
    "## 문제 11\n",
    "다음 중 if 조건문에 대한 설명으로 잘못된 것을 모두 고르세요"
   ]
  },
  {
   "cell_type": "markdown",
   "id": "c4834034-32d5-4bd0-934b-14b89d2ec39b",
   "metadata": {},
   "source": [
    "1. elif는 여러번 사용가능   \n",
    "2. else는 elif 앞에 올 수 없다.   \n",
    "3. elif는 조건식을 달 수 있다.   \n",
    "4. elif는 단독으로 사용 가능  \n",
    "5. elif는 반드시 else가 마지막에 있어야 한다. \n",
    "\n",
    "> 답: 4, 5"
   ]
  }
 ],
 "metadata": {
  "kernelspec": {
   "display_name": "Python 3",
   "language": "python",
   "name": "python3"
  },
  "language_info": {
   "codemirror_mode": {
    "name": "ipython",
    "version": 3
   },
   "file_extension": ".py",
   "mimetype": "text/x-python",
   "name": "python",
   "nbconvert_exporter": "python",
   "pygments_lexer": "ipython3",
   "version": "3.8.8"
  }
 },
 "nbformat": 4,
 "nbformat_minor": 5
}
