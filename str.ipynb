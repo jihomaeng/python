{
 "cells": [
  {
   "cell_type": "markdown",
   "id": "dc857178-1586-4fe9-a41f-8a808aa3a7be",
   "metadata": {},
   "source": [
    "# 문자열 "
   ]
  },
  {
   "cell_type": "markdown",
   "id": "815f876a-5def-423f-9483-2814f44f1085",
   "metadata": {},
   "source": [
    "## 문자열 메서드 .join()\n",
    "문자열(str) 클래스의 join()메서드는 문자열로 이뤄진 리스트를 하나의 문자열로 만든다.   \n",
    "리스트 내 요소인 문자열과 문자열 사이에 채울 문자값.join(문자로 만들 리스트)와 같이 작성  "
   ]
  },
  {
   "cell_type": "code",
   "execution_count": 1,
   "id": "e5adb784-0b2a-4abc-a9b3-32ff1c8bd67f",
   "metadata": {},
   "outputs": [
    {
     "name": "stdout",
     "output_type": "stream",
     "text": [
      "list_strs = ['a', 'b', 'c', 'd', 'e', 'f', 'g', 'h', 'i', 'j', 'k', 'l', 'm', 'n', 'o', 'p', 'q', 'r', 's', 't', 'u', 'v', 'w', 'x', 'y', 'z']\n",
      "\n",
      " whole_str = a*b*c*d*e*f*g*h*i*j*k*l*m*n*o*p*q*r*s*t*u*v*w*x*y*z\n"
     ]
    }
   ],
   "source": [
    "list_strs = [_ for _ in \"abcdefghijklmnopqrstuvwxyz\"]\n",
    "print(f\"list_strs = {list_strs}\")\n",
    "\n",
    "\n",
    "#str.join(list)\n",
    "#str 요소들로 이뤄진 ㅣist를 합쳐 하나의 문자열로 만든다\n",
    "whole_str = \"*\".join(list_strs)\n",
    "print(f\"\\n whole_str = {whole_str}\")"
   ]
  }
 ],
 "metadata": {
  "kernelspec": {
   "display_name": "Python 3",
   "language": "python",
   "name": "python3"
  },
  "language_info": {
   "codemirror_mode": {
    "name": "ipython",
    "version": 3
   },
   "file_extension": ".py",
   "mimetype": "text/x-python",
   "name": "python",
   "nbconvert_exporter": "python",
   "pygments_lexer": "ipython3",
   "version": "3.8.8"
  }
 },
 "nbformat": 4,
 "nbformat_minor": 5
}
