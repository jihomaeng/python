{
 "cells": [
  {
   "cell_type": "markdown",
   "id": "2af5d9c5-f87e-4086-a36a-903c419585cc",
   "metadata": {},
   "source": [
    "# 2023.01.06"
   ]
  },
  {
   "cell_type": "markdown",
   "id": "5deaa2c7-f90c-42d4-8c0f-e37ae2158a9e",
   "metadata": {},
   "source": [
    "## if \n",
    "### 객체 타입을 비교할 땐 is 키워드\n",
    "> 좌 is 우 좌, 우 객체를 비교하여\n",
    ">> 동일한 종류의 객체라면 True  \n",
    ">> 다른 종류라면 False 반환"
   ]
  },
  {
   "cell_type": "code",
   "execution_count": 8,
   "id": "fbe8f421-f8b9-4623-bef8-519b3d86bd16",
   "metadata": {},
   "outputs": [
    {
     "name": "stdout",
     "output_type": "stream",
     "text": [
      "input_value4는 정수입니다.\n"
     ]
    }
   ],
   "source": [
    "input_value4 = 3\n",
    "if type(input_value4) is int:\n",
    "    print(\"input_value4는 정수입니다.\")"
   ]
  },
  {
   "cell_type": "markdown",
   "id": "4ee943bd-f822-422f-951c-bdfc2820d395",
   "metadata": {},
   "source": [
    "### if문에 True와 False를 복합적으로 다룰 때는 논리연산자\n",
    "#### 논리연산자 사용\n",
    "> and:좌, 우 모두 True일 때 True  \n",
    "> or: 좌, 우 둘 중 하나라도 True일 때 True  \n",
    "> not: True를 False로\n",
    "#### if문과 elif문 \n",
    "> if:만약 이 조건이 false면 아래 들여쓰기한 부분을 패스  \n",
    "> elif: 위 조건이 아니고 만약 이조건이 True이면 실행 \n"
   ]
  },
  {
   "cell_type": "markdown",
   "id": "736e4fa1-0fdb-4e51-ab66-6edc8b197444",
   "metadata": {},
   "source": [
    "if문의 바디는 나중에 작성할 예정이라면 pass키워드를 통해 아무것도 하지 않고 오류없이 코드를 자겅할 수 있다.\n",
    "\n",
    "```python \n",
    "if 조건식:\n",
    "    pass # TOBE\n",
    "```\n",
    "문법상 오류를 방지하며 아무런 것도 구현하지 않은 상태로 "
   ]
  },
  {
   "cell_type": "code",
   "execution_count": 9,
   "id": "42ffd113-efc0-4e28-bcf4-a8297117b00a",
   "metadata": {},
   "outputs": [
    {
     "name": "stdout",
     "output_type": "stream",
     "text": [
      "30대입니다.\n",
      "감사합니다.\n"
     ]
    }
   ],
   "source": [
    "\n",
    "age = 39\n",
    "# 파이썬에섭만 비교 연산자 한 번에 가능 \n",
    "# 다른 언어에서는 각각 논리연산자 사용해서 써야 함\n",
    "if 0 <= age < 30:\n",
    "    print(\"20대입니다.\")\n",
    "elif 30 <= age < 40:\n",
    "    print(\"30대입니다.\")\n",
    "    \n",
    "print(\"감사합니다.\")"
   ]
  },
  {
   "cell_type": "markdown",
   "id": "7d63a6b1-41d4-4294-b35a-27381226d9d8",
   "metadata": {},
   "source": [
    "### elif문 주의사항\n",
    "- 조건들이 상호 배타적이지 않은 경우에는 if문과 elif문의 조건 순서를 반드시 고려해야 한다. "
   ]
  },
  {
   "cell_type": "markdown",
   "id": "3f562334-851b-4737-8727-66ecc7cf74f0",
   "metadata": {},
   "source": [
    "### if문 정리\n",
    "1. if문에서 조건식 부분에 대입연산자(=)를 사용할 수 없다.   \n",
    "    값이 같은지 비교하려면 == or is 사용해야 한다 .  \n",
    "2. if문에서 조건식 뒤에 콜론(:)은 생략 불가능  \n",
    "3. if문의 조건식이 True 일 떄 실행되는 범위는 들여쓰기가 끝날 때까지, 반대로 if 문의 조건식이 False일 때 들여쓰기가 끝날때까지의 코드는 실행되지 않음\n",
    "4. if문을 중첩해서 사용할 수 있다. 이때 중첩될수록 들여쓰기를 한 번더 해주기 \n"
   ]
  },
  {
   "cell_type": "code",
   "execution_count": 5,
   "id": "da185c61-5850-4479-93bc-be89a175d3aa",
   "metadata": {},
   "outputs": [
    {
     "name": "stdin",
     "output_type": "stream",
     "text": [
      "나이 10\n"
     ]
    },
    {
     "name": "stdout",
     "output_type": "stream",
     "text": [
      "10살 이상\n",
      "age >= 10 구간입니다.\n",
      "늘 출력되는 구간입니다.\n"
     ]
    }
   ],
   "source": [
    "age = int(input(\"나이\"))\n",
    "if age >= 10:\n",
    "    print(\"10살 이상\")\n",
    "    if age >=20: \n",
    "        print(\"20살 이상\")\n",
    "        if age >= 30:\n",
    "            print(\"30살 이상\")\n",
    "            if age >= 40:\n",
    "                print(\"40살 이상\")\n",
    "            print(\"age >= 30 구간입니다.\")\n",
    "        print(\"age >= 20 구간입니다.\")\n",
    "    print(\"age >= 10 구간입니다.\")\n",
    "print(\"늘 출력되는 구간입니다.\")"
   ]
  },
  {
   "cell_type": "markdown",
   "id": "e347817f-7de9-43ec-97a0-4d7012e420bf",
   "metadata": {},
   "source": [
    "## if else\n",
    "1. if와 else 두개만 사용한다면 if문이 True일 때 if문의 바디를 실행하고 else문의 바디는 실행하지 않음.  \n",
    "  반대로 if문이 False 일 때 if문의 바디는 실행하지 않고 else문의 바디만 실행  "
   ]
  },
  {
   "cell_type": "markdown",
   "id": "ce62a5db-59ce-42b5-b50d-f54e1a739033",
   "metadata": {},
   "source": [
    "## if elif else문\n",
    "1. if 조건문의 True/False 여부 먼저 판단\n",
    "2. if 조건문이 True 이면 if문의 바디 실행 그리고 나머지 elif와 else는 실행하지 않고 빠져나감 반대로 false면 elif의 True/False 값 확인\n",
    "3. elif의 조건문이 True이면 해당 elif블록 실행 그 이후에 있는 elif와 else 부분은 실행하지 않고 빠져나감"
   ]
  },
  {
   "cell_type": "code",
   "execution_count": 10,
   "id": "02191f1d-b43c-48f0-a641-510c036999a5",
   "metadata": {},
   "outputs": [
    {
     "name": "stdin",
     "output_type": "stream",
     "text": [
      "점수를 입력:  60\n"
     ]
    },
    {
     "name": "stdout",
     "output_type": "stream",
     "text": [
      "성적을 알려드립니다.\n",
      "D입니다.\n",
      "안내를 종료합니다.\n"
     ]
    }
   ],
   "source": [
    "score = int(input(\"점수를 입력: \"))\n",
    "\n",
    "print(\"성적을 알려드립니다.\")\n",
    "\n",
    "if score >= 90:\n",
    "    print(\"A입니다.\")\n",
    "elif score >= 80:\n",
    "    print(\"B입니다.\")\n",
    "elif score >= 70:\n",
    "    print(\"C입니다.\")\n",
    "elif score >= 60:\n",
    "    print(\"D입니다.\")\n",
    "else:\n",
    "    print(\"F입니다.\")\n",
    "print(\"안내를 종료합니다.\")"
   ]
  }
 ],
 "metadata": {
  "kernelspec": {
   "display_name": "Python 3",
   "language": "python",
   "name": "python3"
  },
  "language_info": {
   "codemirror_mode": {
    "name": "ipython",
    "version": 3
   },
   "file_extension": ".py",
   "mimetype": "text/x-python",
   "name": "python",
   "nbconvert_exporter": "python",
   "pygments_lexer": "ipython3",
   "version": "3.8.8"
  }
 },
 "nbformat": 4,
 "nbformat_minor": 5
}
