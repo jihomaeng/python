{
 "cells": [
  {
   "cell_type": "markdown",
   "id": "16e86e0b-ebc8-479e-b503-dd5bc6a68ac3",
   "metadata": {},
   "source": [
    "# 2023.01.09"
   ]
  },
  {
   "cell_type": "markdown",
   "id": "e400c148-e75f-408c-a926-1da595cd4b0e",
   "metadata": {},
   "source": [
    "ASCII 코드는 128가지   \n",
    "(참고) 인코딩을 기본값 외의 것으로 선언하려면, 파일의 첫 줄에 특별한 형태의 주석 문을 추가해야 합니다. "
   ]
  },
  {
   "cell_type": "markdown",
   "id": "4f22ef5e-c073-4c7d-a47c-881b5bfa5c9b",
   "metadata": {},
   "source": [
    "입력: input()  --> 사용자가 입력한 텍스트(str)  \n",
    "출력: print(\"출력할 값\", sep = \"\", end = \"\") --> sep, end 생략 시 (default) sep = \"\", end = \"\\n\" "
   ]
  },
  {
   "cell_type": "markdown",
   "id": "965af374-990e-44c3-b785-58ccb2a9eb18",
   "metadata": {},
   "source": [
    "일관성 있는 이름 만들기 (PEP8)   \n",
    "(참고) https://peps.python.org/pep-0008/\n",
    "> Class: PascalCase(Upper camel case)  \n",
    "> method, function:"
   ]
  },
  {
   "cell_type": "markdown",
   "id": "5c70174e-cce5-4c76-a642-f57e337266ac",
   "metadata": {},
   "source": [
    "### 대입 연산자 vs 비교 연산자 vs is\n",
    "좌항 == 우항 \n",
    "- 좌항과 우항이 같으면 True, 다르면 False  \n",
    "\n",
    "좌항 is 우항  \n",
    "- 좌항과 우항의 객체가 같으면 True, 다르면 False"
   ]
  },
  {
   "cell_type": "markdown",
   "id": "f5a97404-8eac-45f1-b6a4-d69bc08672f2",
   "metadata": {},
   "source": [
    "슬라이싱"
   ]
  },
  {
   "cell_type": "code",
   "execution_count": 3,
   "id": "70f25f41-77dc-47cc-9388-f7a504e8c287",
   "metadata": {},
   "outputs": [
    {
     "name": "stdout",
     "output_type": "stream",
     "text": [
      "ohty\n",
      "[3]\n",
      "(30, 72, 21)\n",
      "range(4, 0, -1)\n"
     ]
    }
   ],
   "source": [
    "print('python'[4:0:-1])\n",
    "print([0, 80, 24, 55, 7, 3, 55, 7, 3][-1:6:-2])\n",
    "print((30,20,21,72,36,47,21, 72)[::3])\n",
    "print(range(6)[-2:-6:-1])"
   ]
  },
  {
   "cell_type": "markdown",
   "id": "09b0c108-0d90-4e3d-b54b-ede7c3196c3c",
   "metadata": {},
   "source": [
    "## Pass의 활용\n",
    "참고로 if, for, while 문의 바디 나중에 작성할 예정이라면 pass 키워드를 통해 아무것도 하지 않고 오류없이 코드를 작성할 수 있다. "
   ]
  },
  {
   "cell_type": "markdown",
   "id": "eec63d2b-d2a6-4a6e-b832-6974ab5fbb55",
   "metadata": {},
   "source": [
    "```python\n",
    "if 조건식:  \n",
    "    if문의 바디  \n",
    "    if문의 바디  \n",
    "    if문의 바디  \n",
    "들여쓰기 끝\n",
    "```"
   ]
  },
  {
   "cell_type": "markdown",
   "id": "c034e182-53f0-45f1-8efe-8b2fe56b5f63",
   "metadata": {},
   "source": [
    "**파이썬**과 **자바**의 for문 비교 예제\n",
    "\n",
    "```python \n",
    "\n",
    "Python  \n",
    "for i in range(len(문자열)):\n",
    "    명령어\n",
    "    \n",
    "Java      \n",
    "for (int i=0; i<문자열.length(); i++){\n",
    "    명령어;\n",
    "}\n",
    "\n",
    "```\n",
    "\n",
    "Java에서는 **String객체.length() 메서드** 형태   \n",
    "Python에서는 **len(시퀀스 객체) 함수**의 형태"
   ]
  },
  {
   "cell_type": "markdown",
   "id": "7212f354-a3cf-4076-a998-c995065a6c08",
   "metadata": {},
   "source": [
    "## While문\n",
    "### 조건식으로만 동작\n",
    "\n",
    "**while문 실행 순서**\n",
    "1. 조건식 판별   \n",
    "2. 조건식이 True인 동안 내내 while문의 바디 실행  \n",
    "3. 조건식이 False가 되면 while문을 빠져나감\n",
    "4. 중지할 때 ctrl + c"
   ]
  },
  {
   "cell_type": "code",
   "execution_count": 4,
   "id": "17bbe7d1-2607-4b58-8727-bf6dca592329",
   "metadata": {
    "scrolled": true,
    "tags": []
   },
   "outputs": [
    {
     "name": "stdout",
     "output_type": "stream",
     "text": [
      "Hello world\n",
      "Hello world\n",
      "Hello world\n",
      "Hello world\n",
      "Hello world\n",
      "Hello world\n",
      "Hello world\n",
      "Hello world\n",
      "Hello world\n",
      "Hello world\n",
      "Hello world\n",
      "Hello world\n",
      "Hello world\n",
      "Hello world\n",
      "Hello world\n",
      "Hello world\n",
      "Hello world\n",
      "Hello world\n",
      "Hello world\n",
      "Hello world\n",
      "Hello world\n",
      "Hello world\n",
      "Hello world\n",
      "Hello world\n",
      "Hello world\n",
      "Hello world\n",
      "Hello world\n",
      "Hello world\n",
      "Hello world\n",
      "Hello world\n",
      "Hello world\n",
      "Hello world\n",
      "Hello world\n",
      "Hello world\n",
      "Hello world\n",
      "Hello world\n",
      "Hello world\n",
      "Hello world\n",
      "Hello world\n",
      "Hello world\n",
      "Hello world\n",
      "Hello world\n",
      "Hello world\n",
      "Hello world\n",
      "Hello world\n",
      "Hello world\n",
      "Hello world\n",
      "Hello world\n",
      "Hello world\n",
      "Hello world\n",
      "Hello world\n",
      "Hello world\n",
      "Hello world\n",
      "Hello world\n",
      "Hello world\n",
      "Hello world\n",
      "Hello world\n",
      "Hello world\n",
      "Hello world\n",
      "Hello world\n",
      "Hello world\n",
      "Hello world\n",
      "Hello world\n",
      "Hello world\n",
      "Hello world\n",
      "Hello world\n",
      "Hello world\n",
      "Hello world\n",
      "Hello world\n",
      "Hello world\n",
      "Hello world\n",
      "Hello world\n",
      "Hello world\n",
      "Hello world\n",
      "Hello world\n",
      "Hello world\n",
      "Hello world\n",
      "Hello world\n",
      "Hello world\n",
      "Hello world\n",
      "Hello world\n",
      "Hello world\n",
      "Hello world\n",
      "Hello world\n",
      "Hello world\n",
      "Hello world\n",
      "Hello world\n",
      "Hello world\n",
      "Hello world\n",
      "Hello world\n",
      "Hello world\n",
      "Hello world\n",
      "Hello world\n",
      "Hello world\n",
      "Hello world\n",
      "Hello world\n",
      "Hello world\n",
      "Hello world\n",
      "Hello world\n",
      "Hello world\n"
     ]
    }
   ],
   "source": [
    "i = 0                    #초기식\n",
    "while i < 100:           # while 조건식\n",
    "    print(\"Hello world\") #반복할 코드\n",
    "    i += 1               #변화식\n",
    "    "
   ]
  },
  {
   "cell_type": "markdown",
   "id": "25e22725-9e0f-4d2f-952c-e48c87e6156c",
   "metadata": {},
   "source": [
    "입력한 횟수대로 반복하는 예제 다만 숫자를 감소시켜서 제어하고 있다."
   ]
  },
  {
   "cell_type": "code",
   "execution_count": 5,
   "id": "6fd20cef-f70a-4c24-a55c-5c95e3b7c6c6",
   "metadata": {},
   "outputs": [
    {
     "name": "stdin",
     "output_type": "stream",
     "text": [
      "반복할 횟수를 입력하세요: 3\n"
     ]
    },
    {
     "name": "stdout",
     "output_type": "stream",
     "text": [
      "Hello world 3\n",
      "Hello world 2\n",
      "Hello world 1\n"
     ]
    }
   ],
   "source": [
    "count = int(input(\"반복할 횟수를 입력하세요:\"))\n",
    "\n",
    "while count > 0:\n",
    "    print(\"Hello world\", count)\n",
    "    count -= 1\n",
    "    "
   ]
  },
  {
   "cell_type": "markdown",
   "id": "4fcbbae9-70ee-4c15-8608-cd0dc4166ad6",
   "metadata": {},
   "source": [
    "### while문으로 시퀀스 객체의 인덱스 루프(loop) 테크닉\n",
    "while문과 len()함수를 함께 사용해서 시퀀스 객체의 요소를 인덱스들로 이터레이트하려면 아래처럼 작성하여 처리할 수 있다. \n",
    "\n",
    "``` python\n",
    "scores = (97, 100, 77)\n",
    "i = 0\n",
    "while i < len(score): \n",
    "    print(score[i])\n",
    "    i += 1\n",
    "```"
   ]
  },
  {
   "cell_type": "markdown",
   "id": "501a782e-2f71-4063-930c-f9c045252979",
   "metadata": {},
   "source": [
    "## break 문\n",
    "> for, while 문에서 break는 해당 반복문을 완전히 빠져나갑니다.  \n",
    "> 보통 반복문 안에서 측정 조건에 부합할 때 해당 반복문을 빠져나가기 위해 쓴다.   \n",
    "> 그래서 break는 if문과 함께 쓰이는게 보통"
   ]
  },
  {
   "cell_type": "code",
   "execution_count": 6,
   "id": "32a385dd-815c-4082-9a80-a010aeabdae6",
   "metadata": {
    "scrolled": true,
    "tags": []
   },
   "outputs": [
    {
     "name": "stdout",
     "output_type": "stream",
     "text": [
      "0\n",
      "1\n",
      "2\n",
      "3\n",
      "4\n",
      "5\n",
      "6\n",
      "7\n",
      "8\n",
      "9\n",
      "10\n",
      "11\n",
      "12\n",
      "13\n",
      "14\n",
      "15\n",
      "16\n",
      "17\n",
      "18\n",
      "19\n",
      "20\n",
      "21\n",
      "22\n",
      "23\n",
      "24\n",
      "25\n",
      "26\n",
      "27\n",
      "28\n",
      "29\n",
      "30\n",
      "31\n",
      "32\n",
      "33\n",
      "34\n",
      "35\n",
      "36\n",
      "37\n",
      "38\n",
      "39\n",
      "40\n",
      "41\n",
      "42\n",
      "43\n",
      "44\n",
      "45\n",
      "46\n",
      "47\n",
      "48\n",
      "49\n",
      "50\n",
      "51\n",
      "52\n",
      "53\n",
      "54\n",
      "55\n",
      "56\n",
      "57\n",
      "58\n",
      "59\n",
      "60\n",
      "61\n",
      "62\n",
      "63\n",
      "64\n",
      "65\n",
      "66\n",
      "67\n",
      "68\n",
      "69\n",
      "70\n",
      "71\n",
      "72\n",
      "73\n",
      "74\n",
      "75\n",
      "76\n",
      "77\n",
      "78\n",
      "79\n",
      "80\n",
      "81\n",
      "82\n",
      "83\n",
      "84\n",
      "85\n",
      "86\n",
      "87\n",
      "88\n",
      "89\n",
      "90\n",
      "91\n",
      "92\n",
      "93\n",
      "94\n",
      "95\n",
      "96\n",
      "97\n",
      "98\n",
      "99\n",
      "100\n"
     ]
    }
   ],
   "source": [
    "# 1000회 반복\n",
    "for _ in range(100000):\n",
    "    print(_)\n",
    "    if _ == 100:\n",
    "        break"
   ]
  },
  {
   "cell_type": "markdown",
   "id": "097c0eb6-3231-419c-80e8-b1eb0cc029fb",
   "metadata": {},
   "source": [
    "## while문 - 무한루프의 활용\n",
    "```python\n",
    "i = 0\n",
    "while True:\n",
    "    print(\"Hello World\")\n",
    "    i += 1\n",
    "    if i == 100:\n",
    "        break\n",
    "```"
   ]
  },
  {
   "cell_type": "markdown",
   "id": "1bd09b5e-8828-4d69-a513-e105d354f6b0",
   "metadata": {},
   "source": [
    "while문을 활용한 무한 루프와 input()을 조합하면 콘솔 프로그램에서 원하는 값을 받을 때까지 입력을 받는 프로그램을 구현할 수 있습니다.  \n",
    "아래는 사용자로부터 원하는 결과를 입력 받아야 종료되는 프로그램의 예제입니다. "
   ]
  },
  {
   "cell_type": "code",
   "execution_count": 8,
   "id": "2b17369c-ec60-4a40-88e3-c667afb6f1e6",
   "metadata": {},
   "outputs": [
    {
     "name": "stdin",
     "output_type": "stream",
     "text": [
      "q를 입력하면 종료됩니다. Q\n",
      "q를 입력하면 종료됩니다. q\n"
     ]
    },
    {
     "name": "stdout",
     "output_type": "stream",
     "text": [
      "프로그램을 종료합니다.\n"
     ]
    }
   ],
   "source": [
    "while True:\n",
    "    input_value = input(\"q를 입력하면 종료됩니다.\")\n",
    "    if input_value == \"q\": break\n",
    "        \n",
    "print(\"프로그램을 종료합니다.\")"
   ]
  },
  {
   "cell_type": "markdown",
   "id": "d558c025-a72a-4619-83d7-9de42eee3313",
   "metadata": {},
   "source": [
    "## continue\n",
    "- continue는 제어흐름을 유지하고, continue가 실행된 반복 횟수의 코드 실행만 건너뛴다. "
   ]
  },
  {
   "cell_type": "markdown",
   "id": "da54920a-4dc1-47e6-85b7-0b52d148290c",
   "metadata": {},
   "source": [
    "for문에서 continue 사용"
   ]
  },
  {
   "cell_type": "code",
   "execution_count": 9,
   "id": "34475a24-3e3f-46ed-a227-78d177001f33",
   "metadata": {},
   "outputs": [
    {
     "name": "stdout",
     "output_type": "stream",
     "text": [
      "1\t3\t5\t7\t9\t11\t13\t15\t17\t19\t21\t23\t25\t27\t29\t31\t33\t35\t37\t39\t41\t43\t45\t47\t49\t51\t53\t55\t57\t59\t61\t63\t65\t67\t69\t71\t73\t75\t77\t79\t81\t83\t85\t87\t89\t91\t93\t95\t97\t99\t"
     ]
    }
   ],
   "source": [
    "for i in range(100): # 0부터 99까지 증가하면서 100번 반복\n",
    "    if i % 2 == 0:   # i를 2로 나누었을 때 나머지가 0이면 짝수\n",
    "        continue     # 아래 코드를 실행하지 않고 건너뜀\n",
    "    print(i, end = \"\\t\")"
   ]
  },
  {
   "cell_type": "markdown",
   "id": "a2b0be42-9009-4090-ab8e-ffd7c82db161",
   "metadata": {},
   "source": [
    "while문에서 continue 사용"
   ]
  },
  {
   "cell_type": "code",
   "execution_count": 10,
   "id": "e9c4d829-b93b-4c88-ab8e-c48d14076749",
   "metadata": {},
   "outputs": [
    {
     "name": "stdout",
     "output_type": "stream",
     "text": [
      "1\t3\t5\t7\t9\t11\t13\t15\t17\t19\t21\t23\t25\t27\t29\t31\t33\t35\t37\t39\t41\t43\t45\t47\t49\t51\t53\t55\t57\t59\t61\t63\t65\t67\t69\t71\t73\t75\t77\t79\t81\t83\t85\t87\t89\t91\t93\t95\t97\t99\t"
     ]
    }
   ],
   "source": [
    "i = 0\n",
    "while i < 100: # 0부터 99까지 증가하면서 100번 반복\n",
    "    i += 1\n",
    "    if i % 2 == 0:   # i를 2로 나누었을 때 나머지가 0이면 짝수\n",
    "        continue     # 아래 코드를 실행하지 않고 건너뜀\n",
    "    print(i, end = \"\\t\")"
   ]
  },
  {
   "cell_type": "markdown",
   "id": "70ec728e-064c-437c-a2de-ba16349aeaba",
   "metadata": {},
   "source": [
    "### print문 f - string으로 쓰기\n",
    "print(f'{n}부터 {m}까지의 합은 {total}입니다.')"
   ]
  }
 ],
 "metadata": {
  "kernelspec": {
   "display_name": "Python 3",
   "language": "python",
   "name": "python3"
  },
  "language_info": {
   "codemirror_mode": {
    "name": "ipython",
    "version": 3
   },
   "file_extension": ".py",
   "mimetype": "text/x-python",
   "name": "python",
   "nbconvert_exporter": "python",
   "pygments_lexer": "ipython3",
   "version": "3.8.8"
  }
 },
 "nbformat": 4,
 "nbformat_minor": 5
}
