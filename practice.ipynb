{
 "cells": [
  {
   "cell_type": "markdown",
   "id": "c14495f2-f6b3-4f44-92a4-e392a691ff9f",
   "metadata": {},
   "source": [
    "# **Practice** "
   ]
  },
  {
   "cell_type": "markdown",
   "id": "ec2ca81d-f0bc-4cf0-9e5e-5fd7ec646247",
   "metadata": {},
   "source": [
    "## 연습문제1\n",
    "공무원 시험 결과가 국어, 영어, 한국사, 선택 교과1, 선택 교과2의 점수가 리스트 형태로 제공됩니다. \n",
    "이때 한 과목이라도 60점 미만이면 과락입니다.   \n",
    "과락이면 False를 과락이 아니면 True를 출력하도록 코드를 완성해보세요."
   ]
  },
  {
   "cell_type": "code",
   "execution_count": 11,
   "id": "e0156cf4-5341-4eaf-a298-07eeb18d66d1",
   "metadata": {},
   "outputs": [
    {
     "name": "stdout",
     "output_type": "stream",
     "text": [
      "False\n",
      "False\n",
      "False\n"
     ]
    }
   ],
   "source": [
    "scores = [88, 73, 89, 59, 77]\n",
    "print(scores[0] >= 60 and scores[1] >= 60 and scores[2] >= 60 and scores[3] >= 60 and scores[4] >= 60)\n",
    "print(scores[0] and scores[1] and scores[2] and scores[3] and scores[4] < 60)\n",
    "for i in range(len(scores)):\n",
    "    if scores[i] < 60:\n",
    "        print(False)"
   ]
  },
  {
   "cell_type": "markdown",
   "id": "90559764-0910-4e2a-b5ab-8bb32611f99b",
   "metadata": {},
   "source": [
    "## 연습문제2"
   ]
  },
  {
   "cell_type": "code",
   "execution_count": 68,
   "id": "4b3e6ced-4f57-4765-b10d-e6f8dcebf013",
   "metadata": {},
   "outputs": [
    {
     "name": "stdin",
     "output_type": "stream",
     "text": [
      "이름을 입력하세요: 엔코아\n"
     ]
    },
    {
     "name": "stdout",
     "output_type": "stream",
     "text": [
      "엔코아씨, 안녕하세요 \n",
      "파이썬에 오신 것을 환영합니다.\n"
     ]
    },
    {
     "name": "stdin",
     "output_type": "stream",
     "text": [
      "첫 번째 정수를 입력하세요: 300\n",
      "두 번째 정수를 입력하세요: 400\n"
     ]
    },
    {
     "name": "stdout",
     "output_type": "stream",
     "text": [
      "300 과 400 의 합은 700 입니다.\n"
     ]
    }
   ],
   "source": [
    "name = input(\"이름을 입력하세요:\")\n",
    "print(name + \"씨, 안녕하세요 \\n파이썬에 오신 것을 환영합니다.\")\n",
    "fir = int(input(\"첫 번째 정수를 입력하세요:\"))\n",
    "sec = int(input(\"두 번째 정수를 입력하세요:\"))\n",
    "print(fir, \"과\", sec, \"의 합은\", fir + sec, \"입니다.\")"
   ]
  },
  {
   "cell_type": "markdown",
   "id": "0fb7d8ed-4445-406e-8737-2071bd2b3e9d",
   "metadata": {},
   "source": [
    "## 연습문제 3"
   ]
  },
  {
   "cell_type": "code",
   "execution_count": 1,
   "id": "d562f352-5e1f-44fc-b193-7e39bb89da16",
   "metadata": {},
   "outputs": [
    {
     "name": "stdin",
     "output_type": "stream",
     "text": [
      "경기장은 어디입니까? 고척\n",
      "이긴 팀은 어디입니까? ㅇ\n",
      "진 팀은 어디입니까? ㅇ\n",
      "우수 선수는 누구입니까? ㅇ\n",
      "스코어는 몇대몇입니까? ㅇ\n"
     ]
    },
    {
     "name": "stdout",
     "output_type": "stream",
     "text": [
      "---------------------------------\n",
      "[속보] ㅇ 가 ㅇ 로 승리...\n",
      "오늘 고척 경기장에서 야구 경기가 있었습니다.\n",
      "ㅇ 과 ㅇ 는 치열한 공방전을 펼쳤습니다.\n",
      "이 경기에서 ㅇ 가 맹활약을 했습니다.\n",
      "그 끝내 ㅇ 가 ㅇ 를 ㅇ 로 승리하였습니다. \n",
      "기사 끝.\n"
     ]
    }
   ],
   "source": [
    "where = input(\"경기장은 어디입니까?\")\n",
    "win = input(\"이긴 팀은 어디입니까?\")\n",
    "lose = input(\"진 팀은 어디입니까?\")\n",
    "mvp = input(\"우수 선수는 누구입니까?\")\n",
    "score = input(\"스코어는 몇대몇입니까?\")\n",
    "\n",
    "print(\"---------------------------------\")\n",
    "print(\"[속보]\",win, \"가\", score,\"로 승리...\")\n",
    "print(\"오늘\", where ,\"경기장에서 야구 경기가 있었습니다.\")\n",
    "print(win, \"과\" , lose ,\"는 치열한 공방전을 펼쳤습니다.\")\n",
    "print(\"이 경기에서\", mvp, \"가 맹활약을 했습니다.\")\n",
    "print(\"그 끝내\", win, \"가\", lose, \"를\" , score, \"로 승리하였습니다. \\n기사 끝.\")"
   ]
  },
  {
   "cell_type": "markdown",
   "id": "fd7d272e-c065-4f43-bcb4-74800dc4992f",
   "metadata": {},
   "source": [
    "## 연습문제 4\n",
    "사용자로부터 \"hh:mm:ss\" 형태의 시간 값을 입력 받는다. 예를 들어 12시 33분 23초일 때 \"12:33:23\"과 같이 입력을 받는다. "
   ]
  },
  {
   "cell_type": "code",
   "execution_count": 8,
   "id": "0a4845ff-ad61-4aa3-817e-dd374fb680df",
   "metadata": {},
   "outputs": [
    {
     "name": "stdin",
     "output_type": "stream",
     "text": [
      "hh:mm:ss의 형태로 시간을 입력해주세요 12:33:23\n"
     ]
    },
    {
     "name": "stdout",
     "output_type": "stream",
     "text": [
      "시: 12\n",
      "분: 33\n",
      "초: 23\n"
     ]
    }
   ],
   "source": [
    "hh, mm, ss = input(\"hh:mm:ss의 형태로 시간을 입력해주세요\").split(\":\")\n",
    "\n",
    "print(\"시:\", hh)\n",
    "print(\"분:\", mm)\n",
    "print(\"초:\", ss)"
   ]
  },
  {
   "cell_type": "markdown",
   "id": "4bc2b01c-e18d-4951-9948-e4116e958da7",
   "metadata": {},
   "source": [
    "## 연습문제 5"
   ]
  },
  {
   "cell_type": "code",
   "execution_count": 105,
   "id": "20fc2e49-4bc3-4996-abff-a0a45040297d",
   "metadata": {},
   "outputs": [
    {
     "name": "stdin",
     "output_type": "stream",
     "text": [
      "국어, 영어, 수학, 과학 점수를 입력해주세요 98,100,96,100\n"
     ]
    },
    {
     "name": "stdout",
     "output_type": "stream",
     "text": [
      "평균 점수는 98.5 점입니다.\n"
     ]
    },
    {
     "name": "stdin",
     "output_type": "stream",
     "text": [
      "국어, 영어, 수학, 과학 점수를 입력해주세요 98,96,100,100\n"
     ]
    },
    {
     "name": "stdout",
     "output_type": "stream",
     "text": [
      "평균 점수는 98.5 점입니다.\n"
     ]
    }
   ],
   "source": [
    "score = list(map(int, input(\"국어, 영어, 수학, 과학 점수를 입력해주세요\").split(',')))\n",
    "avg = sum(score) / len(score)\n",
    "print(\"평균 점수는\", avg, \"점입니다.\")\n",
    "\n",
    "kor, eng, mat, sci = map(int, input(\"국어, 영어, 수학, 과학 점수를 입력해주세요\").split(','))\n",
    "avg2 = (kor+eng+mat+sci)/4\n",
    "print(\"평균 점수는\", avg2, \"점입니다.\")"
   ]
  },
  {
   "cell_type": "markdown",
   "id": "6f44c9ad-736f-4b58-83e6-8008786bdf3b",
   "metadata": {
    "tags": []
   },
   "source": [
    "## 연습문제 6"
   ]
  },
  {
   "cell_type": "code",
   "execution_count": 10,
   "id": "9e4232ed-669f-49e0-a6fa-db1510bf4902",
   "metadata": {},
   "outputs": [
    {
     "name": "stdout",
     "output_type": "stream",
     "text": [
      "2021/02/03 18:33:23\n"
     ]
    }
   ],
   "source": [
    "year = '2021'\n",
    "month = '02'\n",
    "day = '03'\n",
    "hour = '18'\n",
    "minute ='33'\n",
    "second = '23'\n",
    "\n",
    "print(year, month, day, sep = '/', end = \" \")\n",
    "print(hour, minute, second, sep = \":\")"
   ]
  },
  {
   "cell_type": "markdown",
   "id": "1c743389-aa55-4a46-b06e-36ba0a36ecbf",
   "metadata": {},
   "source": [
    "## 연습문제 7"
   ]
  },
  {
   "cell_type": "code",
   "execution_count": 17,
   "id": "8f3442b5-5395-4b1a-80b3-d17bde482437",
   "metadata": {},
   "outputs": [
    {
     "name": "stdin",
     "output_type": "stream",
     "text": [
      "사과와 귤을 몇개 드릴까요? 10,20\n"
     ]
    },
    {
     "name": "stdout",
     "output_type": "stream",
     "text": [
      "\n",
      "실행결과:\n",
      "총 가격은 14000원입니다.\n"
     ]
    }
   ],
   "source": [
    "apple, mandarin = map(int, input(\"사과와 귤을 몇개 드릴까요?\").split(','))\n",
    "hap = apple*1000 + mandarin*200\n",
    "\n",
    "print(\"\\n실행결과:\")\n",
    "print(\"총 가격은 \", hap, \"원입니다.\", sep =\"\")"
   ]
  },
  {
   "cell_type": "markdown",
   "id": "463d9c47-24ce-4dc7-9594-0cbd557035fe",
   "metadata": {},
   "source": [
    "# **if**"
   ]
  },
  {
   "cell_type": "markdown",
   "id": "68f3dad2-1cdb-4a80-958a-a3caea9065df",
   "metadata": {},
   "source": [
    "## 연습문제 1"
   ]
  },
  {
   "cell_type": "markdown",
   "id": "f6386dcb-ce67-4ec7-80c2-2d8d94744931",
   "metadata": {},
   "source": [
    "사용자로부터 아이디를 입력받습니다.  \n",
    "이때 아이디가 \"admin\"이면 '최고 관리자, 모든 권한을 갖습니다.'를 출력하고 프로그램을 종료  \n",
    "아이디가 'admin'이 아니면 회원 등급을 정수로 입력받습니다.   \n",
    "만약 회원 레벨이 1~3 사이 값이면 '제한적인 권한을 갖습니다.'를 출력하고,   \n",
    "그렇지 않으면 '권한이 없습니다.'를 출력하는 프로그램을 작성"
   ]
  },
  {
   "cell_type": "code",
   "execution_count": 1,
   "id": "3b3fcc0a-eadb-495c-8709-bb0542bc2bb1",
   "metadata": {},
   "outputs": [
    {
     "name": "stdout",
     "output_type": "stream",
     "text": [
      "실행결과:\n"
     ]
    },
    {
     "name": "stdin",
     "output_type": "stream",
     "text": [
      "아이디를 입력하세요: admin\n"
     ]
    },
    {
     "name": "stdout",
     "output_type": "stream",
     "text": [
      "최고 관리자, 모든 권한을 갖습니다.\n"
     ]
    }
   ],
   "source": [
    "print(\"실행결과:\")\n",
    "\n",
    "id = input(\"아이디를 입력하세요:\")\n",
    "\n",
    "if id != \"admin\":\n",
    "    grade = int(input(\"회원등급을 입력해주세요:\"))\n",
    "    if 1 <= grade <= 3:\n",
    "        print(\"\\n제한적인 권한을 갖습니다.\")\n",
    "    else:\n",
    "        print(\"\\n권한이 없습니다.\")\n",
    "else:\n",
    "    print(\"최고 관리자, 모든 권한을 갖습니다.\")"
   ]
  },
  {
   "cell_type": "markdown",
   "id": "c2c89a5f-3c68-4f22-95d3-22360be9d23f",
   "metadata": {},
   "source": [
    "## 연습문제 2"
   ]
  },
  {
   "cell_type": "markdown",
   "id": "de088fd0-7088-4bb9-a0f3-118b8433aa44",
   "metadata": {},
   "source": [
    "#### 사용자로부터 자연수를 입력받습니다. 그 숫자에서 50을 뺀 값을 출력하세요\n",
    "- 단 출력 값의 범위는 0이상 입니다.   \n",
    "- 50을 뺀 결과가 음수가 될 경우 0을 출력해야 합니다. "
   ]
  },
  {
   "cell_type": "code",
   "execution_count": 6,
   "id": "377fba1a-3fd3-4b19-963a-1d8cdc2172ae",
   "metadata": {},
   "outputs": [
    {
     "name": "stdout",
     "output_type": "stream",
     "text": [
      "실행결과:\n"
     ]
    },
    {
     "name": "stdin",
     "output_type": "stream",
     "text": [
      "자연수 하나를 입력해주세요: 21\n"
     ]
    },
    {
     "name": "stdout",
     "output_type": "stream",
     "text": [
      "0\n"
     ]
    }
   ],
   "source": [
    "print(\"실행결과:\")\n",
    "\n",
    "num = int(input(\"자연수 하나를 입력해주세요:\"))\n",
    "if (num - 50) > 0:\n",
    "    print(num - 50)\n",
    "else:\n",
    "    print(0)\n"
   ]
  },
  {
   "cell_type": "markdown",
   "id": "d2c75f43-4bc7-4cdf-b1ab-98c1e09911f8",
   "metadata": {},
   "source": [
    "해설\n",
    "``` python \n",
    "int_value = int(input(\"자연수 입력\"))\n",
    "\n",
    "result = int_value - 50\n",
    "\n",
    "if result < 0:\n",
    "    print(0)\n",
    "print(result)\n",
    "\n",
    "```\n",
    "            "
   ]
  },
  {
   "cell_type": "code",
   "execution_count": 7,
   "id": "08f9ebd2-9133-4c86-9fd5-d67cdee80357",
   "metadata": {},
   "outputs": [
    {
     "name": "stdin",
     "output_type": "stream",
     "text": [
      "자연수 입력 21\n"
     ]
    },
    {
     "name": "stdout",
     "output_type": "stream",
     "text": [
      "0\n",
      "-29\n"
     ]
    }
   ],
   "source": [
    "int_value = int(input(\"자연수 입력\"))\n",
    "\n",
    "result = int_value - 50\n",
    "\n",
    "if result < 0:\n",
    "    print(0)\n",
    "            "
   ]
  },
  {
   "cell_type": "markdown",
   "id": "d17ef267-1b68-4572-9549-facedee64818",
   "metadata": {},
   "source": [
    "## 연습문제 3\n",
    "사용자로부터 자연수 입력받기  \n",
    "값이 짝수인지 홀수인지 화면에 출력"
   ]
  },
  {
   "cell_type": "code",
   "execution_count": 8,
   "id": "95a5fc0e-8619-4151-a5b0-b0f958646546",
   "metadata": {},
   "outputs": [
    {
     "name": "stdout",
     "output_type": "stream",
     "text": [
      "실행결과:\n"
     ]
    },
    {
     "name": "stdin",
     "output_type": "stream",
     "text": [
      "자연수 하나를 입력해주세요:  21\n"
     ]
    },
    {
     "name": "stdout",
     "output_type": "stream",
     "text": [
      "홀수입니다.\n"
     ]
    }
   ],
   "source": [
    "print(\"실행결과:\")\n",
    "\n",
    "num = int(input(\"자연수 하나를 입력해주세요: \"))\n",
    "\n",
    "if num % 2 == 0:\n",
    "    print(\"짝수입니다.\")\n",
    "else:\n",
    "    print(\"홀수입니다.\")"
   ]
  },
  {
   "cell_type": "markdown",
   "id": "9c97aa52-d4bc-43b0-aa95-76052107a762",
   "metadata": {},
   "source": [
    "## 연습문제 4\n",
    "사용자로부터 소프트웨어 설계, 소프트웨어 개발, 데이터베이스 구축, 프로그래밍 언어 활용, 정보시스템 구축관리 점수를 입력 받습니다.  \n",
    "과목 평균 점수가 60점 이상일 때 합격, 평균점수에 따라 \"합격\", \"불합격\"을 출력하는 프로그램을 만드시오  \n",
    "- 점수는 0부터 100점까지만 유효, 이를 벗어난 점수가 입력되면 \"잘못된 점수입니다.\"를 출력하고 \"합격\", \"불합격\"을 출력하는 프로그램을 작성   \n",
    "- 과목별 점수는 일단 전부 입력 받는다. "
   ]
  },
  {
   "cell_type": "code",
   "execution_count": 16,
   "id": "d97b8dfb-d125-4b6d-977b-2e1dbf5f321a",
   "metadata": {},
   "outputs": [
    {
     "name": "stdin",
     "output_type": "stream",
     "text": [
      "소프트웨어 설계 점수를 입력하세요 -7\n",
      "소프트웨어 개발 점수를 입력하세요 40\n",
      "데이터베이스 구축 점수를 입력하세요 30\n",
      "프로그래밍 언어 활용 점수를 입력하세요 60\n",
      "정보시스템 구축관리 점수를 입력하세요 50\n"
     ]
    },
    {
     "name": "stdout",
     "output_type": "stream",
     "text": [
      "잘못된 점수입니다.\n"
     ]
    }
   ],
   "source": [
    "sw_design = int(input(\"소프트웨어 설계 점수를 입력하세요\"))\n",
    "sw_develop = int(input(\"소프트웨어 개발 점수를 입력하세요\"))\n",
    "db = int(input(\"데이터베이스 구축 점수를 입력하세요\"))\n",
    "pg = int(input(\"프로그래밍 언어 활용 점수를 입력하세요\"))\n",
    "info = int(input(\"정보시스템 구축관리 점수를 입력하세요\"))\n",
    "avg =(sw_design + sw_develop + db + pg + info ) /5\n",
    "\n",
    "if 0 <= sw_design <= 100 and 0 <= sw_develop <= 100 and 0 <= db <= 100 and 0 <= pg <= 100 and 0 <= info <= 100:\n",
    "    if avg >= 60:\n",
    "        print(\"합격\")\n",
    "    else:\n",
    "        print(\"불합격\")\n",
    "else:\n",
    "    print(\"잘못된 점수입니다.\")"
   ]
  },
  {
   "cell_type": "markdown",
   "id": "d43e5845-dc7e-49ac-ac6f-81bd3136efb4",
   "metadata": {},
   "source": [
    "## 연습문제 5"
   ]
  },
  {
   "cell_type": "code",
   "execution_count": 18,
   "id": "0bfbeff4-039e-4232-b1e4-3188bfd76ac3",
   "metadata": {},
   "outputs": [
    {
     "name": "stdout",
     "output_type": "stream",
     "text": [
      "실행 결과:\n"
     ]
    },
    {
     "name": "stdin",
     "output_type": "stream",
     "text": [
      "현재 물의 온도를 입력해주세요. -0.12\n"
     ]
    },
    {
     "name": "stdout",
     "output_type": "stream",
     "text": [
      "고체로 예상됩니다.\n"
     ]
    }
   ],
   "source": [
    "print(\"실행 결과:\")\n",
    "\n",
    "temp = float(input(\"현재 물의 온도를 입력해주세요.\"))\n",
    "if temp >= 100:\n",
    "    print(\"기체로 예상됩니다.\")\n",
    "elif temp >=0:\n",
    "    print(\"액체로 예상됩니다.\")\n",
    "else:\n",
    "    print(\"고체로 예상됩니다.\")"
   ]
  },
  {
   "cell_type": "markdown",
   "id": "bfb38463-36e9-4cb0-85a9-4bd935e768c4",
   "metadata": {},
   "source": [
    "## 연습문제 6\n",
    "일반 시내 버스 요금을 받는 프로그램을 만들려고 합니다.  \n",
    "성인(19세 이상)이면 1500원 청소년(12 ~ 18세)이면 1100원 어린이(6~11세)면 800원을 받고 미취학 아동은 무료입니다.   \n",
    "사용자로부터 나이를 입력받고 나이에 따른 일반 시내 버스 요금을 출력하세요"
   ]
  },
  {
   "cell_type": "code",
   "execution_count": 26,
   "id": "fd7e0d53-0e58-44f1-943c-074594fb47cc",
   "metadata": {},
   "outputs": [
    {
     "name": "stdout",
     "output_type": "stream",
     "text": [
      "실행결과: \n"
     ]
    },
    {
     "name": "stdin",
     "output_type": "stream",
     "text": [
      "자신의 나이를 입력하세요 19\n"
     ]
    },
    {
     "name": "stdout",
     "output_type": "stream",
     "text": [
      "1500원\n"
     ]
    }
   ],
   "source": [
    "print(\"실행결과: \")\n",
    "\n",
    "age = int(input(\"자신의 나이를 입력하세요\"))\n",
    "fee1 = 1500\n",
    "fee2 = 1100\n",
    "fee3 = 800\n",
    "if age >= 19:\n",
    "    print(fee1,\"원\", sep =\"\")\n",
    "elif age >= 12:\n",
    "    print(fee2,\"원\", sep = \"\")\n",
    "elif age >= 6:\n",
    "    print(fee3,\"원\", sep =\"\")\n",
    "else:\n",
    "    print(\"무임승차입니다.\")"
   ]
  },
  {
   "cell_type": "markdown",
   "id": "e8b352a1-6ac6-436b-bbb8-76d3bd675c8d",
   "metadata": {},
   "source": [
    "## 연습문제 7\n",
    "A사는 B사에서 C상품($10/개)를 납품합니다. 발주 수량에 따라 수량할인을 고려하여 납품가가 달라집니다. \n",
    "1000개 미만은 수량할인이 적용되지 않습니다. \n",
    "1000개부터 1500개까지 5%, 1500개 초과 2000개까지 10%를 할인합니다. \n",
    "2000개 초과부터는 20%를 할인합니다. \n",
    "발주수량을 사용자로부터 입력 받고 총 발주금액을 출력하는 프로그램을 작성"
   ]
  },
  {
   "cell_type": "code",
   "execution_count": 44,
   "id": "b03c3600-020b-4261-904e-c2e0f0d43c68",
   "metadata": {},
   "outputs": [
    {
     "name": "stdout",
     "output_type": "stream",
     "text": [
      "실행결과: \n"
     ]
    },
    {
     "name": "stdin",
     "output_type": "stream",
     "text": [
      "발주 수량을 입력하세요 999\n"
     ]
    },
    {
     "name": "stdout",
     "output_type": "stream",
     "text": [
      "999개를 주문하셨습니다.\n",
      "할인율이 적용되지 않습니다.\n",
      "적용 할인율은 0%입니다.\n",
      "총 발주 금액은 $9990입니다.\n"
     ]
    }
   ],
   "source": [
    "print(\"실행결과: \")\n",
    "num = int(input(\"발주 수량을 입력하세요\"))\n",
    "print(num,\"개를 주문하셨습니다.\", sep =\"\" )\n",
    "\n",
    "if num < 1000: \n",
    "    rate = 0\n",
    "    print(\"할인율이 적용되지 않습니다.\")\n",
    "elif 1000 <= num <= 1500:\n",
    "    rate = 0.05\n",
    "elif 1500 < num <= 2000:\n",
    "    rate = 0.1\n",
    "elif num > 2000:\n",
    "    rate = 0.2\n",
    "order_price =  int(num*(1-rate)*10)\n",
    "print(\"적용 할인율은 \", int(rate*100), \"%입니다.\", sep =\"\")\n",
    "print(\"총 발주 금액은 $\", order_price , \"입니다.\", sep =\"\" )"
   ]
  },
  {
   "cell_type": "markdown",
   "id": "810d9678-3369-449d-b599-13ab6093c7f2",
   "metadata": {},
   "source": [
    "## 연습문제 8"
   ]
  },
  {
   "cell_type": "code",
   "execution_count": 52,
   "id": "86091ca2-a0be-4bfa-a3f1-60a76adc1996",
   "metadata": {},
   "outputs": [
    {
     "name": "stdout",
     "output_type": "stream",
     "text": [
      "실행결과:\n"
     ]
    },
    {
     "name": "stdin",
     "output_type": "stream",
     "text": [
      "주민번호 뒷자리를 입력하세요 21\n"
     ]
    },
    {
     "name": "stdout",
     "output_type": "stream",
     "text": [
      "자리수를 잘못 입력했습니다.\n"
     ]
    }
   ],
   "source": [
    "print(\"실행결과:\")\n",
    "num = list(map(int, input(\"주민번호 뒷자리를 입력하세요\")))\n",
    "\n",
    "if len(num) != 7:\n",
    "    print(\"자리수를 잘못 입력했습니다.\")\n",
    "elif num[0] == 1 or num[0] == 3:\n",
    "    print(\"남자\")\n",
    "elif num[0] == 2 or num[0] == 4:\n",
    "    print(\"여자\")\n",
    "else:\n",
    "    print(\"잘못된 입력입니다.\")"
   ]
  },
  {
   "cell_type": "markdown",
   "id": "5d847a1e-4252-4e14-ac3d-6b9eb76844c5",
   "metadata": {},
   "source": [
    "## 연습문제 9"
   ]
  },
  {
   "cell_type": "code",
   "execution_count": 71,
   "id": "85f1ef54-ac19-41c7-b523-fadcd223dfb6",
   "metadata": {},
   "outputs": [
    {
     "name": "stdout",
     "output_type": "stream",
     "text": [
      "실행결과:\n"
     ]
    },
    {
     "name": "stdin",
     "output_type": "stream",
     "text": [
      "확인할 연도를 입력하세요 1900\n"
     ]
    },
    {
     "name": "stdout",
     "output_type": "stream",
     "text": [
      "평년입니다.\n"
     ]
    }
   ],
   "source": [
    "print(\"실행결과:\")\n",
    "year = int(input(\"확인할 연도를 입력하세요\"))\n",
    "\n",
    "if year % 4 == 0:\n",
    "    if year % 100 == 0 and year % 400 != 0:\n",
    "        print(\"평년입니다.\")\n",
    "    else:\n",
    "        print(\"윤년입니다.\")\n",
    "else:\n",
    "    print(\"평년입니다.\")"
   ]
  },
  {
   "cell_type": "code",
   "execution_count": 80,
   "id": "a8206253-187b-40e8-981e-df36293a178a",
   "metadata": {},
   "outputs": [
    {
     "name": "stdout",
     "output_type": "stream",
     "text": [
      "실행결과:\n"
     ]
    },
    {
     "name": "stdin",
     "output_type": "stream",
     "text": [
      "확인할 연도를 입력하세요 1900\n"
     ]
    },
    {
     "name": "stdout",
     "output_type": "stream",
     "text": [
      "평년입니다.\n"
     ]
    }
   ],
   "source": [
    "## if - else 한 번만 사용해서 작성\n",
    "print(\"실행결과:\")\n",
    "year = int(input(\"확인할 연도를 입력하세요\"))\n",
    "\n",
    "if year % 4 == 0 and (year % 400 == 0 or year % 100 != 0):\n",
    "    print(\"윤년입니다.\")\n",
    "else:\n",
    "    print(\"평년입니다.\")"
   ]
  },
  {
   "cell_type": "markdown",
   "id": "216e869a-c700-41fa-891c-058b7bd0d85f",
   "metadata": {},
   "source": [
    "# **For**"
   ]
  },
  {
   "cell_type": "markdown",
   "id": "c919010b-69b4-4fac-8e32-bcee0e48d604",
   "metadata": {},
   "source": [
    "## 연습문제 1"
   ]
  },
  {
   "cell_type": "code",
   "execution_count": 81,
   "id": "c20cd80d-d1ba-45cb-8cb3-2a44039d9149",
   "metadata": {},
   "outputs": [
    {
     "name": "stdout",
     "output_type": "stream",
     "text": [
      "실행결과:\n"
     ]
    },
    {
     "name": "stdin",
     "output_type": "stream",
     "text": [
      "인사 몇 번 해드릴까요? 3\n"
     ]
    },
    {
     "name": "stdout",
     "output_type": "stream",
     "text": [
      "Hello world\n",
      "Hello world\n",
      "Hello world\n"
     ]
    }
   ],
   "source": [
    "print(\"실행결과:\")\n",
    "num = int(input(\"인사 몇 번 해드릴까요?\"))\n",
    "for i in range(num):\n",
    "    print(\"Hello world\")"
   ]
  },
  {
   "cell_type": "markdown",
   "id": "1c1d1e85-ca91-4cfc-98c1-dd61963b3026",
   "metadata": {},
   "source": [
    "## 연습문제 2"
   ]
  },
  {
   "cell_type": "code",
   "execution_count": 82,
   "id": "b88485f4-ae4a-49b3-9412-b3545f51c478",
   "metadata": {
    "scrolled": true,
    "tags": []
   },
   "outputs": [
    {
     "name": "stdout",
     "output_type": "stream",
     "text": [
      "실행결과:\n",
      "Hello world 1\n",
      "Hello world 2\n",
      "Hello world 3\n",
      "Hello world 4\n",
      "Hello world 5\n",
      "Hello world 6\n",
      "Hello world 7\n",
      "Hello world 8\n",
      "Hello world 9\n",
      "Hello world 10\n",
      "Hello world 11\n",
      "Hello world 12\n",
      "Hello world 13\n",
      "Hello world 14\n",
      "Hello world 15\n",
      "Hello world 16\n",
      "Hello world 17\n",
      "Hello world 18\n",
      "Hello world 19\n",
      "Hello world 20\n",
      "Hello world 21\n",
      "Hello world 22\n",
      "Hello world 23\n",
      "Hello world 24\n",
      "Hello world 25\n",
      "Hello world 26\n",
      "Hello world 27\n",
      "Hello world 28\n",
      "Hello world 29\n",
      "Hello world 30\n",
      "Hello world 31\n",
      "Hello world 32\n",
      "Hello world 33\n",
      "Hello world 34\n",
      "Hello world 35\n",
      "Hello world 36\n",
      "Hello world 37\n",
      "Hello world 38\n",
      "Hello world 39\n",
      "Hello world 40\n",
      "Hello world 41\n",
      "Hello world 42\n",
      "Hello world 43\n",
      "Hello world 44\n",
      "Hello world 45\n",
      "Hello world 46\n",
      "Hello world 47\n",
      "Hello world 48\n",
      "Hello world 49\n",
      "Hello world 50\n",
      "Hello world 51\n",
      "Hello world 52\n",
      "Hello world 53\n",
      "Hello world 54\n",
      "Hello world 55\n",
      "Hello world 56\n",
      "Hello world 57\n",
      "Hello world 58\n",
      "Hello world 59\n",
      "Hello world 60\n",
      "Hello world 61\n",
      "Hello world 62\n",
      "Hello world 63\n",
      "Hello world 64\n",
      "Hello world 65\n",
      "Hello world 66\n",
      "Hello world 67\n",
      "Hello world 68\n",
      "Hello world 69\n",
      "Hello world 70\n",
      "Hello world 71\n",
      "Hello world 72\n",
      "Hello world 73\n",
      "Hello world 74\n",
      "Hello world 75\n",
      "Hello world 76\n",
      "Hello world 77\n",
      "Hello world 78\n",
      "Hello world 79\n",
      "Hello world 80\n",
      "Hello world 81\n",
      "Hello world 82\n",
      "Hello world 83\n",
      "Hello world 84\n",
      "Hello world 85\n",
      "Hello world 86\n",
      "Hello world 87\n",
      "Hello world 88\n",
      "Hello world 89\n",
      "Hello world 90\n",
      "Hello world 91\n",
      "Hello world 92\n",
      "Hello world 93\n",
      "Hello world 94\n",
      "Hello world 95\n",
      "Hello world 96\n",
      "Hello world 97\n",
      "Hello world 98\n",
      "Hello world 99\n",
      "Hello world 100\n"
     ]
    }
   ],
   "source": [
    "print(\"실행결과:\")\n",
    "for i in range(1, 101):\n",
    "    print(\"Hello world\", i)"
   ]
  },
  {
   "cell_type": "markdown",
   "id": "64522281-44c5-456b-a315-e75ca7d23f61",
   "metadata": {},
   "source": [
    "## 연습문제 3"
   ]
  },
  {
   "cell_type": "code",
   "execution_count": 89,
   "id": "6b2beb9d-425a-45db-b2cd-9c037fca9b43",
   "metadata": {},
   "outputs": [
    {
     "name": "stdout",
     "output_type": "stream",
     "text": [
      "실행결과:\n",
      "[5, 6, 7, 8, 9]\n",
      "[0, 3, 6, 9]\n",
      "[-10, -40, -70]\n",
      "[5, 6, 7, 8, 9]\n",
      "[0, 3, 6, 9]\n",
      "[-10, -40, -70]\n"
     ]
    }
   ],
   "source": [
    "print(\"실행결과:\")\n",
    "\n",
    "print([i for i in range(5, 10)])\n",
    "print([i for i in range(0, 10, 3)])\n",
    "print([i for i in range(-10, -80, -30)])\n",
    "\n",
    "print(list(range(5,10)))\n",
    "print(list(range(0,10,3)))\n",
    "print(list(range(-10,-100,-30)))"
   ]
  },
  {
   "cell_type": "markdown",
   "id": "809414b0-7a27-497f-b983-1c8ec7f748d0",
   "metadata": {},
   "source": [
    "## 연습문제 4"
   ]
  },
  {
   "cell_type": "code",
   "execution_count": 121,
   "id": "f68624a3-1a8e-480c-ad3d-fe27422309c8",
   "metadata": {},
   "outputs": [
    {
     "name": "stdout",
     "output_type": "stream",
     "text": [
      "실행결과: \n"
     ]
    },
    {
     "name": "stdin",
     "output_type": "stream",
     "text": [
      "자연수 하나 입력해 주세요 6\n"
     ]
    },
    {
     "name": "stdout",
     "output_type": "stream",
     "text": [
      "6\t6\t6\t6\t6\t6\t\n",
      "5\t5\t5\t5\t5\t\n",
      "4\t4\t4\t4\t\n",
      "3\t3\t3\t\n",
      "2\t2\t\n",
      "1\t\n"
     ]
    }
   ],
   "source": [
    "print(\"실행결과: \")\n",
    "num = int(input(\"자연수 하나 입력해 주세요\"))\n",
    "\n",
    "for i in range(num, 0, -1):\n",
    "    for j in range(i):\n",
    "        print(i, end = \"\\t\")\n",
    "    print()"
   ]
  },
  {
   "cell_type": "markdown",
   "id": "34903386-32ea-4b44-9069-47ca378c2669",
   "metadata": {},
   "source": [
    "``` python\n",
    "for _ in range(6):\n",
    "    print(6, end = \"\\t\")\n",
    "print()\n",
    "for _ in range(5):\n",
    "    print(5, end = \"\\t\")\n",
    "print()\n",
    "for _ in range(4):\n",
    "    print(4, end = \"\\t\")\n",
    "print()\n",
    "for _ in range(3):\n",
    "    print(3, end = \"\\t\")\n",
    "print()\n",
    "for _ in range(2):\n",
    "    print(2, end = \"\\t\")\n",
    "print()\n",
    "for _ in range(1):\n",
    "    print(1, end = \"\\t\")\n",
    "print()\n",
    "```"
   ]
  },
  {
   "cell_type": "code",
   "execution_count": 140,
   "id": "79efce88-cb49-4207-97e9-d5c5a90e1b71",
   "metadata": {},
   "outputs": [
    {
     "name": "stdout",
     "output_type": "stream",
     "text": [
      "실행결과: \n"
     ]
    },
    {
     "name": "stdin",
     "output_type": "stream",
     "text": [
      "자연수 하나 입력해 주세요 10\n"
     ]
    },
    {
     "name": "stdout",
     "output_type": "stream",
     "text": [
      "           \n",
      "          *\n",
      "         ***\n",
      "        *****\n",
      "       *******\n",
      "      *********\n",
      "     ***********\n",
      "    *************\n",
      "   ***************\n",
      "  *****************\n"
     ]
    }
   ],
   "source": [
    "print(\"실행결과: \")\n",
    "num = int(input(\"자연수 하나 입력해 주세요\"))\n",
    "\n",
    "for i in range(num):\n",
    "    print(\" \" * (num-i), \"*\"*(i*2 -1))"
   ]
  },
  {
   "cell_type": "code",
   "execution_count": 155,
   "id": "987ec444-93e6-4e13-b162-e5076c9ce272",
   "metadata": {},
   "outputs": [
    {
     "name": "stdout",
     "output_type": "stream",
     "text": [
      "실행결과: \n",
      "* * * * * * * * * * \n",
      "*                 *\n",
      "*                 *\n",
      "*                 *\n",
      "*                 *\n",
      "*                 *\n",
      "*                 *\n",
      "*                 *\n",
      "*                 *\n",
      "* * * * * * * * * * \n"
     ]
    }
   ],
   "source": [
    "print(\"실행결과: \")\n",
    "\n",
    "for i in range(10):\n",
    "    if i == 0 or i == 9:\n",
    "        print(\"* \" * 10)\n",
    "    else:\n",
    "        print(\"*                 *\")"
   ]
  },
  {
   "cell_type": "markdown",
   "id": "999af1fc-15e5-4c94-844a-037ce24deb12",
   "metadata": {},
   "source": [
    "## 연습문제 5"
   ]
  },
  {
   "cell_type": "code",
   "execution_count": 196,
   "id": "d987e4f0-b39f-4182-bdb8-8d1de7dd5d3f",
   "metadata": {},
   "outputs": [
    {
     "name": "stdin",
     "output_type": "stream",
     "text": [
      "1부터 입력한 자연수까지의 모든 홀수의 합을 구합니다. 100\n"
     ]
    },
    {
     "name": "stdout",
     "output_type": "stream",
     "text": [
      "1 + 3 + 5 + 7 + 9 + 11 + 13 + 15 + 17 + 19 + 21 + 23 + 25 + 27 + 29 + 31 + 33 + 35 + 37 + 39 + 41 + 43 + 45 + 47 + 49 + 51 + 53 + 55 + 57 + 59 + 61 + 63 + 65 + 67 + 69 + 71 + 73 + 75 + 77 + 79 + 81 + 83 + 85 + 87 + 89 + 91 + 93 + 95 + 97 + 99 = 2500\n"
     ]
    }
   ],
   "source": [
    "n = int(input(\"1부터 입력한 자연수까지의 모든 홀수의 합을 구합니다.\"))\n",
    "sum = 1\n",
    "print(1, end = \"\")\n",
    "for i in range(2, n + 1):\n",
    "    if i % 2 != 0:\n",
    "        sum += i \n",
    "        print(\" +\", i , end = \"\")\n",
    "\n",
    "print(\" =\", sum)"
   ]
  },
  {
   "cell_type": "code",
   "execution_count": 197,
   "id": "9c596282-c9b1-44bc-b0df-d91fd0cf0b0e",
   "metadata": {},
   "outputs": [
    {
     "name": "stdin",
     "output_type": "stream",
     "text": [
      "1부터 입력한 자연수까지의 모든 홀수의 합을 구합니다. 100\n"
     ]
    },
    {
     "name": "stdout",
     "output_type": "stream",
     "text": [
      "1 + 3 + 5 + 7 + 9 + 11 + 13 + 15 + 17 + 19 + 21 + 23 + 25 + 27 + 29 + 31 + 33 + 35 + 37 + 39 + 41 + 43 + 45 + 47 + 49 + 51 + 53 + 55 + 57 + 59 + 61 + 63 + 65 + 67 + 69 + 71 + 73 + 75 + 77 + 79 + 81 + 83 + 85 + 87 + 89 + 91 + 93 + 95 + 97 + 99 = 2500\n"
     ]
    }
   ],
   "source": [
    "n = int(input(\"1부터 입력한 자연수까지의 모든 홀수의 합을 구합니다.\"))\n",
    "sum = 0\n",
    "for i in range(1, n + 1):\n",
    "    if i % 2 != 0:\n",
    "        sum += i\n",
    "        if i == n or i == (n-1):\n",
    "            print(i, end = \"\")\n",
    "        else:\n",
    "            print(i, \"+ \", end = \"\")\n",
    "\n",
    "print(\" =\", sum)"
   ]
  },
  {
   "cell_type": "code",
   "execution_count": 198,
   "id": "e32f3bdd-4b6c-4262-94fb-2bc8c5fbc8f2",
   "metadata": {},
   "outputs": [
    {
     "name": "stdin",
     "output_type": "stream",
     "text": [
      "1부터 입력한 자연수까지의 모든 홀수의 합을 구합니다. 100\n"
     ]
    },
    {
     "name": "stdout",
     "output_type": "stream",
     "text": [
      "1 + 3 + 5 + 7 + 9 + 11 + 13 + 15 + 17 + 19 + 21 + 23 + 25 + 27 + 29 + 31 + 33 + 35 + 37 + 39 + 41 + 43 + 45 + 47 + 49 + 51 + 53 + 55 + 57 + 59 + 61 + 63 + 65 + 67 + 69 + 71 + 73 + 75 + 77 + 79 + 81 + 83 + 85 + 87 + 89 + 91 + 93 + 95 + 97 + 99 = 2500\n"
     ]
    }
   ],
   "source": [
    "n = int(input(\"1부터 입력한 자연수까지의 모든 홀수의 합을 구합니다.\"))\n",
    "sum = 0\n",
    "for i in range(1, n + 1):\n",
    "    if i % 2 != 0:\n",
    "        sum += i\n",
    "        if i == n or i == (n-1):\n",
    "            print(i, end = \" = \")\n",
    "        else:\n",
    "            print(i, end = \" + \")\n",
    "\n",
    "print(sum)"
   ]
  },
  {
   "cell_type": "markdown",
   "id": "57a31cdf-e640-4c1f-9536-f7cb1d0126b2",
   "metadata": {},
   "source": [
    "## 연습문제 6"
   ]
  },
  {
   "cell_type": "code",
   "execution_count": 208,
   "id": "f1f8054f-3861-4d5a-acbf-e386e736c119",
   "metadata": {},
   "outputs": [
    {
     "name": "stdout",
     "output_type": "stream",
     "text": [
      "실행결과:\n"
     ]
    },
    {
     "name": "stdin",
     "output_type": "stream",
     "text": [
      "계승을 구할 숫자를 입력하시오 7\n"
     ]
    },
    {
     "name": "stdout",
     "output_type": "stream",
     "text": [
      "5040\n"
     ]
    }
   ],
   "source": [
    "print(\"실행결과:\")\n",
    "n = int(input(\"계승을 구할 숫자를 입력하시오\"))\n",
    "fact = 1\n",
    "for i in range(1, n + 1):\n",
    "    fact *= i\n",
    "print(fact)"
   ]
  },
  {
   "cell_type": "code",
   "execution_count": 219,
   "id": "bcdb5038-37a1-4f84-ba38-127b2e676777",
   "metadata": {},
   "outputs": [
    {
     "name": "stdout",
     "output_type": "stream",
     "text": [
      "24\n"
     ]
    }
   ],
   "source": [
    "def fact(n):\n",
    "    if n > 1:\n",
    "        return n * fact(n-1)\n",
    "    else:\n",
    "        return 1\n",
    "print(fact(4))"
   ]
  },
  {
   "cell_type": "markdown",
   "id": "04c535e9-9a10-48df-8628-3f8a67d3d9ec",
   "metadata": {},
   "source": [
    "## 연습문제 7\n",
    "제시된 리스트의 값을 for문을 활용하여 10배씩 증가시킨 후 아래의 실행 결과와 같이 출력  \n",
    "x = [10, -42, 25, 103, 21, 77, 24]  \n",
    "\n",
    "실행결과:  \n",
    "100 -420 250 1030 210 770 240 "
   ]
  },
  {
   "cell_type": "code",
   "execution_count": 222,
   "id": "031be7b3-9414-4d34-9fb9-5b4b99fbf8f3",
   "metadata": {},
   "outputs": [
    {
     "name": "stdout",
     "output_type": "stream",
     "text": [
      "100 -420 250 1030 210 770 240 "
     ]
    }
   ],
   "source": [
    "x = [10, -42, 25, 103, 21, 77, 24]\n",
    "for i in x:\n",
    "    print(i*10, end = \" \")"
   ]
  },
  {
   "cell_type": "markdown",
   "id": "233f10a7-5bd9-4cb3-8b27-4dd3a66d51be",
   "metadata": {},
   "source": [
    "## 연습문제 8\n",
    "사용자로부터 자연수를 입력받아 그 숫자의 구구단을 출력하는 프로그램을 구현하기"
   ]
  },
  {
   "cell_type": "code",
   "execution_count": 231,
   "id": "9909649a-8709-44a4-9612-a739d182cd2f",
   "metadata": {},
   "outputs": [
    {
     "name": "stdout",
     "output_type": "stream",
     "text": [
      "실행결과:\n"
     ]
    },
    {
     "name": "stdin",
     "output_type": "stream",
     "text": [
      "구구단을 알려드립니다. 숫자를 입력하세요 4\n"
     ]
    },
    {
     "name": "stdout",
     "output_type": "stream",
     "text": [
      "4 * 1 = 4\n",
      "4 * 2 = 8\n",
      "4 * 3 = 12\n",
      "4 * 4 = 16\n",
      "4 * 5 = 20\n",
      "4 * 6 = 24\n",
      "4 * 7 = 28\n",
      "4 * 8 = 32\n",
      "4 * 9 = 36\n"
     ]
    }
   ],
   "source": [
    "print(\"실행결과:\")\n",
    "n = int(input(\"구구단을 알려드립니다. 숫자를 입력하세요\"))\n",
    "for i in range(1, 10):\n",
    "    print(n,\"*\", i, \"=\", i*n)"
   ]
  },
  {
   "cell_type": "markdown",
   "id": "93ecef43-5543-4365-b50e-c85bfe3c9c73",
   "metadata": {},
   "source": [
    "## 연습문제 9\n",
    "사용자로부터 자연수를 입력 받아 1부터 입력된 자연수까지의 합을 구하는 프로그램을 구현하기"
   ]
  },
  {
   "cell_type": "code",
   "execution_count": 1,
   "id": "2ccc65c4-486f-45ca-a036-24fe48dd434c",
   "metadata": {},
   "outputs": [
    {
     "name": "stdout",
     "output_type": "stream",
     "text": [
      "실행 결과:\n"
     ]
    },
    {
     "name": "stdin",
     "output_type": "stream",
     "text": [
      "자연수를 입력하세요 21\n"
     ]
    },
    {
     "name": "stdout",
     "output_type": "stream",
     "text": [
      "231\n"
     ]
    }
   ],
   "source": [
    "print(\"실행 결과:\")\n",
    "\n",
    "n = int(input(\"자연수를 입력하세요\"))\n",
    "sum = 0\n",
    "for i in range(1, n+1):\n",
    "    sum += i    \n",
    "print(sum)"
   ]
  },
  {
   "cell_type": "markdown",
   "id": "fdae2b72-03ff-4e42-be3a-d25c156a29c8",
   "metadata": {},
   "source": [
    "## 연습문제 10\n",
    "for문 안에 for문을 중첩하여 \"\\*\" 문자로 5\\*5 사각형을 그려보세요"
   ]
  },
  {
   "cell_type": "code",
   "execution_count": 7,
   "id": "8bfaba9b-fe2f-459c-a6a2-970361709c47",
   "metadata": {},
   "outputs": [
    {
     "name": "stdout",
     "output_type": "stream",
     "text": [
      "실행결과:\n",
      "*****\n",
      "*****\n",
      "*****\n",
      "*****\n",
      "*****\n"
     ]
    }
   ],
   "source": [
    "# 이중 for문\n",
    "print(\"실행결과:\")\n",
    "for i in range(5):\n",
    "    for j in range(5):\n",
    "        print(\"*\", end = \"\")\n",
    "    print()"
   ]
  },
  {
   "cell_type": "code",
   "execution_count": 9,
   "id": "99569ac0-bc10-4759-8c93-94a58472f2b7",
   "metadata": {},
   "outputs": [
    {
     "name": "stdout",
     "output_type": "stream",
     "text": [
      "실행결과:\n",
      "*****\n",
      "*****\n",
      "*****\n",
      "*****\n",
      "*****\n"
     ]
    }
   ],
   "source": [
    "# 단일 for문\n",
    "print(\"실행결과:\")\n",
    "for i in range(5):\n",
    "    print(\"*****\")"
   ]
  },
  {
   "cell_type": "markdown",
   "id": "c4d25af4-ea14-462a-a4c0-4798187cd423",
   "metadata": {},
   "source": [
    "# **while**"
   ]
  },
  {
   "cell_type": "markdown",
   "id": "7ba33df2-04ee-4bb1-950b-a24aa2cfcad1",
   "metadata": {},
   "source": [
    "## 연습문제 1"
   ]
  },
  {
   "cell_type": "code",
   "execution_count": 11,
   "id": "39b44efb-552e-417c-bcc1-dd99759255e3",
   "metadata": {},
   "outputs": [
    {
     "name": "stdout",
     "output_type": "stream",
     "text": [
      "2\t4\t6\t8\t10\t12\t14\t16\t18\t20\t22\t24\t26\t28\t30\t32\t34\t36\t38\t40\t42\t44\t46\t48\t50\t52\t54\t56\t58\t60\t62\t64\t66\t68\t70\t72\t74\t76\t78\t80\t82\t84\t86\t88\t90\t92\t94\t96\t98\t100\t"
     ]
    }
   ],
   "source": [
    "i = 2\n",
    "while i <= 100:\n",
    "    print(i, end = '\\t')\n",
    "    i += 2"
   ]
  },
  {
   "cell_type": "code",
   "execution_count": 13,
   "id": "dbe0cd24-fc88-4601-91a1-927794efdf71",
   "metadata": {},
   "outputs": [
    {
     "name": "stdin",
     "output_type": "stream",
     "text": [
      "구구단을 알려드립니다. 숫자를 입력하세요 5\n"
     ]
    },
    {
     "name": "stdout",
     "output_type": "stream",
     "text": [
      "5 * 1 = 5\n",
      "5 * 2 = 10\n",
      "5 * 3 = 15\n",
      "5 * 4 = 20\n",
      "5 * 5 = 25\n",
      "5 * 6 = 30\n",
      "5 * 7 = 35\n",
      "5 * 8 = 40\n",
      "5 * 9 = 45\n"
     ]
    }
   ],
   "source": [
    "n = int(input(\"구구단을 알려드립니다. 숫자를 입력하세요\"))\n",
    "i = 1\n",
    "while i <= 9:\n",
    "    print(n,\"*\", i, \"=\", n * i)\n",
    "    i += 1"
   ]
  },
  {
   "cell_type": "markdown",
   "id": "e245ec04-5fbc-4ce0-bd25-f09a1414e27d",
   "metadata": {},
   "source": [
    "## 연습문제 2\n",
    "사용자로부터 학생의 숫자와 학생 성적을 입력 받는다. 학생 성적 평균을 구하는 프로그램을 while 문으로 구현"
   ]
  },
  {
   "cell_type": "code",
   "execution_count": 48,
   "id": "47e964de-6ec2-449e-a461-cb60f2d60204",
   "metadata": {},
   "outputs": [
    {
     "name": "stdout",
     "output_type": "stream",
     "text": [
      "실행결과: \n"
     ]
    },
    {
     "name": "stdin",
     "output_type": "stream",
     "text": [
      "학생의 수: 3\n",
      "1번 학생의 점수: 77\n",
      "2번 학생의 점수: 88\n",
      "3번 학생의 점수: 99\n"
     ]
    },
    {
     "name": "stdout",
     "output_type": "stream",
     "text": [
      "평균: 88.0점\n"
     ]
    }
   ],
   "source": [
    "print(\"실행결과: \")\n",
    "\n",
    "student = int(input(\"학생의 수:\"))\n",
    "i = 1\n",
    "sum = 0\n",
    "while i <= student :\n",
    "    score = int(input(str(i)+ \"번 학생의 점수:\"))\n",
    "    sum += score\n",
    "    i += 1\n",
    "print(\"평균: \", sum/student, \"점\", sep = \"\") "
   ]
  },
  {
   "cell_type": "code",
   "execution_count": 51,
   "id": "c3efb29b-d73b-466b-b308-8addf727635d",
   "metadata": {},
   "outputs": [
    {
     "name": "stdout",
     "output_type": "stream",
     "text": [
      "실행결과: \n"
     ]
    },
    {
     "name": "stdin",
     "output_type": "stream",
     "text": [
      "학생의 수: 3\n",
      "학생의 점수 77\n",
      "학생의 점수 88\n",
      "학생의 점수 99\n"
     ]
    },
    {
     "ename": "KeyboardInterrupt",
     "evalue": "Interrupted by user",
     "output_type": "error",
     "traceback": [
      "\u001b[1;31m---------------------------------------------------------------------------\u001b[0m",
      "\u001b[1;31mKeyboardInterrupt\u001b[0m                         Traceback (most recent call last)",
      "\u001b[1;32m<ipython-input-51-441885a63df6>\u001b[0m in \u001b[0;36m<module>\u001b[1;34m\u001b[0m\n\u001b[0;32m      5\u001b[0m \u001b[0mi\u001b[0m \u001b[1;33m=\u001b[0m\u001b[1;36m0\u001b[0m\u001b[1;33m\u001b[0m\u001b[1;33m\u001b[0m\u001b[0m\n\u001b[0;32m      6\u001b[0m \u001b[1;32mwhile\u001b[0m \u001b[0mi\u001b[0m \u001b[1;33m<=\u001b[0m \u001b[0mlen\u001b[0m\u001b[1;33m(\u001b[0m\u001b[0mscore\u001b[0m\u001b[1;33m)\u001b[0m \u001b[1;33m:\u001b[0m\u001b[1;33m\u001b[0m\u001b[1;33m\u001b[0m\u001b[0m\n\u001b[1;32m----> 7\u001b[1;33m     \u001b[0mscore\u001b[0m\u001b[1;33m.\u001b[0m\u001b[0mappend\u001b[0m\u001b[1;33m(\u001b[0m\u001b[0mint\u001b[0m\u001b[1;33m(\u001b[0m\u001b[0minput\u001b[0m\u001b[1;33m(\u001b[0m\u001b[1;34m\"학생의 점수\"\u001b[0m\u001b[1;33m)\u001b[0m\u001b[1;33m)\u001b[0m\u001b[1;33m)\u001b[0m\u001b[1;33m\u001b[0m\u001b[1;33m\u001b[0m\u001b[0m\n\u001b[0m\u001b[0;32m      8\u001b[0m     \u001b[0msum\u001b[0m \u001b[1;33m+=\u001b[0m \u001b[0mscore\u001b[0m\u001b[1;33m[\u001b[0m\u001b[0mi\u001b[0m\u001b[1;33m]\u001b[0m\u001b[1;33m\u001b[0m\u001b[1;33m\u001b[0m\u001b[0m\n\u001b[0;32m      9\u001b[0m     \u001b[0mi\u001b[0m \u001b[1;33m+=\u001b[0m \u001b[1;36m1\u001b[0m\u001b[1;33m\u001b[0m\u001b[1;33m\u001b[0m\u001b[0m\n",
      "\u001b[1;32m~\\anaconda3\\lib\\site-packages\\ipykernel\\kernelbase.py\u001b[0m in \u001b[0;36mraw_input\u001b[1;34m(self, prompt)\u001b[0m\n\u001b[0;32m    858\u001b[0m                 \u001b[1;34m\"raw_input was called, but this frontend does not support input requests.\"\u001b[0m\u001b[1;33m\u001b[0m\u001b[1;33m\u001b[0m\u001b[0m\n\u001b[0;32m    859\u001b[0m             )\n\u001b[1;32m--> 860\u001b[1;33m         return self._input_request(str(prompt),\n\u001b[0m\u001b[0;32m    861\u001b[0m             \u001b[0mself\u001b[0m\u001b[1;33m.\u001b[0m\u001b[0m_parent_ident\u001b[0m\u001b[1;33m,\u001b[0m\u001b[1;33m\u001b[0m\u001b[1;33m\u001b[0m\u001b[0m\n\u001b[0;32m    862\u001b[0m             \u001b[0mself\u001b[0m\u001b[1;33m.\u001b[0m\u001b[0m_parent_header\u001b[0m\u001b[1;33m,\u001b[0m\u001b[1;33m\u001b[0m\u001b[1;33m\u001b[0m\u001b[0m\n",
      "\u001b[1;32m~\\anaconda3\\lib\\site-packages\\ipykernel\\kernelbase.py\u001b[0m in \u001b[0;36m_input_request\u001b[1;34m(self, prompt, ident, parent, password)\u001b[0m\n\u001b[0;32m    902\u001b[0m             \u001b[1;32mexcept\u001b[0m \u001b[0mKeyboardInterrupt\u001b[0m\u001b[1;33m:\u001b[0m\u001b[1;33m\u001b[0m\u001b[1;33m\u001b[0m\u001b[0m\n\u001b[0;32m    903\u001b[0m                 \u001b[1;31m# re-raise KeyboardInterrupt, to truncate traceback\u001b[0m\u001b[1;33m\u001b[0m\u001b[1;33m\u001b[0m\u001b[1;33m\u001b[0m\u001b[0m\n\u001b[1;32m--> 904\u001b[1;33m                 \u001b[1;32mraise\u001b[0m \u001b[0mKeyboardInterrupt\u001b[0m\u001b[1;33m(\u001b[0m\u001b[1;34m\"Interrupted by user\"\u001b[0m\u001b[1;33m)\u001b[0m \u001b[1;32mfrom\u001b[0m \u001b[1;32mNone\u001b[0m\u001b[1;33m\u001b[0m\u001b[1;33m\u001b[0m\u001b[0m\n\u001b[0m\u001b[0;32m    905\u001b[0m             \u001b[1;32mexcept\u001b[0m \u001b[0mException\u001b[0m \u001b[1;32mas\u001b[0m \u001b[0me\u001b[0m\u001b[1;33m:\u001b[0m\u001b[1;33m\u001b[0m\u001b[1;33m\u001b[0m\u001b[0m\n\u001b[0;32m    906\u001b[0m                 \u001b[0mself\u001b[0m\u001b[1;33m.\u001b[0m\u001b[0mlog\u001b[0m\u001b[1;33m.\u001b[0m\u001b[0mwarning\u001b[0m\u001b[1;33m(\u001b[0m\u001b[1;34m\"Invalid Message:\"\u001b[0m\u001b[1;33m,\u001b[0m \u001b[0mexc_info\u001b[0m\u001b[1;33m=\u001b[0m\u001b[1;32mTrue\u001b[0m\u001b[1;33m)\u001b[0m\u001b[1;33m\u001b[0m\u001b[1;33m\u001b[0m\u001b[0m\n",
      "\u001b[1;31mKeyboardInterrupt\u001b[0m: Interrupted by user"
     ]
    },
    {
     "name": "stdin",
     "output_type": "stream",
     "text": [
      "학생의 점수 ew\n"
     ]
    }
   ],
   "source": [
    "print(\"실행결과: \")\n",
    "score = []\n",
    "student = int(input(\"학생의 수:\"))\n",
    "sum = 0\n",
    "i =0\n",
    "while i <= len(score) :\n",
    "    score.append(int(input(\"학생의 점수\")))\n",
    "    sum += score[i]\n",
    "    i += 1\n",
    "print(\"평균: \", sum/len(score), \"점\", sep = \"\") "
   ]
  },
  {
   "cell_type": "markdown",
   "id": "3d0033bd-7cca-41ab-8030-27e3df061b4a",
   "metadata": {},
   "source": [
    "## 연습문제 3\n",
    "A학급의 수학 점수가 다음과 같을 때 while문 조건식에 len()함수를 사용하여 이 학급의 평균점수를 구하는 프로그램을 구현"
   ]
  },
  {
   "cell_type": "code",
   "execution_count": 65,
   "id": "6da72324-a612-47c4-8b62-aecde260dfe4",
   "metadata": {},
   "outputs": [
    {
     "name": "stdout",
     "output_type": "stream",
     "text": [
      "79.0\n"
     ]
    }
   ],
   "source": [
    "class_a = (70, 60, 55, 75, 95, 90, 80, 80, 85, 100)\n",
    "total = 0\n",
    "i = 0\n",
    "while i < len(class_a):\n",
    "    total += class_a[i]\n",
    "    i += 1\n",
    "print(total / len(class_a))"
   ]
  },
  {
   "cell_type": "markdown",
   "id": "086844d1-b740-4cab-93c2-f67fec425fb4",
   "metadata": {},
   "source": [
    "## 연습문제 4\n",
    "0부터 100까지 자연수의 총합을 구하는 프로그램을 구현하기 \n",
    "- while 문과 break를 활용해서 작성"
   ]
  },
  {
   "cell_type": "code",
   "execution_count": 71,
   "id": "4540cec5-bc46-4aed-9e7f-9ee42359a3dc",
   "metadata": {},
   "outputs": [
    {
     "name": "stdout",
     "output_type": "stream",
     "text": [
      "5050\n"
     ]
    }
   ],
   "source": [
    "i = 0 \n",
    "total = 0\n",
    "while True:\n",
    "    total += i\n",
    "    i += 1\n",
    "    if i > 100:\n",
    "        break\n",
    "print(total)"
   ]
  },
  {
   "cell_type": "markdown",
   "id": "1945610c-b636-4aca-8bc3-1a5dca0dacab",
   "metadata": {},
   "source": [
    "## 연습문제 5\n",
    "아래 소스코드를 완성하여 0부터 100 사이의 숫자 중 3으로 끝나는 숫자만 출력되게 만드세요"
   ]
  },
  {
   "cell_type": "code",
   "execution_count": 90,
   "id": "f0aa00cb-2a2d-4437-b727-85f34c119bf4",
   "metadata": {},
   "outputs": [
    {
     "name": "stdout",
     "output_type": "stream",
     "text": [
      "3 13 23 33 43 53 63 73 83 93 "
     ]
    }
   ],
   "source": [
    "i = 0\n",
    "while True:\n",
    "    if i > 100:\n",
    "        break\n",
    "    i += 1\n",
    "    if i % 10 != 3: \n",
    "        continue\n",
    "    print(i, end = \" \")\n",
    "    \n",
    "    "
   ]
  },
  {
   "cell_type": "code",
   "execution_count": 95,
   "id": "908e38e7-5745-47ec-9a4f-153b712996e5",
   "metadata": {},
   "outputs": [
    {
     "name": "stdout",
     "output_type": "stream",
     "text": [
      "3 13 23 33 43 53 63 73 83 93 "
     ]
    }
   ],
   "source": [
    "i = 0\n",
    "while True:\n",
    "    if i % 10 != 3:\n",
    "        i += 1\n",
    "        continue\n",
    "    if i > 100:\n",
    "        break\n",
    "    print(i, end = \" \")\n",
    "    i += 1"
   ]
  },
  {
   "cell_type": "markdown",
   "id": "4307f077-4cec-4a84-8a6b-a30e5b1fa09d",
   "metadata": {},
   "source": [
    "## 연습문제 6\n",
    "1부터 10까지의 순서대로 줄을 바꾸지 않고 출력 값마다 뒤에 공백을 표시"
   ]
  },
  {
   "cell_type": "code",
   "execution_count": 103,
   "id": "f1be2165-a4ff-4457-9dd0-19aa019f7f6c",
   "metadata": {},
   "outputs": [
    {
     "name": "stdout",
     "output_type": "stream",
     "text": [
      "1 2 3 4 5 6 7 8 9 10 "
     ]
    }
   ],
   "source": [
    "#for문\n",
    "for i in range(1, 11):\n",
    "    print(i, end = \" \")"
   ]
  },
  {
   "cell_type": "code",
   "execution_count": 102,
   "id": "c617d35a-a15a-4507-81fc-6fe651369588",
   "metadata": {},
   "outputs": [
    {
     "name": "stdout",
     "output_type": "stream",
     "text": [
      "1 2 3 4 5 6 7 8 9 10 "
     ]
    }
   ],
   "source": [
    "#while문\n",
    "i = 1\n",
    "while i <= 10:\n",
    "    print(i, end = \" \")\n",
    "    i += 1"
   ]
  },
  {
   "cell_type": "markdown",
   "id": "5dc59610-afc2-45f1-a8a6-4f5bc8bccd3d",
   "metadata": {},
   "source": [
    "## 연습문제 7"
   ]
  },
  {
   "cell_type": "code",
   "execution_count": 105,
   "id": "09cb9cc9-9517-4020-9d71-707f02fbb93c",
   "metadata": {},
   "outputs": [
    {
     "name": "stdout",
     "output_type": "stream",
     "text": [
      "실행결과: \n"
     ]
    },
    {
     "name": "stdin",
     "output_type": "stream",
     "text": [
      "시작하는 정수 입력:  1\n",
      "끝나는 정수 입력:  10\n"
     ]
    },
    {
     "name": "stdout",
     "output_type": "stream",
     "text": [
      "1 부터 10 까지의 합은 55 입니다.\n"
     ]
    }
   ],
   "source": [
    "print(\"실행결과: \")\n",
    "\n",
    "n = int(input(\"시작하는 정수 입력: \"))\n",
    "m = int(input(\"끝나는 정수 입력: \"))\n",
    "total = 0\n",
    "for i in range(n, m+1):\n",
    "    total += i\n",
    "print(n,\"부터\", m, \"까지의 합은\", total, \"입니다.\")"
   ]
  },
  {
   "cell_type": "code",
   "execution_count": 107,
   "id": "ac9fa874-dc23-4e50-b281-6b6b61572ce2",
   "metadata": {},
   "outputs": [
    {
     "name": "stdout",
     "output_type": "stream",
     "text": [
      "실행결과: \n"
     ]
    },
    {
     "name": "stdin",
     "output_type": "stream",
     "text": [
      "시작하는 정수 입력:  1\n",
      "끝나는 정수 입력:  10\n"
     ]
    },
    {
     "name": "stdout",
     "output_type": "stream",
     "text": [
      "1 부터 10 까지의 합은 55 입니다.\n",
      "1부터 10까지의 합은 55입니다.\n"
     ]
    }
   ],
   "source": [
    "print(\"실행결과: \")\n",
    "\n",
    "n = int(input(\"시작하는 정수 입력: \"))\n",
    "m = int(input(\"끝나는 정수 입력: \"))\n",
    "total = 0\n",
    "i = n\n",
    "while i <= m:\n",
    "    total += i\n",
    "    i += 1\n",
    "print(n,\"부터\", m, \"까지의 합은\", total, \"입니다.\")"
   ]
  },
  {
   "cell_type": "markdown",
   "id": "84bacdfc-a469-455d-acae-27616d148d70",
   "metadata": {},
   "source": [
    "##### n, m, total은 변수명  \n",
    "##### f스트링은 3.6버전부터 지원가능 "
   ]
  },
  {
   "cell_type": "code",
   "execution_count": 108,
   "id": "862a17e4-de21-4333-b827-ae026a2ecbbc",
   "metadata": {},
   "outputs": [
    {
     "name": "stdout",
     "output_type": "stream",
     "text": [
      "1부터 10까지의 합은 55입니다.\n"
     ]
    }
   ],
   "source": [
    "print(f'{n}부터 {m}까지의 합은 {total}입니다.')"
   ]
  },
  {
   "cell_type": "markdown",
   "id": "39f60453-707a-429f-8ad6-d4e648a2c37a",
   "metadata": {},
   "source": [
    "## 연습문제 8\n",
    "두 자연수 n부터 m을 입력뱓고, n부터 m까지의 수 중 짝수들의 제곱의 합을 구하세요"
   ]
  },
  {
   "cell_type": "code",
   "execution_count": 121,
   "id": "58a632b6-a01b-4470-a77c-cfc6d2e411c2",
   "metadata": {},
   "outputs": [
    {
     "name": "stdout",
     "output_type": "stream",
     "text": [
      "실행결과\n"
     ]
    },
    {
     "name": "stdin",
     "output_type": "stream",
     "text": [
      "시작하는 정수 입력: 4\n",
      "끝나는 정수 입력: 7\n"
     ]
    },
    {
     "name": "stdout",
     "output_type": "stream",
     "text": [
      "4부터 7까지의 합은 52입니다.\n"
     ]
    }
   ],
   "source": [
    "print(\"실행결과\")\n",
    "\n",
    "start = int(input(\"시작하는 정수 입력:\"))\n",
    "end = int(input(\"끝나는 정수 입력:\"))\n",
    "i = n\n",
    "total = 0\n",
    "while i <= end :\n",
    "    if i % 2 == 0:\n",
    "        total += (i**2)\n",
    "    i += 1\n",
    "print(f'{start}부터 {end}까지의 합은 {total}입니다.')"
   ]
  },
  {
   "cell_type": "code",
   "execution_count": 126,
   "id": "dc9ba072-3738-4351-8553-bed88ff7a6a2",
   "metadata": {},
   "outputs": [
    {
     "name": "stdout",
     "output_type": "stream",
     "text": [
      "실행결과\n"
     ]
    },
    {
     "name": "stdin",
     "output_type": "stream",
     "text": [
      "시작하는 정수 입력: 4\n",
      "끝나는 정수 입력: 7\n"
     ]
    },
    {
     "name": "stdout",
     "output_type": "stream",
     "text": [
      "4부터 7사이의 짝수 제곱의 합은 52입니다.\n"
     ]
    }
   ],
   "source": [
    "print(\"실행결과\")\n",
    "start = int(input(\"시작하는 정수 입력:\"))\n",
    "end = int(input(\"끝나는 정수 입력:\"))\n",
    "i = start\n",
    "total = 0\n",
    "while i <= end :\n",
    "    if i % 2 == 0:\n",
    "        total += (i**2)\n",
    "    i += 1\n",
    "print(f'{start}부터 {end}사이의 짝수 제곱의 합은 {total}입니다.')"
   ]
  },
  {
   "cell_type": "markdown",
   "id": "3dce54ed-79ad-4620-a3e4-69b758d3f034",
   "metadata": {},
   "source": [
    "## 연습문제 9 \n",
    "어떤 학급의 국어 점수가 다음과 같을 때 반복문을 이용하여 A학급의 평균 점수 구하기 "
   ]
  },
  {
   "cell_type": "code",
   "execution_count": 128,
   "id": "0441968b-0550-410c-900c-97106432fe8d",
   "metadata": {},
   "outputs": [
    {
     "name": "stdout",
     "output_type": "stream",
     "text": [
      "79.0\n"
     ]
    }
   ],
   "source": [
    "kor = [70, 60, 55, 75, 95, 90, 80, 80, 85, 100]\n",
    "total = 0\n",
    "for i in range(len(kor)):\n",
    "    total += kor[i]\n",
    "print(total/len(kor))"
   ]
  },
  {
   "cell_type": "code",
   "execution_count": 129,
   "id": "de62b8aa-d69a-40f4-a9a0-66f14c2ccb77",
   "metadata": {},
   "outputs": [
    {
     "name": "stdout",
     "output_type": "stream",
     "text": [
      "79.0\n"
     ]
    }
   ],
   "source": [
    "kor = [70, 60, 55, 75, 95, 90, 80, 80, 85, 100]\n",
    "total = 0\n",
    "for i in kor:\n",
    "    total += i\n",
    "print(total/len(kor))"
   ]
  },
  {
   "cell_type": "code",
   "execution_count": 127,
   "id": "f189b39a-bd29-4a3b-bdf0-b7e11870c819",
   "metadata": {},
   "outputs": [
    {
     "name": "stdout",
     "output_type": "stream",
     "text": [
      "79.0\n"
     ]
    }
   ],
   "source": [
    "kor = [70, 60, 55, 75, 95, 90, 80, 80, 85, 100]\n",
    "total = 0\n",
    "i = 0\n",
    "while i < len(kor):\n",
    "    total += kor[i]\n",
    "    i += 1\n",
    "print(total/len(kor))"
   ]
  },
  {
   "cell_type": "markdown",
   "id": "7f8ab005-6f96-4811-92fb-a036c949a21b",
   "metadata": {},
   "source": [
    "## 연습문제 10\n",
    "10 미만의 자연수에서 3과 5의 배수를 구하면 3, 5, 6, 9 입니다.  \n",
    "이들의 총합은 23입니다.   \n",
    "1000미만의 자연수에서 3의배수와 5의 배수의 총합을 구하세요.   \n",
    "(for/while 모두 작성) "
   ]
  },
  {
   "cell_type": "code",
   "execution_count": 130,
   "id": "775dad49-5bc4-4727-ba53-333426e40ed7",
   "metadata": {},
   "outputs": [
    {
     "name": "stdout",
     "output_type": "stream",
     "text": [
      "실행결과:\n",
      "233168\n"
     ]
    }
   ],
   "source": [
    "print(\"실행결과:\")\n",
    "total = 0\n",
    "for i in range(1, 1000):\n",
    "    if i % 3 == 0 or i % 5 == 0:\n",
    "        total += i\n",
    "print(total)"
   ]
  },
  {
   "cell_type": "code",
   "execution_count": 1,
   "id": "6e2ce813-69cc-49f4-8da9-f53f84a38380",
   "metadata": {},
   "outputs": [
    {
     "name": "stdout",
     "output_type": "stream",
     "text": [
      "실행결과:\n",
      "233168\n"
     ]
    }
   ],
   "source": [
    "print(\"실행결과:\")\n",
    "total = 0\n",
    "i = 1\n",
    "while i < 1000:\n",
    "    if i % 3 == 0 or i % 5 == 0:\n",
    "        total += i\n",
    "    i += 1\n",
    "print(total)"
   ]
  },
  {
   "cell_type": "markdown",
   "id": "b16ee3f3-1c66-4d44-bdb3-5c512fe6805b",
   "metadata": {},
   "source": [
    "## 연습문제 11\n",
    "5명의 시험관이 채점한 어느 학생의 실기 시험 점수를 입력 받아 scores라는 lst를 만듭니다. (split(), map(), list() 사용)  \n",
    "공정성을 위해 최고 점수와 최저점수는 제외하고 나머지 점수들의 합계를 총점으로 반영  \n",
    "이 학생의 최종 실기 평균을 구하세요"
   ]
  },
  {
   "cell_type": "code",
   "execution_count": 43,
   "id": "10fc0681-aaef-424a-8d51-45fd90ad0d27",
   "metadata": {},
   "outputs": [
    {
     "name": "stdin",
     "output_type": "stream",
     "text": [
      "실기점수를 입력하세요: 70 50 85 98 82\n"
     ]
    },
    {
     "name": "stdout",
     "output_type": "stream",
     "text": [
      "이 학생의 평균 점수는 79.0 입니다.\n"
     ]
    }
   ],
   "source": [
    "# for문\n",
    "scores = list(map(int, input(\"실기점수를 입력하세요:\").split()))\n",
    "large = scores[0]\n",
    "small = scores[0]\n",
    "total = 0\n",
    "for i in range(len(scores)):\n",
    "    total += scores[i]\n",
    "    if large < scores[i]:\n",
    "        large = scores[i]\n",
    "\n",
    "    if small > scores[i]:\n",
    "        small = scores[i]\n",
    "\n",
    "total = total - (small + large)\n",
    "print(f'이 학생의 평균 점수는 {total / (len(scores)-2)} 입니다.')"
   ]
  },
  {
   "cell_type": "code",
   "execution_count": 35,
   "id": "87a5d87d-5d09-4ae7-b3b8-43b8bbf3d75c",
   "metadata": {},
   "outputs": [
    {
     "name": "stdout",
     "output_type": "stream",
     "text": [
      "50\n",
      "98\n"
     ]
    }
   ],
   "source": [
    "print(small)\n",
    "print(large)"
   ]
  },
  {
   "cell_type": "code",
   "execution_count": 53,
   "id": "cab33737-9d58-4002-b78d-3bbca9234d7a",
   "metadata": {},
   "outputs": [
    {
     "name": "stdin",
     "output_type": "stream",
     "text": [
      "실기점수를 입력하세요: 70 50 85 98 82\n"
     ]
    },
    {
     "name": "stdout",
     "output_type": "stream",
     "text": [
      "385\n",
      "이 학생의 평균 점수는 79.0 입니다.\n"
     ]
    }
   ],
   "source": [
    "# while문\n",
    "scores = list(map(int, input(\"실기점수를 입력하세요:\").split()))\n",
    "large, small = scores[0], scores[0]\n",
    "total = 0\n",
    "i = 0\n",
    "while i < len(scores):\n",
    "    total += scores[i]\n",
    "    if large < scores[i]:\n",
    "        large = scores[i]\n",
    "        \n",
    "    if small > scores[i]:\n",
    "        small = scores[i]\n",
    "    i += 1      \n",
    "total = total - (small + large)\n",
    "print(f'이 학생의 평균 점수는 {total / (len(scores)-2)} 입니다.')"
   ]
  },
  {
   "cell_type": "code",
   "execution_count": 50,
   "id": "0a4f700c-9fe1-44db-895c-70ef036aa755",
   "metadata": {},
   "outputs": [
    {
     "name": "stdin",
     "output_type": "stream",
     "text": [
      "실기점수를 입력하세요: 70 50 85 98 82\n"
     ]
    },
    {
     "name": "stdout",
     "output_type": "stream",
     "text": [
      "이 학생의 평균 점수는 79.0 입니다.\n"
     ]
    }
   ],
   "source": [
    "scores = list(map(int, input(\"실기점수를 입력하세요:\").split())) \n",
    "tot = 0\n",
    "for i in range(len(scores)):\n",
    "    tot += scores[i]\n",
    "tot = tot - (max(scores) + min(scores))\n",
    "print(f'이 학생의 평균 점수는 {tot / (len(scores)-2)} 입니다.')"
   ]
  },
  {
   "cell_type": "markdown",
   "id": "79022a6a-12b5-400d-8225-38398b8afb3a",
   "metadata": {},
   "source": [
    "## 연습문제 12\n",
    "파이썬 대학교에서는 다음과 같이 학생들의 점수에 따라 학점을 부여  \n",
    "- 85 ~100점: A학점  \n",
    "- 70 ~ 84점: B학점  \n",
    "- 55 ~ 69점: C학점  \n",
    "- 40 ~ 54점: D학점  \n",
    "- 0 ~ 39점: F학점   \n",
    "A, B, C, D, F 학점을 받은 학생들의 수로 grade_counter라는 이름의 리스트를 만들어 출력할 수 있도록 다음의 코드를 완성   \n",
    "점수리스트 [86, 72, 98, 60, 45]"
   ]
  },
  {
   "cell_type": "code",
   "execution_count": 64,
   "id": "d7e0e370-99bb-4821-95aa-72233cb4dc1c",
   "metadata": {},
   "outputs": [
    {
     "name": "stdin",
     "output_type": "stream",
     "text": [
      "점수 리스트 86 72 98 60 45\n"
     ]
    },
    {
     "name": "stdout",
     "output_type": "stream",
     "text": [
      "[2, 1, 1, 1, 0]\n"
     ]
    }
   ],
   "source": [
    "grade = list(map(int, input(\"점수 리스트\").split()))\n",
    "grade_counter = [0, 0, 0, 0, 0]\n",
    "\n",
    "for i in grade:\n",
    "    if 85 <= i <= 100:\n",
    "        grade_counter[0]+= 1 #A학점\n",
    "    elif 70 <= i < 85:\n",
    "         grade_counter[1] += 1 #B학점\n",
    "    elif 55 <= i < 70:\n",
    "         grade_counter[2] += 1 #C학점\n",
    "    elif 40 <= i < 55: \n",
    "         grade_counter[3] += 1 #D학점\n",
    "    else:\n",
    "         grade_counter[4] += 1 #F학점\n",
    "print(grade_counter)"
   ]
  },
  {
   "cell_type": "code",
   "execution_count": 67,
   "id": "6b3be4e2-efaa-4824-b2b7-a2bab93af226",
   "metadata": {},
   "outputs": [
    {
     "name": "stdout",
     "output_type": "stream",
     "text": [
      "[2, 1, 1, 1, 0]\n"
     ]
    }
   ],
   "source": [
    "grade = [86, 72, 98, 60, 45]\n",
    "grade_counter = [0, 0, 0, 0, 0]\n",
    "\n",
    "for i in grade:\n",
    "    if i >= 85:\n",
    "        grade_counter[0] += 1 #A학점\n",
    "    elif i >= 70:\n",
    "         grade_counter[1] += 1 #B학점\n",
    "    elif i >= 55:\n",
    "         grade_counter[2] += 1 #C학점\n",
    "    elif i >= 40: \n",
    "         grade_counter[3] += 1 #D학점\n",
    "    else:\n",
    "         grade_counter[4] += 1 #F학점\n",
    "print(grade_counter)"
   ]
  },
  {
   "cell_type": "markdown",
   "id": "8e41d396-15ad-41ef-a1d7-80438304ea6f",
   "metadata": {},
   "source": [
    "## 연습문제 13"
   ]
  },
  {
   "cell_type": "code",
   "execution_count": 72,
   "id": "dade45c2-cfd2-46bc-860d-d9e26b9bc46f",
   "metadata": {},
   "outputs": [
    {
     "name": "stdout",
     "output_type": "stream",
     "text": [
      "1\t2\tFizz\t4\tBuzz\tFizz\t7\t8\tFizz\tBuzz\t11\tFizz\t13\t14\tFizzBuzz\t16\t17\tFizz\t19\tBuzz\tFizz\t22\t23\tFizz\tBuzz\t26\tFizz\t28\t29\tFizzBuzz\t31\t32\tFizz\t34\tBuzz\tFizz\t37\t38\tFizz\tBuzz\t41\tFizz\t43\t44\tFizzBuzz\t46\t47\tFizz\t49\tBuzz\tFizz\t52\t53\tFizz\tBuzz\t56\tFizz\t58\t59\tFizzBuzz\t61\t62\tFizz\t64\tBuzz\tFizz\t67\t68\tFizz\tBuzz\t71\tFizz\t73\t74\tFizzBuzz\t76\t77\tFizz\t79\tBuzz\tFizz\t82\t83\tFizz\tBuzz\t86\tFizz\t88\t89\tFizzBuzz\t91\t92\tFizz\t94\tBuzz\tFizz\t97\t98\tFizz\tBuzz\t"
     ]
    }
   ],
   "source": [
    "for i in range(1, 101):\n",
    "    if i % 15 == 0 :\n",
    "        print(\"FizzBuzz\", end = '\\t')\n",
    "    elif i % 3 == 0:\n",
    "        print(\"Fizz\", end = '\\t')\n",
    "    elif i % 5 == 0:\n",
    "        print(\"Buzz\", end = '\\t') \n",
    "    else: print(i, end = '\\t')\n"
   ]
  },
  {
   "cell_type": "code",
   "execution_count": 96,
   "id": "20a42071-2ad2-419d-8f4f-09ed414835e6",
   "metadata": {},
   "outputs": [
    {
     "name": "stdout",
     "output_type": "stream",
     "text": [
      "1\t2\tFizz\t4\tBuzz\tFizz\t7\t8\tFizz\tBuzz\t11\tFizz\t13\t14\tFizzBuzz\t16\t17\tFizz\t19\tBuzz\tFizz\t22\t23\tFizz\tBuzz\t26\tFizz\t28\t29\tFizzBuzz\t31\t32\tFizz\t34\tBuzz\tFizz\t37\t38\tFizz\tBuzz\t41\tFizz\t43\t44\tFizzBuzz\t46\t47\tFizz\t49\tBuzz\tFizz\t52\t53\tFizz\tBuzz\t56\tFizz\t58\t59\tFizzBuzz\t61\t62\tFizz\t64\tBuzz\tFizz\t67\t68\tFizz\tBuzz\t71\tFizz\t73\t74\tFizzBuzz\t76\t77\tFizz\t79\tBuzz\tFizz\t82\t83\tFizz\tBuzz\t86\tFizz\t88\t89\tFizzBuzz\t91\t92\tFizz\t94\tBuzz\tFizz\t97\t98\tFizz\tBuzz\t1\n",
      "0\n",
      "1\n"
     ]
    }
   ],
   "source": [
    "# or에서 True를 만나면 뒤에 것을 안 봐도 됨\n",
    "for i in range(1, 101):\n",
    "    print(\"Fizz\" * (i % 3 == 0) + \"Buzz\" * (i % 5 == 0) or i, end = '\\t')"
   ]
  },
  {
   "cell_type": "code",
   "execution_count": 98,
   "id": "757be0fe-c63b-4d11-a42d-b35800b21916",
   "metadata": {},
   "outputs": [
    {
     "name": "stdout",
     "output_type": "stream",
     "text": [
      "1\n",
      "0\n",
      "1\n"
     ]
    }
   ],
   "source": [
    "#빈 문자열은 False 처럼 취급된다 \n",
    "print(int(True))\n",
    "print(int(False))\n",
    "print(\"\" or 1) "
   ]
  },
  {
   "cell_type": "markdown",
   "id": "70c5f09c-0ed0-476e-901c-de17022f2e81",
   "metadata": {},
   "source": [
    "## 연습문제 14\n",
    "학생들의 이름이 들어있는 명단이 name_list라는 리스트 형태로 주어질 때 이름에 '**m**' 또는 '**h**'가 들어있는 학생의 수를 구하려고 합니다.   \n",
    "예를 들어 'jo**h**n'에는 '**h**'가 들어 있으며, '**m**att**h**ew'에는 '**m**'과 '**h**'가 모두 들어있습니다.   \n",
    "(m과 h 모두 들어있는 이름은 하나로 취급)   \n",
    "- name_list = ['matthew', 'mark', 'luke','john','paul','peter']"
   ]
  },
  {
   "cell_type": "code",
   "execution_count": 100,
   "id": "29e94aca-eefc-47b8-9943-b7b1603bbec7",
   "metadata": {},
   "outputs": [
    {
     "name": "stdout",
     "output_type": "stream",
     "text": [
      "m 또는 h가 이름에 포함된 사람은 3 명 입니다.\n"
     ]
    }
   ],
   "source": [
    "name_list = ['matthew', 'mark', 'luke','john','paul','peter']\n",
    "count = 0\n",
    "for i in name_list:\n",
    "    if 'm' in i or 'h' in i:\n",
    "        count += 1\n",
    "print(f'm 또는 h가 이름에 포함된 사람은 {count} 명 입니다.')"
   ]
  },
  {
   "cell_type": "markdown",
   "id": "0f45cde3-1781-4527-b3ba-341d06f9e8e2",
   "metadata": {},
   "source": [
    "## 연습문제 15\n",
    "총 5명의 학생이 시험을 보았습니다. 시험 점수가 60점을 넘어 합격한 사람에게만 축하메시지를 보내는 프로그램을 구현합니다.(불합격자에게는 메시지를 띄우지 않습니다.)  \n",
    "(for / while 모두 작성, continue 활용)"
   ]
  },
  {
   "cell_type": "code",
   "execution_count": 108,
   "id": "34370e3f-d65c-47e3-b919-382207d5f213",
   "metadata": {},
   "outputs": [
    {
     "name": "stdin",
     "output_type": "stream",
     "text": [
      "점수를 입력하세요 90 25 67 45 80\n"
     ]
    },
    {
     "name": "stdout",
     "output_type": "stream",
     "text": [
      "1 번 학생 축하합니다. 합격입니다.\n",
      "3 번 학생 축하합니다. 합격입니다.\n",
      "5 번 학생 축하합니다. 합격입니다.\n"
     ]
    }
   ],
   "source": [
    "student = list(map(int, input(\"점수를 입력하세요:\").split()))\n",
    "\n",
    "for i in range(len(student)):\n",
    "    if student[i] < 60:\n",
    "        continue\n",
    "    print((i+1), \"번 학생 축하합니다. 합격입니다.\")        "
   ]
  },
  {
   "cell_type": "code",
   "execution_count": 114,
   "id": "d7ff583f-3ac6-423f-89a8-a40397991a56",
   "metadata": {},
   "outputs": [
    {
     "name": "stdin",
     "output_type": "stream",
     "text": [
      "점수를 입력하세요 90 25 67 45 80\n"
     ]
    },
    {
     "name": "stdout",
     "output_type": "stream",
     "text": [
      "1 번 학생 축하합니다. 합격입니다.\n",
      "3 번 학생 축하합니다. 합격입니다.\n",
      "5 번 학생 축하합니다. 합격입니다.\n"
     ]
    }
   ],
   "source": [
    "student = list(map(int, input(\"점수를 입력하세요:\").split()))\n",
    "i = 0\n",
    "while i < len(student):\n",
    "    if student[i] < 60:\n",
    "        i += 1\n",
    "        continue \n",
    "    i += 1\n",
    "    print(i, \"번 학생 축하합니다. 합격입니다.\")"
   ]
  },
  {
   "cell_type": "markdown",
   "id": "f796e8e0-b749-4850-8973-5782115070a4",
   "metadata": {},
   "source": [
    "##### continue 없이"
   ]
  },
  {
   "cell_type": "code",
   "execution_count": 115,
   "id": "7e9a135e-1ad0-4d65-8c03-e2e2afffd1f4",
   "metadata": {},
   "outputs": [
    {
     "name": "stdin",
     "output_type": "stream",
     "text": [
      "점수를 입력하세요: 90 25 67 45 80\n"
     ]
    },
    {
     "name": "stdout",
     "output_type": "stream",
     "text": [
      "1 번 학생 축하합니다. 합격입니다.\n",
      "3 번 학생 축하합니다. 합격입니다.\n",
      "5 번 학생 축하합니다. 합격입니다.\n"
     ]
    }
   ],
   "source": [
    "student = list(map(int, input(\"점수를 입력하세요:\").split()))\n",
    "i = 0\n",
    "while i < len(student):\n",
    "    if student[i] >= 60:\n",
    "        print(i+1, \"번 학생 축하합니다. 합격입니다.\")\n",
    "    i += 1"
   ]
  },
  {
   "cell_type": "code",
   "execution_count": 200,
   "id": "6bee83da-ad1d-4fe0-9f0d-b5e5ceeab5c6",
   "metadata": {},
   "outputs": [
    {
     "name": "stdin",
     "output_type": "stream",
     "text": [
      "점수를 입력하세요: 34 34 23 34 2\n"
     ]
    }
   ],
   "source": [
    "student = list(map(int, input(\"점수를 입력하세요:\").split()))\n",
    "\n",
    "for i in range(len(student)):\n",
    "    if student[i] >= 60:\n",
    "        print((i+1), \"번 학생 축하합니다. 합격입니다.\")    "
   ]
  },
  {
   "cell_type": "markdown",
   "id": "72730411-74e9-46b7-ba12-4eb5fd4b5aa6",
   "metadata": {},
   "source": [
    "## 연습문제 17\n",
    "주어진 리스트의 순서를 뒤집으려고 합니다. 주어진 리스트는 [1, 4, 2, 3]이며, 순서를 뒤집은 리스트 [3, 2, 4, 1]입니다.   \n",
    "정수가 들어있는 리스트 arr을 뒤집어서 인쇄하도록 빈칸을 채워 전체코드를 완성"
   ]
  },
  {
   "cell_type": "code",
   "execution_count": 118,
   "id": "c3a89875-417a-4da1-932e-e92bdfaf380f",
   "metadata": {},
   "outputs": [
    {
     "name": "stdout",
     "output_type": "stream",
     "text": [
      "변환된 arr은 [3, 2, 4, 1] 입니다.\n"
     ]
    }
   ],
   "source": [
    "arr = [1, 4, 2, 3]\n",
    "left, right = 0, len(arr) - 1\n",
    "while left < right:\n",
    "    arr[left], arr[right] = arr[right], arr[left]\n",
    "    left += 1\n",
    "    right -= 1\n",
    "    \n",
    "    \n",
    "print('변환된 arr은', arr, \"입니다.\")"
   ]
  },
  {
   "cell_type": "code",
   "execution_count": 122,
   "id": "91f2d754-4c8c-40a7-8e4a-32a0db62de90",
   "metadata": {},
   "outputs": [
    {
     "name": "stdout",
     "output_type": "stream",
     "text": [
      "변환된 arr은 [4, 3, 1, 2, 0] 입니다.\n"
     ]
    }
   ],
   "source": [
    "arr = [0, 2, 1, 3, 4]\n",
    "left, right = 0, len(arr) - 1\n",
    "while left < (len(arr)//2) :\n",
    "    arr[left], arr[right] = arr[right], arr[left]\n",
    "    left += 1\n",
    "    right -= 1\n",
    "    \n",
    "print('변환된 arr은', arr, \"입니다.\")"
   ]
  },
  {
   "cell_type": "markdown",
   "id": "91235c8b-7788-4f2f-9426-9368acccb05c",
   "metadata": {},
   "source": [
    "## 연습문제 18"
   ]
  },
  {
   "cell_type": "code",
   "execution_count": 148,
   "id": "4e7e9cf5-566d-48ac-9241-0ab80e03e34b",
   "metadata": {},
   "outputs": [
    {
     "name": "stdout",
     "output_type": "stream",
     "text": [
      " 2 x 1 = 2\t 3 x 1 = 3\t 4 x 1 = 4\t 5 x 1 = 5\t 6 x 1 = 6\t 7 x 1 = 7\t 8 x 1 = 8\t 9 x 1 = 9\t\n",
      " 2 x 2 = 4\t 3 x 2 = 6\t 4 x 2 = 8\t 5 x 2 = 10\t 6 x 2 = 12\t 7 x 2 = 14\t 8 x 2 = 16\t 9 x 2 = 18\t\n",
      " 2 x 3 = 6\t 3 x 3 = 9\t 4 x 3 = 12\t 5 x 3 = 15\t 6 x 3 = 18\t 7 x 3 = 21\t 8 x 3 = 24\t 9 x 3 = 27\t\n",
      " 2 x 4 = 8\t 3 x 4 = 12\t 4 x 4 = 16\t 5 x 4 = 20\t 6 x 4 = 24\t 7 x 4 = 28\t 8 x 4 = 32\t 9 x 4 = 36\t\n",
      " 2 x 5 = 10\t 3 x 5 = 15\t 4 x 5 = 20\t 5 x 5 = 25\t 6 x 5 = 30\t 7 x 5 = 35\t 8 x 5 = 40\t 9 x 5 = 45\t\n",
      " 2 x 6 = 12\t 3 x 6 = 18\t 4 x 6 = 24\t 5 x 6 = 30\t 6 x 6 = 36\t 7 x 6 = 42\t 8 x 6 = 48\t 9 x 6 = 54\t\n",
      " 2 x 7 = 14\t 3 x 7 = 21\t 4 x 7 = 28\t 5 x 7 = 35\t 6 x 7 = 42\t 7 x 7 = 49\t 8 x 7 = 56\t 9 x 7 = 63\t\n",
      " 2 x 8 = 16\t 3 x 8 = 24\t 4 x 8 = 32\t 5 x 8 = 40\t 6 x 8 = 48\t 7 x 8 = 56\t 8 x 8 = 64\t 9 x 8 = 72\t\n",
      " 2 x 9 = 18\t 3 x 9 = 27\t 4 x 9 = 36\t 5 x 9 = 45\t 6 x 9 = 54\t 7 x 9 = 63\t 8 x 9 = 72\t 9 x 9 = 81\t\n"
     ]
    }
   ],
   "source": [
    "for i in range(1, 10):\n",
    "    for j in range(2, 10):\n",
    "        print(f' {j} x {i} = {i*j}', end = '\\t')\n",
    "    print()"
   ]
  },
  {
   "cell_type": "code",
   "execution_count": 152,
   "id": "d9f0030b-cf08-4ec3-ace1-373209812a23",
   "metadata": {},
   "outputs": [
    {
     "name": "stdout",
     "output_type": "stream",
     "text": [
      "2 x 1 = 2\t3 x 1 = 3\t4 x 1 = 4\t5 x 1 = 5\t6 x 1 = 6\t7 x 1 = 7\t8 x 1 = 8\t9 x 1 = 9\t\n",
      "2 x 2 = 4\t3 x 2 = 6\t4 x 2 = 8\t5 x 2 = 10\t6 x 2 = 12\t7 x 2 = 14\t8 x 2 = 16\t9 x 2 = 18\t\n",
      "2 x 3 = 6\t3 x 3 = 9\t4 x 3 = 12\t5 x 3 = 15\t6 x 3 = 18\t7 x 3 = 21\t8 x 3 = 24\t9 x 3 = 27\t\n",
      "2 x 4 = 8\t3 x 4 = 12\t4 x 4 = 16\t5 x 4 = 20\t6 x 4 = 24\t7 x 4 = 28\t8 x 4 = 32\t9 x 4 = 36\t\n",
      "2 x 5 = 10\t3 x 5 = 15\t4 x 5 = 20\t5 x 5 = 25\t6 x 5 = 30\t7 x 5 = 35\t8 x 5 = 40\t9 x 5 = 45\t\n",
      "2 x 6 = 12\t3 x 6 = 18\t4 x 6 = 24\t5 x 6 = 30\t6 x 6 = 36\t7 x 6 = 42\t8 x 6 = 48\t9 x 6 = 54\t\n",
      "2 x 7 = 14\t3 x 7 = 21\t4 x 7 = 28\t5 x 7 = 35\t6 x 7 = 42\t7 x 7 = 49\t8 x 7 = 56\t9 x 7 = 63\t\n",
      "2 x 8 = 16\t3 x 8 = 24\t4 x 8 = 32\t5 x 8 = 40\t6 x 8 = 48\t7 x 8 = 56\t8 x 8 = 64\t9 x 8 = 72\t\n",
      "2 x 9 = 18\t3 x 9 = 27\t4 x 9 = 36\t5 x 9 = 45\t6 x 9 = 54\t7 x 9 = 63\t8 x 9 = 72\t9 x 9 = 81\t\n"
     ]
    }
   ],
   "source": [
    "i = 0\n",
    "while i < 9 :\n",
    "    j = 1\n",
    "    i += 1\n",
    "    while j < 9:\n",
    "        j += 1\n",
    "        print(j,\"x\", i, \"=\", i*j , end = '\\t')        \n",
    "    print()    "
   ]
  },
  {
   "cell_type": "markdown",
   "id": "48712d94-6e0d-44f8-b562-71b4a2793ac4",
   "metadata": {},
   "source": [
    "# **dictionary**"
   ]
  },
  {
   "cell_type": "markdown",
   "id": "b2b25c75-739e-44e7-a465-3560afa68d9d",
   "metadata": {},
   "source": [
    "## 연습문제 1"
   ]
  },
  {
   "cell_type": "code",
   "execution_count": 175,
   "id": "b4c8721a-9765-4210-b1b1-2dbff08dc851",
   "metadata": {},
   "outputs": [
    {
     "name": "stdin",
     "output_type": "stream",
     "text": [
      "과일 이름을 입력하세요: pineapple\n"
     ]
    },
    {
     "name": "stdout",
     "output_type": "stream",
     "text": [
      "pineapple의 가격은 2000원 입니다.\n"
     ]
    }
   ],
   "source": [
    "dict_fruits = {\"apple\": 1000, \n",
    "    \"banana\": 700,\n",
    "    \"orange\": 1500,\n",
    "    \"pineapple\": 2000}\n",
    "fruit = input(\"과일 이름을 입력하세요:\")\n",
    "price = dict_fruits[fruit]\n",
    "print(f'{fruit}의 가격은 {price}원 입니다.')"
   ]
  },
  {
   "cell_type": "code",
   "execution_count": 172,
   "id": "bba6cad4-9e50-4c9d-aaf8-1fa4988d0c91",
   "metadata": {},
   "outputs": [
    {
     "name": "stdin",
     "output_type": "stream",
     "text": [
      "과일 이름을 입력하세요: 사과\n"
     ]
    },
    {
     "name": "stdout",
     "output_type": "stream",
     "text": [
      "사과의 가격은 1000원 입니다.\n"
     ]
    }
   ],
   "source": [
    "dict1 = dict( 사과 = 1000, 바나나 = 700, 오렌지 = 1500, 파인애플 = 2000 )\n",
    "name = input(\"과일 이름을 입력하세요:\")\n",
    "price = dict1[name]\n",
    "print(f'{name}의 가격은 {price}원 입니다.')"
   ]
  },
  {
   "cell_type": "markdown",
   "id": "cdc8a6f8-7386-4b89-9e1b-a1c48d3573d4",
   "metadata": {},
   "source": [
    "## 연습문제 2\n",
    "input() 함수를 통해 이름 값 여럿을 입력 받는다. 이름을 입력 받고 난 후에 이름 순서와 개수를 동일하게 몸무게 값을 입력 받는다.   \n",
    "이름(str)을 키(key)로 몸무게(float)를 값(value)으로 하는 딕셔너리 자료형을 만들고 결과를 출력해보라 "
   ]
  },
  {
   "cell_type": "code",
   "execution_count": 203,
   "id": "de13a911-2e55-4162-ad0e-39f71a949c4e",
   "metadata": {},
   "outputs": [
    {
     "name": "stdin",
     "output_type": "stream",
     "text": [
      "이름을 입력해 주세요: 뽀로로 크롱 스누피 루피\n",
      "몸무게를 입력해주세요 20.4 16.2 22.3 5.2\n"
     ]
    },
    {
     "name": "stdout",
     "output_type": "stream",
     "text": [
      "<class 'list'>\n",
      "{'뽀로로': 20.4, '크롱': 16.2, '스누피': 22.3, '루피': 5.2}\n"
     ]
    }
   ],
   "source": [
    "name = input(\"이름을 입력해 주세요:\").split()\n",
    "weight = list(map(float, input(\"몸무게를 입력해주세요\").split()))\n",
    "print(type(weight))\n",
    "dict_char = dict(zip(name, weight))\n",
    "print(dict_char)"
   ]
  },
  {
   "cell_type": "code",
   "execution_count": 206,
   "id": "5cf21cc5-9f1b-4380-9ce5-9c3371fb1a37",
   "metadata": {},
   "outputs": [
    {
     "name": "stdin",
     "output_type": "stream",
     "text": [
      "이름을 입력해 주세요: 뽀로로 스누피 크롱 루피\n",
      "몸무게를 입력해주세요 12.2 1.22 12.2 12.3\n"
     ]
    },
    {
     "name": "stdout",
     "output_type": "stream",
     "text": [
      "<map object at 0x00000252BA3443A0>\n",
      "{'뽀로로': 12.2, '스누피': 1.22, '크롱': 12.2, '루피': 12.3}\n"
     ]
    }
   ],
   "source": [
    "name = input(\"이름을 입력해 주세요:\").split()\n",
    "weight = map(float, input(\"몸무게를 입력해주세요\").split())\n",
    "print(weight)\n",
    "dict_char = dict(zip(name, list(weight)))\n",
    "print(dict_char)"
   ]
  },
  {
   "cell_type": "markdown",
   "id": "9c9de125-b978-44f3-8194-92b63d9087c4",
   "metadata": {},
   "source": [
    "**zip 안 쓰고 만들기**  \n",
    "개수가 동일하면 상관이 없는데 개수가 동일하지 않을 때 list는 index에 민감해서 안 될수도 있다   \n",
    "딕셔너리 자료형에 없는 키를 활용하여 값을 할당하면 딕셔너리 자료형에 새로운 키와 값의 쌍이 추가되는 것을 활용"
   ]
  },
  {
   "cell_type": "code",
   "execution_count": 210,
   "id": "099dc575-1f4b-4648-9076-30002e4b23d8",
   "metadata": {},
   "outputs": [
    {
     "name": "stdin",
     "output_type": "stream",
     "text": [
      "이름을 입력해 주세요: 뽀로로 루피 크롱 스누피\n",
      "몸무게를 입력해주세요 16.2 20.1 15.2 5.3\n"
     ]
    },
    {
     "name": "stdout",
     "output_type": "stream",
     "text": [
      "{'뽀로로': 16.2, '루피': 20.1, '크롱': 15.2, '스누피': 5.3}\n"
     ]
    }
   ],
   "source": [
    "#[\"뽀로로\",\"루피\",\"크롱\",\"스누피\"]\n",
    "names = input(\"이름을 입력해 주세요:\").split()\n",
    "#[20.1, 16.2, 25.2, 5.3]\n",
    "weights = list(map(float, input(\"몸무게를 입력해주세요\").split()))\n",
    "dict_character = {}\n",
    "# len(names) = 4\n",
    "# range(4) --> 0, 1, 2, 3\n",
    "# i --> i = 0 반복 , i = 1 반복, i = 2 반복, i = 3 반복\n",
    "for i in range(len(names)):\n",
    "    dict_character[names[i]] = weights[i]\n",
    "print(dict_character)"
   ]
  },
  {
   "cell_type": "markdown",
   "id": "de06ff96-c549-4cd3-bfcf-e7ed4a960530",
   "metadata": {},
   "source": [
    "# **리스트 컴프리헨션**\n",
    "## 연습문제 1\n",
    "리스트 컴프리헨션을 활용해서 1부터 9까지 숫자의 제곱을 답는 리스트를 만들어보세요.  "
   ]
  },
  {
   "cell_type": "code",
   "execution_count": 211,
   "id": "f6961410-3b7d-47cf-b792-009ae2d65318",
   "metadata": {},
   "outputs": [
    {
     "name": "stdout",
     "output_type": "stream",
     "text": [
      "<class 'list'>\n",
      "[1, 4, 9, 16, 25, 36, 49, 64, 81]\n"
     ]
    }
   ],
   "source": [
    "prac_result = [i**2 for i in range(1, 10)]\n",
    "print(type(prac_result))\n",
    "print(prac_result)"
   ]
  },
  {
   "cell_type": "markdown",
   "id": "2491a6dc-9c36-4f55-acdc-dec355847a01",
   "metadata": {},
   "source": [
    "## 연습문제 2 \n",
    "N명 의 후보에 대해 투표한 결과가 들어있는 리스트 votes가 있습니다. \n",
    "예를 들어 5명의 후보에 대해 투표를 진행한 결과가 [2, 5, 3, 4, 1, 5, 2, 5, 5, 3]이라면 순서대로 [2번, 5번, 3번, 4번, 1번, 5번, 2번, 5번, 5번, 3번]후보에 투표했음을 나타냅니다. 이때, 가장 많은 표를 얻은 후보는 누구이며 몇 표를 얻었는지 아래와 같이 보여주는 프로그램을 작성하시오  \n",
    "```python\n",
    "votes = [2, 5, 3, 4, 1, 5, 2, 5, 5, 3]  \n",
    "candidates = [\"\", \"전정국\",\"김남준\",\"박지민\", \"정호석\", \"김태형\"]  \n",
    "\n",
    "실행결과:  \n",
    "김태형 후보가 총 4표를 얻어 당선되었습니다.\n",
    "```"
   ]
  },
  {
   "cell_type": "code",
   "execution_count": 74,
   "id": "38b7764a-8d9d-4c6f-b93e-25d4849e86be",
   "metadata": {},
   "outputs": [
    {
     "name": "stdout",
     "output_type": "stream",
     "text": [
      "김태형 후보가 총 4표를 얻어 당선되었습니다.\n",
      "김태형 후보가 총 4표를 얻어 당선되었습니다.\n"
     ]
    }
   ],
   "source": [
    "votes = [2, 5, 3, 4, 1, 5, 2, 5, 5, 3]\n",
    "candidates = [\"\", \"전정국\",\"김남준\",\"박지민\", \"정호석\", \"김태형\"]\n",
    "count = [0] * len(candidates)\n",
    "for i in range(1, len(candidates)+1):\n",
    "    for j in votes:\n",
    "        if i == j:\n",
    "            count[i] += 1\n",
    "            \n",
    "candidate = count.index(max(count))\n",
    "print(candidates[candidate], \" 후보가 총 \", max(count), \"표를 얻어 당선되었습니다.\", sep = \"\")\n",
    "print(f'{candidates[candidate]} 후보가 총 {max(count)}표를 얻어 당선되었습니다.')"
   ]
  },
  {
   "cell_type": "code",
   "execution_count": 59,
   "id": "6c5ce466-b1b6-46bb-8ead-cdb66c6a7f71",
   "metadata": {},
   "outputs": [
    {
     "name": "stdout",
     "output_type": "stream",
     "text": [
      "김태형 후보가 총 4 표를 얻어 당선되었습니다.\n"
     ]
    }
   ],
   "source": [
    "votes = [2, 5, 3, 4, 1, 5, 2, 5, 5, 3]\n",
    "candidates = [\"\", \"전정국\",\"김남준\",\"박지민\", \"정호석\", \"김태형\"]\n",
    "count = [0] * (len(candidates))\n",
    "for i in range(1, len(candidates)+1):\n",
    "    for j in votes:\n",
    "        if i == j:\n",
    "            count[i] += 1\n",
    "dict_vote = dict(zip(candidates, count))\n",
    "for k,v in dict_vote.items():\n",
    "    if max(dict_vote.values()) == v :\n",
    "        print(k , \"후보가 총\", v, \"표를 얻어 당선되었습니다.\")"
   ]
  },
  {
   "cell_type": "markdown",
   "id": "f358ce80-eb27-4eb4-be7f-5179b34ed9f8",
   "metadata": {},
   "source": [
    "### 연습문제 2 해설"
   ]
  },
  {
   "cell_type": "code",
   "execution_count": 63,
   "id": "7b700c32-a1c7-4a09-bceb-26dbac426476",
   "metadata": {},
   "outputs": [],
   "source": [
    "votes = [2, 5, 3, 4, 1, 5, 2, 5, 5, 3]\n",
    "candidates = [\"\", \"전정국\",\"김남준\",\"박지민\", \"정호석\", \"김태형\"]\n",
    "\n",
    "# 표를 얼마나 받았는지 집계하기 위함\n",
    "counts = [0] * len(candidates) # 0 표에서 늘어나는거니까"
   ]
  },
  {
   "cell_type": "code",
   "execution_count": 64,
   "id": "2e668cdb-69f4-401b-bce4-f08f60afb03b",
   "metadata": {},
   "outputs": [
    {
     "name": "stdout",
     "output_type": "stream",
     "text": [
      "[0, 0, 0, 0, 0, 0]\n"
     ]
    }
   ],
   "source": [
    "print(counts)"
   ]
  },
  {
   "cell_type": "code",
   "execution_count": 66,
   "id": "b565eec0-4dca-4f7b-b449-10f10092d47b",
   "metadata": {},
   "outputs": [
    {
     "name": "stdout",
     "output_type": "stream",
     "text": [
      "[0, 1, 2, 2, 1, 4]\n"
     ]
    }
   ],
   "source": [
    "#vote의 값들은 candidates의 인덱스이자 counts의 인덱스이다.\n",
    "for vote in votes:\n",
    "    counts[vote] += 1\n",
    "print(counts)"
   ]
  },
  {
   "cell_type": "code",
   "execution_count": 68,
   "id": "cb47ab46-9ea7-4cb4-a845-933e4e28e1a3",
   "metadata": {},
   "outputs": [
    {
     "name": "stdout",
     "output_type": "stream",
     "text": [
      "김태형 후보가 총 4 표를 받아 당선되었습니다.\n"
     ]
    }
   ],
   "source": [
    "# 인덱스로 해서 위치를 비교해서 제일 큰 값인지 비교하여 그 값과 인덱스를 가져오면 된다. \n",
    "i = 1\n",
    "max_count = 0\n",
    "eleceted_person = 0\n",
    "# i = 1, 2, 3, 4, 5\n",
    "while i < len(counts): #len(counts) => 6\n",
    "    if max_count < counts[i]:\n",
    "        max_count = counts[i]\n",
    "        elected_person = i\n",
    "    i += 1\n",
    "\n",
    "print(candidates[elected_person], \"후보가 총\", max_count, \"표를 받아 당선되었습니다.\")\n",
    "#당선인의 index 번호가 필요하다 "
   ]
  },
  {
   "cell_type": "markdown",
   "id": "79c6e8ff-0e5c-4f6b-806b-ae62629239d2",
   "metadata": {},
   "source": [
    "## 연습문제 3\n",
    "리스트 컴프리헨션을 활용해서 a부터z까지 순서대로 알파벳 문자열을 갖는 리스트를 만들어보세요  \n",
    "아래의 코드를 완성해서 실행결과가 같게 나오면 된다 \n",
    "- 문자열 'abc...xyz' 먼저 만들기"
   ]
  },
  {
   "cell_type": "code",
   "execution_count": 108,
   "id": "73f807f9-fa9a-491d-af64-64f92e8e0ec5",
   "metadata": {},
   "outputs": [
    {
     "name": "stdout",
     "output_type": "stream",
     "text": [
      "['a', 'b', 'c', 'd', 'e', 'f', 'g', 'h', 'i', 'j', 'k', 'l', 'm', 'n', 'o', 'p', 'q', 'r', 's', 't', 'u', 'v', 'w', 'x', 'y', 'z']\n"
     ]
    }
   ],
   "source": [
    "alpha = 'abcdefghijklmnopqrstuvwxyz'\n",
    "prac_result3 = [_ for _ in alpha]\n",
    "print(prac_result3)"
   ]
  },
  {
   "cell_type": "code",
   "execution_count": 109,
   "id": "b8ebaf3c-76b5-492e-8054-f7d91983490d",
   "metadata": {},
   "outputs": [
    {
     "name": "stdout",
     "output_type": "stream",
     "text": [
      "['2', '3', '4', '5', '6', '7', '8', '9', '10', 'J', 'Q', 'K', 'A']\n"
     ]
    }
   ],
   "source": [
    "card = 'JQKA'\n",
    "#리스트 합치기 -> [] + []\n",
    "prac_result4 = [str(i) for i in range(2, 11)] + [_ for _ in card]\n",
    "print(prac_result4)\n"
   ]
  },
  {
   "cell_type": "code",
   "execution_count": 100,
   "id": "d3e132ce-b235-451b-97ad-1a1248979071",
   "metadata": {},
   "outputs": [
    {
     "name": "stdout",
     "output_type": "stream",
     "text": [
      "['2', '3', '4', '5', '6', '7', '8', '9', '10', 'J', 'Q', 'K', 'A']\n"
     ]
    }
   ],
   "source": [
    "card = 'JQKA'\n",
    "card_list = [_ for _ in card]\n",
    "num_list = [str(i) for i in range(2, 11)]\n",
    "#리스트 합치기 -> [].extend([])\n",
    "num_list.extend(card_list)\n",
    "print(num_list)"
   ]
  },
  {
   "cell_type": "code",
   "execution_count": 110,
   "id": "8fe40fc4-4d94-4145-a2ef-de41fb1f9ebf",
   "metadata": {},
   "outputs": [
    {
     "name": "stdout",
     "output_type": "stream",
     "text": [
      "[['2', '3', '4', '5', '6', '7', '8', '9', '10', 'J', 'Q', 'K', 'A'], ['2', '3', '4', '5', '6', '7', '8', '9', '10', 'J', 'Q', 'K', 'A'], ['2', '3', '4', '5', '6', '7', '8', '9', '10', 'J', 'Q', 'K', 'A'], ['2', '3', '4', '5', '6', '7', '8', '9', '10', 'J', 'Q', 'K', 'A']]\n"
     ]
    }
   ],
   "source": [
    "prac_result5 = [prac_result4 for i in range(4)]\n",
    "print(prac_result5)"
   ]
  },
  {
   "cell_type": "markdown",
   "id": "acd00c30-7b68-4c09-8650-3188d149a88c",
   "metadata": {},
   "source": [
    "## 연습문제 4\n",
    "old_list 리스트를 만들어 변수에 담는다. 슬라이싱을 통해 old_list 객체 전체를 그대로 복사해서 새로운 변수 new_list에 담기  \n",
    "그리고 그 둘의 id()를 비교해보고 is 연산자를 통해 객체 간 비교를 해보고 == 연산자를 통해 비교한 결과를 확인"
   ]
  },
  {
   "cell_type": "code",
   "execution_count": 112,
   "id": "87b2de65-3d05-42ba-bcb6-801408252c2b",
   "metadata": {},
   "outputs": [
    {
     "name": "stdout",
     "output_type": "stream",
     "text": [
      "2346477468800\n",
      "2346477834368\n",
      "False\n",
      "True\n"
     ]
    }
   ],
   "source": [
    "old_list = list(range(10))\n",
    "new_list = old_list[:]\n",
    "\n",
    "print(id(old_list))\n",
    "print(id(new_list))\n",
    "print(old_list is new_list) # is연산자는 old_list와 new_list의 객체가 같은 것인지를 확인 \n",
    "print(old_list == new_list) # == 연산자는 old_list와 new_list의 값을 비교하여 같은 값인지를 확인"
   ]
  },
  {
   "cell_type": "markdown",
   "id": "947a2956-b909-4018-867f-85e6d3d99f8c",
   "metadata": {},
   "source": [
    "## 연습문제 5\n",
    "아래 예와 같이 순환할 숫자를 입력받고 순환하는 광고판을 제작하시오  \n",
    "1 2 3 4 5 6 7 8 9 10  \n",
    "2 3 4 5 6 7 8 9 10 1  \n",
    "3 4 5 6 7 8 9 10 1 2   \n",
    "4 5 6 7 8 9 10 1 2 3   \n",
    "5 6 7 8 9 10 1 2 3 4  \n",
    "6 7 8 9 10 1 2 3 4 5    \n",
    "7 8 9 10 1 2 3 4 5 6   \n",
    "8 9 10 1 2 3 4 5 6 7  \n",
    "9 10 1 2 3 4 5 6 7 8   \n",
    "10 1 2 3 4 5 6 7 8 9  "
   ]
  },
  {
   "cell_type": "code",
   "execution_count": 178,
   "id": "89f6af0f-7f4a-49a8-bdf2-0ddf11e7e698",
   "metadata": {},
   "outputs": [
    {
     "name": "stdin",
     "output_type": "stream",
     "text": [
      "순환할 숫자를 입력하세요: 10\n"
     ]
    },
    {
     "name": "stdout",
     "output_type": "stream",
     "text": [
      "1 2 3 4 5 6 7 8 9 10 \n",
      "2 3 4 5 6 7 8 9 10 \n",
      "3 4 5 6 7 8 9 10 \n",
      "4 5 6 7 8 9 10 \n",
      "5 6 7 8 9 10 \n",
      "6 7 8 9 10 \n",
      "7 8 9 10 \n",
      "8 9 10 \n",
      "9 10 \n",
      "10 \n"
     ]
    }
   ],
   "source": [
    "n = int(input(\"순환할 숫자를 입력하세요:\"))\n",
    "for i in range(1, n + 1):\n",
    "    for j in range(i , n + 1):\n",
    "        print(j,  end = \" \")\n",
    "    print()"
   ]
  },
  {
   "cell_type": "code",
   "execution_count": 186,
   "id": "e6ebaf4f-61e9-4743-a6e0-417d6821621b",
   "metadata": {},
   "outputs": [
    {
     "name": "stdin",
     "output_type": "stream",
     "text": [
      "순환할 숫자를 입력하세요: 10\n"
     ]
    },
    {
     "name": "stdout",
     "output_type": "stream",
     "text": [
      "1 2 3 4 5 6 7 8 9 10 \n",
      "2 3 4 5 6 7 8 9 10 1 \n",
      "3 4 5 6 7 8 9 10 1 2 \n",
      "4 5 6 7 8 9 10 1 2 3 \n",
      "5 6 7 8 9 10 1 2 3 4 \n",
      "6 7 8 9 10 1 2 3 4 5 \n",
      "7 8 9 10 1 2 3 4 5 6 \n",
      "8 9 10 1 2 3 4 5 6 7 \n",
      "9 10 1 2 3 4 5 6 7 8 \n",
      "10 1 2 3 4 5 6 7 8 9 \n"
     ]
    }
   ],
   "source": [
    "n = int(input(\"순환할 숫자를 입력하세요:\"))\n",
    "for i in range(1, n + 1):\n",
    "    for j in range(i , n + 1):\n",
    "        print(j,  end = \" \")\n",
    "    for k in range(1, i):\n",
    "        print(k, end = \" \")\n",
    "    print()"
   ]
  },
  {
   "cell_type": "markdown",
   "id": "2875a480-0030-491b-9567-3d191e897e08",
   "metadata": {},
   "source": [
    "### 연습문제5 해설"
   ]
  },
  {
   "cell_type": "code",
   "execution_count": 1,
   "id": "d2f23a70-786d-423a-bef3-af243eca02f1",
   "metadata": {},
   "outputs": [
    {
     "name": "stdin",
     "output_type": "stream",
     "text": [
      "순환할 숫자를 입력하세요 10\n"
     ]
    },
    {
     "name": "stdout",
     "output_type": "stream",
     "text": [
      "1 2 3 4 5 6 7 8 9 10 \n",
      "2 3 4 5 6 7 8 9 10 1 \n",
      "3 4 5 6 7 8 9 10 1 2 \n",
      "4 5 6 7 8 9 10 1 2 3 \n",
      "5 6 7 8 9 10 1 2 3 4 \n",
      "6 7 8 9 10 1 2 3 4 5 \n",
      "7 8 9 10 1 2 3 4 5 6 \n",
      "8 9 10 1 2 3 4 5 6 7 \n",
      "9 10 1 2 3 4 5 6 7 8 \n",
      "10 1 2 3 4 5 6 7 8 9 \n"
     ]
    }
   ],
   "source": [
    "n = int(input(\"순환할 숫자를 입력하세요\")) \n",
    "i = 0\n",
    "while i  < n: \n",
    "    j = 0\n",
    "    while j < n:\n",
    "        print((i+j) % n +1, end = \" \")\n",
    "        j += 1\n",
    "    print()\n",
    "    i += 1\n",
    "    "
   ]
  },
  {
   "cell_type": "markdown",
   "id": "014a664a-ab5d-46ae-9ee0-99596ccb98fb",
   "metadata": {},
   "source": [
    "## 연습문제 6\n",
    "홀수의 제곱은 감산하고 짝수의 제곱은 가산하는 프로그램을 while문으로 구현\n",
    "- 숫자 10개당 줄바꿈이 이루어져야 한다. "
   ]
  },
  {
   "cell_type": "code",
   "execution_count": 20,
   "id": "44be4d0b-eb02-40c5-b054-2ea508badc8b",
   "metadata": {},
   "outputs": [
    {
     "name": "stdout",
     "output_type": "stream",
     "text": [
      "-1 + 4 -9 + 16 -25 + 36 -49 + 64 -81 + 100 \n",
      "-121 + 144 -169 + 196 -225 + 256 -289 + 324 -361 + 400 \n",
      "-441 + 484 -529 + 576 -625 + 676 -729 + 784 -841 + 900 \n",
      "-961 + 1024 -1089 + 1156 -1225 + 1296 -1369 + 1444 -1521 + 1600 \n",
      "-1681 + 1764 -1849 + 1936 -2025 + 2116 -2209 + 2304 -2401 + 2500 \n",
      "-2601 + 2704 -2809 + 2916 -3025 + 3136 -3249 + 3364 -3481 + 3600 \n",
      "-3721 + 3844 -3969 + 4096 -4225 + 4356 -4489 + 4624 -4761 + 4900 \n",
      "-5041 + 5184 -5329 + 5476 -5625 + 5776 -5929 + 6084 -6241 + 6400 \n",
      "-6561 + 6724 -6889 + 7056 -7225 + 7396 -7569 + 7744 -7921 + 8100 \n",
      "-8281 + 8464 -8649 + 8836 -9025 + 9216 -9409 + 9604 -9801 + 10000 \n",
      "= 5050 입니다.\n"
     ]
    }
   ],
   "source": [
    "n = 100\n",
    "i = 1\n",
    "sum = 0\n",
    "while i < 101:\n",
    "    if i % 2 == 1:\n",
    "        sum -= i**2\n",
    "        print(-(i**2) , end = \" \")\n",
    "    else: \n",
    "        sum += i**2\n",
    "        print(\"+ \", i**2, end = \" \", sep = \"\")\n",
    "    if i % 10 == 0:\n",
    "        print()    \n",
    "    i += 1\n",
    "\n",
    "print(\"=\", sum , \"입니다.\")\n",
    "    "
   ]
  },
  {
   "cell_type": "markdown",
   "id": "354b0388-83ee-4a22-8b1d-60b34a91acdc",
   "metadata": {},
   "source": [
    "## 연습문제 7 \n",
    "2부터 입력 받은 수까지의 소수를 한 줄에 7개씩 보여주는 프로그램을 작성하여라 \n",
    "- 소수: 1보다 큰 자연수 중과 1과 그 수 자신만을 약수로 갖는 자연수 \n",
    "- 모둔 소수의 약수의 개수는 2개임"
   ]
  },
  {
   "cell_type": "code",
   "execution_count": 183,
   "id": "15bbe100-31e4-4f8a-b01b-cc62d802f6f7",
   "metadata": {},
   "outputs": [
    {
     "name": "stdout",
     "output_type": "stream",
     "text": [
      "2부터 입력하신 수 까지의 모든 소수를 찾는 프로그램입니다. \n"
     ]
    },
    {
     "name": "stdin",
     "output_type": "stream",
     "text": [
      "찾는 범위를 입력하세요: 100\n"
     ]
    },
    {
     "name": "stdout",
     "output_type": "stream",
     "text": [
      "2 3 5 7 11 13 17\n",
      "19 23 29 31 37 41 43\n",
      "47 53 59 61 67 71 73\n",
      "79 83 89 97 "
     ]
    }
   ],
   "source": [
    "print(\"2부터 입력하신 수 까지의 모든 소수를 찾는 프로그램입니다. \")\n",
    "num = int(input(\"찾는 범위를 입력하세요:\"))\n",
    "i = 2 \n",
    "sosu = []\n",
    "while i <= num:\n",
    "    count = 0\n",
    "    for j in range(2, i + 1):\n",
    "        if i % j == 0:\n",
    "            count += 1\n",
    "        j += 1\n",
    "    if count == 1:\n",
    "        sosu.append(i)\n",
    "    i += 1           \n",
    "\n",
    "for i in range(len(sosu)):\n",
    "    if i % 7 == 6:\n",
    "        print(sosu[i])\n",
    "    else:\n",
    "        print(sosu[i], end = \" \")            "
   ]
  },
  {
   "cell_type": "markdown",
   "id": "f3020883-5715-406a-92ef-e91ec294f70d",
   "metadata": {},
   "source": [
    "# **tuple**"
   ]
  },
  {
   "cell_type": "markdown",
   "id": "d1c6a9b7-bef1-4560-b2ed-2bb69c3d3080",
   "metadata": {},
   "source": [
    "## 연습문제 1"
   ]
  },
  {
   "cell_type": "markdown",
   "id": "dd24a617-4cfd-4245-866e-35a74b0dac6f",
   "metadata": {},
   "source": [
    "사용자가 원하는 개수만큼의 로또 번호 생성기를 만들고자 한다. \n",
    "로또 번호 규칙은 다음과 같다. \n",
    "1. 번호의 범위는 1~ 45 사이  \n",
    "2. 총 6개의 번호를 생성  \n",
    "3. 생성된 번호는 오름차순으로 정리   \n",
    "4. 생성된 번호들에 중복이 있어서는 안 된다.   "
   ]
  },
  {
   "cell_type": "code",
   "execution_count": 70,
   "id": "3196cb9c-4bb5-40f2-9ca4-2b98ce806d16",
   "metadata": {},
   "outputs": [
    {
     "name": "stdin",
     "output_type": "stream",
     "text": [
      "로또번호를 몇 개 드릴까요?  5\n"
     ]
    },
    {
     "name": "stdout",
     "output_type": "stream",
     "text": [
      "[11, 12, 15, 21, 31, 37]\n",
      "[9, 17, 23, 35, 40, 45]\n",
      "[8, 13, 21, 32, 33, 36]\n",
      "[13, 14, 21, 22, 30, 34]\n",
      "[1, 5, 8, 11, 22, 29]\n"
     ]
    }
   ],
   "source": [
    "import random\n",
    "n = int(input(\"로또번호를 몇 개 드릴까요? \"))\n",
    "for i in range(n): \n",
    "    random_list = random.sample(range(1, 46), 6)\n",
    "    random_list.sort()\n",
    "    print(random_list)"
   ]
  },
  {
   "cell_type": "code",
   "execution_count": 58,
   "id": "4926024d-666d-4f80-90ca-e6e2c4519d69",
   "metadata": {},
   "outputs": [
    {
     "name": "stdin",
     "output_type": "stream",
     "text": [
      "로또번호를 몇 개 드릴까요?  5\n"
     ]
    },
    {
     "name": "stdout",
     "output_type": "stream",
     "text": [
      "[7, 20, 21, 22, 38, 42]\n",
      "[3, 4, 8, 12, 19, 24]\n",
      "[12, 17, 19, 25, 37, 44]\n",
      "[2, 15, 19, 22, 25, 30]\n",
      "[4, 6, 21, 26, 29, 44]\n"
     ]
    }
   ],
   "source": [
    "import random\n",
    "n = int(input(\"로또번호를 몇 개 드릴까요? \"))\n",
    "\n",
    "for i in range (n):\n",
    "    random_list = [] \n",
    "    lotto = random.randint(1, 45)\n",
    "    for _ in range(6):     \n",
    "        while lotto in random_list:\n",
    "            lotto = random.randint(1, 45)\n",
    "            \n",
    "        random_list.append(lotto)\n",
    "        random_list.sort()\n",
    "    print(random_list)        "
   ]
  },
  {
   "cell_type": "markdown",
   "id": "238e0dcf-c37f-41d7-b8e3-d2ca4e241109",
   "metadata": {},
   "source": [
    "### 연습문제 해설 1 \n",
    "1. 번호의 범위 1 ~45 -> random.randint(1, 45)\n",
    "2. 총 6개의 번호 생성 -> for i in range(6):  \n",
    "중복 없이 6개 될 때까지 뺑뺑이 돌리는 방법"
   ]
  },
  {
   "cell_type": "code",
   "execution_count": 71,
   "id": "96bd34a5-dfb6-4714-9a80-85a26927cea7",
   "metadata": {},
   "outputs": [
    {
     "name": "stdin",
     "output_type": "stream",
     "text": [
      "로또번호를 몇 개 드릴까요?  5\n"
     ]
    },
    {
     "name": "stdout",
     "output_type": "stream",
     "text": [
      "[1, 4, 12, 27, 32, 33]\n",
      "[6, 8, 15, 18, 32, 35]\n",
      "[1, 5, 10, 36, 40, 45]\n",
      "[2, 4, 9, 25, 26, 44]\n",
      "[10, 16, 18, 22, 35, 39]\n"
     ]
    }
   ],
   "source": [
    "import random\n",
    "n = int(input(\"로또번호를 몇 개 드릴까요? \"))\n",
    "\n",
    "for i in range (n):\n",
    "    random_list = [] \n",
    "    while len(random_list) < 6:\n",
    "        lotto = random.randint(1, 45)\n",
    "        if lotto not in random_list:\n",
    "            random_list.append(lotto)\n",
    "    random_list.sort()\n",
    "    print(random_list)"
   ]
  },
  {
   "cell_type": "code",
   "execution_count": 72,
   "id": "52766059-0092-47e0-b6ad-85e8c588351a",
   "metadata": {},
   "outputs": [
    {
     "name": "stdin",
     "output_type": "stream",
     "text": [
      "로또번호를 몇 개 드릴까요?  5\n"
     ]
    },
    {
     "name": "stdout",
     "output_type": "stream",
     "text": [
      "[13, 15, 29, 34, 35, 42]\n",
      "[7, 10, 27, 30, 33, 39]\n",
      "[2, 16, 20, 35, 38, 42]\n",
      "[2, 4, 12, 34, 37, 45]\n",
      "[8, 16, 23, 35, 39, 42]\n"
     ]
    }
   ],
   "source": [
    "n = int(input(\"로또번호를 몇 개 드릴까요? \"))\n",
    "\n",
    "for i in range (n):\n",
    "    lotto = [j for j in range(1, 46)]\n",
    "    lotto_numbers = []\n",
    "    for _ in range(6):\n",
    "        lotto_number = lotto[random.randint(1, len(lotto)-1)]\n",
    "        lotto_numbers.append(lotto_number)\n",
    "        lotto.remove(lotto_number)\n",
    "        lotto_numbers.sort()\n",
    "    print(lotto_numbers)"
   ]
  },
  {
   "cell_type": "code",
   "execution_count": 86,
   "id": "cce5d2f3-63c7-4c74-b6fa-2b1ebfe1b258",
   "metadata": {},
   "outputs": [
    {
     "name": "stdin",
     "output_type": "stream",
     "text": [
      "로또번호를 몇 개 드릴까요?  5\n"
     ]
    },
    {
     "name": "stdout",
     "output_type": "stream",
     "text": [
      "[5, 10, 12, 14, 32, 41]\n",
      "[5, 19, 22, 29, 36, 45]\n",
      "[2, 3, 17, 27, 34, 43]\n",
      "[6, 12, 23, 39, 40, 42]\n",
      "[4, 18, 23, 30, 35, 40]\n"
     ]
    }
   ],
   "source": [
    "n = int(input(\"로또번호를 몇 개 드릴까요? \"))\n",
    "\n",
    "for i in range(n):\n",
    "    lotto = set()\n",
    "    while len(lotto) < 6:\n",
    "        lotto_number = random.randint(1, 45)\n",
    "        lotto.add(lotto_number)\n",
    "        lottos = list(lotto)\n",
    "        lottos.sort()\n",
    "    print(lottos)"
   ]
  },
  {
   "cell_type": "code",
   "execution_count": 90,
   "id": "fadb0812-2b48-433b-a150-85e53c88c6ca",
   "metadata": {},
   "outputs": [
    {
     "name": "stdin",
     "output_type": "stream",
     "text": [
      "로또번호를 몇 개 드릴까요?  5\n"
     ]
    },
    {
     "name": "stdout",
     "output_type": "stream",
     "text": [
      "{36, 5, 8, 11, 20, 28}\n",
      "{5, 39, 44, 17, 25, 26}\n",
      "{34, 44, 19, 20, 29, 31}\n",
      "{33, 34, 13, 16, 25, 29}\n",
      "{34, 3, 38, 42, 15, 29}\n"
     ]
    }
   ],
   "source": [
    "n = int(input(\"로또번호를 몇 개 드릴까요? \"))\n",
    "\n",
    "for i in range(n):\n",
    "    lotto = set()\n",
    "    while len(lotto) != 6:\n",
    "        lotto = {random.randint(1, 45) for _ in range(6)}# 만약 중복이라면 개수가 6개가 아니게 된다. \n",
    "    print(lotto)\n"
   ]
  },
  {
   "cell_type": "markdown",
   "id": "e8a91f2b-6963-4684-a182-8f5787b93a35",
   "metadata": {},
   "source": [
    "# **set**\n",
    "## 연습문제 1"
   ]
  },
  {
   "cell_type": "code",
   "execution_count": 91,
   "id": "9032543a-48ea-413a-ade9-94931305f7dc",
   "metadata": {},
   "outputs": [
    {
     "data": {
      "text/plain": [
       "{1, 2, 3, 4}"
      ]
     },
     "execution_count": 91,
     "metadata": {},
     "output_type": "execute_result"
    }
   ],
   "source": [
    "list_sample = [1, 2, 2, 3, 3, 3, 4, 4, 4, 4]\n",
    "set(list_sample)"
   ]
  },
  {
   "cell_type": "markdown",
   "id": "cb586cd0-ddd1-4af1-aa83-0e38b319be80",
   "metadata": {},
   "source": [
    "## 연습문제 2 \n",
    "- **집합을 이용하여 3과 5의 공배수 구하기**    \n",
    "    집합 컴프리헨션을 활용해서 1\\~100 사이의 3의 배수를 구하고 set_3 변수에 담기  \n",
    "    집합 컴프리헨션을 활용해서 1~100 사이의 5의 배수를 구하고 set_5 변수에 담기  \n",
    "    이들의 교집합을 구하고 result_set 변수에 담고 그 result_set을 출력\n",
    "    - set의 특성상 출력된 값의 순서는 상관이 없다"
   ]
  },
  {
   "cell_type": "code",
   "execution_count": 93,
   "id": "a97dcb09-b9d8-4719-8cd3-13ff83260b6a",
   "metadata": {},
   "outputs": [
    {
     "name": "stdout",
     "output_type": "stream",
     "text": [
      "{75, 45, 15, 90, 60, 30}\n"
     ]
    }
   ],
   "source": [
    "set_3 = {_ for _ in range(1, 101) if _ % 3 == 0}\n",
    "set_5 = {_ for _ in range(1, 101) if _ % 5 == 0}\n",
    "result_set = set_3 & set_5\n",
    "print(result_set)"
   ]
  },
  {
   "cell_type": "markdown",
   "id": "415edb95-3e95-4b6e-a841-2683c7acd9d7",
   "metadata": {},
   "source": [
    "## 연습문제 3\n",
    "role_admin = (\"회계 관리\", \"인사 관리\", \"구매 관리\", \"시스템 관리\")  \n",
    "role_hr = (\"인사 관리\", \"개인정보 조회\", \"회계 관리\", \"근태 관리\")  \n",
    "role_user = (\"개인정보 조회\", \"근태 관리\")  \n",
    "세 개 권한으로부터 가질 수 있는 메뉴들을 중복 없이 오름차순으로 정렬"
   ]
  },
  {
   "cell_type": "code",
   "execution_count": 126,
   "id": "db2e915c-0d1e-4087-8b96-4ca6f8f81510",
   "metadata": {},
   "outputs": [
    {
     "name": "stdout",
     "output_type": "stream",
     "text": [
      "개인정보 조회, 구매 관리, 근태 관리, 시스템 관리, 인사 관리, 회계 관리"
     ]
    }
   ],
   "source": [
    "role_admin = (\"회계 관리\", \"인사 관리\", \"구매 관리\", \"시스템 관리\")  \n",
    "role_hr = (\"인사 관리\", \"개인정보 조회\", \"회계 관리\", \"근태 관리\")  \n",
    "role_user = (\"개인정보 조회\", \"근태 관리\")  \n",
    "\n",
    "menu = set(role_admin + role_hr + role_user)\n",
    "list_menu = list(menu)\n",
    "list_menu.sort()\n",
    "\n",
    "for i in list_menu:\n",
    "    if list_menu[-1] == i:\n",
    "        print(i, end = \"\")\n",
    "    else:\n",
    "        print(i, end = \", \")\n",
    "        "
   ]
  },
  {
   "cell_type": "code",
   "execution_count": 199,
   "id": "653a95c8-fd91-46b2-bc83-a208c6d0b504",
   "metadata": {},
   "outputs": [
    {
     "name": "stdout",
     "output_type": "stream",
     "text": [
      "개인정보 조회, 구매 관리, 근태 관리, 인사 관리, 회계 관리, 시스템 관리"
     ]
    }
   ],
   "source": [
    "role_admin = {\"회계 관리\", \"인사 관리\", \"구매 관리\", \"시스템 관리\"}  \n",
    "role_hr = {\"인사 관리\", \"개인정보 조회\", \"회계 관리\", \"근태 관리\"} \n",
    "role_user = {\"개인정보 조회\", \"근태 관리\"}\n",
    "\n",
    "menu = role_admin | role_hr | role_user\n",
    "list_menu = list(menu)\n",
    "list_system.sort()\n",
    "for i in range(len(list_menu)):\n",
    "    if i == (len(list_menu) - 1):\n",
    "        print(list_menu[i], end = \"\")\n",
    "    else:\n",
    "        print(list_menu[i], end = \", \")\n",
    "        "
   ]
  },
  {
   "cell_type": "markdown",
   "id": "3ff12852-d7d9-43bf-bb40-1bbb92dbd155",
   "metadata": {},
   "source": [
    "# **function** \n",
    "## 연습문제 1"
   ]
  },
  {
   "cell_type": "code",
   "execution_count": 53,
   "id": "f60aa66c-5a91-4954-9cab-c7b883d9b8c7",
   "metadata": {},
   "outputs": [],
   "source": [
    "def plus_ten(n):\n",
    "    return 10 + n"
   ]
  },
  {
   "cell_type": "code",
   "execution_count": 54,
   "id": "093a5b70-4ff9-482b-a21a-7b8e83d7e45d",
   "metadata": {},
   "outputs": [
    {
     "data": {
      "text/plain": [
       "80"
      ]
     },
     "execution_count": 54,
     "metadata": {},
     "output_type": "execute_result"
    }
   ],
   "source": [
    "plus_ten(70)"
   ]
  },
  {
   "cell_type": "markdown",
   "id": "c158bb3d-57e0-4cac-a93d-b7d5074a3354",
   "metadata": {},
   "source": [
    "## 연습문제 2\n",
    "화씨 온도를 섭씨 온도로 변경하는 함수를 만들어보세요. 화씨 온도를 섭씨 온도로 변경하는 공식을 아래와 같다. \n",
    "- C = (F -32) * 5/9\n",
    "- 함수명: to_celsius\n",
    "- 인자: fahrenheit\n",
    "- 반환: 섭씨 온도"
   ]
  },
  {
   "cell_type": "code",
   "execution_count": 55,
   "id": "db820321-fe23-478f-b42a-53405a04d1e0",
   "metadata": {},
   "outputs": [],
   "source": [
    "def to_celsius(fahrenheit):\n",
    "    \"\"\"\n",
    "    화씨 온도를 섭씨 온도로 변경하는 함수입니다.\n",
    "    \"\"\"\n",
    "    return (fahrenheit - 32) * 5/9"
   ]
  },
  {
   "cell_type": "code",
   "execution_count": 58,
   "id": "f6e4928e-f7a3-4922-bf55-6d85866c6711",
   "metadata": {},
   "outputs": [
    {
     "name": "stdout",
     "output_type": "stream",
     "text": [
      "21.11111111111111\n"
     ]
    }
   ],
   "source": [
    "print(to_celsius(70)) # 계산된 21.1111이 나오는 것이고 프린트는 따로 해줘야 한다. "
   ]
  },
  {
   "cell_type": "markdown",
   "id": "a9e04eb5-1cee-4d30-aca8-a440dbc11acb",
   "metadata": {},
   "source": [
    "## 연습문제 3"
   ]
  },
  {
   "cell_type": "code",
   "execution_count": 93,
   "id": "320193ef-c134-4fb8-b989-357b875b26b5",
   "metadata": {},
   "outputs": [],
   "source": [
    "def odd_even(n):\n",
    "    \"\"\"넘버가 짝수면 \"짝수\", 홀수면 \"홀수\" 반환\n",
    "    \"\"\" \n",
    "    if type(n) == int and n > 0:\n",
    "         return \"짝수\" if n % 2 == 0 else \"홀수\"\n",
    "    else:\n",
    "        return"
   ]
  },
  {
   "cell_type": "code",
   "execution_count": 94,
   "id": "fe3fc17e-736f-4a31-a57d-d06dafa8c8ac",
   "metadata": {},
   "outputs": [
    {
     "name": "stdout",
     "output_type": "stream",
     "text": [
      "넘버가 짝수면 \"짝수\", 홀수면 \"홀수\" 반환\n",
      "    \n",
      "짝수\n",
      "홀수\n",
      "None\n"
     ]
    }
   ],
   "source": [
    "print(odd_even.__doc__)\n",
    "print(odd_even(10))\n",
    "print(odd_even(9))\n",
    "print(odd_even(\"가\"))"
   ]
  },
  {
   "cell_type": "markdown",
   "id": "57227a28-2f7e-477a-849a-dc10af171260",
   "metadata": {},
   "source": [
    "### 연습문제 해설 "
   ]
  },
  {
   "cell_type": "code",
   "execution_count": 89,
   "id": "251c4f64-4a09-411f-9092-e0085eb64423",
   "metadata": {},
   "outputs": [],
   "source": [
    "def odd_even(number):\n",
    "    \"\"\"number가 짝수면 \"짝수\", 홀수면 \"홀수\" 반환\n",
    "    \"\"\"\n",
    "    if type(number) is int and number > 0:\n",
    "        return \"짝수\" * (number % 2 == 0) or \"홀수\" #논리연산자 or는 앞이 true이면 true가 1이고, false 가 0 =  \"\" 빈 문자열이 된다 \n",
    "    else:\n",
    "        return\n",
    "    "
   ]
  },
  {
   "cell_type": "code",
   "execution_count": 90,
   "id": "3c231b03-f9ee-46a2-bf09-8ba63a19049f",
   "metadata": {},
   "outputs": [
    {
     "name": "stdout",
     "output_type": "stream",
     "text": [
      "number가 짝수면 \"짝수\", 홀수면 \"홀수\" 반환\n",
      "    \n",
      "짝수\n",
      "홀수\n",
      "None\n"
     ]
    }
   ],
   "source": [
    "print(odd_even.__doc__)\n",
    "print(odd_even(10))\n",
    "print(odd_even(9))\n",
    "print(odd_even(\"가\"))"
   ]
  },
  {
   "cell_type": "markdown",
   "id": "39dbfbc9-2324-495c-b45f-cb6f22deeb74",
   "metadata": {},
   "source": [
    "## 연습문제 3\n",
    "인수로 연도 값을 입력 받는다.   \n",
    "윤년을 나타나는 연도가 입력되면 윤년이라는 문자열을 반환하고, 그렇지 않은 수가 입력되면 평년이라는 문자열을 반환하는 함수를 만들어보라\n",
    "- 윤년은 기본적으로 4로 나눠지는 연도\n",
    "- 예외사항: 100으로 나눠지면 400으로 나눠지지 않는 연도는 평년"
   ]
  },
  {
   "cell_type": "code",
   "execution_count": 95,
   "id": "ef798fc3-b2b2-458c-b00e-d4a49538d299",
   "metadata": {},
   "outputs": [],
   "source": [
    "def check_leap_year(year):\n",
    "    if year % 4 == 0 and (year % 400 == 0 or year % 100 != 0):\n",
    "        return \"윤년\"\n",
    "    else:\n",
    "        return \"평년\""
   ]
  },
  {
   "cell_type": "code",
   "execution_count": 98,
   "id": "ff221277-be62-441c-9177-5ecfb270c823",
   "metadata": {},
   "outputs": [
    {
     "name": "stdout",
     "output_type": "stream",
     "text": [
      "윤년\n",
      "윤년\n",
      "평년\n"
     ]
    }
   ],
   "source": [
    "print(check_leap_year(2000))\n",
    "print(check_leap_year(2004))\n",
    "print(check_leap_year(1900))"
   ]
  },
  {
   "cell_type": "markdown",
   "id": "30a9b814-dfc3-4c77-a6ac-88b8d073a153",
   "metadata": {},
   "source": [
    "## 연습문제 4\n",
    "연도가 평년일 때 1월, 3월, 5월, 7월, 8월, 10월, 12월은 31일,     \n",
    "4월, 6월, 9월, 11월은 30일,   \n",
    "2월은 28일 입니다.  \n",
    "월을 나타내는 숫자를 인수로 전달하면 그 달의 날짜 개수를 반환하는 함수 days를 만들어 보세요\n",
    "\n",
    "```python \n",
    "days(11)\n",
    "반환 값: 30\n",
    "    \n",
    "days(2)\n",
    "반환 값: 28\n",
    "    \n",
    "days(1)\n",
    "반환 값: 31\n",
    "```"
   ]
  },
  {
   "cell_type": "code",
   "execution_count": 100,
   "id": "19c44373-65d1-4f7c-bc7f-51d15703b05d",
   "metadata": {},
   "outputs": [],
   "source": [
    "def days(month):\n",
    "    if month in (1, 3, 5, 7, 8, 10 , 12):\n",
    "        return 31\n",
    "    elif month in (4, 6, 9, 11, 30):\n",
    "        return 30\n",
    "    else:\n",
    "        return 28"
   ]
  },
  {
   "cell_type": "code",
   "execution_count": 103,
   "id": "817d3958-9847-421b-8b6b-fda44811ac31",
   "metadata": {},
   "outputs": [
    {
     "name": "stdout",
     "output_type": "stream",
     "text": [
      "30\n",
      "28\n",
      "31\n"
     ]
    }
   ],
   "source": [
    "print(days(11))\n",
    "print(days(2))\n",
    "print(days(1))"
   ]
  },
  {
   "cell_type": "markdown",
   "id": "9911e84c-1186-4b3e-974d-4ef2ca0d0a76",
   "metadata": {},
   "source": [
    "## 연습문제 5\n",
    "연도를 나타내는 숫자와 월을 나타내는 숫자를 인수 값으로 각각 전달하면 그 달의 날짜 개수를 반환하는 함수를 days를 만들어 보세요.\n",
    "- 윤년, 평년도 계산해야한다"
   ]
  },
  {
   "cell_type": "code",
   "execution_count": 104,
   "id": "d788d735-8582-4381-b04e-84eb58002899",
   "metadata": {},
   "outputs": [],
   "source": [
    "def days(year, month):\n",
    "    if year % 4 == 0 and (year % 400 == 0 or year % 100 != 0):\n",
    "        if month in (1, 3, 5, 7, 8, 10 , 12):\n",
    "            return 31\n",
    "        elif month in (4, 6, 9, 11, 30):\n",
    "            return 30\n",
    "        else:\n",
    "            return 29\n",
    "    \n",
    "    else:\n",
    "        if month in (1, 3, 5, 7, 8, 10 , 12):\n",
    "            return 31\n",
    "        elif month in (4, 6, 9, 11, 30):\n",
    "            return 30\n",
    "        else:\n",
    "            return 28\n",
    "    "
   ]
  },
  {
   "cell_type": "code",
   "execution_count": 108,
   "id": "6dab501c-8310-4c11-aaa8-af51072821f5",
   "metadata": {},
   "outputs": [],
   "source": [
    "def days(year, month):    \n",
    "    if month in (1, 3, 5, 7, 8, 10 , 12):\n",
    "        return 31\n",
    "    elif month in (4, 6, 9, 11, 30):\n",
    "        return 30\n",
    "    else:\n",
    "        if year % 4 == 0 and (year % 400 == 0 or year % 100 != 0):\n",
    "            return 29\n",
    "        else:\n",
    "            return 28"
   ]
  },
  {
   "cell_type": "code",
   "execution_count": 109,
   "id": "aff56dfb-edd7-42d1-bad1-77992d826cd6",
   "metadata": {},
   "outputs": [
    {
     "name": "stdout",
     "output_type": "stream",
     "text": [
      "30\n",
      "31\n",
      "28\n",
      "29\n"
     ]
    }
   ],
   "source": [
    "print(days(1900, 11))\n",
    "print(days(2004, 10))\n",
    "print(days(1900, 2))\n",
    "print(days(2000, 2))"
   ]
  },
  {
   "cell_type": "markdown",
   "id": "7e674420-4cc6-4e77-88f5-d89a02133476",
   "metadata": {},
   "source": [
    "## 연습문제 6\n",
    "아래 소스 코드를 완성하여 몫과 나머지를 구하는 함수를 완성해보세요\n",
    "```python \n",
    "x = 10\n",
    "y = 3\n",
    "######### 함수 정의부 #########\n",
    "quitient, remainder = get_quitient_remainder(x, y)\n",
    "print(f'몫:{quitient}, 나머지: {remainder}')\n",
    "```\n"
   ]
  },
  {
   "cell_type": "code",
   "execution_count": 126,
   "id": "0d753001-01ad-4eae-bd46-6bfd56a9c7f3",
   "metadata": {},
   "outputs": [],
   "source": [
    "x = 10\n",
    "y = 3\n",
    "#divmod(나눠질 수, 나눌 수) 와 동일 \n",
    "def get_quitient_remainder(x, y):\n",
    "    return x // y, x % y # 튜플 타입ㅂ "
   ]
  },
  {
   "cell_type": "code",
   "execution_count": 127,
   "id": "7d577755-fad1-400a-97b5-b8197d24c5ee",
   "metadata": {},
   "outputs": [
    {
     "name": "stdout",
     "output_type": "stream",
     "text": [
      "몫:3, 나머지: 1\n"
     ]
    }
   ],
   "source": [
    "quitient, remainder = get_quitient_remainder(x, y)\n",
    "print(f'몫:{quitient}, 나머지: {remainder}')"
   ]
  },
  {
   "cell_type": "markdown",
   "id": "ca4ac119-9b51-4889-b0d7-28f0f5f10409",
   "metadata": {},
   "source": [
    "# 문자열"
   ]
  },
  {
   "cell_type": "markdown",
   "id": "b6a92b63-5f26-4f15-8696-cc99da14ae5a",
   "metadata": {},
   "source": [
    "## 연습문제 2"
   ]
  },
  {
   "cell_type": "code",
   "execution_count": 49,
   "id": "5d5f2e96-2815-4bd9-beb6-6e2cccad3056",
   "metadata": {},
   "outputs": [
    {
     "name": "stdin",
     "output_type": "stream",
     "text": [
      "숫자를 입력하세요 50\n"
     ]
    },
    {
     "name": "stdout",
     "output_type": "stream",
     "text": [
      "그보다 큽니다.\n"
     ]
    },
    {
     "name": "stdin",
     "output_type": "stream",
     "text": [
      "숫자를 입력하세요 75\n"
     ]
    },
    {
     "name": "stdout",
     "output_type": "stream",
     "text": [
      "그보다 큽니다.\n"
     ]
    },
    {
     "name": "stdin",
     "output_type": "stream",
     "text": [
      "숫자를 입력하세요 80\n"
     ]
    },
    {
     "name": "stdout",
     "output_type": "stream",
     "text": [
      "그보다 큽니다.\n"
     ]
    },
    {
     "name": "stdin",
     "output_type": "stream",
     "text": [
      "숫자를 입력하세요 90\n"
     ]
    },
    {
     "name": "stdout",
     "output_type": "stream",
     "text": [
      "그보다 작습니다.\n"
     ]
    },
    {
     "name": "stdin",
     "output_type": "stream",
     "text": [
      "숫자를 입력하세요 87\n"
     ]
    },
    {
     "name": "stdout",
     "output_type": "stream",
     "text": [
      "그보다 큽니다.\n"
     ]
    },
    {
     "name": "stdin",
     "output_type": "stream",
     "text": [
      "숫자를 입력하세요 89\n"
     ]
    },
    {
     "name": "stdout",
     "output_type": "stream",
     "text": [
      "맞췄습니다.\n",
      "6 번만에 맞추셨습니다.\n",
      "입력한 숫자는 다음과 같습니다. 50,75,80,90,87,89\n"
     ]
    }
   ],
   "source": [
    "import random\n",
    "random_num = random.randint(1, 100)\n",
    "\n",
    "i = 0\n",
    "user_num = []\n",
    "while True:\n",
    "    user_input = int(input(\"숫자를 입력하세요\"))\n",
    "    user_num.append(str(user_input))\n",
    "\n",
    "    if user_input == random_num:\n",
    "        print(\"맞췄습니다.\")\n",
    "        break\n",
    "    elif user_input > 100 or user_input < 1:\n",
    "        print(\"1~100 사이의 숫자를 입력하세요\")\n",
    "        i += 1    \n",
    "    elif user_input > random_num:\n",
    "        print(\"그보다 작습니다.\")\n",
    "        i += 1\n",
    "    elif user_input < random_num:\n",
    "        print(\"그보다 큽니다.\")\n",
    "        i += 1\n",
    "        \n",
    "print(f'{len(user_num)} 번만에 맞추셨습니다.')\n",
    "print(\"입력한 숫자는 다음과 같습니다.\", \",\".join(user_num))\n",
    "\n"
   ]
  },
  {
   "cell_type": "code",
   "execution_count": 25,
   "id": "c8fb9438-6080-4736-9ad6-bfe23f1e2fbe",
   "metadata": {},
   "outputs": [
    {
     "name": "stdin",
     "output_type": "stream",
     "text": [
      "숫자 입력 3\n"
     ]
    },
    {
     "name": "stdout",
     "output_type": "stream",
     "text": [
      "[4, 4, 3]\n"
     ]
    }
   ],
   "source": [
    "user_input = int(input(\"숫자 입력\"))\n",
    "user_num.append(user_input)\n",
    "print(user_num)"
   ]
  },
  {
   "cell_type": "markdown",
   "id": "770b48db-8a00-4d1b-8cda-a4dcb7c7f6a3",
   "metadata": {},
   "source": [
    "### 연습문제 해설"
   ]
  },
  {
   "cell_type": "code",
   "execution_count": 99,
   "id": "9bd42b1a-5c62-470a-85b0-bc946e3ba21c",
   "metadata": {},
   "outputs": [
    {
     "name": "stdin",
     "output_type": "stream",
     "text": [
      "1 ~100 중 숫자를 맞춰보세요 50\n"
     ]
    },
    {
     "name": "stdout",
     "output_type": "stream",
     "text": [
      "그보다 작습니다.\n"
     ]
    },
    {
     "name": "stdin",
     "output_type": "stream",
     "text": [
      "1 ~100 중 숫자를 맞춰보세요 25\n"
     ]
    },
    {
     "name": "stdout",
     "output_type": "stream",
     "text": [
      "그보다 작습니다.\n"
     ]
    },
    {
     "name": "stdin",
     "output_type": "stream",
     "text": [
      "1 ~100 중 숫자를 맞춰보세요 13\n"
     ]
    },
    {
     "name": "stdout",
     "output_type": "stream",
     "text": [
      "맞췄습니다.\n",
      "3 번 만에 맞췄습니다.\n",
      "입력한 숫자는 다음과 같습니다. 50,25,13\n"
     ]
    }
   ],
   "source": [
    "import random\n",
    "target_num = random.randint(1, 100)\n",
    "input_value = []\n",
    "\n",
    "while True: \n",
    "    input_value.append(input(\"1 ~100 중 숫자를 맞춰보세요\"))\n",
    "    _ = int(input_value[-1])\n",
    "    if  _ < 0 or _ > 100:\n",
    "        print(\"1 ~100사이의 숫자를 입력하세요\") \n",
    "    elif _ < target_num:\n",
    "        print(\"그보다 큽니다\")\n",
    "    elif _ > target_num:\n",
    "        print(\"그보다 작습니다.\")\n",
    "    else:\n",
    "        print(\"맞췄습니다.\")\n",
    "        break\n",
    "        \n",
    "print(len(input_value), \"번 만에 맞췄습니다.\")\n",
    "print(\"입력한 숫자는 다음과 같습니다.\", \",\".join(input_value))\n"
   ]
  },
  {
   "cell_type": "markdown",
   "id": "c3f04282-9e45-4a2f-8d0d-586ef3d5c463",
   "metadata": {},
   "source": [
    "# Class\n",
    "## 연습문제1\n",
    "Person 클래스로 maria, james 라는 인스턴스를 생성하기  \n",
    "maria와 james 두 사람의 나이, 이름, 주소를 받아와 객체에 저장하고 화면에 출력  "
   ]
  },
  {
   "cell_type": "code",
   "execution_count": 41,
   "id": "38a8f34f-b3e5-4196-86cc-4df45ae29074",
   "metadata": {},
   "outputs": [],
   "source": [
    "class Person:\n",
    "    def __init__ (self, name, age, address):\n",
    "        self.name = name\n",
    "        self.age = age\n",
    "        self.address = address\n",
    "        \n",
    "    def greeting(self):\n",
    "        print(f\"이름은 무엇인가요?: {self.name} \\n나이는 무엇인가요?: {self.age} \\n주소는 무엇인가요?: {self.address}\")"
   ]
  },
  {
   "cell_type": "code",
   "execution_count": 42,
   "id": "1c222d77-459d-47bb-9cf3-20da31dbd2bb",
   "metadata": {},
   "outputs": [],
   "source": [
    "maria = Person(\"마리아\", 20, \"서울시 강남구\")\n",
    "james = Person(\"제임스\", 21, \"서울시 구로구\")"
   ]
  },
  {
   "cell_type": "code",
   "execution_count": 43,
   "id": "24f5e166-9510-45cb-85b4-1adab4799958",
   "metadata": {},
   "outputs": [
    {
     "name": "stdout",
     "output_type": "stream",
     "text": [
      "이름은 무엇인가요?: 마리아 \n",
      "나이는 무엇인가요?: 20 \n",
      "주소는 무엇인가요?: 서울시 강남구\n",
      "이름은 무엇인가요?: 제임스 \n",
      "나이는 무엇인가요?: 21 \n",
      "주소는 무엇인가요?: 서울시 구로구\n"
     ]
    }
   ],
   "source": [
    "maria.greeting()\n",
    "james.greeting()"
   ]
  },
  {
   "cell_type": "code",
   "execution_count": 44,
   "id": "7ea4609a-6216-4380-8b87-9f3f89afc639",
   "metadata": {},
   "outputs": [
    {
     "name": "stdout",
     "output_type": "stream",
     "text": [
      "첫번째 이름: 마리아 \n",
      "첫번째 나이: 20 \n",
      "첫번째 주소: 서울시 강남구\n",
      "두번째 이름: 제임스 \n",
      "두번째 나이: 21 \n",
      "두번째 주소: 서울시 구로구\n"
     ]
    }
   ],
   "source": [
    "print(f\"첫번째 이름: {maria.name} \\n첫번째 나이: {maria.age} \\n첫번째 주소: {maria.address}\")\n",
    "print(f\"두번째 이름: {james.name} \\n두번째 나이: {james.age} \\n두번째 주소: {james.address}\")"
   ]
  },
  {
   "cell_type": "markdown",
   "id": "11820f9a-43b0-4a86-8b6e-c911c0f5556e",
   "metadata": {},
   "source": [
    "### 연습문제 해설"
   ]
  },
  {
   "cell_type": "code",
   "execution_count": 46,
   "id": "1c38cbd2-37ce-48ab-8367-31dee93c48ab",
   "metadata": {},
   "outputs": [],
   "source": [
    "class Person2():\n",
    "    abc = \"abc\" # 클래스 속성 내부에서 공통적으로 사용하는 것\n",
    "    def __init__(self, name, age, address):\n",
    "        self.hello = \"안녕하세요. 저는 사람입니다.\"\n",
    "        self.name = name\n",
    "        self.age = age\n",
    "        self.address = address\n",
    "        \n",
    "    def greeting(self):\n",
    "        print(\"{0}저는 {1}입니다.\".format(self.hello, self.name))"
   ]
  },
  {
   "cell_type": "code",
   "execution_count": 47,
   "id": "deeec404-91de-4eab-9b14-048a10b78731",
   "metadata": {},
   "outputs": [
    {
     "name": "stdin",
     "output_type": "stream",
     "text": [
      "이름은 무엇인가요?:  maria\n",
      "나이는 무엇인가요?:  20\n",
      "주소는 무엇인가요?:  서울시 강남구\n"
     ]
    }
   ],
   "source": [
    "name = input(\"이름은 무엇인가요?: \")\n",
    "age = input(\"나이는 무엇인가요?: \")\n",
    "address = input(\"주소는 무엇인가요?: \")\n",
    "maria = Person2(name, age, address)"
   ]
  },
  {
   "cell_type": "code",
   "execution_count": 48,
   "id": "c43a9cfe-3d8b-4d9e-a4f7-8936722da575",
   "metadata": {},
   "outputs": [
    {
     "name": "stdin",
     "output_type": "stream",
     "text": [
      "이름은 무엇인가요?:  제임스\n",
      "나이는 무엇인가요?:  21\n",
      "주소는 무엇인가요?:  서울시 구로구\n"
     ]
    }
   ],
   "source": [
    "name = input(\"이름은 무엇인가요?: \")\n",
    "age = input(\"나이는 무엇인가요?: \")\n",
    "address = input(\"주소는 무엇인가요?: \")\n",
    "james = Person2(name, age, address)"
   ]
  },
  {
   "cell_type": "code",
   "execution_count": 49,
   "id": "994a94a4-1a7c-4d29-8527-b9682273daac",
   "metadata": {},
   "outputs": [
    {
     "name": "stdout",
     "output_type": "stream",
     "text": [
      "첫번째 이름: maria\n",
      "첫번째 나이: 20\n",
      "첫번째 주소: 서울시 강남구\n",
      "두번째 이름: 제임스\n",
      "두번째 나이: 21\n",
      "두번째 주소: 서울시 구로구\n"
     ]
    }
   ],
   "source": [
    "print(f\"첫번째 이름: {maria.name}\")\n",
    "print(f\"첫번째 나이: {maria.age}\")\n",
    "print(f\"첫번째 주소: {maria.address}\")\n",
    "\n",
    "print(f\"두번째 이름: {james.name}\")\n",
    "print(f\"두번째 나이: {james.age}\")\n",
    "print(f\"두번째 주소: {james.address}\")"
   ]
  },
  {
   "cell_type": "markdown",
   "id": "4f1e2d3d-5b4f-4910-a5da-d8fe8b8c9b68",
   "metadata": {},
   "source": [
    "## 연습문제2\n",
    "사용자로부터 체력, 마나, AP를 입력 받아온다.   \n",
    "주어진 코드에서 Annie클래스를 작성하고 티버 스킬의 피해량이 출력되게 만들어 보라   \n",
    "티버 피해량은 AP x 0.65 + 400 이며 AP(Ability Power, 주문력)는 마법 능력치  "
   ]
  },
  {
   "cell_type": "code",
   "execution_count": 58,
   "id": "d8ac7e8e-e7df-4053-a1c9-79af8420769e",
   "metadata": {},
   "outputs": [],
   "source": [
    "class Annie:\n",
    "    def __init__(self, power, mana, ap):\n",
    "        self.power = power\n",
    "        self.mana = mana\n",
    "        self.ap = ap\n",
    "    \n",
    "    def tibbers(self):\n",
    "        return self.ap * 0.65 + 400"
   ]
  },
  {
   "cell_type": "code",
   "execution_count": 59,
   "id": "d58f64c2-7a07-4bfc-84ac-e906736cb454",
   "metadata": {},
   "outputs": [
    {
     "name": "stdin",
     "output_type": "stream",
     "text": [
      "체력, 마나, ap를 입력하세요 511.68 334.0 298\n"
     ]
    },
    {
     "name": "stdout",
     "output_type": "stream",
     "text": [
      "티버: 피해량 593.7\n"
     ]
    }
   ],
   "source": [
    "power, mana, ap = map(float, input(\"체력, 마나, ap를 입력하세요\").split())"
   ]
  },
  {
   "cell_type": "code",
   "execution_count": 60,
   "id": "86837dbd-812d-43d0-9b8f-fbd96f4d1453",
   "metadata": {},
   "outputs": [
    {
     "name": "stdin",
     "output_type": "stream",
     "text": [
      "체력, 마나, ap를 입력하세요 511.68 334.0 298\n"
     ]
    },
    {
     "name": "stdout",
     "output_type": "stream",
     "text": [
      "티버: 피해량 593.7\n"
     ]
    },
    {
     "name": "stdin",
     "output_type": "stream",
     "text": [
      "체력, 마나, ap를 입력하세요 1803.68 1184.0 645\n"
     ]
    },
    {
     "name": "stdout",
     "output_type": "stream",
     "text": [
      "티버: 피해량 819.25\n"
     ]
    }
   ],
   "source": [
    "power, mana, ap = map(float, input(\"체력, 마나, ap를 입력하세요\").split())\n",
    "user1 = Annie(power, mana, ap)\n",
    "print(\"티버: 피해량\", user1.tibbers())\n",
    "\n",
    "power, mana, ap = map(float, input(\"체력, 마나, ap를 입력하세요\").split())\n",
    "user2 = Annie(power, mana, ap)\n",
    "print(\"티버: 피해량\", user2.tibbers())"
   ]
  },
  {
   "cell_type": "markdown",
   "id": "39cce13e-d2a6-440f-abd3-bd339481d29b",
   "metadata": {},
   "source": [
    "### 연습문제 해설 "
   ]
  },
  {
   "cell_type": "code",
   "execution_count": 63,
   "id": "0510ad36-5230-48a9-b12e-e17fbc24b89a",
   "metadata": {},
   "outputs": [],
   "source": [
    "class Annie:\n",
    "    def __init__(self, power, mana, ap):\n",
    "        self.power = power\n",
    "        self.mana = mana\n",
    "        self.ap = ap\n",
    "    \n",
    "    def tibbers(self):\n",
    "        print(f\"티버: 피해량 {self.ap * 0.65 +400}\")"
   ]
  },
  {
   "cell_type": "code",
   "execution_count": null,
   "id": "846ec834-59f6-40d9-9327-9fbb64dabe9d",
   "metadata": {},
   "outputs": [],
   "source": [
    "power, mana, ap =  map(float, input(\"체력, 마나, ap를 입력하세요\").split())\n",
    "user = Annie(power, mana, ap)\n",
    "user.tibbers()"
   ]
  },
  {
   "cell_type": "markdown",
   "id": "582c5ba0-2b9a-4201-9199-ce3bc6ce7b4f",
   "metadata": {},
   "source": [
    "# numpy\n",
    "## 연습문제1\n",
    "넘파이 사용하여 다음과 같은 행렬을 만들어라"
   ]
  },
  {
   "cell_type": "code",
   "execution_count": 69,
   "id": "6957fe7f-ce1a-4010-8d0b-44450677bcdd",
   "metadata": {},
   "outputs": [
    {
     "data": {
      "text/plain": [
       "array([[10, 20, 30, 40],\n",
       "       [50, 60, 70, 80]])"
      ]
     },
     "execution_count": 69,
     "metadata": {},
     "output_type": "execute_result"
    }
   ],
   "source": [
    "import numpy as np\n",
    "arr1 = np.array([[10, 20, 30, 40], [50,60,70,80]])\n",
    "arr1"
   ]
  },
  {
   "cell_type": "markdown",
   "id": "93802862-2eeb-4843-81be-a011d57c3cbe",
   "metadata": {},
   "source": [
    "## 연습문제2\n",
    "다음 행렬이 주어졌을 때 1~ 5까지 문제를 풀어보시오 \n",
    "```python \n",
    "m = np.array([[0, 1, 2, 3, 4],\n",
    "              [5, 6, 7, 8, 9],\n",
    "              [10, 11, 12, 13, 14]])\n",
    "```\n",
    "\n",
    "1. 이 행렬에서 값 7을 인덱싱\n",
    "2. 이 행렬에서 값 14를 인덱싱\n",
    "3. 이 행렬에서 배열 [6, 7]을 슬라이싱\n",
    "4. 이 행렬에서 배열 [7, 12]를 슬라이싱\n",
    "5. 이 행렬에서 배열[[3, 4], [8, 9]]를 슬라이싱"
   ]
  },
  {
   "cell_type": "code",
   "execution_count": 71,
   "id": "9e59cdc0-1291-46a3-bfcf-6bec6cb624bb",
   "metadata": {},
   "outputs": [
    {
     "data": {
      "text/plain": [
       "array([[ 0,  1,  2,  3,  4],\n",
       "       [ 5,  6,  7,  8,  9],\n",
       "       [10, 11, 12, 13, 14]])"
      ]
     },
     "execution_count": 71,
     "metadata": {},
     "output_type": "execute_result"
    }
   ],
   "source": [
    "m = np.array([_ for _ in range(15)]).reshape(3, 5)\n",
    "m"
   ]
  },
  {
   "cell_type": "code",
   "execution_count": 82,
   "id": "6aabab26-3108-4aa5-a089-5af6d99b81ee",
   "metadata": {},
   "outputs": [
    {
     "name": "stdout",
     "output_type": "stream",
     "text": [
      "7\n",
      "14\n",
      "[6 7]\n",
      "[ 7 12]\n",
      "[[3 4]\n",
      " [8 9]]\n"
     ]
    }
   ],
   "source": [
    "print(m[1, 2])\n",
    "print(m[-1, -1])\n",
    "print(m[1, 1:3])\n",
    "print(m[1:, 2])\n",
    "print(m[:2, 3:])"
   ]
  },
  {
   "attachments": {
    "81907ace-72ba-4c8e-bc3e-dfe50ca9cf99.png": {
     "image/png": "[encoded data removed]"
    }
   },
   "cell_type": "markdown",
   "id": "ea9a73e7-1fd2-4a92-ad7a-1a2b90a7d7d1",
   "metadata": {},
   "source": [
    "## 연습문제 3\n",
    "앞서 배운 내용을 활용하여 다음과 동일한 배열을 만들어라 \n",
    "\n",
    "![image.png](attachment:81907ace-72ba-4c8e-bc3e-dfe50ca9cf99.png)"
   ]
  },
  {
   "cell_type": "code",
   "execution_count": 176,
   "id": "7522b16f-9a53-4f4f-960d-cc42f8d38b9c",
   "metadata": {},
   "outputs": [
    {
     "data": {
      "text/plain": [
       "array([[  0.,   0.,   0.,   1.,   1.],\n",
       "       [  0.,   0.,   0.,   1.,   1.],\n",
       "       [  0.,   0.,   0.,   1.,   1.],\n",
       "       [ 10.,  20.,  30.,  40.,  50.],\n",
       "       [ 60.,  70.,  80.,  90., 100.],\n",
       "       [110., 120., 130., 140., 150.],\n",
       "       [  0.,   0.,   0.,   1.,   1.],\n",
       "       [  0.,   0.,   0.,   1.,   1.],\n",
       "       [  0.,   0.,   0.,   1.,   1.],\n",
       "       [ 10.,  20.,  30.,  40.,  50.],\n",
       "       [ 60.,  70.,  80.,  90., 100.],\n",
       "       [110., 120., 130., 140., 150.]])"
      ]
     },
     "execution_count": 176,
     "metadata": {},
     "output_type": "execute_result"
    }
   ],
   "source": [
    "a = np.zeros(3)\n",
    "b = np.ones(2)\n",
    "c = np.array([_ for _ in range(10, 160, 10)]).reshape(3, 5)\n",
    "\n",
    "a_b= np.hstack([a,b])\n",
    "ab_3 = np.tile(a_b, (3, 1))\n",
    "cc = np.vstack([ab_3, c])\n",
    "cc_2 = np.tile(cc, (2, 1))\n",
    "cc_2"
   ]
  }
 ],
 "metadata": {
  "kernelspec": {
   "display_name": "Python 3",
   "language": "python",
   "name": "python3"
  },
  "language_info": {
   "codemirror_mode": {
    "name": "ipython",
    "version": 3
   },
   "file_extension": ".py",
   "mimetype": "text/x-python",
   "name": "python",
   "nbconvert_exporter": "python",
   "pygments_lexer": "ipython3",
   "version": "3.8.8"
  }
 },
 "nbformat": 4,
 "nbformat_minor": 5
}
