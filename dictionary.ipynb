{
 "cells": [
  {
   "cell_type": "markdown",
   "id": "f3a3dd22-f3cc-4c36-b9a3-e05e862e3d3e",
   "metadata": {},
   "source": [
    "# 2023.01.10\n",
    "## **Dictionary**"
   ]
  },
  {
   "cell_type": "markdown",
   "id": "6fa9cb5a-75f4-4618-8080-7a33f2410b74",
   "metadata": {},
   "source": [
    "- **비 시퀀스 자료형**으로 인덱스를 가지 않음 대신 **고유한 key 값**을 가진다. 이 키는 1:1로 매친되는 값(value)를 가짐"
   ]
  },
  {
   "cell_type": "markdown",
   "id": "31876e39-eab3-4781-8e03-00289bc49713",
   "metadata": {},
   "source": [
    "            key: value --> key - value pair"
   ]
  },
  {
   "cell_type": "markdown",
   "id": "d4aa1ffc-8f2b-4d60-aa3c-d60991216f68",
   "metadata": {},
   "source": [
    "- { } 활용하여 딕셔너리 자료형을 생성할 수 있다. key:value 형태로 작성 하고, 각각 콤마로 구분지어 요소로 등록 가능"
   ]
  },
  {
   "cell_type": "markdown",
   "id": "b89fd7d5-009c-46d9-b4c0-84df903898f9",
   "metadata": {},
   "source": [
    "``` python \n",
    "dictionary_variable = {key: value, key:value}\n",
    "```"
   ]
  },
  {
   "cell_type": "code",
   "execution_count": 2,
   "id": "8c61a899-488f-42a7-b17b-7fbb13114763",
   "metadata": {},
   "outputs": [
    {
     "name": "stdout",
     "output_type": "stream",
     "text": [
      "<class 'dict'>\n",
      "{'key': 'value'}\n"
     ]
    }
   ],
   "source": [
    "dic_var = {\"key\": \"value\"}\n",
    "print(type(dic_var))\n",
    "print(dic_var)"
   ]
  },
  {
   "cell_type": "markdown",
   "id": "8baf0470-d274-4bfb-9ad0-1a2244f547fc",
   "metadata": {},
   "source": [
    "- 딕셔너리 자료형에서 키는 중복해서 존재하지 않는다. 만약 중복해서 넣게되면 **가장 최근**에 넣은 key - value 쌍만 남는다. "
   ]
  },
  {
   "cell_type": "code",
   "execution_count": 4,
   "id": "06d22679-57f4-430a-8d86-cb3ef4c50547",
   "metadata": {},
   "outputs": [
    {
     "name": "stdout",
     "output_type": "stream",
     "text": [
      "{'key': 'last_value'}\n"
     ]
    }
   ],
   "source": [
    "dic_var = {\"key\":\"value\", \"key\": \"last_value\"}\n",
    "print(dic_var)"
   ]
  },
  {
   "cell_type": "markdown",
   "id": "8daa355d-608c-42dc-ac57-4d8d71b5df26",
   "metadata": {},
   "source": [
    "### **딕셔너리 자료형 특징**\n",
    "- key는 **문자열, 정수, 실수, 불(bool), 튜플** 사용 가능 \n",
    "- 또 키에는 자료형을 섞어서 사용 가능   \n",
    "- 단, key에는 **리스트, 딕셔너리, 집합 사용 불가능** \n",
    "- 또 키는 고유한 값을 가져야 한다.(인덱스에 겹치는 숫자가 없듯이)"
   ]
  },
  {
   "cell_type": "code",
   "execution_count": 5,
   "id": "8506c068-2116-4eac-9650-bc3fcb8d2830",
   "metadata": {},
   "outputs": [
    {
     "name": "stdout",
     "output_type": "stream",
     "text": [
      "[<class 'str'>, <class 'int'>, <class 'float'>, <class 'tuple'>]\n"
     ]
    }
   ],
   "source": [
    "dic_var = {'key':'value', \n",
    "          1: \"value2\",\n",
    "          1.1:\"value3\",\n",
    "          True: \"value4\",\n",
    "          (\"key\", 1, 1.1, True):\"value2\"}\n",
    "print(list(map(type, dic_var.keys())))"
   ]
  },
  {
   "cell_type": "code",
   "execution_count": 6,
   "id": "c86ed644-6782-4b1f-857d-598272de188a",
   "metadata": {},
   "outputs": [
    {
     "name": "stdout",
     "output_type": "stream",
     "text": [
      "[<class 'str'>, <class 'bool'>, <class 'float'>, <class 'tuple'>, <class 'list'>]\n"
     ]
    }
   ],
   "source": [
    "dic_var = {'key':'value', \n",
    "          1:1, \n",
    "          1.1:1.1,\n",
    "          True:False,\n",
    "          (\"key\",1, 1.1, True):(\"key\", 1, 1.1, True),\n",
    "          \"list\":[1,\"가\",1.1, True, (1, \"나\")],\n",
    "          }\n",
    "print(list(map(type, dic_var.values())))"
   ]
  },
  {
   "cell_type": "markdown",
   "id": "70903bbc-5f90-4500-aa52-def50e4863aa",
   "metadata": {},
   "source": [
    "### **딕셔너리 자료형**\n",
    "#### **dict() 함수로 생성하기**\n",
    "dict()함수에 키워드 인자값을 활용하면 딕셔너리 만들 수 있다. 함수에 사용하는 키웓 인자의 키워드 부분은 변수명처럼 따옴표 사용하지 않는다. "
   ]
  },
  {
   "cell_type": "code",
   "execution_count": 8,
   "id": "a7fadae7-8b41-45e8-bc30-a3d95ccb24d0",
   "metadata": {},
   "outputs": [
    {
     "name": "stdout",
     "output_type": "stream",
     "text": [
      "{'key': 'value', 'key2': 'value2', 'key3': 'value3'}\n"
     ]
    }
   ],
   "source": [
    "dict_a = dict(key = \"value\", key2 = \"value2\", key3 = \"value3\" )\n",
    "print(dict_a)"
   ]
  },
  {
   "cell_type": "markdown",
   "id": "5a719f8c-2fe0-46b4-a074-630bf14f544b",
   "metadata": {},
   "source": [
    "#### **dict() 함수와 시퀀스 객체로 생성하기** \n",
    "키 값과 한 쌍을 갖는 시퀀스 객체를 요소로 갖는 시퀀스 객체를 생성하여 딕셔너리 자료형으로 만들 수 있다.   \n",
    "시퀀스 객체이면 튜플이나, 리스트나 상관 없다"
   ]
  },
  {
   "cell_type": "code",
   "execution_count": 22,
   "id": "e645e84e-c0a3-4b23-b4ec-9d8a6d7eefb7",
   "metadata": {},
   "outputs": [
    {
     "name": "stdout",
     "output_type": "stream",
     "text": [
      "{'key': 'value', 'key2': 'value2'}\n",
      "{'key3': 'value', 'key4': 'value2'}\n"
     ]
    }
   ],
   "source": [
    "print(dict([(\"key\", \"value\"), (\"key2\", \"value2\")]))\n",
    "print(dict(((\"key3\", \"value\"), (\"key4\", \"value2\"))))"
   ]
  },
  {
   "cell_type": "markdown",
   "id": "d533722c-505e-4dc1-8390-9f5775bc63d5",
   "metadata": {},
   "source": [
    "#### **dict() 함수와 zip() 함수로 생성하기** \n",
    "zip() 함수를 사용하여 키와 값 한쌍을 갖는 **튜플**을 요소로 갖는 객체로 딕셔너리 자료형을 생성 가능  \n",
    "- key의 개수와 value의 개수가 동일하지 않아도 dictionary 만드는데 문제가 전혀 없다\n",
    "- key의 개수와 value의 개수 중 작은 것에 맞춰서 알아서 만들어 준다"
   ]
  },
  {
   "cell_type": "code",
   "execution_count": 10,
   "id": "f47f13a2-ef53-4a3e-afdd-e4300c2efbe5",
   "metadata": {},
   "outputs": [
    {
     "name": "stdout",
     "output_type": "stream",
     "text": [
      "{'key': 'value', 'key2': 'value2', 'key3': 'value3'}\n"
     ]
    }
   ],
   "source": [
    "dict_b = dict(zip([\"key\", \"key2\",\"key3\"], [\"value\",\"value2\", \"value3\"]))\n",
    "print(dict_b)"
   ]
  },
  {
   "cell_type": "code",
   "execution_count": 11,
   "id": "9794bf65-4ef8-4a82-b0fe-8c42bb41d0d4",
   "metadata": {},
   "outputs": [
    {
     "name": "stdout",
     "output_type": "stream",
     "text": [
      "<zip object at 0x00000209A56BE0C0>\n"
     ]
    }
   ],
   "source": [
    "print(zip([\"key\", \"key2\",\"key3\"], [\"value\",\"value2\", \"value3\"]))"
   ]
  },
  {
   "cell_type": "code",
   "execution_count": 13,
   "id": "56aeb0ac-cf65-4a75-b75b-cb09009ff3d1",
   "metadata": {},
   "outputs": [
    {
     "data": {
      "text/plain": [
       "[('key', 'value'), ('key2', 'value2'), ('key3', 'value3')]"
      ]
     },
     "execution_count": 13,
     "metadata": {},
     "output_type": "execute_result"
    }
   ],
   "source": [
    "[_ for _ in zip([\"key\", \"key2\",\"key3\"], [\"value\",\"value2\", \"value3\"])]"
   ]
  },
  {
   "cell_type": "markdown",
   "id": "251358d9-3edd-4d4a-aac8-04928cbd9d35",
   "metadata": {},
   "source": [
    "#### **키로 값에 접근하기** \n",
    "인덱싱과 마찬가지  \n",
    "다만, 인덱싱은 0이상의 정수를 활용하여 각 요소에 접근하지만 딕셔너리 자료형은 키를 활용하여 해당 값에 접근"
   ]
  },
  {
   "cell_type": "code",
   "execution_count": 14,
   "id": "3cc39fb2-41e5-419e-b50b-bfc53d6b03a0",
   "metadata": {},
   "outputs": [
    {
     "name": "stdout",
     "output_type": "stream",
     "text": [
      "{'key': 'value', 'key2': 'value2', 'key3': 'value3'}\n",
      "value\n"
     ]
    }
   ],
   "source": [
    "print(dict_b)\n",
    "print(dict_b['key'])"
   ]
  },
  {
   "cell_type": "markdown",
   "id": "1b94d49a-2c93-405c-85c3-1703b70cf724",
   "metadata": {},
   "source": [
    "#### **키로 값 변경하기**\n",
    "키를 통해 접근한 요소에 값을 할당하면 해당 값을 변경 가능"
   ]
  },
  {
   "cell_type": "code",
   "execution_count": 15,
   "id": "84286cc2-d9a2-4066-bf23-fff1595bbfbf",
   "metadata": {},
   "outputs": [
    {
     "name": "stdout",
     "output_type": "stream",
     "text": [
      "{'key': 'value', 'key2': 'value2', 'key3': 'value3'}\n",
      "{'key': 'super value', 'key2': 'value2', 'key3': 'value3'}\n"
     ]
    }
   ],
   "source": [
    "print(dict_b)\n",
    "dict_b['key'] = \"super value\"\n",
    "print(dict_b)"
   ]
  },
  {
   "cell_type": "markdown",
   "id": "14ee1212-4eea-4306-a456-89a85bd6e51e",
   "metadata": {},
   "source": [
    "#### **키와 값 추기하기**\n",
    "딕셔너리 자료형에 없는 키를 활용하여 값을 할당하면 딕셔너리 자료형에 새로운 키와 값의 쌍이 추가  \n",
    "기존에 있는 key를 쓰면 value가 대체 되고, 없는 key를 사용하면 value가 추가가 된다."
   ]
  },
  {
   "cell_type": "code",
   "execution_count": 16,
   "id": "cf42e1f1-bc44-4789-9da4-debfa9304a49",
   "metadata": {},
   "outputs": [
    {
     "name": "stdout",
     "output_type": "stream",
     "text": [
      "{'key': 'super value', 'key2': 'value2', 'key3': 'value3'}\n",
      "{'key': 'super value', 'key2': 'value2', 'key3': 'value3', 'new one': 'new value'}\n"
     ]
    }
   ],
   "source": [
    "print(dict_b)\n",
    "dict_b[\"new one\"] = \"new value\"\n",
    "print(dict_b)"
   ]
  },
  {
   "cell_type": "markdown",
   "id": "bf29f471-e669-4da4-af1c-4ea650959fc9",
   "metadata": {},
   "source": [
    "#### **없는 키에 접근하는 경우**\n",
    "범위를 벗어나 인덱스에 접근하면 에러가 발생하듯이 없는 키에 접근하면 에러가 발생"
   ]
  },
  {
   "cell_type": "markdown",
   "id": "b6ec50a7-1e97-4c20-9c4c-b521e7fafae1",
   "metadata": {},
   "source": [
    "#### **특정 키가 딕셔너리 자료형에 있나 확인**\n",
    "특정 키가 존재하는지 확인할 때 **in** 연산자 사용 가능 "
   ]
  },
  {
   "cell_type": "code",
   "execution_count": 18,
   "id": "85091576-9871-40ed-83e0-53d4733c5a42",
   "metadata": {},
   "outputs": [
    {
     "name": "stdout",
     "output_type": "stream",
     "text": [
      "{'key': 'super value', 'key2': 'value2', 'key3': 'value3', 'new one': 'new value'}\n",
      "True\n"
     ]
    }
   ],
   "source": [
    "print(dict_b)\n",
    "print('key' in dict_b) # dict_b에 \"key\"라는 키가 있으면 True, 없으면 False"
   ]
  },
  {
   "cell_type": "markdown",
   "id": "4157ea71-8ae1-4029-a303-dde0e7e5aa13",
   "metadata": {},
   "source": [
    "#### **특정 키와 값의 쌍을 삭제하기**\n",
    "딕셔너리 자료형에서 **del** 키워드를 활용하여 특정 키와 값의 쌍을 삭제 가능"
   ]
  },
  {
   "cell_type": "code",
   "execution_count": 19,
   "id": "c043562f-5062-43cd-b5d6-683abb4c613e",
   "metadata": {},
   "outputs": [
    {
     "name": "stdout",
     "output_type": "stream",
     "text": [
      "{'key': 'super value', 'key2': 'value2', 'key3': 'value3', 'new one': 'new value'}\n",
      "{'key': 'super value', 'key2': 'value2', 'key3': 'value3'}\n"
     ]
    }
   ],
   "source": [
    "print(dict_b)\n",
    "del dict_b['new one']\n",
    "print(dict_b)"
   ]
  },
  {
   "cell_type": "markdown",
   "id": "ffbc1391-9567-45d2-84d4-42873e808af1",
   "metadata": {},
   "source": [
    "#### **키와 값의 쌍의 개수(크기) 구하기**\n",
    "키와 값은 1대 1로 한쌍을 이루기 때문에 len()함수를 통해 자료형의 크기를 구하면 그건 **키의 개수**이자 **값의 개수**이다. "
   ]
  },
  {
   "cell_type": "code",
   "execution_count": 20,
   "id": "a7815322-9605-4d29-af08-c9e0560dfaab",
   "metadata": {},
   "outputs": [
    {
     "name": "stdout",
     "output_type": "stream",
     "text": [
      "{'key': 'super value', 'key2': 'value2', 'key3': 'value3'}\n",
      "3\n"
     ]
    }
   ],
   "source": [
    "print(dict_b)\n",
    "print(len(dict_b))"
   ]
  }
 ],
 "metadata": {
  "kernelspec": {
   "display_name": "Python 3",
   "language": "python",
   "name": "python3"
  },
  "language_info": {
   "codemirror_mode": {
    "name": "ipython",
    "version": 3
   },
   "file_extension": ".py",
   "mimetype": "text/x-python",
   "name": "python",
   "nbconvert_exporter": "python",
   "pygments_lexer": "ipython3",
   "version": "3.8.8"
  }
 },
 "nbformat": 4,
 "nbformat_minor": 5
}
