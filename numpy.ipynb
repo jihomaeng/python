{
 "cells": [
  {
   "cell_type": "markdown",
   "id": "f97220c0-4eba-49f6-bd7f-0458aa000db2",
   "metadata": {},
   "source": [
    "# numpy"
   ]
  },
  {
   "cell_type": "markdown",
   "id": "be6edeb0-09a5-4a5d-a666-afc038a03422",
   "metadata": {},
   "source": [
    "## 넘파이 배열\n",
    "Numpy 는 파이썬 내장 모듈이 아니다.  \n",
    "따라서 별도의 설치를 해야한다.  \n",
    "하지만 우리는 아나콘다를 환경으로 꾸렸기 때문에 기본적으로 Numpy 패키지 설치 없이 사용할 수 있다.   \n",
    "\n",
    "```python \n",
    "!conda list\n",
    "```\n",
    "\n",
    "숫자 데이터를 좀 더 쉽고 편리하게 다룰 수 있게 도와주는 패키지이다.   \n",
    "숫자 데이터를 효과적으로 다룰 수 있기에 이 패키지들은 데이터를 주로 다루는데,   \n",
    "데이터 과학 및 데이터 분석에 많이 사용되는 파이썬 패키지이다.    \n",
    "numpy는 다차원 배열 자료구조인 ndarray(n - dimension array) 클래스를 지원하며 벡터와 행렬을 사용하는 선형대수 계산에 주로 사용된다.   \n",
    "https://www.numpy.org"
   ]
  },
  {
   "cell_type": "markdown",
   "id": "f9f10446-0450-4974-8495-138048b69bdd",
   "metadata": {},
   "source": [
    "### **넘파이 배열이란?** \n",
    "순서가 있는 **같은 종류(type)** 의 데이터가 저장되는 자료형  \n",
    "\n",
    "그럼 같은 종류를 같은 리스트를 활용해서 데이터 처리하면 안되나?  \n",
    "굳이 새로운 넘파이를 안 배워도 파이썬 기본 시퀀스만으로도 가능한가?\n",
    "- 리스트도 좋은 자료형이지만 넘파이 배열이 구조적으로 속도가 더 빠르고 메모리 적게 사용"
   ]
  },
  {
   "cell_type": "markdown",
   "id": "edbda2c7-13de-48f4-80e9-b06c9346bc42",
   "metadata": {},
   "source": [
    "Numpy Array: 크기가 고정(크기 변화가 없다) 데이터 크기만 알면 순서대로 자르면 된다. 타입 고정(타입 하나)\n",
    "data: 이진 데이터\n",
    "dimensions: 배열 구조 \n",
    "strides: 증감\n",
    "크기(type의 크기)\n",
    "\n",
    "\n",
    "Python List\n",
    "length: 시퀀스 길이\n",
    "items: 요소(주소)"
   ]
  },
  {
   "cell_type": "markdown",
   "id": "b6f1b33b-d81c-4bd4-ad0c-67d76d1ea286",
   "metadata": {},
   "source": [
    "수많은 숫자 데이터를 하나의 리스트 시퀀스로 다루게 되면 넘파이 배열에 비하여 상대적으로 속도가 느리고 메모리를 많이 차지 하는 단점이 있다.  \n",
    "넘파이 패키지의 배열을 사용하면 리스트에 비해 적ㅇㄴ 메모리로 많은 데이터를 빠르게 처리할 수 있다.   \n",
    "다만 넘파이 배열은 많은 데이터를 다룰 수 있따는 점에서 리스트와 비스하지만 차이점도 있다.  \n",
    "##### **차이점**\n",
    "1. 모든 요소가 같은 자료형이어야 한다.   \n",
    "2. 요소의 개수 바꿀 수 없다.   \n",
    "\n",
    "배열의 연산은 C로 구현된 내부 반복문을 사용하기 때문에 파이썬 반복문에 비해 속도가 빠르며   \n",
    "벡터화 연산을 이용하여 간단한 코드로도 복잡한 선형 대수 연산을 수행할 수 있다.   \n",
    "또한 배열 인덱싱을 사용한 Query기능을 이요하여 간단한 코드로도 복잡한 수식 계산할 수 있다.   "
   ]
  },
  {
   "cell_type": "markdown",
   "id": "cd1862df-631c-480b-bccc-b8fdd27b8dd4",
   "metadata": {},
   "source": [
    "### **넘파이 패키지 임포트 하기** \n",
    "배열을 사용하기 위해서는 다음과 같이 NumpPy패키지 임포트 \n",
    "```python \n",
    "import numpy as np\n",
    "```\n",
    "넘파이 패키지는 np라는 별칭을 부여해서 사용"
   ]
  },
  {
   "cell_type": "markdown",
   "id": "3be334cf-9a19-4444-b2b1-6b5421a6f419",
   "metadata": {},
   "source": [
    "### **1차원 배열 만들기** \n",
    "넘파이 배열 객체인 ndarray는 n-dimensional array의 약자.    \n",
    "1차원 배열, 2차원 배열, 3차원 배열 등의 다차원 배열 자료구조 지원  \n",
    "우선은 1차원 배열 만드는 방법에 대해 알아보기   "
   ]
  },
  {
   "cell_type": "markdown",
   "id": "81355ade-8eb5-4ac0-a286-5810d175f2a9",
   "metadata": {},
   "source": [
    "넘파이의 array 메서드 인수로 시퀀스 자료형을 넣으면 ndarray 클래스 객체, 즉 넘파이 배열로 변환해준다.  \n",
    "주로 튜플보단 리스트를 많이 사용   \n",
    "만들어진 ndarray 객체의 표현식(representation)을 보면 바깥쪽에 array()란 것이 붙어있을 뿐 리스트와 동일한 구조처럼 보인다. "
   ]
  },
  {
   "cell_type": "code",
   "execution_count": 7,
   "id": "7b638b73-b349-42a0-a573-d4a3379bac02",
   "metadata": {
    "scrolled": true,
    "tags": []
   },
   "outputs": [
    {
     "name": "stdout",
     "output_type": "stream",
     "text": [
      "\n",
      "toml                      0.10.2             pyhd3eb1b0_0  \n",
      "toolz                     0.11.1             pyhd3eb1b0_0  \n",
      "tornado                   6.1              py38h2bbff1b_0  \n",
      "tqdm                      4.59.0             pyhd3eb1b0_1  \n",
      "traitlets                 5.0.5              pyhd3eb1b0_0  \n",
      "typed-ast                 1.4.2            py38h2bbff1b_1  \n",
      "typing_extensions         3.7.4.3            pyha847dfd_0  \n",
      "ujson                     4.0.2            py38hd77b12b_0  \n",
      "unicodecsv                0.14.1                   py38_0  \n",
      "urllib3                   1.26.4             pyhd3eb1b0_0  \n",
      "vc                        14.2                 h21ff451_1  \n",
      "vs2015_runtime            14.27.29016          h5e58377_2  \n",
      "watchdog                  1.0.2            py38haa95532_1  \n",
      "wcwidth                   0.2.5                      py_0  \n",
      "webencodings              0.5.1                    py38_1  \n",
      "werkzeug                  1.0.1              pyhd3eb1b0_0  \n",
      "wheel                     0.36.2             pyhd3eb1b0_0  \n",
      "widgetsnbextension        3.5.1                    py38_0  \n",
      "win_inet_pton             1.1.0            py38haa95532_0  \n",
      "win_unicode_console       0.5                      py38_0  \n",
      "wincertstore              0.2                      py38_0  \n",
      "winpty                    0.4.3                         4  \n",
      "wrapt                     1.12.1           py38he774522_1  \n",
      "xlrd                      2.0.1              pyhd3eb1b0_0  \n",
      "xlsxwriter                1.3.8              pyhd3eb1b0_0  \n",
      "xlwings                   0.23.0           py38haa95532_0  \n",
      "xlwt                      1.3.0                    py38_0  \n",
      "xmltodict                 0.12.0                     py_0  \n",
      "xz                        5.2.5                h62dcd97_0  \n",
      "yaml                      0.2.5                he774522_0  \n",
      "yapf                      0.31.0             pyhd3eb1b0_0  \n",
      "zeromq                    4.3.3                ha925a31_3  \n",
      "zfp                       0.5.5                hd77b12b_6  \n",
      "zict                      2.0.0              pyhd3eb1b0_0  \n",
      "zipp                      3.4.1              pyhd3eb1b0_0  \n",
      "zlib                      1.2.11               h62dcd97_4  \n",
      "zope                      1.0                      py38_1  \n",
      "zope.event                4.5.0                    py38_0  \n",
      "zope.interface            5.3.0            py38h2bbff1b_0  \n",
      "zstd                      1.4.5                h04227a9_0  \n",
      "# packages in environment at C:\\Users\\Win10\\anaconda3:\n",
      "#\n",
      "# Name                    Version                   Build  Channel\n",
      "_ipyw_jlab_nb_ext_conf    0.1.0                    py38_0  \n",
      "alabaster                 0.7.12             pyhd3eb1b0_0  \n",
      "anaconda                  2021.05                  py38_0  \n",
      "anaconda-client           1.7.2                    py38_0  \n",
      "anaconda-navigator        2.0.3                    py38_0  \n",
      "anaconda-project          0.9.1              pyhd3eb1b0_1  \n",
      "anyio                     2.2.0            py38haa95532_2  \n",
      "appdirs                   1.4.4                      py_0  \n",
      "argh                      0.26.2                   py38_0  \n",
      "argon2-cffi               20.1.0           py38h2bbff1b_1  \n",
      "asn1crypto                1.4.0                      py_0  \n",
      "astroid                   2.5              py38haa95532_1  \n",
      "astropy                   4.2.1            py38h2bbff1b_1  \n",
      "async_generator           1.10               pyhd3eb1b0_0  \n",
      "atomicwrites              1.4.0                      py_0  \n",
      "attrs                     20.3.0             pyhd3eb1b0_0  \n",
      "autopep8                  1.5.6              pyhd3eb1b0_0  \n",
      "babel                     2.9.0              pyhd3eb1b0_0  \n",
      "backcall                  0.2.0              pyhd3eb1b0_0  \n",
      "backports                 1.0                pyhd3eb1b0_2  \n",
      "backports.functools_lru_cache 1.6.4              pyhd3eb1b0_0  \n",
      "backports.shutil_get_terminal_size 1.0.0              pyhd3eb1b0_3  \n",
      "backports.tempfile        1.0                pyhd3eb1b0_1  \n",
      "backports.weakref         1.0.post1                  py_1  \n",
      "bcrypt                    3.2.0            py38he774522_0  \n",
      "beautifulsoup4            4.9.3              pyha847dfd_0  \n",
      "bitarray                  1.9.2            py38h2bbff1b_1  \n",
      "bkcharts                  0.2                      py38_0  \n",
      "black                     19.10b0                    py_0  \n",
      "blas                      1.0                         mkl  \n",
      "bleach                    3.3.0              pyhd3eb1b0_0  \n",
      "blosc                     1.21.0               h19a0ad4_0  \n",
      "bokeh                     2.3.2            py38haa95532_0  \n",
      "boto                      2.49.0                   py38_0  \n",
      "bottleneck                1.3.2            py38h2a96729_1  \n",
      "brotli                    1.0.9                ha925a31_2  \n",
      "brotlipy                  0.7.0           py38h2bbff1b_1003  \n",
      "bzip2                     1.0.8                he774522_0  \n",
      "ca-certificates           2021.4.13            haa95532_1  \n",
      "certifi                   2020.12.5        py38haa95532_0  \n",
      "cffi                      1.14.5           py38hcd4344a_0  \n",
      "chardet                   4.0.0           py38haa95532_1003  \n",
      "charls                    2.2.0                h6c2663c_0  \n",
      "click                     7.1.2              pyhd3eb1b0_0  \n",
      "cloudpickle               1.6.0                      py_0  \n",
      "clyent                    1.2.2                    py38_1  \n",
      "colorama                  0.4.4              pyhd3eb1b0_0  \n",
      "comtypes                  1.1.9           py38haa95532_1002  \n",
      "conda                     4.10.1           py38haa95532_1  \n",
      "conda-build               3.21.4           py38haa95532_0  \n",
      "conda-content-trust       0.1.1              pyhd3eb1b0_0  \n",
      "conda-env                 2.6.0                         1  \n",
      "conda-package-handling    1.7.3            py38h8cc25b3_1  \n",
      "conda-repo-cli            1.0.4              pyhd3eb1b0_0  \n",
      "conda-token               0.3.0              pyhd3eb1b0_0  \n",
      "conda-verify              3.4.2                      py_1  \n",
      "console_shortcut          0.1.1                         4  \n",
      "contextlib2               0.6.0.post1                py_0  \n",
      "cryptography              3.4.7            py38h71e12ea_0  \n",
      "curl                      7.71.1               h2a8f88b_1  \n",
      "cycler                    0.10.0                   py38_0  \n",
      "cython                    0.29.23          py38hd77b12b_0  \n",
      "cytoolz                   0.11.0           py38he774522_0  \n",
      "dask                      2021.4.0           pyhd3eb1b0_0  \n",
      "dask-core                 2021.4.0           pyhd3eb1b0_0  \n",
      "decorator                 5.0.6              pyhd3eb1b0_0  \n",
      "defusedxml                0.7.1              pyhd3eb1b0_0  \n",
      "diff-match-patch          20200713                   py_0  \n",
      "distributed               2021.4.0         py38haa95532_0  \n",
      "docutils                  0.17             py38haa95532_1  \n",
      "entrypoints               0.3                      py38_0  \n",
      "et_xmlfile                1.0.1                   py_1001  \n",
      "fastcache                 1.1.0            py38he774522_0  \n",
      "filelock                  3.0.12             pyhd3eb1b0_1  \n",
      "flake8                    3.9.0              pyhd3eb1b0_0  \n",
      "flask                     1.1.2              pyhd3eb1b0_0  \n",
      "freetype                  2.10.4               hd328e21_0  \n",
      "fsspec                    0.9.0              pyhd3eb1b0_0  \n",
      "future                    0.18.2                   py38_1  \n",
      "get_terminal_size         1.0.0                h38e98db_0  \n",
      "gevent                    21.1.2           py38h2bbff1b_1  \n",
      "giflib                    5.2.1                h62dcd97_0  \n",
      "glob2                     0.7                pyhd3eb1b0_0  \n",
      "greenlet                  1.0.0            py38hd77b12b_2  \n",
      "h5py                      2.10.0           py38h5e291fa_0  \n",
      "hdf5                      1.10.4               h7ebc959_0  \n",
      "heapdict                  1.0.1                      py_0  \n",
      "html5lib                  1.1                        py_0  \n",
      "icc_rt                    2019.0.0             h0cc432a_1  \n",
      "icu                       58.2                 ha925a31_3  \n",
      "idna                      2.10               pyhd3eb1b0_0  \n",
      "imagecodecs               2021.3.31        py38h5da4933_0  \n",
      "imageio                   2.9.0              pyhd3eb1b0_0  \n",
      "imagesize                 1.2.0              pyhd3eb1b0_0  \n",
      "importlib-metadata        3.10.0           py38haa95532_0  \n",
      "importlib_metadata        3.10.0               hd3eb1b0_0  \n",
      "iniconfig                 1.1.1              pyhd3eb1b0_0  \n",
      "intel-openmp              2021.2.0           haa95532_616  \n",
      "intervaltree              3.1.0                      py_0  \n",
      "ipykernel                 5.3.4            py38h5ca1d4c_0  \n",
      "ipython                   7.22.0           py38hd4e2768_0  \n",
      "ipython_genutils          0.2.0              pyhd3eb1b0_1  \n",
      "ipywidgets                7.6.3              pyhd3eb1b0_1  \n",
      "isort                     5.8.0              pyhd3eb1b0_0  \n",
      "itsdangerous              1.1.0              pyhd3eb1b0_0  \n",
      "jdcal                     1.4.1                      py_0  \n",
      "jedi                      0.17.2           py38haa95532_1  \n",
      "jinja2                    2.11.3             pyhd3eb1b0_0  \n",
      "joblib                    1.0.1              pyhd3eb1b0_0  \n",
      "jpeg                      9b                   hb83a4c4_2  \n",
      "json5                     0.9.5                      py_0  \n",
      "jsonschema                3.2.0                      py_2  \n",
      "jupyter                   1.0.0                    py38_7  \n",
      "jupyter-packaging         0.7.12             pyhd3eb1b0_0  \n",
      "jupyter_client            6.1.12             pyhd3eb1b0_0  \n",
      "jupyter_console           6.4.0              pyhd3eb1b0_0  \n",
      "jupyter_core              4.7.1            py38haa95532_0  \n",
      "jupyter_server            1.4.1            py38haa95532_0  \n",
      "jupyterlab                3.0.14             pyhd3eb1b0_1  \n",
      "jupyterlab_pygments       0.1.2                      py_0  \n",
      "jupyterlab_server         2.4.0              pyhd3eb1b0_0  \n",
      "jupyterlab_widgets        1.0.0              pyhd3eb1b0_1  \n",
      "keyring                   22.3.0           py38haa95532_0  \n",
      "kiwisolver                1.3.1            py38hd77b12b_0  \n",
      "krb5                      1.18.2               hc04afaa_0  \n",
      "lazy-object-proxy         1.6.0            py38h2bbff1b_0  \n",
      "lcms2                     2.12                 h83e58a3_0  \n",
      "lerc                      2.2.1                hd77b12b_0  \n",
      "libaec                    1.0.4                h33f27b4_1  \n",
      "libarchive                3.4.2                h5e25573_0  \n",
      "libcurl                   7.71.1               h2a8f88b_1  \n",
      "libdeflate                1.7                  h2bbff1b_5  \n",
      "libiconv                  1.15                 h1df5818_7  \n",
      "liblief                   0.10.1               ha925a31_0  \n",
      "libpng                    1.6.37               h2a8f88b_0  \n",
      "libsodium                 1.0.18               h62dcd97_0  \n",
      "libspatialindex           1.9.3                h6c2663c_0  \n",
      "libssh2                   1.9.0                h7a1dbc1_1  \n",
      "libtiff                   4.2.0                hd0e1b90_0  \n",
      "libxml2                   2.9.10               hb89e7f3_3  \n",
      "libxslt                   1.1.34               he774522_0  \n",
      "libzopfli                 1.0.3                ha925a31_0  \n",
      "llvmlite                  0.36.0           py38h34b8924_4  \n",
      "locket                    0.2.1            py38haa95532_1  \n",
      "lxml                      4.6.3            py38h9b66d53_0  \n",
      "lz4-c                     1.9.3                h2bbff1b_0  \n",
      "lzo                       2.10                 he774522_2  \n",
      "m2w64-gcc-libgfortran     5.3.0                         6  \n",
      "m2w64-gcc-libs            5.3.0                         7  \n",
      "m2w64-gcc-libs-core       5.3.0                         7  \n",
      "m2w64-gmp                 6.1.0                         2  \n",
      "m2w64-libwinpthread-git   5.0.0.4634.697f757               2  \n",
      "markupsafe                1.1.1            py38he774522_0  \n",
      "matplotlib                3.3.4            py38haa95532_0  \n",
      "matplotlib-base           3.3.4            py38h49ac443_0  \n",
      "mccabe                    0.6.1                    py38_1  \n",
      "menuinst                  1.4.16           py38he774522_1  \n",
      "mistune                   0.8.4           py38he774522_1000  \n",
      "mkl                       2021.2.0           haa95532_296  \n",
      "mkl-service               2.3.0            py38h2bbff1b_1  \n",
      "mkl_fft                   1.3.0            py38h277e83a_2  \n",
      "mkl_random                1.2.1            py38hf11a4ad_2  \n",
      "mock                      4.0.3              pyhd3eb1b0_0  \n",
      "more-itertools            8.7.0              pyhd3eb1b0_0  \n",
      "mpmath                    1.2.1            py38haa95532_0  \n",
      "msgpack-python            1.0.2            py38h59b6b97_1  \n",
      "msys2-conda-epoch         20160418                      1  \n",
      "multipledispatch          0.6.0                    py38_0  \n",
      "mypy_extensions           0.4.3                    py38_0  \n",
      "navigator-updater         0.2.1                    py38_0  \n",
      "nbclassic                 0.2.6              pyhd3eb1b0_0  \n",
      "nbclient                  0.5.3              pyhd3eb1b0_0  \n",
      "nbconvert                 6.0.7                    py38_0  \n",
      "nbformat                  5.1.3              pyhd3eb1b0_0  \n",
      "nest-asyncio              1.5.1              pyhd3eb1b0_0  \n",
      "networkx                  2.5                        py_0  \n",
      "nltk                      3.6.1              pyhd3eb1b0_0  \n",
      "nose                      1.3.7           pyhd3eb1b0_1006  \n",
      "notebook                  6.3.0            py38haa95532_0  \n",
      "numba                     0.53.1           py38hf11a4ad_0  \n",
      "numexpr                   2.7.3            py38hb80d3ca_1  \n",
      "numpy                     1.20.1           py38h34a8a5c_0  \n",
      "numpy-base                1.20.1           py38haf7ebc8_0  \n",
      "numpydoc                  1.1.0              pyhd3eb1b0_1  \n",
      "olefile                   0.46                       py_0  \n",
      "openjpeg                  2.3.0                h5ec785f_1  \n",
      "openpyxl                  3.0.7              pyhd3eb1b0_0  \n",
      "openssl                   1.1.1k               h2bbff1b_0  \n",
      "packaging                 20.9               pyhd3eb1b0_0  \n",
      "pandas                    1.2.4            py38hd77b12b_0  \n",
      "pandoc                    2.12                 haa95532_0  \n",
      "pandocfilters             1.4.3            py38haa95532_1  \n",
      "paramiko                  2.7.2                      py_0  \n",
      "parso                     0.7.0                      py_0  \n",
      "partd                     1.2.0              pyhd3eb1b0_0  \n",
      "path                      15.1.2           py38haa95532_0  \n",
      "path.py                   12.5.0                        0  \n",
      "pathlib2                  2.3.5            py38haa95532_2  \n",
      "pathspec                  0.7.0                      py_0  \n",
      "patsy                     0.5.1                    py38_0  \n",
      "pep8                      1.7.1                    py38_0  \n",
      "pexpect                   4.8.0              pyhd3eb1b0_3  \n",
      "pickleshare               0.7.5           pyhd3eb1b0_1003  \n",
      "pillow                    8.2.0            py38h4fa10fc_0  \n",
      "pip                       21.0.1           py38haa95532_0  \n",
      "pkginfo                   1.7.0            py38haa95532_0  \n",
      "pluggy                    0.13.1           py38haa95532_0  \n",
      "ply                       3.11                     py38_0  \n",
      "powershell_shortcut       0.0.1                         3  \n",
      "prometheus_client         0.10.1             pyhd3eb1b0_0  \n",
      "prompt-toolkit            3.0.17             pyh06a4308_0  \n",
      "prompt_toolkit            3.0.17               hd3eb1b0_0  \n",
      "psutil                    5.8.0            py38h2bbff1b_1  \n",
      "ptyprocess                0.7.0              pyhd3eb1b0_2  \n",
      "py                        1.10.0             pyhd3eb1b0_0  \n",
      "py-lief                   0.10.1           py38ha925a31_0  \n",
      "pycodestyle               2.6.0              pyhd3eb1b0_0  \n",
      "pycosat                   0.6.3            py38h2bbff1b_0  \n",
      "pycparser                 2.20                       py_2  \n",
      "pycurl                    7.43.0.6         py38h7a1dbc1_0  \n",
      "pydocstyle                6.0.0              pyhd3eb1b0_0  \n",
      "pyerfa                    1.7.3            py38h2bbff1b_0  \n",
      "pyflakes                  2.2.0              pyhd3eb1b0_0  \n",
      "pygments                  2.8.1              pyhd3eb1b0_0  \n",
      "pylint                    2.7.4            py38haa95532_1  \n",
      "pyls-black                0.4.6                hd3eb1b0_0  \n",
      "pyls-spyder               0.3.2              pyhd3eb1b0_0  \n",
      "pynacl                    1.4.0            py38h62dcd97_1  \n",
      "pyodbc                    4.0.30           py38ha925a31_0  \n",
      "pyopenssl                 20.0.1             pyhd3eb1b0_1  \n",
      "pyparsing                 2.4.7              pyhd3eb1b0_0  \n",
      "pyqt                      5.9.2            py38ha925a31_4  \n",
      "pyreadline                2.1                      py38_1  \n",
      "pyrsistent                0.17.3           py38he774522_0  \n",
      "pysocks                   1.7.1            py38haa95532_0  \n",
      "pytables                  3.6.1            py38ha5be198_0  \n",
      "pytest                    6.2.3            py38haa95532_2  \n",
      "python                    3.8.8                hdbf39b2_5  \n",
      "python-dateutil           2.8.1              pyhd3eb1b0_0  \n",
      "python-jsonrpc-server     0.4.0                      py_0  \n",
      "python-language-server    0.36.2             pyhd3eb1b0_0  \n",
      "python-libarchive-c       2.9                pyhd3eb1b0_1  \n",
      "pytz                      2021.1             pyhd3eb1b0_0  \n",
      "pywavelets                1.1.1            py38he774522_2  \n",
      "pywin32                   227              py38he774522_1  \n",
      "pywin32-ctypes            0.2.0                 py38_1000  \n",
      "pywinpty                  0.5.7                    py38_0  \n",
      "pyyaml                    5.4.1            py38h2bbff1b_1  \n",
      "pyzmq                     20.0.0           py38hd77b12b_1  \n",
      "qdarkstyle                2.8.1                      py_0  \n",
      "qt                        5.9.7            vc14h73c81de_0  \n",
      "qtawesome                 1.0.2              pyhd3eb1b0_0  \n",
      "qtconsole                 5.0.3              pyhd3eb1b0_0  \n",
      "qtpy                      1.9.0                      py_0  \n",
      "regex                     2021.4.4         py38h2bbff1b_0  \n",
      "requests                  2.25.1             pyhd3eb1b0_0  \n",
      "rope                      0.18.0                     py_0  \n",
      "rtree                     0.9.7            py38h2eaa2aa_1  \n",
      "ruamel_yaml               0.15.100         py38h2bbff1b_0  \n",
      "scikit-image              0.18.1           py38hf11a4ad_0  \n",
      "scikit-learn              0.24.1           py38hf11a4ad_0  \n",
      "scipy                     1.6.2            py38h66253e8_1  \n",
      "seaborn                   0.11.1             pyhd3eb1b0_0  \n",
      "send2trash                1.5.0              pyhd3eb1b0_1  \n",
      "setuptools                52.0.0           py38haa95532_0  \n",
      "simplegeneric             0.8.1                    py38_2  \n",
      "singledispatch            3.6.1           pyhd3eb1b0_1001  \n",
      "sip                       4.19.13          py38ha925a31_0  \n",
      "six                       1.15.0           py38haa95532_0  \n",
      "snappy                    1.1.8                h33f27b4_0  \n",
      "sniffio                   1.2.0            py38haa95532_1  \n",
      "snowballstemmer           2.1.0              pyhd3eb1b0_0  \n",
      "sortedcollections         2.1.0              pyhd3eb1b0_0  \n",
      "sortedcontainers          2.3.0              pyhd3eb1b0_0  \n",
      "soupsieve                 2.2.1              pyhd3eb1b0_0  \n",
      "sphinx                    4.0.1              pyhd3eb1b0_0  \n",
      "sphinxcontrib             1.0                      py38_1  \n",
      "sphinxcontrib-applehelp   1.0.2              pyhd3eb1b0_0  \n",
      "sphinxcontrib-devhelp     1.0.2              pyhd3eb1b0_0  \n",
      "sphinxcontrib-htmlhelp    1.0.3              pyhd3eb1b0_0  \n",
      "sphinxcontrib-jsmath      1.0.1              pyhd3eb1b0_0  \n",
      "sphinxcontrib-qthelp      1.0.3              pyhd3eb1b0_0  \n",
      "sphinxcontrib-serializinghtml 1.1.4              pyhd3eb1b0_0  \n",
      "sphinxcontrib-websupport  1.2.4                      py_0  \n",
      "spyder                    4.2.5            py38haa95532_0  \n",
      "spyder-kernels            1.10.2           py38haa95532_0  \n",
      "sqlalchemy                1.4.7            py38h2bbff1b_0  \n",
      "sqlite                    3.35.4               h2bbff1b_0  \n",
      "statsmodels               0.12.2           py38h2bbff1b_0  \n",
      "sympy                     1.8              py38haa95532_0  \n",
      "tbb                       2020.3               h74a9793_0  \n",
      "tblib                     1.7.0                      py_0  \n",
      "terminado                 0.9.4            py38haa95532_0  \n",
      "testpath                  0.4.4              pyhd3eb1b0_0  \n",
      "textdistance              4.2.1              pyhd3eb1b0_0  \n",
      "threadpoolctl             2.1.0              pyh5ca1d4c_0  \n",
      "three-merge               0.1.1              pyhd3eb1b0_0  \n",
      "tifffile                  2021.4.8           pyhd3eb1b0_2  \n",
      "tk                        8.6.10               he774522_0  \n",
      "toml                      0.10.2             pyhd3eb1b0_0  \n",
      "toolz                     0.11.1             pyhd3eb1b0_0  \n",
      "tornado                   6.1              py38h2bbff1b_0  \n",
      "tqdm                      4.59.0             pyhd3eb1b0_1  \n",
      "traitlets                 5.0.5              pyhd3eb1b0_0  \n",
      "typed-ast                 1.4.2            py38h2bbff1b_1  \n",
      "typing_extensions         3.7.4.3            pyha847dfd_0  \n",
      "ujson                     4.0.2            py38hd77b12b_0  \n",
      "unicodecsv                0.14.1                   py38_0  \n",
      "urllib3                   1.26.4             pyhd3eb1b0_0  \n",
      "vc                        14.2                 h21ff451_1  \n",
      "vs2015_runtime            14.27.29016          h5e58377_2  \n",
      "watchdog                  1.0.2            py38haa95532_1  \n",
      "wcwidth                   0.2.5                      py_0  \n",
      "webencodings              0.5.1                    py38_1  \n",
      "werkzeug                  1.0.1              pyhd3eb1b0_0  \n",
      "wheel                     0.36.2             pyhd3eb1b0_0  \n",
      "widgetsnbextension        3.5.1                    py38_0  \n",
      "win_inet_pton             1.1.0            py38haa95532_0  \n",
      "win_unicode_console       0.5                      py38_0  \n",
      "wincertstore              0.2                      py38_0  \n",
      "winpty                    0.4.3                         4  \n",
      "wrapt                     1.12.1           py38he774522_1  \n",
      "xlrd                      2.0.1              pyhd3eb1b0_0  \n",
      "xlsxwriter                1.3.8              pyhd3eb1b0_0  \n",
      "xlwings                   0.23.0           py38haa95532_0  \n",
      "xlwt                      1.3.0                    py38_0  \n",
      "xmltodict                 0.12.0                     py_0  \n",
      "xz                        5.2.5                h62dcd97_0  \n",
      "yaml                      0.2.5                he774522_0  \n",
      "yapf                      0.31.0             pyhd3eb1b0_0  \n",
      "zeromq                    4.3.3                ha925a31_3  \n",
      "zfp                       0.5.5                hd77b12b_6  \n",
      "zict                      2.0.0              pyhd3eb1b0_0  \n",
      "zipp                      3.4.1              pyhd3eb1b0_0  \n",
      "zlib                      1.2.11               h62dcd97_4  \n",
      "zope                      1.0                      py38_1  \n",
      "zope.event                4.5.0                    py38_0  \n",
      "zope.interface            5.3.0            py38h2bbff1b_0  \n",
      "zstd                      1.4.5                h04227a9_0  \n"
     ]
    }
   ],
   "source": [
    "!conda list"
   ]
  },
  {
   "cell_type": "code",
   "execution_count": 8,
   "id": "22fe06d2-72ae-408e-a2ce-64dffacfee77",
   "metadata": {},
   "outputs": [
    {
     "data": {
      "text/plain": [
       "array([0, 1, 2, 3, 4, 5, 6, 7, 8, 9])"
      ]
     },
     "execution_count": 8,
     "metadata": {},
     "output_type": "execute_result"
    }
   ],
   "source": [
    "#numpy 임포트 \n",
    "# jupyter lab에서 1회만 실행함녀 그 아래 코드에선 다 사용 가능 \n",
    "import numpy as np\n",
    "ar = np.array([_ for _ in range(10)])\n",
    "ar"
   ]
  },
  {
   "cell_type": "markdown",
   "id": "adce9598-71fe-4066-bcd4-18f6d3826583",
   "metadata": {},
   "source": [
    "넘파이 배열 객체 속성 중 **shape** 사용하면 그 넘파이 배열의 모양 확인 가능   \n",
    "아래의 예제 코드를 통해 생성한 배열의 모양과 차원 확인 가능   \n",
    "개수가 10개인 1차원 배열이 생성된 것을 확인 가능   "
   ]
  },
  {
   "cell_type": "code",
   "execution_count": 4,
   "id": "c00159ae-9d45-4c66-9dc1-ef534cbde023",
   "metadata": {},
   "outputs": [
    {
     "data": {
      "text/plain": [
       "(10,)"
      ]
     },
     "execution_count": 4,
     "metadata": {},
     "output_type": "execute_result"
    }
   ],
   "source": [
    "ar.shape"
   ]
  },
  {
   "cell_type": "code",
   "execution_count": 9,
   "id": "f71c889b-7809-44a0-bf7d-d74aed69b4b7",
   "metadata": {},
   "outputs": [
    {
     "data": {
      "text/plain": [
       "numpy.ndarray"
      ]
     },
     "execution_count": 9,
     "metadata": {},
     "output_type": "execute_result"
    }
   ],
   "source": [
    "type(ar)"
   ]
  },
  {
   "cell_type": "markdown",
   "id": "ca4d3d61-d07e-4fb1-ba18-655044ae5800",
   "metadata": {},
   "source": [
    "리스트 자료형과 구조가 같아 보이지만 type 내장 함수로 생성한 넘파이 배열의 자료형을 살펴보면 그 타입이 numpy.ndarray임을 확인\n",
    "\n",
    "리스트 자료형은 요소의 종류에 관계 없이, 또 개수에 제한 없이 삽입, 삭제, 수정할 수 있다.   \n",
    "그러나 넘파이 배열 객체는 C언어의 배열처럼 메모리에서 연속적인 배치를 이루기 때문에 모든 요속 같은 자료형이어야 하고 개수가 명확해야 한다.   \n",
    "이런 배열의 구조적 특징 때문에 요소에 대한 접근이 간단하고 그로 인해 요소에 대한 루프(반복문)를 효과적으로 수행 가능   "
   ]
  },
  {
   "cell_type": "markdown",
   "id": "6813590a-c156-4b46-a4a1-27e90bdc1a08",
   "metadata": {},
   "source": [
    "아래 예제를 보면 ar 변수에 담는 ndarray 객체를 만들기 위해 같은 타입인 정수를 요소로 갖는 리스트 활용  \n",
    "ar2의 경우 살펴보면 정수와 실수가 혼합된 리스트를 활용하여 ndarray 객체를 생성하고 있다.    \n",
    "앞서 정수와 실수의 연산과 같은 맥락으로 실수 타입으로 모두 선언된 것을 확인 가능(**표현 범위가 더 큰 자료형으로 변환**)  "
   ]
  },
  {
   "cell_type": "code",
   "execution_count": 10,
   "id": "677d2860-4202-4405-891f-a724ee3781a9",
   "metadata": {},
   "outputs": [
    {
     "data": {
      "text/plain": [
       "array([0, 1, 2, 3, 4, 5, 6, 7, 8, 9])"
      ]
     },
     "execution_count": 10,
     "metadata": {},
     "output_type": "execute_result"
    }
   ],
   "source": [
    "ar = np.array([_ for _ in range(10)])\n",
    "ar"
   ]
  },
  {
   "cell_type": "code",
   "execution_count": 11,
   "id": "9ffd3c7f-63dc-4ad8-bed4-122fce58f1e0",
   "metadata": {},
   "outputs": [
    {
     "data": {
      "text/plain": [
       "array([ 0.1,  5. ,  3. , 12. ,  0.5])"
      ]
     },
     "execution_count": 11,
     "metadata": {},
     "output_type": "execute_result"
    }
   ],
   "source": [
    "ar2 = np.array([0.1, 5, 3, 12, 0.5])\n",
    "ar2"
   ]
  },
  {
   "cell_type": "code",
   "execution_count": 13,
   "id": "64e90077-9815-432b-887f-eedfad163d00",
   "metadata": {},
   "outputs": [
    {
     "data": {
      "text/plain": [
       "dtype('float64')"
      ]
     },
     "execution_count": 13,
     "metadata": {},
     "output_type": "execute_result"
    }
   ],
   "source": [
    "ar2.dtype"
   ]
  },
  {
   "cell_type": "code",
   "execution_count": null,
   "id": "9cdd218b-f3e3-4ee6-9519-cec9829bf563",
   "metadata": {},
   "outputs": [],
   "source": [
    "01010101 -> 8bits == 1byte"
   ]
  },
  {
   "cell_type": "markdown",
   "id": "1b813d45-0fea-4d1e-bfba-a34616f196a6",
   "metadata": {},
   "source": [
    "### 넘파이의 자료형\n",
    "넘파이의 배열인 ndarray 클래스는 요소가 모두 같은 자료형을 가진다.   \n",
    "np.array() 함수로 넘파이 배열을 만들 때 자료형을 명시적으로 작성하려면 키워드 인자로 dtype을 사용  \n",
    "반대로 dtype 키워드 인수가 없으면 해당 데이터 자료형을 동적 타이핑   \n",
    "그리고 만들어진 넘파이 배열의 자료형을 확인하려면 dtype 속성 활용  "
   ]
  },
  {
   "cell_type": "code",
   "execution_count": 14,
   "id": "c6d04b3a-59cb-4092-bf8b-e551f2112a30",
   "metadata": {},
   "outputs": [
    {
     "data": {
      "text/plain": [
       "dtype('int32')"
      ]
     },
     "execution_count": 14,
     "metadata": {},
     "output_type": "execute_result"
    }
   ],
   "source": [
    "import numpy as np\n",
    "x = np.array([1, 2, 3])\n",
    "x.dtype"
   ]
  },
  {
   "cell_type": "code",
   "execution_count": 16,
   "id": "e617f458-cb33-4b15-8172-1df28e962a1b",
   "metadata": {},
   "outputs": [
    {
     "data": {
      "text/plain": [
       "dtype('float64')"
      ]
     },
     "execution_count": 16,
     "metadata": {},
     "output_type": "execute_result"
    }
   ],
   "source": [
    "x = np.array([1.0, 2.0, 3.0])\n",
    "x.dtype"
   ]
  },
  {
   "cell_type": "markdown",
   "id": "645b4b3b-8e69-483f-91e7-2595d655f7d6",
   "metadata": {},
   "source": [
    "### numpy의 자료형\n",
    "np.array() 메서드를 쓸 때 dtype 키워드 인수로 지정할 자료형의 값은 dtype 접두사와 바이트(혹은 글자수)를 나타내는 숫자를 조합한 문자열 형태로 축약해서 사용 가능   \n",
    "예를 들어 \"F8\"은 8바이트 부동소수점 실수를 뜻하고 \"U4\"는 4글자 유니코드 문자열을 뜻한다.   \n",
    "숫자를 생략하면 운영체제에 따라 알맞은 크기 지정 해줌   \n",
    "\n",
    "|dtype접두사|설명|사용예제|\n",
    "|:--|--:|--:|\n",
    "|\"?\"|boolean|?(True, False)|\n",
    "|\"i\"|int|i8(64비트)|\n",
    "|\"u\"|unsigned int|u8(64비트)|\n",
    "|\"f\"|float|f8(64비트)|\n",
    "|\"c\"|complex|c16(128비트)|\n",
    "|\"O\"|Object|O(객체에 대한 포인터)|\n",
    "|\"U\"|Unicode string|U24(24 유니코드 글자)|\n",
    "\n"
   ]
  },
  {
   "cell_type": "code",
   "execution_count": 21,
   "id": "c7565a69-f061-4a8a-9e56-801cb6fd2944",
   "metadata": {},
   "outputs": [
    {
     "name": "stdout",
     "output_type": "stream",
     "text": [
      "[3 6 9]\n",
      "int64\n"
     ]
    }
   ],
   "source": [
    "ar3 = np.array([_ for _ in range(3, 10, 3)], 'i8') # int8bytes --> 8*8bit\n",
    "print(ar3)\n",
    "print(ar3.dtype)"
   ]
  },
  {
   "cell_type": "code",
   "execution_count": 20,
   "id": "ab6f7570-3fcf-4b65-b664-1d546ea70707",
   "metadata": {},
   "outputs": [
    {
     "name": "stdout",
     "output_type": "stream",
     "text": [
      "[2. 4. 6. 8.]\n",
      "float64\n"
     ]
    }
   ],
   "source": [
    "ar4 = np.array([_ for _ in range(2, 10, 2)], 'f8')\n",
    "print(ar4)\n",
    "print(ar4.dtype)"
   ]
  },
  {
   "cell_type": "code",
   "execution_count": 22,
   "id": "9cd1fb6d-ca3b-48ed-9493-cd009fcb8d40",
   "metadata": {},
   "outputs": [
    {
     "name": "stdout",
     "output_type": "stream",
     "text": [
      "['가나다라마' '바사아' '자' '차카']\n",
      "<U5\n"
     ]
    }
   ],
   "source": [
    "# 유니코드 8글자 자료형을 명시적으로 선언\n",
    "# 그래서 시퀀스 자료형 중 제일 큰 값이 <U5이지만 <U8로 타입이 지정되었다. \n",
    "ar4 = np.array([\"가나다라마\",\"바사아\",\"자\",\"차카\"], 'U5')\n",
    "print(ar4)\n",
    "print(ar4.dtype)"
   ]
  },
  {
   "cell_type": "markdown",
   "id": "be18417e-18de-4f02-b7cb-527d137a7161",
   "metadata": {},
   "source": [
    "첫 번째 넘파이 배열에서 \"f\"를 활용하여 float로 dtype을 지정해줬다.    \n",
    "dtype속성을 활용해 타입을 확인하니 32비트의 float형으로 생성된 것 확인 가능   \n",
    "이 타입간 덧세 ㅁ연산의 결과는 숫자로 계산됨  \n",
    "바로 아래 넘파이 배열에서는 유니코드 문자열을 타입으로 지정해서 생성  \n",
    "1글자 이하의 글자들로 구성된 유니코드임을 추가적으로 설명   \n",
    "유니코드 간 덧셈 연산은 concatenate의 결과를 보여준다.   "
   ]
  },
  {
   "cell_type": "code",
   "execution_count": 23,
   "id": "cf5fc328-74b6-40c1-9282-dd91fed29697",
   "metadata": {},
   "outputs": [
    {
     "data": {
      "text/plain": [
       "dtype('float32')"
      ]
     },
     "execution_count": 23,
     "metadata": {},
     "output_type": "execute_result"
    }
   ],
   "source": [
    "x = np.array([1, 2, 3], dtype = 'f')\n",
    "x.dtype"
   ]
  },
  {
   "cell_type": "code",
   "execution_count": 24,
   "id": "403a20d3-f27b-4958-a0dc-b0b89cb12f5e",
   "metadata": {},
   "outputs": [
    {
     "data": {
      "text/plain": [
       "3.0"
      ]
     },
     "execution_count": 24,
     "metadata": {},
     "output_type": "execute_result"
    }
   ],
   "source": [
    "x[0] + x[1]"
   ]
  },
  {
   "cell_type": "code",
   "execution_count": 25,
   "id": "004919a1-bf00-45df-845e-5c5194687fbd",
   "metadata": {},
   "outputs": [
    {
     "data": {
      "text/plain": [
       "dtype('<U1')"
      ]
     },
     "execution_count": 25,
     "metadata": {},
     "output_type": "execute_result"
    }
   ],
   "source": [
    "x = np.array([1, 2, 3], dtype = 'U')\n",
    "x.dtype"
   ]
  },
  {
   "cell_type": "code",
   "execution_count": 26,
   "id": "82ba971c-b217-41b7-8db3-6746876b9a6b",
   "metadata": {},
   "outputs": [
    {
     "data": {
      "text/plain": [
       "'12'"
      ]
     },
     "execution_count": 26,
     "metadata": {},
     "output_type": "execute_result"
    }
   ],
   "source": [
    "x[0] + x[1]"
   ]
  },
  {
   "cell_type": "markdown",
   "id": "c9058698-5f0c-4fb7-9bc3-9d410a818fb3",
   "metadata": {},
   "source": [
    "넘파이에서는 무한대를 표현하기 위한 np.inf(infinity)와 정의할 수 없는 숫자를 나타내는 np.nan(not a number)을 사용 가능    \n",
    "1과 0을 나누려고 하거나 0에 대한 로그 값을 계산하면 무한대인 np.inf이 나온다.    \n",
    "0을 0으로 나누려고 시도하면 np.nan이 나온다."
   ]
  },
  {
   "cell_type": "code",
   "execution_count": 27,
   "id": "cde83fdb-074c-4c40-a587-b7a808bb8fca",
   "metadata": {},
   "outputs": [
    {
     "name": "stderr",
     "output_type": "stream",
     "text": [
      "<ipython-input-27-6ab12ec6e7a4>:1: RuntimeWarning: divide by zero encountered in true_divide\n",
      "  np.array([0, 1, -1, 0]) / np.array([1, 0, 0, 0])\n",
      "<ipython-input-27-6ab12ec6e7a4>:1: RuntimeWarning: invalid value encountered in true_divide\n",
      "  np.array([0, 1, -1, 0]) / np.array([1, 0, 0, 0])\n"
     ]
    },
    {
     "data": {
      "text/plain": [
       "array([  0.,  inf, -inf,  nan])"
      ]
     },
     "execution_count": 27,
     "metadata": {},
     "output_type": "execute_result"
    }
   ],
   "source": [
    "np.array([0, 1, -1, 0]) / np.array([1, 0, 0, 0])"
   ]
  },
  {
   "cell_type": "code",
   "execution_count": 28,
   "id": "a2e4f3b5-b1e1-4c87-91f9-051d97fda966",
   "metadata": {},
   "outputs": [
    {
     "name": "stderr",
     "output_type": "stream",
     "text": [
      "<ipython-input-28-f6e7c0610b57>:1: RuntimeWarning: divide by zero encountered in log\n",
      "  np.log(0)\n"
     ]
    },
    {
     "data": {
      "text/plain": [
       "-inf"
      ]
     },
     "execution_count": 28,
     "metadata": {},
     "output_type": "execute_result"
    }
   ],
   "source": [
    "np.log(0)"
   ]
  },
  {
   "cell_type": "code",
   "execution_count": 29,
   "id": "6f98268a-8cec-4323-885e-ba04781af4af",
   "metadata": {},
   "outputs": [
    {
     "data": {
      "text/plain": [
       "0.0"
      ]
     },
     "execution_count": 29,
     "metadata": {},
     "output_type": "execute_result"
    }
   ],
   "source": [
    "np.exp(-np.inf)"
   ]
  },
  {
   "cell_type": "markdown",
   "id": "46904a12-b34e-4a8b-84a6-0eb5c3b9cb04",
   "metadata": {},
   "source": [
    "### **벡터화 연산(Vectorized Operation)**\n",
    "넘파이 배열 객체는 배열의 각 요소에 대한 반복 연산을 하나의 명령어로 처리하는 벡터화 연산을 지원  \n",
    "\n",
    "#### 리스트 연산\n",
    "예를들어, 다음 처럼 리스트 내 모든 요소 데이터를 모두 2배 해야하는 경우 생각"
   ]
  },
  {
   "cell_type": "code",
   "execution_count": 31,
   "id": "b69dd474-9313-473f-837f-f76721a9e8f3",
   "metadata": {},
   "outputs": [
    {
     "data": {
      "text/plain": [
       "[0, 2, 4, 6, 8, 10, 12, 14, 16, 18]"
      ]
     },
     "execution_count": 31,
     "metadata": {},
     "output_type": "execute_result"
    }
   ],
   "source": [
    "data = [0, 1, 2, 3, 4, 5, 6, 7, 8, 9]\n",
    "answer = [2 * d for d in data]\n",
    "answer"
   ]
  },
  {
   "cell_type": "markdown",
   "id": "a80dd6d2-1b11-44bb-92a1-dff1eecdf1fc",
   "metadata": {},
   "source": [
    "#### 넘파이 연산\n",
    "넘파이 배열 객체의 벡터화 연산을 사용하면 다음과 같이 for 반복문 없이 간단하게 단 한 번의 연산식으로 표현 가능   \n",
    "계산 속도도 리스트 객체에 반복문을 사용해서 처리하는 것보다 훨씬 빠르다"
   ]
  },
  {
   "cell_type": "code",
   "execution_count": 32,
   "id": "ee0ee165-2f81-41f4-9408-1b63d203f65f",
   "metadata": {},
   "outputs": [
    {
     "data": {
      "text/plain": [
       "array([0, 1, 2, 3, 4, 5, 6, 7, 8, 9])"
      ]
     },
     "execution_count": 32,
     "metadata": {},
     "output_type": "execute_result"
    }
   ],
   "source": [
    "x = np.array(data)\n",
    "x "
   ]
  },
  {
   "cell_type": "code",
   "execution_count": 33,
   "id": "5dda239c-f45c-475a-92cd-b44c61bc1529",
   "metadata": {},
   "outputs": [
    {
     "data": {
      "text/plain": [
       "array([ 0,  2,  4,  6,  8, 10, 12, 14, 16, 18])"
      ]
     },
     "execution_count": 33,
     "metadata": {},
     "output_type": "execute_result"
    }
   ],
   "source": [
    "2*x"
   ]
  },
  {
   "cell_type": "markdown",
   "id": "65a34df8-4e90-4513-abe0-85d89fbf17fa",
   "metadata": {},
   "source": [
    "파이썬 리스트 객체에 정수를 곱하면 객체의 크기가 곱한 숫자만큼 반복 증가한다   \n",
    "넘파이 배열 객체는 벡터화 연산이 이뤄진다   \n",
    "**두 차이점 반드시 기억하기**"
   ]
  },
  {
   "cell_type": "code",
   "execution_count": 34,
   "id": "72cab884-74a9-4c35-b23f-5929a8df5030",
   "metadata": {},
   "outputs": [
    {
     "name": "stdout",
     "output_type": "stream",
     "text": [
      "[0, 1, 2, 0, 1, 2, 0, 1, 2, 0, 1, 2, 0, 1, 2]\n"
     ]
    }
   ],
   "source": [
    "list_samp = [_ for _ in range(3)]\n",
    "print(list_samp * 5)"
   ]
  },
  {
   "cell_type": "markdown",
   "id": "32949c97-56c0-4ed7-8752-dbef52f8560f",
   "metadata": {},
   "source": [
    "벡터와 연산은 비교 연산과 논리 연산을 포함한 모든 종류의 수학연산에 대해 적용된다. "
   ]
  },
  {
   "cell_type": "code",
   "execution_count": 40,
   "id": "1caddce6-a096-46ae-9915-a3c959d2bccd",
   "metadata": {},
   "outputs": [],
   "source": [
    "a = np.array([1, 2, 3])\n",
    "b = np.array([10, 20, 30])"
   ]
  },
  {
   "cell_type": "code",
   "execution_count": 36,
   "id": "308fce52-09c7-443c-8645-3e89dd605165",
   "metadata": {},
   "outputs": [
    {
     "data": {
      "text/plain": [
       "array([12, 24, 36])"
      ]
     },
     "execution_count": 36,
     "metadata": {},
     "output_type": "execute_result"
    }
   ],
   "source": [
    "2* a + b"
   ]
  },
  {
   "cell_type": "code",
   "execution_count": 37,
   "id": "e6b17a9a-cb78-4a8a-972c-172ed216aac0",
   "metadata": {},
   "outputs": [
    {
     "data": {
      "text/plain": [
       "array([False,  True, False])"
      ]
     },
     "execution_count": 37,
     "metadata": {},
     "output_type": "execute_result"
    }
   ],
   "source": [
    "a == 2"
   ]
  },
  {
   "cell_type": "code",
   "execution_count": 38,
   "id": "a8a6d60b-60c8-4a85-9d25-386c525f884d",
   "metadata": {},
   "outputs": [
    {
     "data": {
      "text/plain": [
       "array([False,  True,  True])"
      ]
     },
     "execution_count": 38,
     "metadata": {},
     "output_type": "execute_result"
    }
   ],
   "source": [
    "b > 10"
   ]
  },
  {
   "cell_type": "code",
   "execution_count": 41,
   "id": "fe829e72-385c-4541-8125-78bdabebf520",
   "metadata": {},
   "outputs": [
    {
     "data": {
      "text/plain": [
       "array([False,  True, False])"
      ]
     },
     "execution_count": 41,
     "metadata": {},
     "output_type": "execute_result"
    }
   ],
   "source": [
    "(a == 2) & (b > 10) # and는 안 되고 & "
   ]
  },
  {
   "cell_type": "markdown",
   "id": "3dfdba66-a573-4dff-baac-f6b9a411e059",
   "metadata": {},
   "source": [
    "### **2차원 배열 만들기**\n",
    "2차원 배열은 수학에서 행렬(matrix)이라고 했다.   \n",
    "행렬에서는 가로줄을 행(row) 하고 세로줄을(column)이라고 부른다.   \n",
    "이와 비숫한 구조를 넘파이 배열을 통해 만들어 보겠다.   \n",
    "\n",
    "다음과 같이 리스트를 중첩하여 리스트의 리스트를 이용해서 2차원 배열처럼 생성할 수 있다.   \n",
    "안쪽 리스트의 길이는 행렬의 열의 수 즉 가로 크기가 되고, 바깥쪽 리스트의 길이는 행렬의 행의 수, 즉 세로 크기가 된다.   \n",
    "2*3 배열 만들기 "
   ]
  },
  {
   "cell_type": "code",
   "execution_count": 42,
   "id": "b1422077-d5c1-48d1-ade3-5cc39777d1d2",
   "metadata": {},
   "outputs": [
    {
     "data": {
      "text/plain": [
       "array([[0, 1, 2],\n",
       "       [2, 3, 4]])"
      ]
     },
     "execution_count": 42,
     "metadata": {},
     "output_type": "execute_result"
    }
   ],
   "source": [
    "c = np.array([[0, 1, 2], [2, 3, 4]])\n",
    "c"
   ]
  },
  {
   "cell_type": "code",
   "execution_count": 51,
   "id": "533b96cd-140f-43fb-b9f8-caecba877444",
   "metadata": {},
   "outputs": [
    {
     "data": {
      "text/plain": [
       "(2, 3)"
      ]
     },
     "execution_count": 51,
     "metadata": {},
     "output_type": "execute_result"
    }
   ],
   "source": [
    "# 행열의 모양\n",
    "c.shape"
   ]
  },
  {
   "cell_type": "code",
   "execution_count": 46,
   "id": "25eb678f-247b-47bd-9ec5-b4bef347f476",
   "metadata": {},
   "outputs": [
    {
     "data": {
      "text/plain": [
       "2"
      ]
     },
     "execution_count": 46,
     "metadata": {},
     "output_type": "execute_result"
    }
   ],
   "source": [
    "# 행의 개수\n",
    "len(c)"
   ]
  },
  {
   "cell_type": "code",
   "execution_count": 49,
   "id": "fa30f884-91c4-4b33-99ae-2e6a586735d4",
   "metadata": {},
   "outputs": [
    {
     "data": {
      "text/plain": [
       "3"
      ]
     },
     "execution_count": 49,
     "metadata": {},
     "output_type": "execute_result"
    }
   ],
   "source": [
    "# 열의 개수\n",
    "len(c[0])"
   ]
  },
  {
   "cell_type": "markdown",
   "id": "3304587a-77ad-470e-9efd-53bc44cc41fe",
   "metadata": {},
   "source": [
    "### **3차원 배열 만들기** \n",
    "깊이 * 행 * 열의 모양을 가진다.   \n",
    "axis 0 = 깊이      \n",
    "axis 1 = 행  \n",
    "axis 2 = 열  "
   ]
  },
  {
   "cell_type": "markdown",
   "id": "cc5ab815-02f3-4a41-b52f-d1ea43279821",
   "metadata": {},
   "source": [
    "리스트의 리스트의 리스트 이용하면 3차원 배열 생성 가능   \n",
    "2 * 3 * 4 배열 만들기 "
   ]
  },
  {
   "cell_type": "code",
   "execution_count": 58,
   "id": "42d5b744-0850-4b7d-833a-ea0260a274f5",
   "metadata": {},
   "outputs": [
    {
     "data": {
      "text/plain": [
       "array([[[ 1,  2,  3,  4],\n",
       "        [ 5,  6,  7,  8],\n",
       "        [ 9, 10, 11, 12]],\n",
       "\n",
       "       [[13, 14, 15, 16],\n",
       "        [17, 18, 19, 20],\n",
       "        [21, 22, 23, 24]]])"
      ]
     },
     "execution_count": 58,
     "metadata": {},
     "output_type": "execute_result"
    }
   ],
   "source": [
    "# 2 x 3 x 4\n",
    "d = np.array([[[1, 2, 3, 4],\n",
    "              [5, 6, 7, 8],\n",
    "              [9, 10, 11, 12]],\n",
    "             [[13, 14, 15, 16], \n",
    "             [17, 18, 19, 20], \n",
    "             [21, 22, 23, 24]]])\n",
    "d"
   ]
  },
  {
   "cell_type": "markdown",
   "id": "0b820cd0-0949-40e3-b3c7-3a64e161c2d9",
   "metadata": {},
   "source": [
    "배열의 차원 및 크기를 구하는 더 간단한 방법은 ndim 속성과 shape 속성 이용하기   \n",
    "ndim 속성은 배열의 차원, shape속성은 배열의 크기 반환  "
   ]
  },
  {
   "cell_type": "code",
   "execution_count": 59,
   "id": "86ca5beb-590f-4ea9-b839-67b576be7861",
   "metadata": {},
   "outputs": [
    {
     "name": "stdout",
     "output_type": "stream",
     "text": [
      "1\n",
      "(3,)\n"
     ]
    }
   ],
   "source": [
    "print(a.ndim)\n",
    "print(a.shape)"
   ]
  },
  {
   "cell_type": "code",
   "execution_count": 60,
   "id": "941a3221-4dac-47bc-8fca-d32edf9fca77",
   "metadata": {},
   "outputs": [
    {
     "name": "stdout",
     "output_type": "stream",
     "text": [
      "2\n",
      "(2, 3)\n"
     ]
    }
   ],
   "source": [
    "print(c.ndim)\n",
    "print(c.shape)"
   ]
  },
  {
   "cell_type": "code",
   "execution_count": 61,
   "id": "0a730837-9ddc-4f25-9331-9190fc655d75",
   "metadata": {},
   "outputs": [
    {
     "name": "stdout",
     "output_type": "stream",
     "text": [
      "3\n",
      "(2, 3, 4)\n"
     ]
    }
   ],
   "source": [
    "print(d.ndim)\n",
    "print(d.shape)"
   ]
  },
  {
   "cell_type": "markdown",
   "id": "f691e3c0-f0fb-4949-b32d-d2bd4497e392",
   "metadata": {},
   "source": [
    "### **배열의 인덱싱**"
   ]
  },
  {
   "cell_type": "code",
   "execution_count": 62,
   "id": "089d1077-957a-499c-adb1-246326a4e3cd",
   "metadata": {},
   "outputs": [],
   "source": [
    "a = np.array([0, 1, 2, 3, 4])"
   ]
  },
  {
   "cell_type": "code",
   "execution_count": 63,
   "id": "3805e355-c76b-4753-a0b0-332498c7f872",
   "metadata": {},
   "outputs": [
    {
     "data": {
      "text/plain": [
       "2"
      ]
     },
     "execution_count": 63,
     "metadata": {},
     "output_type": "execute_result"
    }
   ],
   "source": [
    "a[2]"
   ]
  },
  {
   "cell_type": "code",
   "execution_count": 64,
   "id": "d4b25255-5674-4937-8ff3-7abee40de16a",
   "metadata": {},
   "outputs": [
    {
     "data": {
      "text/plain": [
       "4"
      ]
     },
     "execution_count": 64,
     "metadata": {},
     "output_type": "execute_result"
    }
   ],
   "source": [
    "a[-1]"
   ]
  },
  {
   "cell_type": "markdown",
   "id": "ed4f9e54-922e-460f-9caa-b514fff8295d",
   "metadata": {},
   "source": [
    "2차원 배열의 인덱싱"
   ]
  },
  {
   "cell_type": "markdown",
   "id": "1b968b31-2550-4d49-8cc8-c8f3d82080f1",
   "metadata": {},
   "source": [
    "다차원 배열일 때는 다음과 같이 콤마(,) 사용하여 접근 가능 \n",
    "콤마로 구분된 차원을 축(axis)라고 한다. 그래프의 x축, y축으로 생각"
   ]
  },
  {
   "cell_type": "code",
   "execution_count": 69,
   "id": "8e16dff9-5cde-45e4-bb3f-73a3155047ff",
   "metadata": {},
   "outputs": [
    {
     "data": {
      "text/plain": [
       "array([[0, 1, 2],\n",
       "       [3, 4, 5]])"
      ]
     },
     "execution_count": 69,
     "metadata": {},
     "output_type": "execute_result"
    }
   ],
   "source": [
    "a = np.array([[0, 1, 2], [3, 4, 5]])\n",
    "a"
   ]
  },
  {
   "cell_type": "code",
   "execution_count": 71,
   "id": "c7a814b9-25b3-48d9-9422-eee90e65eda2",
   "metadata": {},
   "outputs": [
    {
     "data": {
      "text/plain": [
       "0"
      ]
     },
     "execution_count": 71,
     "metadata": {},
     "output_type": "execute_result"
    }
   ],
   "source": [
    "a[0,0]"
   ]
  },
  {
   "cell_type": "code",
   "execution_count": 72,
   "id": "50aceb61-b0d5-43e7-87ed-5548191d9522",
   "metadata": {},
   "outputs": [
    {
     "data": {
      "text/plain": [
       "2"
      ]
     },
     "execution_count": 72,
     "metadata": {},
     "output_type": "execute_result"
    }
   ],
   "source": [
    "a[0, -1]"
   ]
  },
  {
   "cell_type": "code",
   "execution_count": 77,
   "id": "b2aada0d-88db-41af-a62f-869654764c46",
   "metadata": {},
   "outputs": [
    {
     "data": {
      "text/plain": [
       "5"
      ]
     },
     "execution_count": 77,
     "metadata": {},
     "output_type": "execute_result"
    }
   ],
   "source": [
    "a[-1,-1]"
   ]
  },
  {
   "cell_type": "markdown",
   "id": "446cd885-c9d0-4c10-a554-906f9e56ac35",
   "metadata": {},
   "source": [
    "2차원 리스트의 인덱싱"
   ]
  },
  {
   "cell_type": "code",
   "execution_count": 74,
   "id": "33fcf098-c2af-4b67-aa0c-f942e998b4dc",
   "metadata": {},
   "outputs": [],
   "source": [
    "list_sample = [[0, 1, 2], [3, 4, 5]]"
   ]
  },
  {
   "cell_type": "code",
   "execution_count": 75,
   "id": "aa624d72-ded9-4050-9070-00847d62bdbf",
   "metadata": {},
   "outputs": [
    {
     "data": {
      "text/plain": [
       "0"
      ]
     },
     "execution_count": 75,
     "metadata": {},
     "output_type": "execute_result"
    }
   ],
   "source": [
    "list_sample[0][0]"
   ]
  },
  {
   "cell_type": "code",
   "execution_count": 76,
   "id": "6504fe7f-c878-432f-9931-1314f6aa2c9a",
   "metadata": {},
   "outputs": [
    {
     "data": {
      "text/plain": [
       "1"
      ]
     },
     "execution_count": 76,
     "metadata": {},
     "output_type": "execute_result"
    }
   ],
   "source": [
    "list_sample[0][1]"
   ]
  },
  {
   "cell_type": "markdown",
   "id": "0fe8380e-5e8c-4060-b796-3430412b3a57",
   "metadata": {},
   "source": [
    "### **배열의 슬라이싱** \n",
    "배열 객체로 구현한 다차원 배열의 원소 중 복수 개를 접근하려면 일반적인 파이썬 슬라이싱과 콤마 함께 사용"
   ]
  },
  {
   "cell_type": "code",
   "execution_count": 78,
   "id": "413f3946-9e3d-4f7f-a439-3f29e5fb5e63",
   "metadata": {},
   "outputs": [
    {
     "data": {
      "text/plain": [
       "array([[0, 1, 2, 3],\n",
       "       [4, 5, 6, 7]])"
      ]
     },
     "execution_count": 78,
     "metadata": {},
     "output_type": "execute_result"
    }
   ],
   "source": [
    "a = np.array([[0, 1, 2, 3], [4, 5, 6, 7]])\n",
    "a"
   ]
  },
  {
   "cell_type": "code",
   "execution_count": 88,
   "id": "05ef0e64-01fb-4f49-8a81-118e9882a2d0",
   "metadata": {},
   "outputs": [
    {
     "data": {
      "text/plain": [
       "array([[0, 1, 2, 3],\n",
       "       [4, 5, 6, 7]])"
      ]
     },
     "execution_count": 88,
     "metadata": {},
     "output_type": "execute_result"
    }
   ],
   "source": [
    "# reshape으로도 2차원 배열 형태로 만들 수 있다\n",
    "b = np.array([_ for _ in range(8)]).reshape(2, 4)\n",
    "b"
   ]
  },
  {
   "cell_type": "code",
   "execution_count": 79,
   "id": "d8f8e287-26f4-4f44-84f6-fe31f729e9bb",
   "metadata": {},
   "outputs": [
    {
     "data": {
      "text/plain": [
       "array([0, 1, 2, 3])"
      ]
     },
     "execution_count": 79,
     "metadata": {},
     "output_type": "execute_result"
    }
   ],
   "source": [
    "a[0, :] #첫번째 행 전체"
   ]
  },
  {
   "cell_type": "code",
   "execution_count": 80,
   "id": "1ca4f8bb-5647-4ef2-b717-05da4aef8c31",
   "metadata": {},
   "outputs": [
    {
     "data": {
      "text/plain": [
       "array([1, 5])"
      ]
     },
     "execution_count": 80,
     "metadata": {},
     "output_type": "execute_result"
    }
   ],
   "source": [
    "a[:, 1] # 두번째 행 전체"
   ]
  },
  {
   "cell_type": "code",
   "execution_count": 81,
   "id": "4867b153-354b-48a6-a792-04f84c63331d",
   "metadata": {},
   "outputs": [
    {
     "data": {
      "text/plain": [
       "array([5, 6, 7])"
      ]
     },
     "execution_count": 81,
     "metadata": {},
     "output_type": "execute_result"
    }
   ],
   "source": [
    "a[1, 1:] # 두번째 행의 두번째 열부터 끝까지"
   ]
  },
  {
   "cell_type": "code",
   "execution_count": 82,
   "id": "19a7a0c7-613b-4c63-b318-380d5aae37ce",
   "metadata": {},
   "outputs": [
    {
     "data": {
      "text/plain": [
       "array([[0, 1],\n",
       "       [4, 5]])"
      ]
     },
     "execution_count": 82,
     "metadata": {},
     "output_type": "execute_result"
    }
   ],
   "source": [
    "a[:2, :2]"
   ]
  },
  {
   "cell_type": "markdown",
   "id": "e611a6ec-8521-486f-b286-97fe3b84396a",
   "metadata": {},
   "source": [
    "### **배열 생성**\n",
    "numpy에는 몇가지 단순한 배열을 생성하는 메서드를 제공\n",
    "1. zeros, ones\n",
    "2. zeros_like, ones_like\n",
    "3. empty\n",
    "4. arange\n",
    "5. linspace, logspace\n",
    "6. zeros\n",
    "\n",
    "크리가 정해져있고 모든 값이 0인 배열을 생성하려면 zeros 메서드를 사용"
   ]
  },
  {
   "cell_type": "markdown",
   "id": "ad732bf6-7ffa-4309-ad37-ad2e02948f8d",
   "metadata": {},
   "source": [
    "크기를 뜻하는 튜플을 입력하면 다차원 배열 생성 가능"
   ]
  },
  {
   "cell_type": "code",
   "execution_count": 85,
   "id": "4e55be2f-b12c-4832-8285-e7a4f8c0c719",
   "metadata": {},
   "outputs": [
    {
     "data": {
      "text/plain": [
       "array([0., 0., 0., 0., 0.])"
      ]
     },
     "execution_count": 85,
     "metadata": {},
     "output_type": "execute_result"
    }
   ],
   "source": [
    "a= np.zeros(5) # float 타입으로 만들어진다\n",
    "a"
   ]
  },
  {
   "cell_type": "markdown",
   "id": "856867b9-51e4-4f5c-8dcb-425ffb037845",
   "metadata": {},
   "source": [
    "array 명령과 마찬가지로 dtype 인수 명시하면 해당 자료형 원소를 가진 배열 생성"
   ]
  },
  {
   "cell_type": "code",
   "execution_count": 84,
   "id": "812488cb-ce86-4c3c-b907-b3ae1b4a4156",
   "metadata": {},
   "outputs": [
    {
     "data": {
      "text/plain": [
       "array([[0, 0],\n",
       "       [0, 0],\n",
       "       [0, 0],\n",
       "       [0, 0],\n",
       "       [0, 0]], dtype=int32)"
      ]
     },
     "execution_count": 84,
     "metadata": {},
     "output_type": "execute_result"
    }
   ],
   "source": [
    "c = np.zeros((5,2), dtype = 'i')\n",
    "c\n"
   ]
  },
  {
   "cell_type": "markdown",
   "id": "4b7a7445-748d-4293-9363-7bf829f8a3e8",
   "metadata": {},
   "source": [
    "문자열 배열도 가능하지만, 모든 원소의 문자열 크기가 같아야 한다.  \n",
    "만약 더 큰 크기의 문자열 할당하면 잘릴 수 있다."
   ]
  },
  {
   "cell_type": "code",
   "execution_count": 90,
   "id": "795ae36e-0c93-4861-abf1-4c493549ab22",
   "metadata": {},
   "outputs": [
    {
     "data": {
      "text/plain": [
       "array(['', '', '', '', ''], dtype='<U4')"
      ]
     },
     "execution_count": 90,
     "metadata": {},
     "output_type": "execute_result"
    }
   ],
   "source": [
    "d = np.zeros(5, dtype = \"U4\")\n",
    "d"
   ]
  },
  {
   "cell_type": "code",
   "execution_count": 91,
   "id": "4f8fbdbc-663a-460a-8bcf-df3bb902fb79",
   "metadata": {},
   "outputs": [
    {
     "data": {
      "text/plain": [
       "array(['abc', 'abcd', 'ABCD', '', ''], dtype='<U4')"
      ]
     },
     "execution_count": 91,
     "metadata": {},
     "output_type": "execute_result"
    }
   ],
   "source": [
    "d[0] = \"abc\"\n",
    "d[1] = \"abcd\"\n",
    "d[2] = \"ABCDE\"\n",
    "d"
   ]
  },
  {
   "cell_type": "markdown",
   "id": "1d85cf33-e549-41d5-83ff-1f7abf28405c",
   "metadata": {},
   "source": [
    "0 이 아닌 1로 초기화된 배열을 생성하려면 ones 메서드 사용"
   ]
  },
  {
   "cell_type": "code",
   "execution_count": 93,
   "id": "df809ad3-9c74-42c9-bc27-194e45b718c5",
   "metadata": {},
   "outputs": [
    {
     "data": {
      "text/plain": [
       "array([[[1, 1, 1, 1],\n",
       "        [1, 1, 1, 1],\n",
       "        [1, 1, 1, 1]],\n",
       "\n",
       "       [[1, 1, 1, 1],\n",
       "        [1, 1, 1, 1],\n",
       "        [1, 1, 1, 1]]], dtype=int64)"
      ]
     },
     "execution_count": 93,
     "metadata": {},
     "output_type": "execute_result"
    }
   ],
   "source": [
    "e = np.ones((2, 3, 4), dtype = 'i8')\n",
    "e"
   ]
  },
  {
   "cell_type": "markdown",
   "id": "6ba6697f-15f0-4dbe-860f-ff42043a8b7f",
   "metadata": {},
   "source": [
    "만약 크기를 튜플로 명시하지 않고 다른 배열과 같은 크기의 배열을 생성하고 싶다면 ones_like, zeros_like 명령 사용"
   ]
  },
  {
   "cell_type": "code",
   "execution_count": 95,
   "id": "9b511e25-e60b-45be-b846-ffd09056bb22",
   "metadata": {},
   "outputs": [
    {
     "data": {
      "text/plain": [
       "array([[[1., 1., 1., 1.],\n",
       "        [1., 1., 1., 1.],\n",
       "        [1., 1., 1., 1.]],\n",
       "\n",
       "       [[1., 1., 1., 1.],\n",
       "        [1., 1., 1., 1.],\n",
       "        [1., 1., 1., 1.]]], dtype=float32)"
      ]
     },
     "execution_count": 95,
     "metadata": {},
     "output_type": "execute_result"
    }
   ],
   "source": [
    "f = np.ones_like(e, dtype = 'f' )\n",
    "f h"
   ]
  },
  {
   "cell_type": "markdown",
   "id": "86901c59-0d0c-4023-83a9-6a4ee98d3659",
   "metadata": {},
   "source": [
    "배열의 크기가 커지면 배열을 초기화하는데도 시간이 걸린다   \n",
    "시간을 단축하려면 배열을 생성만 하고 특정한 값으로 초기화 하지 않는 empty 며령을 사용할 수 있다.   \n",
    "empty 명령으로 생성된 배열에는 기존 메모리에 저장되어 있던 값이 있으므로 배열의 원소의 값을 미리 알 수 없다.  "
   ]
  },
  {
   "cell_type": "code",
   "execution_count": 97,
   "id": "652b959b-2d44-4c79-9006-cd20274873fd",
   "metadata": {},
   "outputs": [
    {
     "data": {
      "text/plain": [
       "array([[0.0078125, 0.0078125, 0.0078125],\n",
       "       [0.0078125, 0.0078125, 0.0078125],\n",
       "       [0.0078125, 0.0078125, 0.0078125],\n",
       "       [0.0078125, 0.0078125, 0.0078125]])"
      ]
     },
     "execution_count": 97,
     "metadata": {},
     "output_type": "execute_result"
    }
   ],
   "source": [
    "g = np.empty((4,3))\n",
    "g"
   ]
  },
  {
   "cell_type": "raw",
   "id": "af0aefee-cfa8-4620-8a54-e1c2a5b7e95b",
   "metadata": {},
   "source": [
    "arange 명령은 numpy 버전의 range 명령어 \n",
    "특정한 규칙에 따라 증가하는 수열을 만든다. "
   ]
  },
  {
   "cell_type": "code",
   "execution_count": 100,
   "id": "11752b9c-0521-48a4-9679-661d486211b6",
   "metadata": {},
   "outputs": [
    {
     "data": {
      "text/plain": [
       "array([0, 1, 2, 3, 4, 5, 6, 7, 8, 9])"
      ]
     },
     "execution_count": 100,
     "metadata": {},
     "output_type": "execute_result"
    }
   ],
   "source": [
    " np.arange(10) # 0, ... n-1"
   ]
  },
  {
   "cell_type": "code",
   "execution_count": 99,
   "id": "685b4375-4dd2-431e-a4ae-f08b9a52ee36",
   "metadata": {},
   "outputs": [
    {
     "data": {
      "text/plain": [
       "array([ 3,  5,  7,  9, 11, 13, 15, 17, 19])"
      ]
     },
     "execution_count": 99,
     "metadata": {},
     "output_type": "execute_result"
    }
   ],
   "source": [
    "np.arange(3, 21, 2)"
   ]
  },
  {
   "cell_type": "markdown",
   "id": "ac909627-0975-4caf-b9e9-c4da750a17f9",
   "metadata": {},
   "source": [
    "linspace 명령이나 logspace 명령은 선형구간 혹은 로그 구간을 지정한 구간의 수만큼 분할 "
   ]
  },
  {
   "cell_type": "code",
   "execution_count": 109,
   "id": "87af422a-975e-4434-a1eb-91c464a514d9",
   "metadata": {},
   "outputs": [
    {
     "data": {
      "text/plain": [
       "array([  0.        ,   5.26315789,  10.52631579,  15.78947368,\n",
       "        21.05263158,  26.31578947,  31.57894737,  36.84210526,\n",
       "        42.10526316,  47.36842105,  52.63157895,  57.89473684,\n",
       "        63.15789474,  68.42105263,  73.68421053,  78.94736842,\n",
       "        84.21052632,  89.47368421,  94.73684211, 100.        ])"
      ]
     },
     "execution_count": 109,
     "metadata": {},
     "output_type": "execute_result"
    }
   ],
   "source": [
    "# 개수에 맞춰서 등간격으로 맞춰준다\n",
    "ex = np.linspace(0, 100, 20)\n",
    "ex"
   ]
  },
  {
   "cell_type": "code",
   "execution_count": 110,
   "id": "9b85df2e-6326-41d7-b272-bbcaec4e360a",
   "metadata": {},
   "outputs": [
    {
     "data": {
      "text/plain": [
       "array([1.e+000, 1.e+025, 1.e+050, 1.e+075, 1.e+100])"
      ]
     },
     "execution_count": 110,
     "metadata": {},
     "output_type": "execute_result"
    }
   ],
   "source": [
    "ex2 = np.logspace(0, 100, 5)\n",
    "ex2"
   ]
  },
  {
   "cell_type": "markdown",
   "id": "63fa62b6-aeae-4f51-8d9b-8427bb83a2c2",
   "metadata": {},
   "source": [
    "### 전치 연산\n",
    "2차원 배열의 전치(tranpose) 연산은 행과 열을 바꾸는 작업.   \n",
    "이는 배열의 T 속성을고 구할 수 있다. 메서드가 아니라 속성이라는 점에 유의"
   ]
  },
  {
   "cell_type": "code",
   "execution_count": 113,
   "id": "43f4cead-0cff-430f-8a04-820af27a76dd",
   "metadata": {},
   "outputs": [
    {
     "data": {
      "text/plain": [
       "array([[1, 2, 3],\n",
       "       [4, 5, 6]])"
      ]
     },
     "execution_count": 113,
     "metadata": {},
     "output_type": "execute_result"
    }
   ],
   "source": [
    "A = np.array([[1, 2, 3], [4, 5, 6]])\n",
    "A"
   ]
  },
  {
   "cell_type": "code",
   "execution_count": 112,
   "id": "15aea923-7fc9-412e-95c1-1449208bcf06",
   "metadata": {},
   "outputs": [
    {
     "data": {
      "text/plain": [
       "array([[1, 4],\n",
       "       [2, 5],\n",
       "       [3, 6]])"
      ]
     },
     "execution_count": 112,
     "metadata": {},
     "output_type": "execute_result"
    }
   ],
   "source": [
    "A.T"
   ]
  },
  {
   "cell_type": "markdown",
   "id": "c7bf7096-b19f-4314-9c4e-ca15b52231a2",
   "metadata": {},
   "source": [
    "### 배열의 크기 변형\n",
    "일단 만들어진 배열의 내부 데이터는 보존한 채로 형태만 바꾸려면 reshpae 명령이나 메서드 사용  \n",
    "예를 들어 12개의 원소인 1차원 배열은 3 \\*4 크기의 2차원 배열로 만들 수 있다   \n",
    "-1을 쓰면 해당숫자는 다른 값에서 ,,,,,,,"
   ]
  },
  {
   "cell_type": "code",
   "execution_count": 116,
   "id": "112fb414-9211-4a6c-a9d9-f92a3ab2eb85",
   "metadata": {},
   "outputs": [
    {
     "data": {
      "text/plain": [
       "array([[ 0,  1,  2,  3],\n",
       "       [ 4,  5,  6,  7],\n",
       "       [ 8,  9, 10, 11]])"
      ]
     },
     "execution_count": 116,
     "metadata": {},
     "output_type": "execute_result"
    }
   ],
   "source": [
    "ex3 = np.arange(12)\n",
    "ex3.reshape(3, 4)"
   ]
  },
  {
   "cell_type": "markdown",
   "id": "61762c62-4afa-4130-9026-22494da8e8a4",
   "metadata": {},
   "source": [
    "다차원 배열을 1차원으로 만들기 위해서는 flatten() 혹은 ravel() 메서드 사용"
   ]
  },
  {
   "cell_type": "code",
   "execution_count": 118,
   "id": "6d693adc-f19f-4ec4-8933-de1535bffda6",
   "metadata": {},
   "outputs": [
    {
     "data": {
      "text/plain": [
       "array([ 0,  1,  2,  3,  4,  5,  6,  7,  8,  9, 10, 11])"
      ]
     },
     "execution_count": 118,
     "metadata": {},
     "output_type": "execute_result"
    }
   ],
   "source": [
    "ex3.flatten()"
   ]
  },
  {
   "cell_type": "code",
   "execution_count": 119,
   "id": "5b4a81f4-40b1-4041-9bcc-151b139609ed",
   "metadata": {},
   "outputs": [
    {
     "data": {
      "text/plain": [
       "array([ 0,  1,  2,  3,  4,  5,  6,  7,  8,  9, 10, 11])"
      ]
     },
     "execution_count": 119,
     "metadata": {},
     "output_type": "execute_result"
    }
   ],
   "source": [
    "ex3.ravel()"
   ]
  },
  {
   "cell_type": "markdown",
   "id": "d2bd1b64-bafd-4775-aded-5fcc13ff1c77",
   "metadata": {},
   "source": [
    "배열 사용에서 주의할 점은 길이가 5인 1차원 배열과 행, 열의 개수가 (5, 1)인 2차원 배열 또는 행, 열의 개수가 (1, 5)인 2차원 배열은 데이터가 같아도 엄연히 다른 객체"
   ]
  },
  {
   "cell_type": "code",
   "execution_count": 125,
   "id": "ddd0715b-5177-44d9-814e-26c7d01a541a",
   "metadata": {},
   "outputs": [
    {
     "data": {
      "text/plain": [
       "array([0, 1, 2, 3, 4])"
      ]
     },
     "execution_count": 125,
     "metadata": {},
     "output_type": "execute_result"
    }
   ],
   "source": [
    "x = np.arange(5)\n",
    "x"
   ]
  },
  {
   "cell_type": "markdown",
   "id": "d24cff7f-385f-4fee-986b-73f9ce3ced1a",
   "metadata": {},
   "source": [
    "같은 배열에 대해 차원만 1차원 증가 시키는 경우에는 newaxis명령 사용"
   ]
  },
  {
   "cell_type": "markdown",
   "id": "fbf591c1-0cf2-4e99-a884-c7bbabee9f40",
   "metadata": {},
   "source": [
    "배열 연결\n",
    "행의수나 열의 수가 같은 두개 이상의 배열을 연결하여 더 큰 배열을 만들때는 다음과 같은 명령 사용"
   ]
  },
  {
   "cell_type": "markdown",
   "id": "8f9e6ea5-e04f-4ae5-9308-6914883fcf6d",
   "metadata": {},
   "source": [
    "- hstack\n",
    "- vstack\n",
    "- dstack\n",
    "- stack\n",
    "- r_\n",
    "- c_\n",
    "- tile"
   ]
  },
  {
   "cell_type": "markdown",
   "id": "bd95ecce-a2b0-4c15-81cd-2e80f8c092fa",
   "metadata": {},
   "source": [
    "#### hstack\n",
    "hstack 명령은 행의 수가 같은 두개 이상의 배열을 옆으로 연결하여 열의 수가 더 많은 배열을 만든다. 연결할 배열은 하나의 리스트에 담아야 한다. "
   ]
  },
  {
   "cell_type": "code",
   "execution_count": 127,
   "id": "67f82377-9e88-44e8-b17d-18ac21bebaf3",
   "metadata": {},
   "outputs": [
    {
     "data": {
      "text/plain": [
       "array([[1., 1., 1.],\n",
       "       [1., 1., 1.]])"
      ]
     },
     "execution_count": 127,
     "metadata": {},
     "output_type": "execute_result"
    }
   ],
   "source": [
    "a1 = np.ones((2,3))\n",
    "a1"
   ]
  },
  {
   "cell_type": "code",
   "execution_count": 131,
   "id": "b9f59803-fcda-4af3-974c-a4797307cb1e",
   "metadata": {},
   "outputs": [
    {
     "data": {
      "text/plain": [
       "array([[0., 0.],\n",
       "       [0., 0.]])"
      ]
     },
     "execution_count": 131,
     "metadata": {},
     "output_type": "execute_result"
    }
   ],
   "source": [
    "a2 = np.zeros((2, 2))\n",
    "a2"
   ]
  },
  {
   "cell_type": "code",
   "execution_count": 133,
   "id": "af96a740-1cc8-4993-bf7a-8ae82d32b392",
   "metadata": {},
   "outputs": [
    {
     "data": {
      "text/plain": [
       "array([[1., 1., 1., 0., 0.],\n",
       "       [1., 1., 1., 0., 0.]])"
      ]
     },
     "execution_count": 133,
     "metadata": {},
     "output_type": "execute_result"
    }
   ],
   "source": [
    "np.hstack([a1, a2])"
   ]
  },
  {
   "cell_type": "markdown",
   "id": "aa07567c-e61c-497d-90f4-2aaf711891ed",
   "metadata": {},
   "source": [
    "#### vstack\n",
    "vstack 명령은 열의 수가 같은 두개 이상의 배열을 아래로 연결하여 행의 수가 더 많은 배열을 만든다. 연결할 배열은 하나의 리스트에 담아야 한다. "
   ]
  },
  {
   "cell_type": "code",
   "execution_count": 134,
   "id": "40794000-f2e4-4936-a74c-91c3459807b4",
   "metadata": {},
   "outputs": [],
   "source": [
    "b1 = np.ones((2,3))\n",
    "b2 = np.zeros((3,3))"
   ]
  },
  {
   "cell_type": "code",
   "execution_count": 135,
   "id": "c3d4d758-2fda-4c04-85a9-acc0cb2ab80c",
   "metadata": {},
   "outputs": [
    {
     "data": {
      "text/plain": [
       "array([[1., 1., 1.],\n",
       "       [1., 1., 1.],\n",
       "       [0., 0., 0.],\n",
       "       [0., 0., 0.],\n",
       "       [0., 0., 0.]])"
      ]
     },
     "execution_count": 135,
     "metadata": {},
     "output_type": "execute_result"
    }
   ],
   "source": [
    "np.vstack([b1, b2])"
   ]
  },
  {
   "cell_type": "markdown",
   "id": "ac0cb60b-49e0-4c4b-b7e4-f432001ba402",
   "metadata": {},
   "source": [
    "#### dstack\n",
    "dstack 명령은 제 3의 축 즉, 행이나 열이 아닌 깊이 방향으로 배열을 합친다.  \n",
    "가장 안쪽의 원소의 차원이 증가   \n",
    "가장 내부의 숫자 원소가 배열이 된다  \n",
    "shape 정보로 보자면 가장 끝에 값이 2인 차원이 추가된다  "
   ]
  },
  {
   "cell_type": "code",
   "execution_count": 136,
   "id": "ac64d0b6-1a18-4e21-9b13-c1a80ba8de28",
   "metadata": {},
   "outputs": [],
   "source": [
    "c1 = np.ones((3,4))\n",
    "c2 = np.zeros((3,4))"
   ]
  },
  {
   "cell_type": "code",
   "execution_count": 137,
   "id": "14eb8095-f245-4ff0-b3c7-74f2d5a61115",
   "metadata": {},
   "outputs": [
    {
     "data": {
      "text/plain": [
       "array([[[1., 0.],\n",
       "        [1., 0.],\n",
       "        [1., 0.],\n",
       "        [1., 0.]],\n",
       "\n",
       "       [[1., 0.],\n",
       "        [1., 0.],\n",
       "        [1., 0.],\n",
       "        [1., 0.]],\n",
       "\n",
       "       [[1., 0.],\n",
       "        [1., 0.],\n",
       "        [1., 0.],\n",
       "        [1., 0.]]])"
      ]
     },
     "execution_count": 137,
     "metadata": {},
     "output_type": "execute_result"
    }
   ],
   "source": [
    "np.dstack([c1, c2])"
   ]
  },
  {
   "cell_type": "markdown",
   "id": "45292255-4810-486b-b044-0c7ebf699327",
   "metadata": {},
   "source": [
    "#### stack\n",
    "stack 명령은 dstack의 기능을 확장한 것으로 dstack처럼 마지막 차원으로 연결하는 것이 아니라   \n",
    "사용자가 지정한 차원(축으로) 배열을 연결  \n",
    "axis 인수(디폴트 0)를 사용하여 연결 후의 회전 방향을 정한다   \n",
    "디폴트 인수값은 0이고 가장 앞쪽에 차원이 생성된다  \n",
    "즉, 배열 두 개가 겹치게 되므로 연결하고자 하는 배열들의 크기가 모두 같아야 한다  "
   ]
  },
  {
   "cell_type": "markdown",
   "id": "bd91679c-5ede-4557-a7b6-768e0778826e",
   "metadata": {},
   "source": [
    "axis = 0 이므로 가장 바깥에 2인 차원이 추가 된다.  \n",
    "즉, shape 변화는 2개의 (3 * 4)-> 1개의 (2 * 3 * 4)이다.  "
   ]
  },
  {
   "cell_type": "code",
   "execution_count": 145,
   "id": "b847eb4c-8c6a-4ea8-8fc9-c509796d5e21",
   "metadata": {},
   "outputs": [
    {
     "data": {
      "text/plain": [
       "array([[[1., 1., 1., 1.],\n",
       "        [1., 1., 1., 1.],\n",
       "        [1., 1., 1., 1.]],\n",
       "\n",
       "       [[0., 0., 0., 0.],\n",
       "        [0., 0., 0., 0.],\n",
       "        [0., 0., 0., 0.]]])"
      ]
     },
     "execution_count": 145,
     "metadata": {},
     "output_type": "execute_result"
    }
   ],
   "source": [
    "c = np.stack([c1, c2])\n",
    "c"
   ]
  },
  {
   "cell_type": "code",
   "execution_count": 146,
   "id": "7a787386-bb9f-4f87-92e1-9afce96b37e8",
   "metadata": {},
   "outputs": [
    {
     "data": {
      "text/plain": [
       "(2, 3, 4)"
      ]
     },
     "execution_count": 146,
     "metadata": {},
     "output_type": "execute_result"
    }
   ],
   "source": [
    "c.shape"
   ]
  },
  {
   "cell_type": "markdown",
   "id": "bee65674-d383-4f42-96cb-e5247ab574ee",
   "metadata": {},
   "source": [
    "axis = 1로 설정  \n",
    "즉, shape 변화는 2개의 (3 * 4)-> 1개의 (3 * 2 * 4)이다.  "
   ]
  },
  {
   "cell_type": "code",
   "execution_count": 143,
   "id": "0b8b70da-99ed-4fdd-bc3b-76b3e7973fe0",
   "metadata": {},
   "outputs": [
    {
     "data": {
      "text/plain": [
       "array([[[1., 1., 1., 1.],\n",
       "        [0., 0., 0., 0.]],\n",
       "\n",
       "       [[1., 1., 1., 1.],\n",
       "        [0., 0., 0., 0.]],\n",
       "\n",
       "       [[1., 1., 1., 1.],\n",
       "        [0., 0., 0., 0.]]])"
      ]
     },
     "execution_count": 143,
     "metadata": {},
     "output_type": "execute_result"
    }
   ],
   "source": [
    "c = np.stack([c1, c2], axis = 1)\n",
    "c"
   ]
  },
  {
   "cell_type": "code",
   "execution_count": 141,
   "id": "d65615ed-d1ab-42f1-bd7f-144b80da4e31",
   "metadata": {},
   "outputs": [
    {
     "data": {
      "text/plain": [
       "(3, 2, 4)"
      ]
     },
     "execution_count": 141,
     "metadata": {},
     "output_type": "execute_result"
    }
   ],
   "source": [
    "c.shape"
   ]
  },
  {
   "cell_type": "markdown",
   "id": "947dfc07-31bb-4359-b5aa-7974ba332a34",
   "metadata": {},
   "source": [
    "#### r_ 메서드\n",
    "r_ 메서드는 hstack 명령과 빘하게 배열을 좌우로 연결   \n",
    "다만 메서드임에도 불구하고 소괄호 사용하지 않고 [] 대괄호 사용 특수메서드를 인덱서라고 한다"
   ]
  },
  {
   "cell_type": "code",
   "execution_count": 147,
   "id": "11fecce4-000a-45e5-83b6-b0839b85f191",
   "metadata": {},
   "outputs": [
    {
     "data": {
      "text/plain": [
       "array([1, 2, 3, 4, 5, 6])"
      ]
     },
     "execution_count": 147,
     "metadata": {},
     "output_type": "execute_result"
    }
   ],
   "source": [
    "np.r_[np.array([1, 2, 3]), np.array([4, 5, 6])]"
   ]
  },
  {
   "cell_type": "markdown",
   "id": "968e8162-04fe-4e12-b0a5-d85f84173e8f",
   "metadata": {},
   "source": [
    "#### c_ 메서드\n",
    "c_ 메서드는 배열의 차원을 증가시킨 후 좌우로 연결  \n",
    "만약 1차원 배열을 연결하면 2차원 배열이 된다."
   ]
  },
  {
   "cell_type": "code",
   "execution_count": 148,
   "id": "cd785594-e1b8-4d17-8200-05222c3043d4",
   "metadata": {},
   "outputs": [
    {
     "data": {
      "text/plain": [
       "array([[1, 4],\n",
       "       [2, 5],\n",
       "       [3, 6]])"
      ]
     },
     "execution_count": 148,
     "metadata": {},
     "output_type": "execute_result"
    }
   ],
   "source": [
    "np.c_[np.array([1, 2, 3]), np.array([4, 5, 6])]"
   ]
  },
  {
   "cell_type": "markdown",
   "id": "927a0093-d5e8-4cf4-a7c2-e05cedc63daf",
   "metadata": {},
   "source": [
    "#### tile\n",
    "동일한 배열을 반복하여 연결"
   ]
  },
  {
   "cell_type": "code",
   "execution_count": 150,
   "id": "c037ab15-1d7c-4b47-9f90-fddca4ac7070",
   "metadata": {},
   "outputs": [
    {
     "data": {
      "text/plain": [
       "array([[0, 1, 2, 0, 1, 2],\n",
       "       [3, 4, 5, 3, 4, 5]])"
      ]
     },
     "execution_count": 150,
     "metadata": {},
     "output_type": "execute_result"
    }
   ],
   "source": [
    "a = np.array([[0, 1, 2], [3, 4, 5]])\n",
    "np.tile(a, 2)"
   ]
  },
  {
   "cell_type": "code",
   "execution_count": 152,
   "id": "769b32e4-3076-4c50-a614-883dfeb08166",
   "metadata": {},
   "outputs": [
    {
     "data": {
      "text/plain": [
       "array([[0, 1, 2, 0, 1, 2],\n",
       "       [3, 4, 5, 3, 4, 5],\n",
       "       [0, 1, 2, 0, 1, 2],\n",
       "       [3, 4, 5, 3, 4, 5],\n",
       "       [0, 1, 2, 0, 1, 2],\n",
       "       [3, 4, 5, 3, 4, 5]])"
      ]
     },
     "execution_count": 152,
     "metadata": {},
     "output_type": "execute_result"
    }
   ],
   "source": [
    "np.tile(a, (3,2)) # 행방향으로 3개 열 방향으로 2개"
   ]
  }
 ],
 "metadata": {
  "kernelspec": {
   "display_name": "Python 3",
   "language": "python",
   "name": "python3"
  },
  "language_info": {
   "codemirror_mode": {
    "name": "ipython",
    "version": 3
   },
   "file_extension": ".py",
   "mimetype": "text/x-python",
   "name": "python",
   "nbconvert_exporter": "python",
   "pygments_lexer": "ipython3",
   "version": "3.8.8"
  }
 },
 "nbformat": 4,
 "nbformat_minor": 5
}
