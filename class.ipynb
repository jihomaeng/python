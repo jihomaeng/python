{
 "cells": [
  {
   "cell_type": "markdown",
   "id": "cb97d6e5-5131-41b7-b0ab-d5f931b41995",
   "metadata": {},
   "source": [
    "# **객체지향 프로그래밍(Object Oriented)**\n",
    "- 객체지향 프로그래밍은 복잡한 문제를 잘게 나누어 객체로 만들고, 객체를 조합해서 문제를 해결  \n",
    "- 현실 세계의 복잡한 문제를 처리하는데 유용하며 기능을 개선하고 발전시킬 때도 해당 클래스만 수정하면 되므로 큰 프롲게트의 유지보수에도 매우 효율적   \n",
    "- 객체가 가진 데이터를 클래스의 속성이라고 부르고 객체가 갖는 기능을 메서드라고 부른다  "
   ]
  },
  {
   "cell_type": "markdown",
   "id": "7fb50dc9-27a4-4dab-8ad0-2a2df149eea2",
   "metadata": {},
   "source": [
    "## Class\n",
    "클래스는 사용자 정의 객체를 만들기 위한 주형이라고 생각하면 된다.   \n",
    "클래스 정의는 보통 클래스의 인스턴스를 대상으로 연산하는 메서드 정의를 포함하고 있다.  \n",
    "\n",
    "```python \n",
    "class ClassName: #클래스명은 주로 PascalCase(UpperCamelCase를 쓴다. \n",
    "    \"\"\"\n",
    "    Doc_String\n",
    "    \"\"\"\n",
    "    def method_name(self):\n",
    "        method_body\n",
    "        \n",
    "    class_body\n",
    "    ...\n",
    "    \n",
    "```"
   ]
  },
  {
   "cell_type": "markdown",
   "id": "3be1f16f-3a05-4d8b-8eb2-daa6297ca53b",
   "metadata": {},
   "source": [
    "지금까지 사용해온 int, list, dict 등도 클래스   \n",
    "우리는 클래스로부터 인스턴스를 만드로 메서드를 사용해 옴"
   ]
  },
  {
   "cell_type": "code",
   "execution_count": 1,
   "id": "79adb250-4605-4146-a284-f2ed9af66afa",
   "metadata": {},
   "outputs": [
    {
     "name": "stdout",
     "output_type": "stream",
     "text": [
      "<class 'int'>\n"
     ]
    }
   ],
   "source": [
    "number = int(10)\n",
    "print(type(number))"
   ]
  },
  {
   "cell_type": "markdown",
   "id": "1bf71098-4e1a-4341-9d55-84c7f7a394a7",
   "metadata": {},
   "source": [
    "### **객체? 인스턴스?**\n",
    "객체를 언급할 떈 단어 하나만 활용하여 단지 객체라고 표현  \n",
    "그와 달리 인스턴스는 특정 클래스로부터 만들어진 실체로 언급을 많이 한다.    \n",
    "예를들어 인스턴스의 경우 리스트 클래스로 만들어진 인스턴스다 라고 말할 수 있다.   \n",
    "부르는 구체적인 것은 조금 달라도 결국 둘은 같은 말이다.   \n",
    "\n",
    "인스턴스의 생성은 아래의 예제처럼 클래스명 오른편에 소괄호를 붙여서 만든다. \n",
    "```python \n",
    "instance_variable = ClassName()\n",
    "```"
   ]
  },
  {
   "cell_type": "markdown",
   "id": "00d03cfd-d555-4914-aebf-3ee232f1298b",
   "metadata": {},
   "source": [
    "### **메서드** \n",
    "메서드는 클래스 바디 안에서 정의되는 함수   \n",
    "클래스의 인스턴스의 (attribute)로서 호출되면, 그 메서드는 첫 번째 인자로 인스턴스 객체(self)를 받는다.   \n",
    "첫 번째 인자를 설정 안하면 에러가 발생한다. 이 첫번째 인자를 'self'라고 쓴다.   \n",
    "```python \n",
    "class ClassName:\n",
    "    def method_name(self):\n",
    "        method_body\n",
    "    class_body\n",
    "    ...\n",
    "```\n"
   ]
  },
  {
   "cell_type": "code",
   "execution_count": 9,
   "id": "6ff90c10-ff63-4ae1-848f-ec7a6a631758",
   "metadata": {},
   "outputs": [],
   "source": [
    "class Person:\n",
    "    def __init__(self):\n",
    "        self.hello = \"안녕하세요.\""
   ]
  },
  {
   "cell_type": "code",
   "execution_count": 12,
   "id": "838a2c5a-33fb-4a9b-8b9b-ed3a6396b803",
   "metadata": {},
   "outputs": [
    {
     "name": "stdout",
     "output_type": "stream",
     "text": [
      "안녕하세요.\n"
     ]
    }
   ],
   "source": [
    "james = Person() #객체생성\n",
    "print(james.hello)"
   ]
  },
  {
   "cell_type": "code",
   "execution_count": 13,
   "id": "e6b96e8d-810a-4686-aa49-c4930d5264d7",
   "metadata": {},
   "outputs": [
    {
     "data": {
      "text/plain": [
       "'안녕하세요.'"
      ]
     },
     "execution_count": 13,
     "metadata": {},
     "output_type": "execute_result"
    }
   ],
   "source": [
    "bebe = Person()\n",
    "bebe.hello"
   ]
  },
  {
   "cell_type": "code",
   "execution_count": 8,
   "id": "5a546bcf-720d-4846-b2fb-afca129f8bd5",
   "metadata": {},
   "outputs": [],
   "source": [
    "class Student:\n",
    "    pass\n",
    " def greeting(self):\n",
    "        print(self.hello)\n",
    "        \n",
    "gh = Student() # 독립적인 값을 보장하는 instance로 생성된다. "
   ]
  },
  {
   "cell_type": "markdown",
   "id": "00df0bf5-db3f-4856-b14f-f1a2c272d506",
   "metadata": {},
   "source": [
    "### **클래스 속성(Attribute)**\n",
    "__init__ 메서드는 james = Person() 처럼 클래스에 소괄호(())를 붙여서 인스턴스를 만들 때 호출되는 특별한 메서드(special method, magic method)이다.  \n",
    "__init__ initialize의 줄임말로 인스턴스를 초기화 (메모리에 공간을 할당하고 값을 부여)  \n",
    "\n",
    "밑줄 두개(__ double under, 던더)가 양옆으로 붙어있는 메서드는 파이썬이 자동으로 호출하는 메서드이다.   \n",
    "던더 메서드로 불리기도 하다.   \n",
    "파이썬의 여러가지 기능을 사용할 때 이 던더 메서드를 구현하는 식으로 사용하게 된다.   \n",
    "```python \n",
    "class Person:\n",
    "    def __init__(self):\n",
    "        self.hello = \"안녕하세요.\"\n",
    "```"
   ]
  },
  {
   "cell_type": "markdown",
   "id": "8809e937-0571-43c3-a64b-7d1654229609",
   "metadata": {},
   "source": [
    "속성은 __init__ 메서드에서 만든다는 점과 self에 마침표(.)를 붙여 속성명을 붙이고 값을 할당하는 점을 기억  \n",
    "모든 인스턴스가 같은 속성을 가지도록 할 때 __init__ 메서드 사용   \n",
    "클래스 바디에서도 속성을 접근할 떄 self.속성과 같이 self에 마침표를 찍고 사용하면 된다. \n",
    "\n",
    "```python \n",
    "class Person:\n",
    "    def __init__(self):\n",
    "        self.hello = \"안녕하세요.\"\n",
    "    def greeting(self):\n",
    "        print(self.hello)\n",
    "         \n",
    "james = Person() # Person에서 __init__ 먼저 찾아간다. 자신의 instance를 self로 하기로 정한 것\n",
    "jemes.greeting()\n",
    "```"
   ]
  },
  {
   "cell_type": "markdown",
   "id": "760457cb-c260-4e6d-9016-2f0b90a88cec",
   "metadata": {},
   "source": [
    "### **self란?**\n",
    "self는 각자 독립적인 인스턴스 자기자신이다.   \n",
    "위 예제에서 인스턴스가 생성될 때 self.hello = \"안녕하세요\" 처럼 자기 자신에 속성을 추가하여 사용했다.   \n",
    "__init__ 의 매개변수 self에 들어가는 값은 Person()인스턴스라고 할 수 있다.    \n",
    "self가 완성된 후엔 변수인 james에 할당되었다.   \n",
    "이후 메서드를 호출하면 현재 인스턴스가 자동으로 매개변수 self에 들어온다.   \n",
    "그래서 greeting 메서드에서 print(self.hello)처럼 속성을 출력할 수 있었다.   "
   ]
  },
  {
   "cell_type": "code",
   "execution_count": 1,
   "id": "3f4ab08e-8279-4d9d-92bf-fa6081945273",
   "metadata": {},
   "outputs": [],
   "source": [
    "class Student:\n",
    "    pass"
   ]
  },
  {
   "cell_type": "code",
   "execution_count": 8,
   "id": "f7169e92-7180-4d46-939f-1b962edfc3e4",
   "metadata": {},
   "outputs": [],
   "source": [
    "stu_a = Student() # 클래스로부터 인스턴스 초기화\n",
    "stu_b = Student() # 객체가 만들어져도 다른 값을 가진다 이게 인스턴스 속성이다"
   ]
  },
  {
   "cell_type": "code",
   "execution_count": 6,
   "id": "8df45fae-2347-49d2-9d80-0063d02a2de2",
   "metadata": {},
   "outputs": [],
   "source": [
    "stu_a.hello = \"안녕하세요\" # stu_a 에 바로 속성 부여가능\n",
    "stu_a.name = \"학생A\""
   ]
  },
  {
   "cell_type": "code",
   "execution_count": 4,
   "id": "cc6dce87-478a-421a-8105-36d8454411ed",
   "metadata": {},
   "outputs": [
    {
     "name": "stdout",
     "output_type": "stream",
     "text": [
      "안녕하세요\n"
     ]
    }
   ],
   "source": [
    "print(stu_a.hello)"
   ]
  },
  {
   "cell_type": "code",
   "execution_count": 7,
   "id": "a655f25c-9af5-4b16-a5ce-7c386514935d",
   "metadata": {},
   "outputs": [
    {
     "ename": "AttributeError",
     "evalue": "'Student' object has no attribute 'name'",
     "output_type": "error",
     "traceback": [
      "\u001b[1;31m---------------------------------------------------------------------------\u001b[0m",
      "\u001b[1;31mAttributeError\u001b[0m                            Traceback (most recent call last)",
      "\u001b[1;32m<ipython-input-7-d6f26fbe7509>\u001b[0m in \u001b[0;36m<module>\u001b[1;34m\u001b[0m\n\u001b[1;32m----> 1\u001b[1;33m \u001b[0mprint\u001b[0m\u001b[1;33m(\u001b[0m\u001b[0mstu_b\u001b[0m\u001b[1;33m.\u001b[0m\u001b[0mname\u001b[0m\u001b[1;33m)\u001b[0m\u001b[1;33m\u001b[0m\u001b[1;33m\u001b[0m\u001b[0m\n\u001b[0m",
      "\u001b[1;31mAttributeError\u001b[0m: 'Student' object has no attribute 'name'"
     ]
    }
   ],
   "source": [
    "print(stu_b.name)"
   ]
  },
  {
   "cell_type": "code",
   "execution_count": 13,
   "id": "27fa3bed-7513-4a8f-b2ff-3fd4ddef2e1b",
   "metadata": {},
   "outputs": [],
   "source": [
    "class Student:\n",
    "    def __init__(self):\n",
    "        self.hello = \"안녕하세요\"\n",
    "        \n",
    "    def greeting(self):\n",
    "        print(self.hello)"
   ]
  },
  {
   "cell_type": "code",
   "execution_count": 14,
   "id": "26027792-4ce3-48b5-b2dc-da9a9644e53f",
   "metadata": {},
   "outputs": [],
   "source": [
    "stu_a = Student() \n",
    "stu_b = Student()"
   ]
  },
  {
   "cell_type": "code",
   "execution_count": 16,
   "id": "5cf92419-8d05-41b2-bc73-78a520eb939d",
   "metadata": {},
   "outputs": [
    {
     "name": "stdout",
     "output_type": "stream",
     "text": [
      "hi\n"
     ]
    }
   ],
   "source": [
    "stu_a.hello = \"hi\"\n",
    "print(stu_a.hello)"
   ]
  },
  {
   "cell_type": "code",
   "execution_count": 12,
   "id": "d9ff20ef-d1fd-45d7-81e7-7f57329037cb",
   "metadata": {},
   "outputs": [],
   "source": [
    "stu_a.name = \"학생A\""
   ]
  },
  {
   "cell_type": "code",
   "execution_count": 26,
   "id": "f191fd7b-3069-407d-b027-b8f97c6aca69",
   "metadata": {},
   "outputs": [],
   "source": [
    "class Person:\n",
    "    def __init__(self, param, param2): # self 제외하고 순서대로 넣어주고 있다 \n",
    "        self.name = param\n",
    "        self.age = param2\n"
   ]
  },
  {
   "cell_type": "code",
   "execution_count": 22,
   "id": "35d494ac-4779-4bbd-b0b5-0e2cdfd77c90",
   "metadata": {},
   "outputs": [
    {
     "name": "stdout",
     "output_type": "stream",
     "text": [
      "<__main__.Person object at 0x000002004A4A5880>\n",
      "<__main__.Person object at 0x000002004A4A51F0>\n"
     ]
    }
   ],
   "source": [
    "print(p1)\n",
    "print(p2)"
   ]
  },
  {
   "cell_type": "code",
   "execution_count": 23,
   "id": "642caad9-25a2-43b0-8787-9302119ab766",
   "metadata": {},
   "outputs": [],
   "source": [
    "p1 = Person(\"name1\", 40) #init이 인수들과 관계가 있다. \n",
    "p2 = Person(\"name2\", 32)"
   ]
  },
  {
   "cell_type": "code",
   "execution_count": 19,
   "id": "a4ca04b5-3712-4c68-b6a8-91ddb856af3f",
   "metadata": {},
   "outputs": [],
   "source": [
    "# p1.name = \"name1\"\n",
    "# p1.age = 40\n",
    "\n",
    "# p2.name = \"name2\"\n",
    "# p2.age = 32"
   ]
  },
  {
   "cell_type": "code",
   "execution_count": 27,
   "id": "c03b602b-42d0-4dd5-b16e-ab7249c5fa65",
   "metadata": {},
   "outputs": [
    {
     "name": "stdout",
     "output_type": "stream",
     "text": [
      "{'name': 'name1', 'age': 40}\n"
     ]
    }
   ],
   "source": [
    "print(p1.__dict__) # 인스턴스 안에 속성을 보는 방법"
   ]
  },
  {
   "cell_type": "code",
   "execution_count": 25,
   "id": "166b177a-7d49-4e22-9da3-d45fb6d17d98",
   "metadata": {},
   "outputs": [
    {
     "data": {
      "text/plain": [
       "{'name': 'name2', 'age': 32}"
      ]
     },
     "execution_count": 25,
     "metadata": {},
     "output_type": "execute_result"
    }
   ],
   "source": [
    "p2.__dict__"
   ]
  },
  {
   "cell_type": "markdown",
   "id": "8256e978-bc15-489a-ab0e-1ebee6a2c1e1",
   "metadata": {},
   "source": [
    "인스턴스를 생성할 때 속성 값 할당하려면 다음 예제와 같이 __init__메서드에서 self 다음에 값을 받을 매개변수 지정해야 한다  \n",
    "그리고 매개변수를 self.속성에 할당 "
   ]
  },
  {
   "cell_type": "code",
   "execution_count": null,
   "id": "ef0e76ec-e847-4b47-97db-ab5ba2f45434",
   "metadata": {},
   "outputs": [],
   "source": [
    "class ClassName:\n",
    "    def __init__(self, param1, param2):\n",
    "        self.attr1 = param1\n",
    "        self.attr2 = param2"
   ]
  },
  {
   "cell_type": "markdown",
   "id": "6a0320eb-ebf5-4538-b886-ade4d929bd5b",
   "metadata": {},
   "source": [
    "### **클래스 인스턴스 생성할 떄 속성 할당하기** \n",
    "클래스 Person을 정의하고 인스턴스를 만들 떄 이름, 나이, 주소를 받아본다.   \n",
    "그리고 인스턴스의 속서에 접근해서 각각 출력"
   ]
  },
  {
   "cell_type": "code",
   "execution_count": 31,
   "id": "fe4d7a74-a89e-4d7e-8429-a5f46befbf67",
   "metadata": {},
   "outputs": [],
   "source": [
    "class Person2:\n",
    "    def __init__(self, name, age, address):\n",
    "        self.hello = \"안녕하세요\"\n",
    "        self.name = name\n",
    "        self.age = age\n",
    "        self.address = address\n",
    "        \n",
    "    def greeting(self):\n",
    "        print(f\"{self.hello} 제 이름은 {self.name}입니다.\")"
   ]
  },
  {
   "cell_type": "code",
   "execution_count": 32,
   "id": "70ef3c5a-b843-4a57-bc2e-320658a8ccc3",
   "metadata": {},
   "outputs": [
    {
     "name": "stdout",
     "output_type": "stream",
     "text": [
      "안녕하세요 제 이름은 마리아입니다.\n"
     ]
    }
   ],
   "source": [
    "maria = Person2(\"마리아\", 20, \"서울시 서초구 반포동\")\n",
    "maria.greeting()"
   ]
  },
  {
   "cell_type": "code",
   "execution_count": 34,
   "id": "eb520051-4e70-4348-91cf-e0612a6e02b4",
   "metadata": {},
   "outputs": [
    {
     "name": "stdout",
     "output_type": "stream",
     "text": [
      "이름: 마리아\n",
      "나이: 20\n",
      "주소: 서울시 서초구 반포동\n"
     ]
    }
   ],
   "source": [
    "print(\"이름:\", maria.name)\n",
    "print(\"나이:\", maria.age)\n",
    "print(\"주소:\", maria.address)"
   ]
  },
  {
   "cell_type": "markdown",
   "id": "a9f1f669-a327-46e0-a68c-57d016f127bf",
   "metadata": {},
   "source": [
    "### 비공개 속성 사용하기 \n",
    "우리가 인스턴스.속성 = 값을 통해 새롭게 인스턴스의 속성 값을 변경 못하도록 하고 싶을 때는 비공개 속성을 사용하면 된다.  \n",
    "사용법은 해당하는 속성 앞에 던더(__)를 붙이면 비공개 속성이 된다.  \n",
    "비공개 속성은 클래스 밖에서 사용 불가능  \n",
    "그것을 사용하려면 메서드를 다시 제약적으로 기능을 제공할 수 있다.   "
   ]
  },
  {
   "cell_type": "code",
   "execution_count": 35,
   "id": "ef9798b3-2ef7-47ef-9984-141dd99f1842",
   "metadata": {},
   "outputs": [],
   "source": [
    "class ClassName:\n",
    "    def __init__(self, param1, param2):\n",
    "        self.attr1 = param1\n",
    "        self.__attr2 = param2 #비공개 속성"
   ]
  },
  {
   "cell_type": "code",
   "execution_count": 49,
   "id": "6da6614e-ce80-471f-87e6-ed10dffddc45",
   "metadata": {},
   "outputs": [],
   "source": [
    "class Person3:\n",
    "    def __init__(self, name, age, address, wallet):\n",
    "        self.hello = \"안녕하세요\"\n",
    "        self.name = name\n",
    "        self.age = age\n",
    "        self.address = address\n",
    "        self.__wallet = wallet # 자바에서 private과 같은 속성이라고 생각하면 됨 \n",
    "        \n",
    "    def greeting(self):\n",
    "        print(f\"{self.hello} 제 이름은 {self.name}입니다.\")\n",
    "        \n",
    "    def amount(self):\n",
    "        print(self.__wallet)"
   ]
  },
  {
   "cell_type": "code",
   "execution_count": 50,
   "id": "fc47f9df-c527-40d4-a024-16a349117ddc",
   "metadata": {},
   "outputs": [],
   "source": [
    "mjh = Person3(\"맹지호\", 98, \"인천광역시\", 50000)\n",
    "mjh.__wallet -= 10000 # 클래스 바깥에서 비공개 속성에 접근하면 에러가 발생 "
   ]
  },
  {
   "cell_type": "code",
   "execution_count": 51,
   "id": "bb56a867-705f-48f5-bfe3-35fc51e7c470",
   "metadata": {},
   "outputs": [
    {
     "name": "stdout",
     "output_type": "stream",
     "text": [
      "맹지호\n"
     ]
    }
   ],
   "source": [
    "print(mjh.name)"
   ]
  },
  {
   "cell_type": "code",
   "execution_count": 52,
   "id": "bac3cb31-60d5-4f15-b7a9-cbc15fece0d0",
   "metadata": {},
   "outputs": [
    {
     "name": "stdout",
     "output_type": "stream",
     "text": [
      "98\n"
     ]
    }
   ],
   "source": [
    "print(mjh.age)"
   ]
  },
  {
   "cell_type": "code",
   "execution_count": 53,
   "id": "075cdcc1-e9a4-4614-a25f-2affbeae3fc6",
   "metadata": {},
   "outputs": [
    {
     "name": "stdout",
     "output_type": "stream",
     "text": [
      "인천광역시\n"
     ]
    }
   ],
   "source": [
    "print(mjh.address)"
   ]
  },
  {
   "cell_type": "code",
   "execution_count": 55,
   "id": "dfed4cba-ddcf-4b49-a60d-4253c1d56fb0",
   "metadata": {},
   "outputs": [
    {
     "name": "stdout",
     "output_type": "stream",
     "text": [
      "50000\n",
      "None\n"
     ]
    }
   ],
   "source": [
    "print(mjh.amount()) #비공개 속성으로 사용"
   ]
  },
  {
   "cell_type": "markdown",
   "id": "757bb7a8-7c43-47fa-8ab3-f2eff385b235",
   "metadata": {},
   "source": [
    "### 비공개 속성 사용하기\n",
    "pay 메서드 정의"
   ]
  },
  {
   "cell_type": "code",
   "execution_count": 98,
   "id": "1492106c-67cf-489c-ad78-646c6d2c395e",
   "metadata": {},
   "outputs": [],
   "source": [
    "class Person3:\n",
    "    org = \"Play Data\"\n",
    "    \n",
    "    def __init__(self, name, age, address, wallet):\n",
    "        self.hello = \"안녕하세요\"\n",
    "        self.name = name\n",
    "        self.age = age\n",
    "        self.address = address\n",
    "        self.__wallet = wallet # 자바에서 private과 같은 속성이라고 생각하면 됨 \n",
    "        \n",
    "    def amount(self):\n",
    "        print(self.__wallet)\n",
    "    \n",
    "    def pay(self, amount):\n",
    "        if self.__wallet < amount:\n",
    "            print(\"돈이 모자랍니다.\")\n",
    "            return # 메서드 빠지려고 \n",
    "        self.__wallet -= amount\n",
    " \n",
    "    def greeting(self):\n",
    "        print(f\"{self.hello} 제 이름은 {self.name}입니다.\")\n",
    "    \n",
    "    @classmethod\n",
    "    def from_string(cls, string):\n",
    "        name, age, address, __wallet = string.split(\",\")\n",
    "        return cls(name, age, address, __wallet)\n",
    "    \n",
    "   # @staticmethod\n",
    "   # def (self, cls 안 쓰는 경우)에 사용하면 된다 \n",
    "        \n",
    "            \n",
    "    \n",
    "    "
   ]
  },
  {
   "cell_type": "code",
   "execution_count": 88,
   "id": "2a69851d-e252-4c99-b029-9de3565a7205",
   "metadata": {},
   "outputs": [],
   "source": [
    "mjh = Person3(\"맹지호\", 98, \"인천광역시\", 500000) "
   ]
  },
  {
   "cell_type": "code",
   "execution_count": 89,
   "id": "6c55180a-074b-475b-979a-f3242342af3d",
   "metadata": {},
   "outputs": [],
   "source": [
    "mjh.pay(10000)"
   ]
  },
  {
   "cell_type": "code",
   "execution_count": 91,
   "id": "fd183b80-ae97-406d-9b1e-a9eed29d3c76",
   "metadata": {},
   "outputs": [
    {
     "data": {
      "text/plain": [
       "'Play Data'"
      ]
     },
     "execution_count": 91,
     "metadata": {},
     "output_type": "execute_result"
    }
   ],
   "source": [
    "mjh.org"
   ]
  },
  {
   "cell_type": "code",
   "execution_count": 92,
   "id": "261a50fc-9859-429f-9d3a-e73808e5dbec",
   "metadata": {},
   "outputs": [],
   "source": [
    "ygh = Person3(\"윤규현\", 26, \"경기도 광명\", 1000000)"
   ]
  },
  {
   "cell_type": "code",
   "execution_count": 93,
   "id": "e001b1a8-cdc6-45c2-b476-1b5e31f1be19",
   "metadata": {},
   "outputs": [
    {
     "data": {
      "text/plain": [
       "'Play Data'"
      ]
     },
     "execution_count": 93,
     "metadata": {},
     "output_type": "execute_result"
    }
   ],
   "source": [
    "ygh.org"
   ]
  },
  {
   "cell_type": "code",
   "execution_count": 94,
   "id": "5e4c762d-1a77-4b1e-a909-d3300ef62eca",
   "metadata": {},
   "outputs": [],
   "source": [
    "Person3.org = \"Study Data\""
   ]
  },
  {
   "cell_type": "code",
   "execution_count": 95,
   "id": "6823b1e9-24f1-4b40-a159-a2934b515993",
   "metadata": {},
   "outputs": [
    {
     "name": "stdout",
     "output_type": "stream",
     "text": [
      "Study Data\n",
      "Study Data\n"
     ]
    }
   ],
   "source": [
    "print(mjh.org)\n",
    "print(ygh.org)"
   ]
  },
  {
   "cell_type": "markdown",
   "id": "d0adf805-5c65-4791-914f-8b166a641877",
   "metadata": {},
   "source": [
    "**init에 넣었던 속성은 인스턴스가 독립적으로 가지고 있던 속성이다  \n",
    "org는 class에 들어있는 속성이라 값을 바꾸면 나머지 인스턴스의 속성 값이 다 바뀐다.** "
   ]
  },
  {
   "cell_type": "code",
   "execution_count": 96,
   "id": "51f6a492-54fa-4802-9209-49de96ef5d0a",
   "metadata": {},
   "outputs": [
    {
     "name": "stdout",
     "output_type": "stream",
     "text": [
      "mjhhh\n"
     ]
    }
   ],
   "source": [
    "mjh.org = \"mjhhh\"\n",
    "print(mjh.org)"
   ]
  },
  {
   "cell_type": "markdown",
   "id": "524d9769-89e8-4af0-ab14-ebc1d1d2b2fb",
   "metadata": {},
   "source": [
    "객체와 상관없이 동작할 때 @staticmethod self 가 없는 경우 사용을 한다.        "
   ]
  },
  {
   "cell_type": "code",
   "execution_count": null,
   "id": "94b1aae3-451e-4fbb-9e59-398bb7d8a270",
   "metadata": {},
   "outputs": [],
   "source": []
  }
 ],
 "metadata": {
  "kernelspec": {
   "display_name": "Python 3",
   "language": "python",
   "name": "python3"
  },
  "language_info": {
   "codemirror_mode": {
    "name": "ipython",
    "version": 3
   },
   "file_extension": ".py",
   "mimetype": "text/x-python",
   "name": "python",
   "nbconvert_exporter": "python",
   "pygments_lexer": "ipython3",
   "version": "3.8.8"
  }
 },
 "nbformat": 4,
 "nbformat_minor": 5
}
